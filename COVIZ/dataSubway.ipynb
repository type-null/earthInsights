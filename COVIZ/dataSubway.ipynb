{
 "cells": [
  {
   "cell_type": "markdown",
   "id": "sealed-overall",
   "metadata": {},
   "source": [
    "- [MTA Data](https://data.cityofnewyork.us/Transportation/MTA-Data/mmu8-8w8b)\n",
    "- [Subway Stations Map](https://data.cityofnewyork.us/Transportation/Subway-Stations/arq3-7z49)"
   ]
  },
  {
   "cell_type": "code",
   "execution_count": null,
   "id": "wired-marijuana",
   "metadata": {},
   "outputs": [],
   "source": []
  }
 ],
 "metadata": {
  "kernelspec": {
   "display_name": "Python 3",
   "language": "python",
   "name": "python3"
  },
  "language_info": {
   "codemirror_mode": {
    "name": "ipython",
    "version": 3
   },
   "file_extension": ".py",
   "mimetype": "text/x-python",
   "name": "python",
   "nbconvert_exporter": "python",
   "pygments_lexer": "ipython3",
   "version": "3.7.9"
  }
 },
 "nbformat": 4,
 "nbformat_minor": 5
}
