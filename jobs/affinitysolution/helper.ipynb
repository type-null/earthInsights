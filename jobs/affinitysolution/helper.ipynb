{
 "cells": [
  {
   "cell_type": "code",
   "execution_count": 2,
   "metadata": {},
   "outputs": [
    {
     "ename": "IndexError",
     "evalue": "list index out of range",
     "output_type": "error",
     "traceback": [
      "\u001b[0;31m---------------------------------------------------------------------------\u001b[0m",
      "\u001b[0;31mIndexError\u001b[0m                                Traceback (most recent call last)",
      "\u001b[0;32m<ipython-input-2-586b6ba21a2c>\u001b[0m in \u001b[0;36m<module>\u001b[0;34m\u001b[0m\n\u001b[1;32m      3\u001b[0m \u001b[0;32mfor\u001b[0m \u001b[0mrow\u001b[0m \u001b[0;32min\u001b[0m \u001b[0mstates\u001b[0m\u001b[0;34m:\u001b[0m\u001b[0;34m\u001b[0m\u001b[0;34m\u001b[0m\u001b[0m\n\u001b[1;32m      4\u001b[0m     \u001b[0mstate\u001b[0m \u001b[0;34m=\u001b[0m \u001b[0mrow\u001b[0m\u001b[0;34m.\u001b[0m\u001b[0msplit\u001b[0m\u001b[0;34m(\u001b[0m\u001b[0;34m\" - \"\u001b[0m\u001b[0;34m)\u001b[0m\u001b[0;34m[\u001b[0m\u001b[0;36m0\u001b[0m\u001b[0;34m]\u001b[0m\u001b[0;34m\u001b[0m\u001b[0;34m\u001b[0m\u001b[0m\n\u001b[0;32m----> 5\u001b[0;31m     \u001b[0mabb\u001b[0m \u001b[0;34m=\u001b[0m \u001b[0mrow\u001b[0m\u001b[0;34m.\u001b[0m\u001b[0msplit\u001b[0m\u001b[0;34m(\u001b[0m\u001b[0;34m\" - \"\u001b[0m\u001b[0;34m)\u001b[0m\u001b[0;34m[\u001b[0m\u001b[0;36m1\u001b[0m\u001b[0;34m]\u001b[0m\u001b[0;34m[\u001b[0m\u001b[0;34m:\u001b[0m\u001b[0;36m2\u001b[0m\u001b[0;34m]\u001b[0m\u001b[0;34m\u001b[0m\u001b[0;34m\u001b[0m\u001b[0m\n\u001b[0m\u001b[1;32m      6\u001b[0m     \u001b[0mstates_dict\u001b[0m\u001b[0;34m[\u001b[0m\u001b[0mabb\u001b[0m\u001b[0;34m.\u001b[0m\u001b[0mlower\u001b[0m\u001b[0;34m(\u001b[0m\u001b[0;34m)\u001b[0m\u001b[0;34m]\u001b[0m \u001b[0;34m=\u001b[0m \u001b[0mstate\u001b[0m\u001b[0;34m.\u001b[0m\u001b[0mlower\u001b[0m\u001b[0;34m(\u001b[0m\u001b[0;34m)\u001b[0m\u001b[0;34m\u001b[0m\u001b[0;34m\u001b[0m\u001b[0m\n",
      "\u001b[0;31mIndexError\u001b[0m: list index out of range"
     ]
    }
   ],
   "source": [
    "states_dict = {}\n",
    "states = open(\"states.txt\")\n",
    "for row in states:\n",
    "    state = row.split(\" - \")[0]\n",
    "    abb = row.split(\" - \")[1][:2]\n",
    "    states_dict[abb.lower()] = state.lower()"
   ]
  },
  {
   "cell_type": "code",
   "execution_count": 3,
   "metadata": {},
   "outputs": [
    {
     "ename": "NameError",
     "evalue": "name 'content' is not defined",
     "output_type": "error",
     "traceback": [
      "\u001b[0;31m---------------------------------------------------------------------------\u001b[0m",
      "\u001b[0;31mNameError\u001b[0m                                 Traceback (most recent call last)",
      "\u001b[0;32m<ipython-input-3-7fe70820e08a>\u001b[0m in \u001b[0;36m<module>\u001b[0;34m\u001b[0m\n\u001b[0;32m----> 1\u001b[0;31m \u001b[0mcontent\u001b[0m\u001b[0;34m\u001b[0m\u001b[0;34m\u001b[0m\u001b[0m\n\u001b[0m",
      "\u001b[0;31mNameError\u001b[0m: name 'content' is not defined"
     ]
    }
   ],
   "source": [
    "content"
   ]
  },
  {
   "cell_type": "code",
   "execution_count": 76,
   "metadata": {},
   "outputs": [
    {
     "data": {
      "text/plain": [
       "{'al': 'alabama',\n",
       " 'ak': 'alaska',\n",
       " 'az': 'arizona',\n",
       " 'ar': 'arkansas',\n",
       " 'ca': 'california',\n",
       " 'co': 'colorado',\n",
       " 'ct': 'connecticut',\n",
       " 'de': 'delaware',\n",
       " 'fl': 'florida',\n",
       " 'ga': 'georgia',\n",
       " 'hi': 'hawaii',\n",
       " 'id': 'idaho',\n",
       " 'il': 'illinois',\n",
       " 'in': 'indiana',\n",
       " 'ia': 'iowa',\n",
       " 'ks': 'kansas',\n",
       " 'ky': 'kentucky',\n",
       " 'la': 'louisiana',\n",
       " 'me': 'maine',\n",
       " 'md': 'maryland',\n",
       " 'ma': 'massachusetts',\n",
       " 'mi': 'michigan',\n",
       " 'mn': 'minnesota',\n",
       " 'ms': 'mississippi',\n",
       " 'mo': 'missouri',\n",
       " 'mt': 'montana',\n",
       " 'ne': 'nebraska',\n",
       " 'nv': 'nevada',\n",
       " 'nh': 'new hampshire',\n",
       " 'nj': 'new jersey',\n",
       " 'nm': 'new mexico',\n",
       " 'ny': 'new york',\n",
       " 'nc': 'north carolina',\n",
       " 'nd': 'north dakota',\n",
       " 'oh': 'ohio',\n",
       " 'ok': 'oklahoma',\n",
       " 'or': 'oregon',\n",
       " 'pa': 'pennsylvania',\n",
       " 'ri': 'rhode island',\n",
       " 'sc': 'south carolina',\n",
       " 'sd': 'south dakota',\n",
       " 'tn': 'tennessee',\n",
       " 'tx': 'texas',\n",
       " 'ut': 'utah',\n",
       " 'vt': 'vermont',\n",
       " 'va': 'virginia',\n",
       " 'wa': 'washington',\n",
       " 'wv': 'west virginia',\n",
       " 'wi': 'wisconsin',\n",
       " 'wy': 'wyoming',\n",
       " 'as': 'american samoa',\n",
       " 'dc': 'district of columbia',\n",
       " 'fm': 'federated states of micronesia',\n",
       " 'gu': 'guam',\n",
       " 'mh': 'marshall islands',\n",
       " 'mp': 'northern mariana islands',\n",
       " 'pw': 'palau',\n",
       " 'pr': 'puerto rico',\n",
       " 'vi': 'virgin islands'}"
      ]
     },
     "execution_count": 76,
     "metadata": {},
     "output_type": "execute_result"
    }
   ],
   "source": [
    "states_dict"
   ]
  },
  {
   "cell_type": "code",
   "execution_count": 1,
   "metadata": {},
   "outputs": [
    {
     "data": {
      "text/html": [
       "<div>\n",
       "<style scoped>\n",
       "    .dataframe tbody tr th:only-of-type {\n",
       "        vertical-align: middle;\n",
       "    }\n",
       "\n",
       "    .dataframe tbody tr th {\n",
       "        vertical-align: top;\n",
       "    }\n",
       "\n",
       "    .dataframe thead th {\n",
       "        text-align: right;\n",
       "    }\n",
       "</style>\n",
       "<table border=\"1\" class=\"dataframe\">\n",
       "  <thead>\n",
       "    <tr style=\"text-align: right;\">\n",
       "      <th></th>\n",
       "      <th>Input</th>\n",
       "      <th>Output</th>\n",
       "    </tr>\n",
       "  </thead>\n",
       "  <tbody>\n",
       "    <tr>\n",
       "      <th>0</th>\n",
       "      <td>paypal * US - Doordash</td>\n",
       "      <td>{\"brands\":[{\"1\":\"paypal\", \"2\":\"doordash\"}], \"s...</td>\n",
       "    </tr>\n",
       "    <tr>\n",
       "      <th>1</th>\n",
       "      <td>payal * US NY - Doodash</td>\n",
       "      <td>{\"brands\":[{\"1\":\"paypal\", \"2\":\"doordash\"}], \"s...</td>\n",
       "    </tr>\n",
       "    <tr>\n",
       "      <th>2</th>\n",
       "      <td>sq* NJ SEAMLSS 2017777777</td>\n",
       "      <td>{\"brands\":[{\"1\":\"sq\", \"2\":\"seamless\"}], \"state...</td>\n",
       "    </tr>\n",
       "    <tr>\n",
       "      <th>3</th>\n",
       "      <td>SEAMLSS MCd</td>\n",
       "      <td>{\"brands\":[{\"1\":\"seamless\", \"2\":\"mcdonalds\"}],...</td>\n",
       "    </tr>\n",
       "    <tr>\n",
       "      <th>4</th>\n",
       "      <td>McDOnalds UBEREATS</td>\n",
       "      <td>{\"brands\":[{\"1\":\"mcdonalds\", \"2\":\"ubereats\"}],...</td>\n",
       "    </tr>\n",
       "    <tr>\n",
       "      <th>5</th>\n",
       "      <td>Giftcard CA US</td>\n",
       "      <td>{\"brands\":[{\"1\":\"giftcard\"}], \"state\":\"ca\", \"c...</td>\n",
       "    </tr>\n",
       "    <tr>\n",
       "      <th>6</th>\n",
       "      <td>Hotels.com Expedia Sheraton</td>\n",
       "      <td>{\"brands\":[{\"1\":\"hotels.com\", \"2\":\"expedia\", \"...</td>\n",
       "    </tr>\n",
       "    <tr>\n",
       "      <th>7</th>\n",
       "      <td>Chipotl Postmates</td>\n",
       "      <td>{\"brands\":[{\"1\":\"chipotle\", \"2\":\"postmates\"}],...</td>\n",
       "    </tr>\n",
       "    <tr>\n",
       "      <th>8</th>\n",
       "      <td>paypal * US - Grubhub</td>\n",
       "      <td>{\"brands\":[{\"1\":\"paypal\", \"2\":\"grubhub\"}], \"st...</td>\n",
       "    </tr>\n",
       "    <tr>\n",
       "      <th>9</th>\n",
       "      <td>payal * US NY - ubereats</td>\n",
       "      <td>{\"brands\":[{\"1\":\"paypal\", \"2\":\"ubereats\"}], \"s...</td>\n",
       "    </tr>\n",
       "    <tr>\n",
       "      <th>10</th>\n",
       "      <td>sq* NJ doordash 5745745745</td>\n",
       "      <td>{\"brands\":[{\"1\":\"sq\", \"2\":\"doordash\"}], \"state...</td>\n",
       "    </tr>\n",
       "    <tr>\n",
       "      <th>11</th>\n",
       "      <td>SEAMLSS Subway</td>\n",
       "      <td>{\"brands\":[{\"1\":\"seamless\", \"2\":\"subway\"}], \"s...</td>\n",
       "    </tr>\n",
       "    <tr>\n",
       "      <th>12</th>\n",
       "      <td>wendy's UBEREATS</td>\n",
       "      <td>{\"brands\":[{\"1\":\"wendys\", \"2\":\"ubereats\"}], \"s...</td>\n",
       "    </tr>\n",
       "    <tr>\n",
       "      <th>13</th>\n",
       "      <td>Giftcard TX US</td>\n",
       "      <td>{\"brands\":[{\"1\":\"giftcard\"}], \"state\":\"tx\", \"c...</td>\n",
       "    </tr>\n",
       "    <tr>\n",
       "      <th>14</th>\n",
       "      <td>booking.com priceline marriott</td>\n",
       "      <td>{\"brands\":[{\"1\":\"booking.com\", \"2\":\"priceline\"...</td>\n",
       "    </tr>\n",
       "    <tr>\n",
       "      <th>15</th>\n",
       "      <td>chickfila Postmates</td>\n",
       "      <td>{\"brands\":[{\"1\":\"chickfila\", \"2\":\"postmates\"}]...</td>\n",
       "    </tr>\n",
       "  </tbody>\n",
       "</table>\n",
       "</div>"
      ],
      "text/plain": [
       "                             Input  \\\n",
       "0           paypal * US - Doordash   \n",
       "1          payal * US NY - Doodash   \n",
       "2        sq* NJ SEAMLSS 2017777777   \n",
       "3                      SEAMLSS MCd   \n",
       "4               McDOnalds UBEREATS   \n",
       "5                   Giftcard CA US   \n",
       "6      Hotels.com Expedia Sheraton   \n",
       "7                Chipotl Postmates   \n",
       "8            paypal * US - Grubhub   \n",
       "9         payal * US NY - ubereats   \n",
       "10      sq* NJ doordash 5745745745   \n",
       "11                  SEAMLSS Subway   \n",
       "12                wendy's UBEREATS   \n",
       "13                  Giftcard TX US   \n",
       "14  booking.com priceline marriott   \n",
       "15             chickfila Postmates   \n",
       "\n",
       "                                               Output  \n",
       "0   {\"brands\":[{\"1\":\"paypal\", \"2\":\"doordash\"}], \"s...  \n",
       "1   {\"brands\":[{\"1\":\"paypal\", \"2\":\"doordash\"}], \"s...  \n",
       "2   {\"brands\":[{\"1\":\"sq\", \"2\":\"seamless\"}], \"state...  \n",
       "3   {\"brands\":[{\"1\":\"seamless\", \"2\":\"mcdonalds\"}],...  \n",
       "4   {\"brands\":[{\"1\":\"mcdonalds\", \"2\":\"ubereats\"}],...  \n",
       "5   {\"brands\":[{\"1\":\"giftcard\"}], \"state\":\"ca\", \"c...  \n",
       "6   {\"brands\":[{\"1\":\"hotels.com\", \"2\":\"expedia\", \"...  \n",
       "7   {\"brands\":[{\"1\":\"chipotle\", \"2\":\"postmates\"}],...  \n",
       "8   {\"brands\":[{\"1\":\"paypal\", \"2\":\"grubhub\"}], \"st...  \n",
       "9   {\"brands\":[{\"1\":\"paypal\", \"2\":\"ubereats\"}], \"s...  \n",
       "10  {\"brands\":[{\"1\":\"sq\", \"2\":\"doordash\"}], \"state...  \n",
       "11  {\"brands\":[{\"1\":\"seamless\", \"2\":\"subway\"}], \"s...  \n",
       "12  {\"brands\":[{\"1\":\"wendys\", \"2\":\"ubereats\"}], \"s...  \n",
       "13  {\"brands\":[{\"1\":\"giftcard\"}], \"state\":\"tx\", \"c...  \n",
       "14  {\"brands\":[{\"1\":\"booking.com\", \"2\":\"priceline\"...  \n",
       "15  {\"brands\":[{\"1\":\"chickfila\", \"2\":\"postmates\"}]...  "
      ]
     },
     "execution_count": 1,
     "metadata": {},
     "output_type": "execute_result"
    }
   ],
   "source": [
    "import pandas as pd\n",
    "\n",
    "df = pd.read_excel('data.xlsx', sheet_name='Transaction Description')\n",
    "df"
   ]
  },
  {
   "cell_type": "code",
   "execution_count": 68,
   "metadata": {},
   "outputs": [],
   "source": [
    "import json\n",
    "brands = []\n",
    "for i in range(16):\n",
    "    row = json.loads(df[\"Output\"][i])\n",
    "    for b in row[\"brands\"][0].values():\n",
    "        brands.append(b)"
   ]
  },
  {
   "cell_type": "code",
   "execution_count": 70,
   "metadata": {},
   "outputs": [
    {
     "data": {
      "text/plain": [
       "['booking.com',\n",
       " 'chickfila',\n",
       " 'chipotle',\n",
       " 'doordash',\n",
       " 'expedia',\n",
       " 'giftcard',\n",
       " 'grubhub',\n",
       " 'hotels.com',\n",
       " 'marriott',\n",
       " 'mcdonalds',\n",
       " 'paypal',\n",
       " 'postmates',\n",
       " 'priceline',\n",
       " 'seamless',\n",
       " 'sheraton',\n",
       " 'sq',\n",
       " 'subway',\n",
       " 'ubereats',\n",
       " 'wendys']"
      ]
     },
     "execution_count": 70,
     "metadata": {},
     "output_type": "execute_result"
    }
   ],
   "source": [
    "brands = sorted(list(set(brands)))\n",
    "brands"
   ]
  },
  {
   "cell_type": "code",
   "execution_count": 84,
   "metadata": {},
   "outputs": [
    {
     "data": {
      "text/plain": [
       "['sq*', 'NJ', 'SEAMLSS', '2017777777']"
      ]
     },
     "execution_count": 84,
     "metadata": {},
     "output_type": "execute_result"
    }
   ],
   "source": [
    "s.split()"
   ]
  },
  {
   "cell_type": "code",
   "execution_count": 85,
   "metadata": {},
   "outputs": [],
   "source": [
    "string = re.sub(re.compile(r'[\\'*-]+'), ' ', s.lower())"
   ]
  },
  {
   "cell_type": "code",
   "execution_count": 86,
   "metadata": {},
   "outputs": [
    {
     "data": {
      "text/plain": [
       "'sq  nj seamlss 2017777777'"
      ]
     },
     "execution_count": 86,
     "metadata": {},
     "output_type": "execute_result"
    }
   ],
   "source": [
    "string"
   ]
  },
  {
   "cell_type": "code",
   "execution_count": 87,
   "metadata": {},
   "outputs": [],
   "source": [
    "# classify tokens\n",
    "tokens = string.strip().split()\n",
    "for token in tokens:\n",
    "    # number\n",
    "    if token.isnumeric():\n",
    "        # TODO: will the phone no in other format: 222-222-2222 ?\n",
    "        phone_no = token\n",
    "        tokens.remove(token)\n",
    "    # two character: country or state abbreviation\n",
    "    elif len(token) == 2:\n",
    "        if token in COUNTRIES:\n",
    "            country = token\n",
    "            tokens.remove(token)\n",
    "        elif token in STATES.keys():\n",
    "            state = token\n",
    "            tokens.remove(token)"
   ]
  },
  {
   "cell_type": "code",
   "execution_count": 88,
   "metadata": {},
   "outputs": [
    {
     "data": {
      "text/plain": [
       "['sq', 'seamlss']"
      ]
     },
     "execution_count": 88,
     "metadata": {},
     "output_type": "execute_result"
    }
   ],
   "source": [
    "tokens"
   ]
  },
  {
   "cell_type": "code",
   "execution_count": 105,
   "metadata": {},
   "outputs": [
    {
     "name": "stdout",
     "output_type": "stream",
     "text": [
      "\"paypal * US - Doordash\"\n",
      "\"{\"brands\":[{\"1\":\"paypal\", \"2\":\"doordash\"}], \"state\":\"\", \"country\":\"us\",\"ph no\":\"\"}\"\n",
      "\"payal * US NY - Doodash\"\n",
      "\"{\"brands\":[{\"1\":\"paypal\", \"2\":\"doordash\"}], \"state\":\"ny\", \"country\":\"us\",\"ph no\":\"\"}\"\n",
      "\"sq* NJ SEAMLSS 2017777777\"\n",
      "\"{\"brands\":[{\"1\":\"sq\", \"2\":\"seamless\"}], \"state\":\"nj\", \"country\":\"\",\"ph no\":\"2017777777\"}\"\n",
      "\"SEAMLSS MCd\"\n",
      "\"{\"brands\":[{\"1\":\"seamless\", \"2\":\"mcdonalds\"}], \"state\":\"\", \"country\":\"\",\"ph no\":\"\"}\"\n",
      "\"McDOnalds UBEREATS\"\n",
      "\"{\"brands\":[{\"1\":\"mcdonalds\", \"2\":\"ubereats\"}], \"state\":\"\", \"country\":\"\",\"ph no\":\"\"}\"\n",
      "\"Giftcard CA US\"\n",
      "\"{\"brands\":[{\"1\":\"giftcard\"}], \"state\":\"ca\", \"country\":\"us\",\"ph no\":\"\"}\"\n",
      "\"Hotels.com Expedia Sheraton\"\n",
      "\"{\"brands\":[{\"1\":\"hotels.com\", \"2\":\"expedia\", \"3\":\"sheraton\"}], \"state\":\"\", \"country\":\"\",\"ph no\":\"\"}\"\n",
      "\"Chipotl Postmates\"\n",
      "\"{\"brands\":[{\"1\":\"chipotle\", \"2\":\"postmates\"}], \"state\":\"\", \"country\":\"\",\"ph no\":\"\"}\"\n",
      "\"paypal * US - Grubhub\"\n",
      "\"{\"brands\":[{\"1\":\"paypal\", \"2\":\"grubhub\"}], \"state\":\"\", \"country\":\"us\",\"ph no\":\"\"}\"\n",
      "\"payal * US NY - ubereats\"\n",
      "\"{\"brands\":[{\"1\":\"paypal\", \"2\":\"ubereats\"}], \"state\":\"ny\", \"country\":\"us\",\"ph no\":\"\"}\"\n",
      "\"sq* NJ doordash 5745745745\"\n",
      "\"{\"brands\":[{\"1\":\"sq\", \"2\":\"doordash\"}], \"state\":\"nj\", \"country\":\"\",\"ph no\":\"5745745745\"}\"\n",
      "\"SEAMLSS Subway\"\n",
      "\"{\"brands\":[{\"1\":\"seamless\", \"2\":\"subway\"}], \"state\":\"\", \"country\":\"\",\"ph no\":\"\"}\"\n",
      "\"wendy's UBEREATS\"\n",
      "\"{\"brands\":[{\"1\":\"wendys\", \"2\":\"ubereats\"}], \"state\":\"\", \"country\":\"\",\"ph no\":\"\"}\"\n",
      "\"Giftcard TX US\"\n",
      "\"{\"brands\":[{\"1\":\"giftcard\"}], \"state\":\"tx\", \"country\":\"us\",\"ph no\":\"\"}\"\n",
      "\"booking.com priceline marriott\"\n",
      "\"{\"brands\":[{\"1\":\"booking.com\", \"2\":\"priceline\", \"3\":\"marriott\"}], \"state\":\"\", \"country\":\"\",\"ph no\":\"\"}\"\n",
      "\"chickfila Postmates\"\n",
      "\"{\"brands\":[{\"1\":\"chickfila\", \"2\":\"postmates\"}], \"state\":\"\", \"country\":\"\",\"ph no\":\"\"}\"\n"
     ]
    }
   ],
   "source": [
    "for i in range(16):\n",
    "    print('\\\"'+df[\"Input\"][i]+'\\\"')\n",
    "    print('\\\"'+df[\"Output\"][i]+'\\\"')"
   ]
  },
  {
   "cell_type": "code",
   "execution_count": 94,
   "metadata": {},
   "outputs": [
    {
     "data": {
      "text/plain": [
       "16"
      ]
     },
     "execution_count": 94,
     "metadata": {},
     "output_type": "execute_result"
    }
   ],
   "source": [
    "len(df)"
   ]
  },
  {
   "cell_type": "code",
   "execution_count": 95,
   "metadata": {},
   "outputs": [],
   "source": [
    "import numpy as np\n",
    "def levenshtein_ratio_and_distance(s, t, ratio_calc = False):\n",
    "    \"\"\" levenshtein_ratio_and_distance:\n",
    "        Calculates levenshtein distance between two strings.\n",
    "        If ratio_calc = True, the function computes the\n",
    "        levenshtein distance ratio of similarity between two strings\n",
    "        For all i and j, distance[i,j] will contain the Levenshtein\n",
    "        distance between the first i characters of s and the\n",
    "        first j characters of t\n",
    "    \"\"\"\n",
    "    # Initialize matrix of zeros\n",
    "    rows = len(s)+1\n",
    "    cols = len(t)+1\n",
    "    distance = np.zeros((rows,cols),dtype = int)\n",
    "\n",
    "    # Populate matrix of zeros with the indeces of each character of both strings\n",
    "    for i in range(1, rows):\n",
    "        for k in range(1,cols):\n",
    "            distance[i][0] = i\n",
    "            distance[0][k] = k\n",
    "\n",
    "    # Iterate over the matrix to compute the cost of deletions,insertions and/or substitutions    \n",
    "    for col in range(1, cols):\n",
    "        for row in range(1, rows):\n",
    "            if s[row-1] == t[col-1]:\n",
    "                cost = 0 # If the characters are the same in the two strings in a given position [i,j] then the cost is 0\n",
    "            else:\n",
    "                # In order to align the results with those of the Python Levenshtein package, if we choose to calculate the ratio\n",
    "                # the cost of a substitution is 2. If we calculate just distance, then the cost of a substitution is 1.\n",
    "                if ratio_calc == True:\n",
    "                    cost = 2\n",
    "                else:\n",
    "                    cost = 1\n",
    "            distance[row][col] = min(distance[row-1][col] + 1,      # Cost of deletions\n",
    "                                 distance[row][col-1] + 1,          # Cost of insertions\n",
    "                                 distance[row-1][col-1] + cost)     # Cost of substitutions\n",
    "    if ratio_calc == True:\n",
    "        # Computation of the Levenshtein Distance Ratio\n",
    "        Ratio = ((len(s)+len(t)) - distance[row][col]) / (len(s)+len(t))\n",
    "        return Ratio\n",
    "    else:\n",
    "        # print(distance) # Uncomment if you want to see the matrix showing how the algorithm computes the cost of deletions,\n",
    "        # insertions and/or substitutions\n",
    "        # This is the minimum number of edits needed to convert string a to string b\n",
    "        return \"The strings are {} edits away\".format(distance[row][col])"
   ]
  },
  {
   "cell_type": "code",
   "execution_count": 103,
   "metadata": {},
   "outputs": [
    {
     "data": {
      "text/plain": [
       "0.9333333333333333"
      ]
     },
     "execution_count": 103,
     "metadata": {},
     "output_type": "execute_result"
    }
   ],
   "source": [
    "# distance\n",
    "str1 = \"seamlss\"\n",
    "str2 = \"seamless\"\n",
    "levenshtein_ratio_and_distance(str1,str2,ratio_calc = True)"
   ]
  },
  {
   "cell_type": "code",
   "execution_count": 1,
   "metadata": {},
   "outputs": [],
   "source": [
    "import pandas as pd\n",
    "\n",
    "df = pd.read_excel('data.xlsx', sheet_name='Transaction Description')"
   ]
  },
  {
   "cell_type": "code",
   "execution_count": 2,
   "metadata": {},
   "outputs": [
    {
     "data": {
      "text/plain": [
       "'{\"brands\": [{\"1\": \"wendys\", \"2\": \"ubereats\"}], \"state\": \"\", \"country\": \"\", \"phone no\": \"\"}'"
      ]
     },
     "execution_count": 2,
     "metadata": {},
     "output_type": "execute_result"
    }
   ],
   "source": [
    "import analyzer\n",
    "import json\n",
    "\n",
    "analyzer.process(df[\"Input\"][12])"
   ]
  },
  {
   "cell_type": "code",
   "execution_count": 3,
   "metadata": {},
   "outputs": [
    {
     "data": {
      "text/plain": [
       "{'brands': [{'1': 'wendys', '2': 'ubereats'}],\n",
       " 'state': '',\n",
       " 'country': '',\n",
       " 'ph no': ''}"
      ]
     },
     "execution_count": 3,
     "metadata": {},
     "output_type": "execute_result"
    }
   ],
   "source": [
    "json.loads(df[\"Output\"][12])"
   ]
  },
  {
   "cell_type": "code",
   "execution_count": 4,
   "metadata": {},
   "outputs": [],
   "source": [
    "from names import STATES, COUNTRIES, BRANDS\n",
    "description = df[\"Input\"][12]"
   ]
  },
  {
   "cell_type": "code",
   "execution_count": 5,
   "metadata": {},
   "outputs": [
    {
     "name": "stdout",
     "output_type": "stream",
     "text": [
      "['wendy', 's', 'ubereats']\n",
      "processing wendy\n",
      "==> <==\n",
      "processing s\n",
      "==> <==\n",
      "processing ubereats\n",
      "==> <==\n"
     ]
    },
    {
     "data": {
      "text/plain": [
       "['wendy', 's', 'ubereats']"
      ]
     },
     "execution_count": 5,
     "metadata": {},
     "output_type": "execute_result"
    }
   ],
   "source": [
    "import re\n",
    "# init variables\n",
    "state, country, phone_no = \"\", \"\", \"\"\n",
    "\n",
    "# clean special characters\n",
    "string = re.sub(re.compile(r'[\\'*-]+'), ' ', description.lower())\n",
    "\n",
    "# tokenize input\n",
    "tokens = string.strip().split()\n",
    "print(tokens)\n",
    "\n",
    "# classify tokens\n",
    "tokens_used = []\n",
    "for token in tokens:\n",
    "    print(f\"processing {token}\")\n",
    "    # number\n",
    "    if token.isnumeric():\n",
    "        # TODO: will phone_no be other format: 222-222-2222 ?\n",
    "        print(\"it's number\")\n",
    "        phone_no = token\n",
    "        tokens_used.append(token)\n",
    "    # two character: country or state abbreviation\n",
    "    elif len(token) == 2:\n",
    "        print(\"2 chars\")\n",
    "        if token in COUNTRIES:\n",
    "            print(\"it is country\")\n",
    "            country = token\n",
    "            tokens_used.append(token)\n",
    "        elif token in STATES.keys():\n",
    "            print(\"it is state\")\n",
    "            state = token\n",
    "            tokens_used.append(token)\n",
    "    print(\"==> <==\")\n",
    "tokens_remain = [t for t in tokens if t not in tokens_used]\n",
    "tokens_remain"
   ]
  },
  {
   "cell_type": "code",
   "execution_count": 7,
   "metadata": {},
   "outputs": [
    {
     "data": {
      "text/plain": [
       "{'1': 'booking.com', '2': 'booking.com'}"
      ]
     },
     "execution_count": 7,
     "metadata": {},
     "output_type": "execute_result"
    }
   ],
   "source": [
    "# match rest tokens to brands\n",
    "brands = {}\n",
    "\n",
    "for i in range(len(tokens_remain)):\n",
    "    if tokens[i] in BRANDS:\n",
    "        brand = tokens[i]\n",
    "    else:\n",
    "        probability = {brand: analyzer.similarity(brand, tokens[i]) for brand in BRANDS}\n",
    "        brand_guess = sorted((p, b) for b, p in probability.items())\n",
    "        brand_guess = [b for _, b in brand_guess]\n",
    "        brand = brand_guess[0]\n",
    "\n",
    "    brands[f\"{i+1}\"] = brand\n",
    "brands"
   ]
  },
  {
   "cell_type": "code",
   "execution_count": 9,
   "metadata": {},
   "outputs": [
    {
     "data": {
      "text/plain": [
       "{'booking.com': 0.0,\n",
       " 'chickfila': 0.0,\n",
       " 'chipotle': 0.0,\n",
       " 'doordash': 0.2,\n",
       " 'expedia': 0.0,\n",
       " 'giftcard': 0.0,\n",
       " 'grubhub': 0.2222222222222222,\n",
       " 'hotels.com': 0.16666666666666666,\n",
       " 'marriott': 0.0,\n",
       " 'mcdonalds': 0.18181818181818182,\n",
       " 'paypal': 0.0,\n",
       " 'postmates': 0.18181818181818182,\n",
       " 'priceline': 0.0,\n",
       " 'seamless': 0.2,\n",
       " 'sheraton': 0.2,\n",
       " 'sq': 0.5,\n",
       " 'subway': 0.25,\n",
       " 'ubereats': 0.4,\n",
       " 'wendys': 0.25}"
      ]
     },
     "execution_count": 9,
     "metadata": {},
     "output_type": "execute_result"
    }
   ],
   "source": [
    "probability"
   ]
  },
  {
   "cell_type": "code",
   "execution_count": 8,
   "metadata": {},
   "outputs": [
    {
     "data": {
      "text/plain": [
       "array([[0, 0, 0, 0, 0],\n",
       "       [0, 0, 0, 0, 0],\n",
       "       [0, 0, 0, 0, 0],\n",
       "       [0, 0, 0, 0, 0],\n",
       "       [0, 0, 0, 0, 0]])"
      ]
     },
     "execution_count": 8,
     "metadata": {},
     "output_type": "execute_result"
    }
   ],
   "source": [
    "import numpy as np\n",
    "np.zeros((5, 5), dtype=int)"
   ]
  },
  {
   "cell_type": "code",
   "execution_count": null,
   "metadata": {},
   "outputs": [],
   "source": []
  }
 ],
 "metadata": {
  "kernelspec": {
   "display_name": "Python 3",
   "language": "python",
   "name": "python3"
  },
  "language_info": {
   "codemirror_mode": {
    "name": "ipython",
    "version": 3
   },
   "file_extension": ".py",
   "mimetype": "text/x-python",
   "name": "python",
   "nbconvert_exporter": "python",
   "pygments_lexer": "ipython3",
   "version": "3.7.3"
  }
 },
 "nbformat": 4,
 "nbformat_minor": 4
}
