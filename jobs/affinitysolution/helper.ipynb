{
 "cells": [
  {
   "cell_type": "code",
   "execution_count": 74,
   "metadata": {},
   "outputs": [],
   "source": [
    "states_dict = {}\n",
    "states = open(\"states.txt\")\n",
    "for row in states:\n",
    "    state = row.split(\" - \")[0]\n",
    "    abb = row.split(\" - \")[1][:2]\n",
    "    states_dict[abb.lower()] = state.lower()"
   ]
  },
  {
   "cell_type": "code",
   "execution_count": 75,
   "metadata": {},
   "outputs": [
    {
     "data": {
      "text/plain": [
       "'Alabama - AL\\nAlaska - AK\\nArizona - AZ\\nArkansas - AR\\nCalifornia - CA\\nColorado - CO\\nConnecticut - CT\\nDelaware - DE\\nFlorida - FL\\nGeorgia - GA\\nHawaii - HI\\nIdaho - ID\\nIllinois - IL\\nIndiana - IN\\nIowa - IA\\nKansas - KS\\nKentucky - KY\\nLouisiana - LA\\nMaine - ME\\nMaryland - MD\\nMassachusetts - MA\\nMichigan - MI\\nMinnesota - MN\\nMississippi - MS\\nMissouri - MO\\nMontana - MT\\nNebraska - NE\\nNevada - NV\\nNew Hampshire - NH\\nNew Jersey - NJ\\nNew Mexico - NM\\nNew York - NY\\nNorth Carolina - NC\\nNorth Dakota - ND\\nOhio - OH\\nOklahoma - OK\\nOregon - OR\\nPennsylvania - PA\\nRhode Island - RI\\nSouth Carolina - SC\\nSouth Dakota - SD\\nTennessee - TN\\nTexas - TX\\nUtah - UT\\nVermont - VT\\nVirginia - VA\\nWashington - WA\\nWest Virginia - WV\\nWisconsin - WI\\nWyoming - WY\\n# US Commonwealth and Territories\\nAmerican Samoa - AS\\nDistrict of Columbia - DC\\nFederated States of Micronesia - FM\\nGuam - GU\\nMarshall Islands - MH\\nNorthern Mariana Islands - MP\\nPalau - PW\\nPuerto Rico - PR\\nVirgin Islands - VI'"
      ]
     },
     "execution_count": 75,
     "metadata": {},
     "output_type": "execute_result"
    }
   ],
   "source": [
    "content"
   ]
  },
  {
   "cell_type": "code",
   "execution_count": 76,
   "metadata": {},
   "outputs": [
    {
     "data": {
      "text/plain": [
       "{'al': 'alabama',\n",
       " 'ak': 'alaska',\n",
       " 'az': 'arizona',\n",
       " 'ar': 'arkansas',\n",
       " 'ca': 'california',\n",
       " 'co': 'colorado',\n",
       " 'ct': 'connecticut',\n",
       " 'de': 'delaware',\n",
       " 'fl': 'florida',\n",
       " 'ga': 'georgia',\n",
       " 'hi': 'hawaii',\n",
       " 'id': 'idaho',\n",
       " 'il': 'illinois',\n",
       " 'in': 'indiana',\n",
       " 'ia': 'iowa',\n",
       " 'ks': 'kansas',\n",
       " 'ky': 'kentucky',\n",
       " 'la': 'louisiana',\n",
       " 'me': 'maine',\n",
       " 'md': 'maryland',\n",
       " 'ma': 'massachusetts',\n",
       " 'mi': 'michigan',\n",
       " 'mn': 'minnesota',\n",
       " 'ms': 'mississippi',\n",
       " 'mo': 'missouri',\n",
       " 'mt': 'montana',\n",
       " 'ne': 'nebraska',\n",
       " 'nv': 'nevada',\n",
       " 'nh': 'new hampshire',\n",
       " 'nj': 'new jersey',\n",
       " 'nm': 'new mexico',\n",
       " 'ny': 'new york',\n",
       " 'nc': 'north carolina',\n",
       " 'nd': 'north dakota',\n",
       " 'oh': 'ohio',\n",
       " 'ok': 'oklahoma',\n",
       " 'or': 'oregon',\n",
       " 'pa': 'pennsylvania',\n",
       " 'ri': 'rhode island',\n",
       " 'sc': 'south carolina',\n",
       " 'sd': 'south dakota',\n",
       " 'tn': 'tennessee',\n",
       " 'tx': 'texas',\n",
       " 'ut': 'utah',\n",
       " 'vt': 'vermont',\n",
       " 'va': 'virginia',\n",
       " 'wa': 'washington',\n",
       " 'wv': 'west virginia',\n",
       " 'wi': 'wisconsin',\n",
       " 'wy': 'wyoming',\n",
       " 'as': 'american samoa',\n",
       " 'dc': 'district of columbia',\n",
       " 'fm': 'federated states of micronesia',\n",
       " 'gu': 'guam',\n",
       " 'mh': 'marshall islands',\n",
       " 'mp': 'northern mariana islands',\n",
       " 'pw': 'palau',\n",
       " 'pr': 'puerto rico',\n",
       " 'vi': 'virgin islands'}"
      ]
     },
     "execution_count": 76,
     "metadata": {},
     "output_type": "execute_result"
    }
   ],
   "source": [
    "states_dict"
   ]
  },
  {
   "cell_type": "code",
   "execution_count": 52,
   "metadata": {},
   "outputs": [
    {
     "data": {
      "text/html": [
       "<div>\n",
       "<style scoped>\n",
       "    .dataframe tbody tr th:only-of-type {\n",
       "        vertical-align: middle;\n",
       "    }\n",
       "\n",
       "    .dataframe tbody tr th {\n",
       "        vertical-align: top;\n",
       "    }\n",
       "\n",
       "    .dataframe thead th {\n",
       "        text-align: right;\n",
       "    }\n",
       "</style>\n",
       "<table border=\"1\" class=\"dataframe\">\n",
       "  <thead>\n",
       "    <tr style=\"text-align: right;\">\n",
       "      <th></th>\n",
       "      <th>Input</th>\n",
       "      <th>Output</th>\n",
       "    </tr>\n",
       "  </thead>\n",
       "  <tbody>\n",
       "    <tr>\n",
       "      <th>0</th>\n",
       "      <td>paypal * US - Doordash</td>\n",
       "      <td>{\"brands\":[{\"1\":\"paypal\", \"2\":\"doordash\"}], \"s...</td>\n",
       "    </tr>\n",
       "    <tr>\n",
       "      <th>1</th>\n",
       "      <td>payal * US NY - Doodash</td>\n",
       "      <td>{\"brands\":[{\"1\":\"paypal\", \"2\":\"doordash\"}], \"s...</td>\n",
       "    </tr>\n",
       "    <tr>\n",
       "      <th>2</th>\n",
       "      <td>sq* NJ SEAMLSS 2017777777</td>\n",
       "      <td>{\"brands\":[{\"1\":\"sq\", \"2\":\"seamless\"}], \"state...</td>\n",
       "    </tr>\n",
       "    <tr>\n",
       "      <th>3</th>\n",
       "      <td>SEAMLSS MCd</td>\n",
       "      <td>{\"brands\":[{\"1\":\"seamless\", \"2\":\"mcdonalds\"}],...</td>\n",
       "    </tr>\n",
       "    <tr>\n",
       "      <th>4</th>\n",
       "      <td>McDOnalds UBEREATS</td>\n",
       "      <td>{\"brands\":[{\"1\":\"mcdonalds\", \"2\":\"ubereats\"}],...</td>\n",
       "    </tr>\n",
       "    <tr>\n",
       "      <th>5</th>\n",
       "      <td>Giftcard CA US</td>\n",
       "      <td>{\"brands\":[{\"1\":\"giftcard\"}], \"state\":\"ca\", \"c...</td>\n",
       "    </tr>\n",
       "    <tr>\n",
       "      <th>6</th>\n",
       "      <td>Hotels.com Expedia Sheraton</td>\n",
       "      <td>{\"brands\":[{\"1\":\"hotels.com\", \"2\":\"expedia\", \"...</td>\n",
       "    </tr>\n",
       "    <tr>\n",
       "      <th>7</th>\n",
       "      <td>Chipotl Postmates</td>\n",
       "      <td>{\"brands\":[{\"1\":\"chipotle\", \"2\":\"postmates\"}],...</td>\n",
       "    </tr>\n",
       "    <tr>\n",
       "      <th>8</th>\n",
       "      <td>paypal * US - Grubhub</td>\n",
       "      <td>{\"brands\":[{\"1\":\"paypal\", \"2\":\"grubhub\"}], \"st...</td>\n",
       "    </tr>\n",
       "    <tr>\n",
       "      <th>9</th>\n",
       "      <td>payal * US NY - ubereats</td>\n",
       "      <td>{\"brands\":[{\"1\":\"paypal\", \"2\":\"ubereats\"}], \"s...</td>\n",
       "    </tr>\n",
       "    <tr>\n",
       "      <th>10</th>\n",
       "      <td>sq* NJ doordash 5745745745</td>\n",
       "      <td>{\"brands\":[{\"1\":\"sq\", \"2\":\"doordash\"}], \"state...</td>\n",
       "    </tr>\n",
       "    <tr>\n",
       "      <th>11</th>\n",
       "      <td>SEAMLSS Subway</td>\n",
       "      <td>{\"brands\":[{\"1\":\"seamless\", \"2\":\"subway\"}], \"s...</td>\n",
       "    </tr>\n",
       "    <tr>\n",
       "      <th>12</th>\n",
       "      <td>wendy's UBEREATS</td>\n",
       "      <td>{\"brands\":[{\"1\":\"wendys\", \"2\":\"ubereats\"}], \"s...</td>\n",
       "    </tr>\n",
       "    <tr>\n",
       "      <th>13</th>\n",
       "      <td>Giftcard TX US</td>\n",
       "      <td>{\"brands\":[{\"1\":\"giftcard\"}], \"state\":\"tx\", \"c...</td>\n",
       "    </tr>\n",
       "    <tr>\n",
       "      <th>14</th>\n",
       "      <td>booking.com priceline marriott</td>\n",
       "      <td>{\"brands\":[{\"1\":\"booking.com\", \"2\":\"priceline\"...</td>\n",
       "    </tr>\n",
       "    <tr>\n",
       "      <th>15</th>\n",
       "      <td>chickfila Postmates</td>\n",
       "      <td>{\"brands\":[{\"1\":\"chickfila\", \"2\":\"postmates\"}]...</td>\n",
       "    </tr>\n",
       "  </tbody>\n",
       "</table>\n",
       "</div>"
      ],
      "text/plain": [
       "                             Input  \\\n",
       "0           paypal * US - Doordash   \n",
       "1          payal * US NY - Doodash   \n",
       "2        sq* NJ SEAMLSS 2017777777   \n",
       "3                      SEAMLSS MCd   \n",
       "4               McDOnalds UBEREATS   \n",
       "5                   Giftcard CA US   \n",
       "6      Hotels.com Expedia Sheraton   \n",
       "7                Chipotl Postmates   \n",
       "8            paypal * US - Grubhub   \n",
       "9         payal * US NY - ubereats   \n",
       "10      sq* NJ doordash 5745745745   \n",
       "11                  SEAMLSS Subway   \n",
       "12                wendy's UBEREATS   \n",
       "13                  Giftcard TX US   \n",
       "14  booking.com priceline marriott   \n",
       "15             chickfila Postmates   \n",
       "\n",
       "                                               Output  \n",
       "0   {\"brands\":[{\"1\":\"paypal\", \"2\":\"doordash\"}], \"s...  \n",
       "1   {\"brands\":[{\"1\":\"paypal\", \"2\":\"doordash\"}], \"s...  \n",
       "2   {\"brands\":[{\"1\":\"sq\", \"2\":\"seamless\"}], \"state...  \n",
       "3   {\"brands\":[{\"1\":\"seamless\", \"2\":\"mcdonalds\"}],...  \n",
       "4   {\"brands\":[{\"1\":\"mcdonalds\", \"2\":\"ubereats\"}],...  \n",
       "5   {\"brands\":[{\"1\":\"giftcard\"}], \"state\":\"ca\", \"c...  \n",
       "6   {\"brands\":[{\"1\":\"hotels.com\", \"2\":\"expedia\", \"...  \n",
       "7   {\"brands\":[{\"1\":\"chipotle\", \"2\":\"postmates\"}],...  \n",
       "8   {\"brands\":[{\"1\":\"paypal\", \"2\":\"grubhub\"}], \"st...  \n",
       "9   {\"brands\":[{\"1\":\"paypal\", \"2\":\"ubereats\"}], \"s...  \n",
       "10  {\"brands\":[{\"1\":\"sq\", \"2\":\"doordash\"}], \"state...  \n",
       "11  {\"brands\":[{\"1\":\"seamless\", \"2\":\"subway\"}], \"s...  \n",
       "12  {\"brands\":[{\"1\":\"wendys\", \"2\":\"ubereats\"}], \"s...  \n",
       "13  {\"brands\":[{\"1\":\"giftcard\"}], \"state\":\"tx\", \"c...  \n",
       "14  {\"brands\":[{\"1\":\"booking.com\", \"2\":\"priceline\"...  \n",
       "15  {\"brands\":[{\"1\":\"chickfila\", \"2\":\"postmates\"}]...  "
      ]
     },
     "execution_count": 52,
     "metadata": {},
     "output_type": "execute_result"
    }
   ],
   "source": [
    "import pandas as pd\n",
    "\n",
    "df = pd.read_excel('data.xlsx', sheet_name='Transaction Description')\n",
    "df"
   ]
  },
  {
   "cell_type": "code",
   "execution_count": 68,
   "metadata": {},
   "outputs": [],
   "source": [
    "import json\n",
    "brands = []\n",
    "for i in range(16):\n",
    "    row = json.loads(df[\"Output\"][i])\n",
    "    for b in row[\"brands\"][0].values():\n",
    "        brands.append(b)"
   ]
  },
  {
   "cell_type": "code",
   "execution_count": 70,
   "metadata": {},
   "outputs": [
    {
     "data": {
      "text/plain": [
       "['booking.com',\n",
       " 'chickfila',\n",
       " 'chipotle',\n",
       " 'doordash',\n",
       " 'expedia',\n",
       " 'giftcard',\n",
       " 'grubhub',\n",
       " 'hotels.com',\n",
       " 'marriott',\n",
       " 'mcdonalds',\n",
       " 'paypal',\n",
       " 'postmates',\n",
       " 'priceline',\n",
       " 'seamless',\n",
       " 'sheraton',\n",
       " 'sq',\n",
       " 'subway',\n",
       " 'ubereats',\n",
       " 'wendys']"
      ]
     },
     "execution_count": 70,
     "metadata": {},
     "output_type": "execute_result"
    }
   ],
   "source": [
    "brands = sorted(list(set(brands)))\n",
    "brands"
   ]
  },
  {
   "cell_type": "code",
   "execution_count": 84,
   "metadata": {},
   "outputs": [
    {
     "data": {
      "text/plain": [
       "['sq*', 'NJ', 'SEAMLSS', '2017777777']"
      ]
     },
     "execution_count": 84,
     "metadata": {},
     "output_type": "execute_result"
    }
   ],
   "source": [
    "s.split()"
   ]
  },
  {
   "cell_type": "code",
   "execution_count": 85,
   "metadata": {},
   "outputs": [],
   "source": [
    "string = re.sub(re.compile(r'[\\'*-]+'), ' ', s.lower())"
   ]
  },
  {
   "cell_type": "code",
   "execution_count": 86,
   "metadata": {},
   "outputs": [
    {
     "data": {
      "text/plain": [
       "'sq  nj seamlss 2017777777'"
      ]
     },
     "execution_count": 86,
     "metadata": {},
     "output_type": "execute_result"
    }
   ],
   "source": [
    "string"
   ]
  },
  {
   "cell_type": "code",
   "execution_count": 87,
   "metadata": {},
   "outputs": [],
   "source": [
    "# classify tokens\n",
    "tokens = string.strip().split()\n",
    "for token in tokens:\n",
    "    # number\n",
    "    if token.isnumeric():\n",
    "        # TODO: will the phone no in other format: 222-222-2222 ?\n",
    "        phone_no = token\n",
    "        tokens.remove(token)\n",
    "    # two character: country or state abbreviation\n",
    "    elif len(token) == 2:\n",
    "        if token in COUNTRIES:\n",
    "            country = token\n",
    "            tokens.remove(token)\n",
    "        elif token in STATES.keys():\n",
    "            state = token\n",
    "            tokens.remove(token)"
   ]
  },
  {
   "cell_type": "code",
   "execution_count": 88,
   "metadata": {},
   "outputs": [
    {
     "data": {
      "text/plain": [
       "['sq', 'seamlss']"
      ]
     },
     "execution_count": 88,
     "metadata": {},
     "output_type": "execute_result"
    }
   ],
   "source": [
    "tokens"
   ]
  },
  {
   "cell_type": "code",
   "execution_count": 93,
   "metadata": {},
   "outputs": [
    {
     "name": "stdout",
     "output_type": "stream",
     "text": [
      "\"paypal * US - Doordash\"\n",
      "\"{\"brands\":[{\"1\":\"paypal\", \"2\":\"doordash\"}], \"state\":\"\", \"country\":\"us\",\"ph no\":\"\"}\"\n",
      "\"payal * US NY - Doodash\"\n",
      "\"{\"brands\":[{\"1\":\"paypal\", \"2\":\"doordash\"}], \"state\":\"ny\", \"country\":\"us\",\"ph no\":\"\"}\"\n",
      "\"sq* NJ SEAMLSS 2017777777\"\n",
      "\"{\"brands\":[{\"1\":\"sq\", \"2\":\"seamless\"}], \"state\":\"nj\", \"country\":\"\",\"ph no\":\"2017777777\"}\"\n",
      "\"SEAMLSS MCd\"\n",
      "\"{\"brands\":[{\"1\":\"seamless\", \"2\":\"mcdonalds\"}], \"state\":\"\", \"country\":\"\",\"ph no\":\"\"}\"\n",
      "\"McDOnalds UBEREATS\"\n",
      "\"{\"brands\":[{\"1\":\"mcdonalds\", \"2\":\"ubereats\"}], \"state\":\"\", \"country\":\"\",\"ph no\":\"\"}\"\n",
      "\"Giftcard CA US\"\n",
      "\"{\"brands\":[{\"1\":\"giftcard\"}], \"state\":\"ca\", \"country\":\"us\",\"ph no\":\"\"}\"\n",
      "\"Hotels.com Expedia Sheraton\"\n",
      "\"{\"brands\":[{\"1\":\"hotels.com\", \"2\":\"expedia\", \"3\":\"sheraton\"}], \"state\":\"\", \"country\":\"\",\"ph no\":\"\"}\"\n",
      "\"Chipotl Postmates\"\n",
      "\"{\"brands\":[{\"1\":\"chipotle\", \"2\":\"postmates\"}], \"state\":\"\", \"country\":\"\",\"ph no\":\"\"}\"\n",
      "\"paypal * US - Grubhub\"\n",
      "\"{\"brands\":[{\"1\":\"paypal\", \"2\":\"grubhub\"}], \"state\":\"\", \"country\":\"us\",\"ph no\":\"\"}\"\n",
      "\"payal * US NY - ubereats\"\n",
      "\"{\"brands\":[{\"1\":\"paypal\", \"2\":\"ubereats\"}], \"state\":\"ny\", \"country\":\"us\",\"ph no\":\"\"}\"\n",
      "\"sq* NJ doordash 5745745745\"\n",
      "\"{\"brands\":[{\"1\":\"sq\", \"2\":\"doordash\"}], \"state\":\"nj\", \"country\":\"\",\"ph no\":\"5745745745\"}\"\n",
      "\"SEAMLSS Subway\"\n",
      "\"{\"brands\":[{\"1\":\"seamless\", \"2\":\"subway\"}], \"state\":\"\", \"country\":\"\",\"ph no\":\"\"}\"\n",
      "\"wendy's UBEREATS\"\n",
      "\"{\"brands\":[{\"1\":\"wendys\", \"2\":\"ubereats\"}], \"state\":\"\", \"country\":\"\",\"ph no\":\"\"}\"\n",
      "\"Giftcard TX US\"\n",
      "\"{\"brands\":[{\"1\":\"giftcard\"}], \"state\":\"tx\", \"country\":\"us\",\"ph no\":\"\"}\"\n",
      "\"booking.com priceline marriott\"\n",
      "\"{\"brands\":[{\"1\":\"booking.com\", \"2\":\"priceline\", \"3\":\"marriott\"}], \"state\":\"\", \"country\":\"\",\"ph no\":\"\"}\"\n",
      "\"chickfila Postmates\"\n",
      "\"{\"brands\":[{\"1\":\"chickfila\", \"2\":\"postmates\"}], \"state\":\"\", \"country\":\"\",\"ph no\":\"\"}\"\n"
     ]
    }
   ],
   "source": [
    "for i in range(16):\n",
    "    print('\\\"'+df[\"Input\"][i]+'\\\"')\n",
    "    print('\\\"'+df[\"Output\"][i]+'\\\"')"
   ]
  },
  {
   "cell_type": "code",
   "execution_count": 94,
   "metadata": {},
   "outputs": [
    {
     "data": {
      "text/plain": [
       "16"
      ]
     },
     "execution_count": 94,
     "metadata": {},
     "output_type": "execute_result"
    }
   ],
   "source": [
    "len(df)"
   ]
  },
  {
   "cell_type": "code",
   "execution_count": null,
   "metadata": {},
   "outputs": [],
   "source": []
  },
  {
   "cell_type": "code",
   "execution_count": null,
   "metadata": {},
   "outputs": [],
   "source": []
  },
  {
   "cell_type": "code",
   "execution_count": 82,
   "metadata": {},
   "outputs": [],
   "source": [
    "STATES = {\n",
    "    'al': 'alabama',\n",
    "    'ak': 'alaska',\n",
    "    'az': 'arizona',\n",
    "    'ar': 'arkansas',\n",
    "    'ca': 'california',\n",
    "    'co': 'colorado',\n",
    "    'ct': 'connecticut',\n",
    "    'de': 'delaware',\n",
    "    'fl': 'florida',\n",
    "    'ga': 'georgia',\n",
    "    'hi': 'hawaii',\n",
    "    'id': 'idaho',\n",
    "    'il': 'illinois',\n",
    "    'in': 'indiana',\n",
    "    'ia': 'iowa',\n",
    "    'ks': 'kansas',\n",
    "    'ky': 'kentucky',\n",
    "    'la': 'louisiana',\n",
    "    'me': 'maine',\n",
    "    'md': 'maryland',\n",
    "    'ma': 'massachusetts',\n",
    "    'mi': 'michigan',\n",
    "    'mn': 'minnesota',\n",
    "    'ms': 'mississippi',\n",
    "    'mo': 'missouri',\n",
    "    'mt': 'montana',\n",
    "    'ne': 'nebraska',\n",
    "    'nv': 'nevada',\n",
    "    'nh': 'new hampshire',\n",
    "    'nj': 'new jersey',\n",
    "    'nm': 'new mexico',\n",
    "    'ny': 'new york',\n",
    "    'nc': 'north carolina',\n",
    "    'nd': 'north dakota',\n",
    "    'oh': 'ohio',\n",
    "    'ok': 'oklahoma',\n",
    "    'or': 'oregon',\n",
    "    'pa': 'pennsylvania',\n",
    "    'ri': 'rhode island',\n",
    "    'sc': 'south carolina',\n",
    "    'sd': 'south dakota',\n",
    "    'tn': 'tennessee',\n",
    "    'tx': 'texas',\n",
    "    'ut': 'utah',\n",
    "    'vt': 'vermont',\n",
    "    'va': 'virginia',\n",
    "    'wa': 'washington',\n",
    "    'wv': 'west virginia',\n",
    "    'wi': 'wisconsin',\n",
    "    'wy': 'wyoming',\n",
    "    # US Commonwealth and Territories\n",
    "    'as': 'american samoa',\n",
    "    'dc': 'district of columbia',\n",
    "    'fm': 'federated states of micronesia',\n",
    "    'gu': 'guam',\n",
    "    'mh': 'marshall islands',\n",
    "    'mp': 'northern mariana islands',\n",
    "    'pw': 'palau',\n",
    "    'pr': 'puerto rico',\n",
    "    'vi': 'virgin islands'\n",
    "}\n",
    "\n",
    "\n",
    "COUNTRIES = [\"us\",]\n",
    "\n",
    "BRANDS = [\n",
    "    'booking.com',\n",
    "    'chickfila',\n",
    "    'chipotle',\n",
    "    'doordash',\n",
    "    'expedia',\n",
    "    'giftcard',\n",
    "    'grubhub',\n",
    "    'hotels.com',\n",
    "    'marriott',\n",
    "    'mcdonalds',\n",
    "    'paypal',\n",
    "    'postmates',\n",
    "    'priceline',\n",
    "    'seamless',\n",
    "    'sheraton',\n",
    "    'sq',\n",
    "    'subway',\n",
    "    'ubereats',\n",
    "    'wendys',\n",
    "]\n"
   ]
  },
  {
   "cell_type": "code",
   "execution_count": null,
   "metadata": {},
   "outputs": [],
   "source": []
  }
 ],
 "metadata": {
  "kernelspec": {
   "display_name": "Python 3",
   "language": "python",
   "name": "python3"
  },
  "language_info": {
   "codemirror_mode": {
    "name": "ipython",
    "version": 3
   },
   "file_extension": ".py",
   "mimetype": "text/x-python",
   "name": "python",
   "nbconvert_exporter": "python",
   "pygments_lexer": "ipython3",
   "version": "3.7.3"
  }
 },
 "nbformat": 4,
 "nbformat_minor": 4
}
