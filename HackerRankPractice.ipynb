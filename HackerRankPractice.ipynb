{
 "cells": [
  {
   "cell_type": "code",
   "execution_count": 109,
   "metadata": {},
   "outputs": [],
   "source": [
    "p = [6, 5, 8, 4, 7, 10, 9]"
   ]
  },
  {
   "cell_type": "code",
   "execution_count": 110,
   "metadata": {},
   "outputs": [],
   "source": [
    "def poisonousPlants(p):\n",
    "    day = 0\n",
    "    dieAfter = [p[i+1]>p[i] for i in range(len(p)-1)]\n",
    "\n",
    "    while any(dieAfter):\n",
    "        day += 1\n",
    "        die = [False,] + dieAfter\n",
    "\n",
    "        p = [p[i] for i in range(len(die)) if not die[i]]\n",
    "        dieAfter = [p[i+1]>p[i] for i in range(len(p)-1)]\n",
    "\n",
    "    return day"
   ]
  },
  {
   "cell_type": "code",
   "execution_count": 111,
   "metadata": {},
   "outputs": [
    {
     "data": {
      "text/plain": [
       "2"
      ]
     },
     "execution_count": 111,
     "metadata": {},
     "output_type": "execute_result"
    }
   ],
   "source": [
    "poisonousPlants(p)"
   ]
  },
  {
   "cell_type": "code",
   "execution_count": 113,
   "metadata": {},
   "outputs": [
    {
     "data": {
      "text/plain": [
       "False"
      ]
     },
     "execution_count": 113,
     "metadata": {},
     "output_type": "execute_result"
    }
   ],
   "source": [
    "2 in [1,3,4]"
   ]
  },
  {
   "cell_type": "code",
   "execution_count": 115,
   "metadata": {},
   "outputs": [
    {
     "data": {
      "text/plain": [
       "1"
      ]
     },
     "execution_count": 115,
     "metadata": {},
     "output_type": "execute_result"
    }
   ],
   "source": [
    "13%2"
   ]
  },
  {
   "cell_type": "markdown",
   "metadata": {},
   "source": [
    "# Graphs\n",
    "\n",
    "## 1 road and library\n",
    "https://www.hackerrank.com/challenges/torque-and-development/problem?h_l=interview&playlist_slugs%5B%5D=interview-preparation-kit&playlist_slugs%5B%5D=graphs"
   ]
  },
  {
   "cell_type": "code",
   "execution_count": 122,
   "metadata": {},
   "outputs": [],
   "source": [
    "def roadsAndLibraries(n, c_lib, c_road, cities):\n",
    "    \"\"\"\n",
    "    Wrong function! \n",
    "    Misunderstood `cities` array.\n",
    "    Thought cities[i] refers to two cities city i can connect.\n",
    "    \n",
    "    \"\"\"\n",
    "    if c_lib <= c_road/2:\n",
    "        return len(cities) * c_lib\n",
    "    \n",
    "    cityWithAccess = [1,]\n",
    "    n_lib = 1\n",
    "    n_road = 0\n",
    "    newCircle = True\n",
    "\n",
    "    while newCircle:\n",
    "        addNewCity = True\n",
    "        c = 0\n",
    "        \n",
    "        while addNewCity:\n",
    "            cityNumber = cityWithAccess[c] - 1\n",
    "            for i in [0,1]:\n",
    "                if cities[cityNumber][i] not in cityWithAccess:\n",
    "                    n_road += 1\n",
    "                    cityWithAccess.append(cities[cityNumber][i])\n",
    "            if len(cityWithAccess) > c+1:\n",
    "                c += 1\n",
    "            else:\n",
    "                addNewCity = False\n",
    "\n",
    "        newCircle = False\n",
    "        for i in range(len(cities)):\n",
    "            if i not in cityWithAccess:\n",
    "                cityWithAccess = [i,]\n",
    "                newCircle = True\n",
    "                break\n",
    "                \n",
    "    print(f\"n_lib: {n_lib}, n_road: {n_road}\")\n",
    "    return n_lib * c_lib + n_road * c_road"
   ]
  },
  {
   "cell_type": "code",
   "execution_count": 199,
   "metadata": {},
   "outputs": [],
   "source": [
    "def roadsAndLibraries(n, c_lib, c_road, cities):\n",
    "    if c_lib <= c_road or not cities:\n",
    "        return n * c_lib\n",
    "    \n",
    "    n_lib = 1\n",
    "    n_road = 0\n",
    "\n",
    "    cityWithRoads = []\n",
    "    for i in cities:\n",
    "        cityWithRoads.extend(i)\n",
    "    cityWithRoads = set(cityWithRoads)\n",
    "    if len(cityWithRoads) < n:\n",
    "        n_lib += (n - len(cityWithRoads))\n",
    "\n",
    "\n",
    "    stop = False\n",
    "    \n",
    "    while not stop:\n",
    "        cityWithAccess = []\n",
    "        cityWithAccess.extend(cities[0])\n",
    "        n_road += 1\n",
    "        roadRemain = cities[1:]\n",
    "        roadRemain_temp = []\n",
    "        \n",
    "        for i in range(len(roadRemain)):\n",
    "            if (roadRemain[i][0] in cityWithAccess and \n",
    "                roadRemain[i][1] not in cityWithAccess):\n",
    "                cityWithAccess.append(roadRemain[i][1])\n",
    "                n_road += 1\n",
    "            elif (roadRemain[i][1] in cityWithAccess and \n",
    "                roadRemain[i][0] not in cityWithAccess):\n",
    "                cityWithAccess.append(roadRemain[i][0])\n",
    "                n_road += 1\n",
    "        \n",
    "        for i in range(len(roadRemain)):\n",
    "            if (roadRemain[i][0] in cityWithAccess and \n",
    "                roadRemain[i][1] not in cityWithAccess):\n",
    "                cityWithAccess.append(roadRemain[i][1])\n",
    "                n_road += 1\n",
    "            elif (roadRemain[i][1] in cityWithAccess and \n",
    "                roadRemain[i][0] not in cityWithAccess):\n",
    "                cityWithAccess.append(roadRemain[i][0])\n",
    "                n_road += 1\n",
    "            elif (roadRemain[i][1] not in cityWithAccess and \n",
    "                roadRemain[i][0] not in cityWithAccess):\n",
    "                roadRemain_temp.append(roadRemain[i])\n",
    "\n",
    "        if roadRemain_temp:\n",
    "            cities = roadRemain_temp\n",
    "            n_lib += 1\n",
    "        else:\n",
    "            stop = True\n",
    "    print(f\"n_lib: {n_lib}, n_road: {n_road}\")\n",
    "    return n_lib * c_lib + n_road * c_road"
   ]
  },
  {
   "cell_type": "code",
   "execution_count": 194,
   "metadata": {},
   "outputs": [
    {
     "name": "stdout",
     "output_type": "stream",
     "text": [
      "n_lib: 1, n_road: 2\n"
     ]
    },
    {
     "data": {
      "text/plain": [
       "4"
      ]
     },
     "execution_count": 194,
     "metadata": {},
     "output_type": "execute_result"
    }
   ],
   "source": [
    "n, m, c_lib, c_road = 3, 3, 2, 1\n",
    "cities = [\n",
    "    [1, 2],\n",
    "    [3, 1],\n",
    "    [2, 3]]\n",
    "# 4\n",
    "roadsAndLibraries(n, c_lib, c_road, cities)"
   ]
  },
  {
   "cell_type": "code",
   "execution_count": 195,
   "metadata": {},
   "outputs": [
    {
     "data": {
      "text/plain": [
       "12"
      ]
     },
     "execution_count": 195,
     "metadata": {},
     "output_type": "execute_result"
    }
   ],
   "source": [
    "n, m, c_lib, c_road = 6, 6, 2, 5\n",
    "cities = [\n",
    "    [1, 3],\n",
    "    [3, 4],\n",
    "    [2, 4],\n",
    "    [1, 2],\n",
    "    [2, 3],\n",
    "    [5, 6]]\n",
    "# 12\n",
    "roadsAndLibraries(n, c_lib, c_road, cities)"
   ]
  },
  {
   "cell_type": "code",
   "execution_count": 196,
   "metadata": {},
   "outputs": [
    {
     "data": {
      "text/plain": [
       "12"
      ]
     },
     "execution_count": 196,
     "metadata": {},
     "output_type": "execute_result"
    }
   ],
   "source": [
    "n, m, c_lib, c_road = 6, 4, 2, 3\n",
    "cities = [\n",
    "    [1, 2],\n",
    "    [1, 3],\n",
    "    [4, 5],\n",
    "    [4, 6]]\n",
    "# 12\n",
    "roadsAndLibraries(n, c_lib, c_road, cities)"
   ]
  },
  {
   "cell_type": "code",
   "execution_count": 197,
   "metadata": {},
   "outputs": [
    {
     "name": "stdout",
     "output_type": "stream",
     "text": [
      "n_lib: 7, n_road: 2\n"
     ]
    },
    {
     "data": {
      "text/plain": [
       "805"
      ]
     },
     "execution_count": 197,
     "metadata": {},
     "output_type": "execute_result"
    }
   ],
   "source": [
    "n, m, c_lib, c_road = 9, 2, 91, 84\n",
    "cities = [\n",
    "    [8, 2],\n",
    "    [2, 9]]\n",
    "# 805\n",
    "roadsAndLibraries(n, c_lib, c_road, cities)"
   ]
  },
  {
   "cell_type": "code",
   "execution_count": 200,
   "metadata": {},
   "outputs": [
    {
     "name": "stdout",
     "output_type": "stream",
     "text": [
      "n_lib: 1, n_road: 4\n"
     ]
    },
    {
     "data": {
      "text/plain": [
       "184"
      ]
     },
     "execution_count": 200,
     "metadata": {},
     "output_type": "execute_result"
    }
   ],
   "source": [
    "n, m, c_lib, c_road = 5, 9, 92, 23\n",
    "cities = [\n",
    "    [2, 1],\n",
    "    [5, 3],\n",
    "    [5, 1],\n",
    "    [3, 4],\n",
    "    [3, 1],\n",
    "    [5, 4],\n",
    "    [4, 1],\n",
    "    [5, 2],\n",
    "    [4, 2]]\n",
    "# 184\n",
    "roadsAndLibraries(n, c_lib, c_road, cities)"
   ]
  },
  {
   "cell_type": "code",
   "execution_count": 202,
   "metadata": {},
   "outputs": [
    {
     "data": {
      "text/plain": [
       "80"
      ]
     },
     "execution_count": 202,
     "metadata": {},
     "output_type": "execute_result"
    }
   ],
   "source": [
    "n, m, c_lib, c_road = 8, 3, 10, 55\n",
    "cities = [\n",
    "    [6, 4],\n",
    "    [3, 2],\n",
    "    [7, 1]]\n",
    "# 80\n",
    "roadsAndLibraries(n, c_lib, c_road, cities)"
   ]
  },
  {
   "cell_type": "code",
   "execution_count": 203,
   "metadata": {},
   "outputs": [
    {
     "ename": "IndexError",
     "evalue": "list index out of range",
     "output_type": "error",
     "traceback": [
      "\u001b[0;31m---------------------------------------------------------------------------\u001b[0m",
      "\u001b[0;31mIndexError\u001b[0m                                Traceback (most recent call last)",
      "\u001b[0;32m<ipython-input-203-d38373c52cde>\u001b[0m in \u001b[0;36m<module>\u001b[0;34m\u001b[0m\n\u001b[1;32m      2\u001b[0m \u001b[0mcities\u001b[0m \u001b[0;34m=\u001b[0m \u001b[0;34m[\u001b[0m\u001b[0;34m]\u001b[0m\u001b[0;34m\u001b[0m\u001b[0;34m\u001b[0m\u001b[0m\n\u001b[1;32m      3\u001b[0m \u001b[0;31m# 5\u001b[0m\u001b[0;34m\u001b[0m\u001b[0;34m\u001b[0m\u001b[0;34m\u001b[0m\u001b[0m\n\u001b[0;32m----> 4\u001b[0;31m \u001b[0mroadsAndLibraries\u001b[0m\u001b[0;34m(\u001b[0m\u001b[0mn\u001b[0m\u001b[0;34m,\u001b[0m \u001b[0mc_lib\u001b[0m\u001b[0;34m,\u001b[0m \u001b[0mc_road\u001b[0m\u001b[0;34m,\u001b[0m \u001b[0mcities\u001b[0m\u001b[0;34m)\u001b[0m\u001b[0;34m\u001b[0m\u001b[0;34m\u001b[0m\u001b[0m\n\u001b[0m",
      "\u001b[0;32m<ipython-input-199-5a174a11436f>\u001b[0m in \u001b[0;36mroadsAndLibraries\u001b[0;34m(n, c_lib, c_road, cities)\u001b[0m\n\u001b[1;32m     18\u001b[0m     \u001b[0;32mwhile\u001b[0m \u001b[0;32mnot\u001b[0m \u001b[0mstop\u001b[0m\u001b[0;34m:\u001b[0m\u001b[0;34m\u001b[0m\u001b[0;34m\u001b[0m\u001b[0m\n\u001b[1;32m     19\u001b[0m         \u001b[0mcityWithAccess\u001b[0m \u001b[0;34m=\u001b[0m \u001b[0;34m[\u001b[0m\u001b[0;34m]\u001b[0m\u001b[0;34m\u001b[0m\u001b[0;34m\u001b[0m\u001b[0m\n\u001b[0;32m---> 20\u001b[0;31m         \u001b[0mcityWithAccess\u001b[0m\u001b[0;34m.\u001b[0m\u001b[0mextend\u001b[0m\u001b[0;34m(\u001b[0m\u001b[0mcities\u001b[0m\u001b[0;34m[\u001b[0m\u001b[0;36m0\u001b[0m\u001b[0;34m]\u001b[0m\u001b[0;34m)\u001b[0m\u001b[0;34m\u001b[0m\u001b[0;34m\u001b[0m\u001b[0m\n\u001b[0m\u001b[1;32m     21\u001b[0m         \u001b[0mn_road\u001b[0m \u001b[0;34m+=\u001b[0m \u001b[0;36m1\u001b[0m\u001b[0;34m\u001b[0m\u001b[0;34m\u001b[0m\u001b[0m\n\u001b[1;32m     22\u001b[0m         \u001b[0mroadRemain\u001b[0m \u001b[0;34m=\u001b[0m \u001b[0mcities\u001b[0m\u001b[0;34m[\u001b[0m\u001b[0;36m1\u001b[0m\u001b[0;34m:\u001b[0m\u001b[0;34m]\u001b[0m\u001b[0;34m\u001b[0m\u001b[0;34m\u001b[0m\u001b[0m\n",
      "\u001b[0;31mIndexError\u001b[0m: list index out of range"
     ]
    }
   ],
   "source": [
    "n, m, c_lib, c_road = 1, 0, 5, 3\n",
    "cities = []\n",
    "# 5\n",
    "roadsAndLibraries(n, c_lib, c_road, cities)"
   ]
  },
  {
   "cell_type": "code",
   "execution_count": 184,
   "metadata": {},
   "outputs": [
    {
     "data": {
      "text/plain": [
       "4"
      ]
     },
     "execution_count": 184,
     "metadata": {},
     "output_type": "execute_result"
    }
   ],
   "source": [
    "5\n",
    "9 2 91 84\n",
    "8 2\n",
    "2 9\n",
    "5 9 92 23\n",
    "2 1\n",
    "5 3\n",
    "5 1\n",
    "3 4\n",
    "3 1\n",
    "5 4\n",
    "4 1\n",
    "5 2\n",
    "4 2\n",
    "8 3 10 55\n",
    "6 4\n",
    "3 2\n",
    "7 1\n",
    "1 0 5 3\n",
    "2 0 102 1"
   ]
  },
  {
   "cell_type": "code",
   "execution_count": null,
   "metadata": {},
   "outputs": [],
   "source": []
  }
 ],
 "metadata": {
  "kernelspec": {
   "display_name": "Python 3",
   "language": "python",
   "name": "python3"
  },
  "language_info": {
   "codemirror_mode": {
    "name": "ipython",
    "version": 3
   },
   "file_extension": ".py",
   "mimetype": "text/x-python",
   "name": "python",
   "nbconvert_exporter": "python",
   "pygments_lexer": "ipython3",
   "version": "3.7.7"
  }
 },
 "nbformat": 4,
 "nbformat_minor": 4
}
