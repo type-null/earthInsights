{
 "cells": [
  {
   "cell_type": "code",
   "execution_count": 109,
   "metadata": {},
   "outputs": [],
   "source": [
    "p = [6, 5, 8, 4, 7, 10, 9]"
   ]
  },
  {
   "cell_type": "code",
   "execution_count": 110,
   "metadata": {},
   "outputs": [],
   "source": [
    "def poisonousPlants(p):\n",
    "    day = 0\n",
    "    dieAfter = [p[i+1]>p[i] for i in range(len(p)-1)]\n",
    "\n",
    "    while any(dieAfter):\n",
    "        day += 1\n",
    "        die = [False,] + dieAfter\n",
    "\n",
    "        p = [p[i] for i in range(len(die)) if not die[i]]\n",
    "        dieAfter = [p[i+1]>p[i] for i in range(len(p)-1)]\n",
    "\n",
    "    return day"
   ]
  },
  {
   "cell_type": "code",
   "execution_count": 111,
   "metadata": {},
   "outputs": [
    {
     "data": {
      "text/plain": [
       "2"
      ]
     },
     "execution_count": 111,
     "metadata": {},
     "output_type": "execute_result"
    }
   ],
   "source": [
    "poisonousPlants(p)"
   ]
  },
  {
   "cell_type": "code",
   "execution_count": 113,
   "metadata": {},
   "outputs": [
    {
     "data": {
      "text/plain": [
       "False"
      ]
     },
     "execution_count": 113,
     "metadata": {},
     "output_type": "execute_result"
    }
   ],
   "source": [
    "2 in [1,3,4]"
   ]
  },
  {
   "cell_type": "code",
   "execution_count": 115,
   "metadata": {},
   "outputs": [
    {
     "data": {
      "text/plain": [
       "1"
      ]
     },
     "execution_count": 115,
     "metadata": {},
     "output_type": "execute_result"
    }
   ],
   "source": [
    "13%2"
   ]
  },
  {
   "cell_type": "code",
   "execution_count": 210,
   "metadata": {},
   "outputs": [
    {
     "data": {
      "text/plain": [
       "6.5"
      ]
     },
     "execution_count": 210,
     "metadata": {},
     "output_type": "execute_result"
    }
   ],
   "source": [
    "13 / 2"
   ]
  },
  {
   "cell_type": "code",
   "execution_count": 229,
   "metadata": {},
   "outputs": [
    {
     "data": {
      "text/plain": [
       "'ab'"
      ]
     },
     "execution_count": 229,
     "metadata": {},
     "output_type": "execute_result"
    }
   ],
   "source": [
    "'abc'[:2]"
   ]
  },
  {
   "cell_type": "code",
   "execution_count": 21,
   "metadata": {
    "scrolled": true
   },
   "outputs": [
    {
     "data": {
      "text/plain": [
       "9699690"
      ]
     },
     "execution_count": 21,
     "metadata": {},
     "output_type": "execute_result"
    }
   ],
   "source": [
    "def product(arr):\n",
    "    n = 1\n",
    "    for i in arr:\n",
    "        n *= i\n",
    "    return n\n",
    "\n",
    "product([2,3,5,7,11,13,19,17])"
   ]
  },
  {
   "cell_type": "code",
   "execution_count": 13,
   "metadata": {},
   "outputs": [],
   "source": [
    "def hourglassSum(arr):\n",
    "    s = 0\n",
    "\n",
    "    for row in range(4):\n",
    "        for c in range(4):\n",
    "            s_temp = sum(arr[row][c:c+3]) + arr[row+1][c+1] + sum(arr[row+2][c:c+3])\n",
    "\n",
    "            if s_temp > s:\n",
    "                s = s_temp\n",
    "\n",
    "    return s"
   ]
  },
  {
   "cell_type": "code",
   "execution_count": 14,
   "metadata": {},
   "outputs": [
    {
     "data": {
      "text/plain": [
       "19"
      ]
     },
     "execution_count": 14,
     "metadata": {},
     "output_type": "execute_result"
    }
   ],
   "source": [
    "arr = [\n",
    "    [1,1,1,0,0,0],\n",
    "    [0,1,0,0,0,0],\n",
    "    [1,1,1,0,0,0],\n",
    "    [0,0,2,4,4,0],\n",
    "    [0,0,0,2,0,0],\n",
    "    [0,0,1,2,4,0],\n",
    "]\n",
    "\n",
    "hourglassSum(arr)"
   ]
  },
  {
   "cell_type": "code",
   "execution_count": 44,
   "metadata": {},
   "outputs": [
    {
     "data": {
      "text/plain": [
       "'],[1,2,5,3,7,8,6,4],['"
      ]
     },
     "execution_count": 44,
     "metadata": {},
     "output_type": "execute_result"
    }
   ],
   "source": [
    "arr = \"\"\"\n",
    "1 2 5 3 7 8 6 4\n",
    "\"\"\"\n",
    "arr.replace(\" \", \",\").replace(\"\\n\", \"],[\")"
   ]
  },
  {
   "cell_type": "code",
   "execution_count": 18,
   "metadata": {},
   "outputs": [
    {
     "data": {
      "text/plain": [
       "0"
      ]
     },
     "execution_count": 18,
     "metadata": {},
     "output_type": "execute_result"
    }
   ],
   "source": [
    "arr = [\n",
    "    [-1,-1, 0,-9,-2,-2],\n",
    "    [-2,-1,-6,-8,-2,-5],\n",
    "    [-1,-1,-1,-2,-3,-4],\n",
    "    [-1,-9,-2,-4,-4,-5],\n",
    "    [-7,-3,-3,-2,-9,-9],\n",
    "    [-1,-3,-1,-2,-4,-5]\n",
    "]\n",
    "\n",
    "hourglassSum(arr)"
   ]
  },
  {
   "cell_type": "code",
   "execution_count": 214,
   "metadata": {},
   "outputs": [],
   "source": [
    "def countingValleys(n, s):\n",
    "    seaLevel = 0\n",
    "    numberOfValleys = 0\n",
    "\n",
    "    for i in s:\n",
    "        if i == 'D':\n",
    "            if seaLevel == 0:\n",
    "                numberOfValleys += 1\n",
    "            seaLevel -= 1\n",
    "        else:\n",
    "            seaLevel += 1\n",
    "            \n",
    "    return numberOfValleys"
   ]
  },
  {
   "cell_type": "code",
   "execution_count": 215,
   "metadata": {},
   "outputs": [
    {
     "data": {
      "text/plain": [
       "1"
      ]
     },
     "execution_count": 215,
     "metadata": {},
     "output_type": "execute_result"
    }
   ],
   "source": [
    "n = 8\n",
    "s = 'UDDDUDUU'\n",
    "countingValleys(n, s)"
   ]
  },
  {
   "cell_type": "code",
   "execution_count": 224,
   "metadata": {},
   "outputs": [],
   "source": [
    "def jumpingOnClouds(c):\n",
    "    position = 0\n",
    "    jump = 0\n",
    "\n",
    "    while position < len(c)-1:\n",
    "        if position < len(c)-2:\n",
    "            if not c[position + 2]:\n",
    "                position += 2\n",
    "                jump += 1\n",
    "            else:\n",
    "                position += 1\n",
    "                jump += 1\n",
    "        else:\n",
    "            position += 1\n",
    "            jump += 1\n",
    "    \n",
    "    return jump"
   ]
  },
  {
   "cell_type": "code",
   "execution_count": 225,
   "metadata": {},
   "outputs": [
    {
     "data": {
      "text/plain": [
       "3"
      ]
     },
     "execution_count": 225,
     "metadata": {},
     "output_type": "execute_result"
    }
   ],
   "source": [
    "jumpingOnClouds([0, 0, 0, 1, 0, 0])"
   ]
  },
  {
   "cell_type": "code",
   "execution_count": 226,
   "metadata": {},
   "outputs": [
    {
     "data": {
      "text/plain": [
       "4"
      ]
     },
     "execution_count": 226,
     "metadata": {},
     "output_type": "execute_result"
    }
   ],
   "source": [
    "jumpingOnClouds([0, 0, 1, 0, 0, 1, 0])"
   ]
  },
  {
   "cell_type": "code",
   "execution_count": 28,
   "metadata": {},
   "outputs": [],
   "source": [
    "def rotLeft(a, d):\n",
    "    b = a[d:]\n",
    "    b.extend(a[:d])\n",
    "    return b"
   ]
  },
  {
   "cell_type": "code",
   "execution_count": 30,
   "metadata": {},
   "outputs": [
    {
     "data": {
      "text/plain": [
       "[3, 4, 5, 6, 7, 1, 2]"
      ]
     },
     "execution_count": 30,
     "metadata": {},
     "output_type": "execute_result"
    }
   ],
   "source": [
    "rotLeft([1,2,3,4,5,6,7], 2)\n",
    "# a = [1,2,3,4,5,6,7]\n",
    "# d = 2\n",
    "# a.extend(a[:d+1])"
   ]
  },
  {
   "cell_type": "code",
   "execution_count": 41,
   "metadata": {},
   "outputs": [],
   "source": [
    "def minimumBribes(q):\n",
    "    jump = 0\n",
    "    # it is better to count how many times P has RECEIVED a bribe\n",
    "\n",
    "    q = [x-1 for x in q]\n",
    "\n",
    "    for i, p in enumerate(q):\n",
    "        if p-i > 2:\n",
    "            print(\"Too chaotic\")\n",
    "            return\n",
    "        \n",
    "        for j in range(max(p-1, 0), i):\n",
    "            if q[j] > p:\n",
    "                jump += 1\n",
    "\n",
    "    print(jump)"
   ]
  },
  {
   "cell_type": "code",
   "execution_count": 45,
   "metadata": {},
   "outputs": [
    {
     "data": {
      "text/plain": [
       "4"
      ]
     },
     "execution_count": 45,
     "metadata": {},
     "output_type": "execute_result"
    }
   ],
   "source": [
    "minimumBribes([1,2,5,3,7,8,6,4])"
   ]
  },
  {
   "cell_type": "code",
   "execution_count": 93,
   "metadata": {},
   "outputs": [
    {
     "data": {
      "text/plain": [
       "1"
      ]
     },
     "execution_count": 93,
     "metadata": {},
     "output_type": "execute_result"
    }
   ],
   "source": [
    "list(enumerate(\"AABBA\")).index((1, 'A'))"
   ]
  },
  {
   "cell_type": "code",
   "execution_count": 60,
   "metadata": {},
   "outputs": [
    {
     "data": {
      "text/plain": [
       "1"
      ]
     },
     "execution_count": 60,
     "metadata": {},
     "output_type": "execute_result"
    }
   ],
   "source": [
    "from collections import Counter\n",
    "\n",
    "s = \"absoidfjasgsdfj\"\n",
    "c = Counter(s)\n",
    "list(c.values())[0]\n",
    "len(c.values())\n",
    "abs(-1)"
   ]
  },
  {
   "cell_type": "code",
   "execution_count": 96,
   "metadata": {},
   "outputs": [],
   "source": [
    "def isValid(s):\n",
    "    c = Counter(s)\n",
    "    cl = list(c.values())\n",
    "    clc = Counter(cl)\n",
    "    clcl = list(clc.keys())\n",
    "    valid = False\n",
    "\n",
    "    if len(clcl) <= 1:\n",
    "        valid = True\n",
    "    elif len(clcl) == 2:\n",
    "        if 1 in clc.values():\n",
    "            if abs(clcl[0] - clcl[1]) == 1:\n",
    "                valid = True\n",
    "            elif clcl[list(clc.values()).index(1)] == 1:\n",
    "                valid = True\n",
    "\n",
    "    if valid:\n",
    "        return \"YES\"\n",
    "    else:\n",
    "        return \"NO\""
   ]
  },
  {
   "cell_type": "code",
   "execution_count": 97,
   "metadata": {},
   "outputs": [
    {
     "data": {
      "text/plain": [
       "'YES'"
      ]
     },
     "execution_count": 97,
     "metadata": {},
     "output_type": "execute_result"
    }
   ],
   "source": [
    "s = 'ibfdgaeadiaefgbhbdghhhbgdfgeiccbiehhfcggchgghadhdhagfbahhddgghbdehidbibaeaagaeeigffcebfbaieggabcfbiiedcabfihchdfabifahcbhagccbdfifhghcadfiadeeaheeddddiecaicbgigccageicehfdhdgafaddhffadigfhhcaedcedecafeacbdacgfgfeeibgaiffdehigebhhehiaahfidibccdcdagifgaihacihadecgifihbebffebdfbchbgigeccahgihbcbcaggebaaafgfedbfgagfediddghdgbgehhhifhgcedechahidcbchebheihaadbbbiaiccededchdagfhccfdefigfibifabeiaccghcegfbcghaefifbachebaacbhbfgfddeceababbacgffbagidebeadfihaefefegbghgddbbgddeehgfbhafbccidebgehifafgbghafacgfdccgifdcbbbidfifhdaibgigebigaedeaaiadegfefbhacgddhchgcbgcaeaieiegiffchbgbebgbehbbfcebciiagacaiechdigbgbghefcahgbhfibhedaeeiffebdiabcifgccdefabccdghehfibfiifdaicfedagahhdcbhbicdgibgcedieihcichadgchgbdcdagaihebbabhibcihicadgadfcihdheefbhffiageddhgahaidfdhhdbgciiaciegchiiebfbcbhaeagccfhbfhaddagnfieihghfbaggiffbbfbecgaiiidccdceadbbdfgigibgcgchafccdchgifdeieicbaididhfcfdedbhaadedfageigfdehgcdaecaebebebfcieaecfagfdieaefdiedbcadchabhebgehiidfcgahcdhcdhgchhiiheffiifeegcfdgbdeffhgeghdfhbfbifgidcafbfcd'\n",
    "\"YES\"\n",
    "isValid(s)"
   ]
  },
  {
   "cell_type": "code",
   "execution_count": 98,
   "metadata": {},
   "outputs": [
    {
     "data": {
      "text/plain": [
       "'NO'"
      ]
     },
     "execution_count": 98,
     "metadata": {},
     "output_type": "execute_result"
    }
   ],
   "source": [
    "s = 'aaaabbcc'\n",
    "# NO\n",
    "isValid(s)"
   ]
  },
  {
   "cell_type": "code",
   "execution_count": 99,
   "metadata": {},
   "outputs": [
    {
     "data": {
      "text/plain": [
       "[Counter({'a': 4, 'b': 2, 'c': 2}), [4, 2, 2], Counter({4: 1, 2: 2}), [1, 2]]"
      ]
     },
     "execution_count": 99,
     "metadata": {},
     "output_type": "execute_result"
    }
   ],
   "source": [
    "c = Counter(s)\n",
    "cl = list(c.values())\n",
    "clc = Counter(cl)\n",
    "clcl = list(clc.values())\n",
    "[c, cl, clc, clcl]"
   ]
  },
  {
   "cell_type": "markdown",
   "metadata": {},
   "source": [
    "# Graphs\n",
    "\n",
    "## 1 road and library\n",
    "https://www.hackerrank.com/challenges/torque-and-development/problem?h_l=interview&playlist_slugs%5B%5D=interview-preparation-kit&playlist_slugs%5B%5D=graphs"
   ]
  },
  {
   "cell_type": "code",
   "execution_count": 122,
   "metadata": {},
   "outputs": [],
   "source": [
    "def roadsAndLibraries(n, c_lib, c_road, cities):\n",
    "    \"\"\"\n",
    "    Wrong function! \n",
    "    Misunderstood `cities` array.\n",
    "    Thought cities[i] refers to two cities city i can connect.\n",
    "    \n",
    "    \"\"\"\n",
    "    if c_lib <= c_road/2:\n",
    "        return len(cities) * c_lib\n",
    "    \n",
    "    cityWithAccess = [1,]\n",
    "    n_lib = 1\n",
    "    n_road = 0\n",
    "    newCircle = True\n",
    "\n",
    "    while newCircle:\n",
    "        addNewCity = True\n",
    "        c = 0\n",
    "        \n",
    "        while addNewCity:\n",
    "            cityNumber = cityWithAccess[c] - 1\n",
    "            for i in [0,1]:\n",
    "                if cities[cityNumber][i] not in cityWithAccess:\n",
    "                    n_road += 1\n",
    "                    cityWithAccess.append(cities[cityNumber][i])\n",
    "            if len(cityWithAccess) > c+1:\n",
    "                c += 1\n",
    "            else:\n",
    "                addNewCity = False\n",
    "\n",
    "        newCircle = False\n",
    "        for i in range(len(cities)):\n",
    "            if i not in cityWithAccess:\n",
    "                cityWithAccess = [i,]\n",
    "                newCircle = True\n",
    "                break\n",
    "                \n",
    "    print(f\"n_lib: {n_lib}, n_road: {n_road}\")\n",
    "    return n_lib * c_lib + n_road * c_road"
   ]
  },
  {
   "cell_type": "code",
   "execution_count": 204,
   "metadata": {},
   "outputs": [],
   "source": [
    "def roadsAndLibraries(n, c_lib, c_road, cities):\n",
    "    if c_lib <= c_road or not cities:\n",
    "        return n * c_lib\n",
    "    \n",
    "    n_lib = 1\n",
    "    n_road = 0\n",
    "\n",
    "    cityWithRoads = []\n",
    "    for i in cities:\n",
    "        cityWithRoads.extend(i)\n",
    "    cityWithRoads = set(cityWithRoads)\n",
    "    if len(cityWithRoads) < n:\n",
    "        n_lib += (n - len(cityWithRoads))\n",
    "\n",
    "\n",
    "    stop = False\n",
    "    \n",
    "    while not stop:\n",
    "        cityWithAccess = []\n",
    "        cityWithAccess.extend(cities[0])\n",
    "        n_road += 1\n",
    "        roadRemain = cities[1:]\n",
    "        roadRemain_temp = []\n",
    "        \n",
    "        for i in range(len(roadRemain)):\n",
    "            if (roadRemain[i][0] in cityWithAccess and \n",
    "                roadRemain[i][1] not in cityWithAccess):\n",
    "                cityWithAccess.append(roadRemain[i][1])\n",
    "                n_road += 1\n",
    "            elif (roadRemain[i][1] in cityWithAccess and \n",
    "                roadRemain[i][0] not in cityWithAccess):\n",
    "                cityWithAccess.append(roadRemain[i][0])\n",
    "                n_road += 1\n",
    "        \n",
    "        for i in range(len(roadRemain)):\n",
    "            if (roadRemain[i][0] in cityWithAccess and \n",
    "                roadRemain[i][1] not in cityWithAccess):\n",
    "                cityWithAccess.append(roadRemain[i][1])\n",
    "                n_road += 1\n",
    "            elif (roadRemain[i][1] in cityWithAccess and \n",
    "                roadRemain[i][0] not in cityWithAccess):\n",
    "                cityWithAccess.append(roadRemain[i][0])\n",
    "                n_road += 1\n",
    "            elif (roadRemain[i][1] not in cityWithAccess and \n",
    "                roadRemain[i][0] not in cityWithAccess):\n",
    "                roadRemain_temp.append(roadRemain[i])\n",
    "\n",
    "        if roadRemain_temp:\n",
    "            cities = roadRemain_temp\n",
    "            n_lib += 1\n",
    "        else:\n",
    "            stop = True\n",
    "    print(f\"n_lib: {n_lib}, n_road: {n_road}\")\n",
    "    return n_lib * c_lib + n_road * c_road"
   ]
  },
  {
   "cell_type": "code",
   "execution_count": 194,
   "metadata": {},
   "outputs": [
    {
     "name": "stdout",
     "output_type": "stream",
     "text": [
      "n_lib: 1, n_road: 2\n"
     ]
    },
    {
     "data": {
      "text/plain": [
       "4"
      ]
     },
     "execution_count": 194,
     "metadata": {},
     "output_type": "execute_result"
    }
   ],
   "source": [
    "n, m, c_lib, c_road = 3, 3, 2, 1\n",
    "cities = [\n",
    "    [1, 2],\n",
    "    [3, 1],\n",
    "    [2, 3]]\n",
    "# 4\n",
    "roadsAndLibraries(n, c_lib, c_road, cities)"
   ]
  },
  {
   "cell_type": "code",
   "execution_count": 195,
   "metadata": {},
   "outputs": [
    {
     "data": {
      "text/plain": [
       "12"
      ]
     },
     "execution_count": 195,
     "metadata": {},
     "output_type": "execute_result"
    }
   ],
   "source": [
    "n, m, c_lib, c_road = 6, 6, 2, 5\n",
    "cities = [\n",
    "    [1, 3],\n",
    "    [3, 4],\n",
    "    [2, 4],\n",
    "    [1, 2],\n",
    "    [2, 3],\n",
    "    [5, 6]]\n",
    "# 12\n",
    "roadsAndLibraries(n, c_lib, c_road, cities)"
   ]
  },
  {
   "cell_type": "code",
   "execution_count": 196,
   "metadata": {},
   "outputs": [
    {
     "data": {
      "text/plain": [
       "12"
      ]
     },
     "execution_count": 196,
     "metadata": {},
     "output_type": "execute_result"
    }
   ],
   "source": [
    "n, m, c_lib, c_road = 6, 4, 2, 3\n",
    "cities = [\n",
    "    [1, 2],\n",
    "    [1, 3],\n",
    "    [4, 5],\n",
    "    [4, 6]]\n",
    "# 12\n",
    "roadsAndLibraries(n, c_lib, c_road, cities)"
   ]
  },
  {
   "cell_type": "code",
   "execution_count": 197,
   "metadata": {},
   "outputs": [
    {
     "name": "stdout",
     "output_type": "stream",
     "text": [
      "n_lib: 7, n_road: 2\n"
     ]
    },
    {
     "data": {
      "text/plain": [
       "805"
      ]
     },
     "execution_count": 197,
     "metadata": {},
     "output_type": "execute_result"
    }
   ],
   "source": [
    "n, m, c_lib, c_road = 9, 2, 91, 84\n",
    "cities = [\n",
    "    [8, 2],\n",
    "    [2, 9]]\n",
    "# 805\n",
    "roadsAndLibraries(n, c_lib, c_road, cities)"
   ]
  },
  {
   "cell_type": "code",
   "execution_count": 200,
   "metadata": {},
   "outputs": [
    {
     "name": "stdout",
     "output_type": "stream",
     "text": [
      "n_lib: 1, n_road: 4\n"
     ]
    },
    {
     "data": {
      "text/plain": [
       "184"
      ]
     },
     "execution_count": 200,
     "metadata": {},
     "output_type": "execute_result"
    }
   ],
   "source": [
    "n, m, c_lib, c_road = 5, 9, 92, 23\n",
    "cities = [\n",
    "    [2, 1],\n",
    "    [5, 3],\n",
    "    [5, 1],\n",
    "    [3, 4],\n",
    "    [3, 1],\n",
    "    [5, 4],\n",
    "    [4, 1],\n",
    "    [5, 2],\n",
    "    [4, 2]]\n",
    "# 184\n",
    "roadsAndLibraries(n, c_lib, c_road, cities)"
   ]
  },
  {
   "cell_type": "code",
   "execution_count": 202,
   "metadata": {},
   "outputs": [
    {
     "data": {
      "text/plain": [
       "80"
      ]
     },
     "execution_count": 202,
     "metadata": {},
     "output_type": "execute_result"
    }
   ],
   "source": [
    "n, m, c_lib, c_road = 8, 3, 10, 55\n",
    "cities = [\n",
    "    [6, 4],\n",
    "    [3, 2],\n",
    "    [7, 1]]\n",
    "# 80\n",
    "roadsAndLibraries(n, c_lib, c_road, cities)"
   ]
  },
  {
   "cell_type": "code",
   "execution_count": 205,
   "metadata": {},
   "outputs": [
    {
     "data": {
      "text/plain": [
       "5"
      ]
     },
     "execution_count": 205,
     "metadata": {},
     "output_type": "execute_result"
    }
   ],
   "source": [
    "n, m, c_lib, c_road = 1, 0, 5, 3\n",
    "cities = []\n",
    "# 5\n",
    "roadsAndLibraries(n, c_lib, c_road, cities)"
   ]
  },
  {
   "cell_type": "code",
   "execution_count": 184,
   "metadata": {},
   "outputs": [
    {
     "data": {
      "text/plain": [
       "4"
      ]
     },
     "execution_count": 184,
     "metadata": {},
     "output_type": "execute_result"
    }
   ],
   "source": [
    "5\n",
    "9 2 91 84\n",
    "8 2\n",
    "2 9\n",
    "5 9 92 23\n",
    "2 1\n",
    "5 3\n",
    "5 1\n",
    "3 4\n",
    "3 1\n",
    "5 4\n",
    "4 1\n",
    "5 2\n",
    "4 2\n",
    "8 3 10 55\n",
    "6 4\n",
    "3 2\n",
    "7 1\n",
    "1 0 5 3\n",
    "2 0 102 1"
   ]
  },
  {
   "cell_type": "markdown",
   "metadata": {},
   "source": [
    "# Array"
   ]
  },
  {
   "cell_type": "code",
   "execution_count": 1,
   "metadata": {},
   "outputs": [
    {
     "data": {
      "text/plain": [
       "[1, 2, 3, 4]"
      ]
     },
     "execution_count": 1,
     "metadata": {},
     "output_type": "execute_result"
    }
   ],
   "source": [
    "arr = [4,1,2,3]\n",
    "sorted(arr)"
   ]
  },
  {
   "cell_type": "code",
   "execution_count": 4,
   "metadata": {},
   "outputs": [
    {
     "data": {
      "text/plain": [
       "[4, 1]"
      ]
     },
     "execution_count": 4,
     "metadata": {},
     "output_type": "execute_result"
    }
   ],
   "source": [
    "arr[0:2]"
   ]
  },
  {
   "cell_type": "code",
   "execution_count": 3,
   "metadata": {},
   "outputs": [],
   "source": [
    "from collections import Counter\n",
    "import math\n",
    "\n",
    "def comb(n, k):\n",
    "    # calculate combination\n",
    "    return math.factorial(n) // (math.factorial(n-k) * math.factorial(k))\n",
    "\n",
    "def sherlockAndAnagrams(s):\n",
    "    substringCounter = {}\n",
    "    pair = 0\n",
    "\n",
    "    for i in range(len(s)-1):\n",
    "        substringLength = i + 1\n",
    "        substringCounter[substringLength] = [''.join(sorted(list(s[move:move+substringLength]))) for move in range(len(s)-i)]\n",
    "\n",
    "    print(substringCounter)\n",
    "    for i in range(len(s)-1):\n",
    "        for occurence in Counter(substringCounter[i+1]).values():\n",
    "            if occurence >= 2:\n",
    "                pair += comb(occurence, 2)\n",
    "\n",
    "    return pair"
   ]
  },
  {
   "cell_type": "code",
   "execution_count": 4,
   "metadata": {},
   "outputs": [
    {
     "name": "stdout",
     "output_type": "stream",
     "text": [
      "{1: ['a', 'b', 'b', 'a'], 2: ['ab', 'bb', 'ab'], 3: ['abb', 'abb']}\n"
     ]
    },
    {
     "data": {
      "text/plain": [
       "4"
      ]
     },
     "execution_count": 4,
     "metadata": {},
     "output_type": "execute_result"
    }
   ],
   "source": [
    "s = \"abba\"\n",
    "sherlockAndAnagrams(s)"
   ]
  },
  {
   "cell_type": "code",
   "execution_count": 72,
   "metadata": {},
   "outputs": [],
   "source": [
    "def countTriplets(arr, r):\n",
    "    count = 0\n",
    "    dict = {}\n",
    "    dictPairs = {}\n",
    "\n",
    "    for i in reversed(arr):\n",
    "        if i*r in dictPairs:\n",
    "                count += dictPairs[i*r]\n",
    "        if i*r in dict:\n",
    "                dictPairs[i] = dictPairs.get(i, 0) + dict[i*r]\n",
    "\n",
    "        dict[i] = dict.get(i, 0) + 1\n",
    "\n",
    "    return count"
   ]
  },
  {
   "cell_type": "code",
   "execution_count": 73,
   "metadata": {},
   "outputs": [
    {
     "data": {
      "text/plain": [
       "161700"
      ]
     },
     "execution_count": 73,
     "metadata": {},
     "output_type": "execute_result"
    }
   ],
   "source": [
    "import numpy as np\n",
    "\n",
    "one = np.ones((1,100), dtype=int)\n",
    "\n",
    "countTriplets(one.tolist()[0], 1)"
   ]
  },
  {
   "cell_type": "code",
   "execution_count": 77,
   "metadata": {},
   "outputs": [
    {
     "data": {
      "text/plain": [
       "True"
      ]
     },
     "execution_count": 77,
     "metadata": {},
     "output_type": "execute_result"
    }
   ],
   "source": [
    "d = {1:'w',2:'r',3:'4'}\n",
    "'r' in d.values()"
   ]
  },
  {
   "cell_type": "code",
   "execution_count": 7,
   "metadata": {},
   "outputs": [
    {
     "name": "stdout",
     "output_type": "stream",
     "text": [
      "1\n",
      "2\n",
      "3\n",
      "4\n",
      "5\n"
     ]
    },
    {
     "data": {
      "text/plain": [
       "5"
      ]
     },
     "execution_count": 7,
     "metadata": {},
     "output_type": "execute_result"
    }
   ],
   "source": [
    "for j in Counter([1,2,3,4,5]):\n",
    "    print(j)\n",
    "    \n",
    "len(Counter([1,2,3,4,5]))"
   ]
  },
  {
   "cell_type": "code",
   "execution_count": 8,
   "metadata": {},
   "outputs": [
    {
     "data": {
      "text/plain": [
       "[4, 5]"
      ]
     },
     "execution_count": 8,
     "metadata": {},
     "output_type": "execute_result"
    }
   ],
   "source": [
    "[1,2,3,4,5][-2:]"
   ]
  },
  {
   "cell_type": "code",
   "execution_count": 13,
   "metadata": {},
   "outputs": [
    {
     "data": {
      "text/plain": [
       "-3"
      ]
     },
     "execution_count": 13,
     "metadata": {},
     "output_type": "execute_result"
    }
   ],
   "source": [
    "-(7//2)"
   ]
  },
  {
   "cell_type": "code",
   "execution_count": 14,
   "metadata": {},
   "outputs": [],
   "source": [
    "from collections import Counter\n",
    "\n",
    "# Complete the substrCount function below.\n",
    "def substrCount(n, s):\n",
    "    substrCollection = {}\n",
    "    count = 0\n",
    "\n",
    "    for i in range(n):\n",
    "        strlength = i+1\n",
    "        substrCollection[strlength] = [s[start:start+strlength] for start in range(n-i)]\n",
    "\n",
    "    for i in range(n):\n",
    "        sameLengthCounter = Counter(substrCollection[i+1])\n",
    "        for j in sameLengthCounter:\n",
    "            if i+1 % 2:\n",
    "                if (len(Counter(j)) == 1 or\n",
    "                    len(Counter(j[:i//2]+j[-(i//2):])) == 1):\n",
    "                    count += sameLengthCounter[j]\n",
    "            elif len(Counter(j)) == 1:\n",
    "                count += sameLengthCounter[j]\n",
    "    \n",
    "    return count"
   ]
  },
  {
   "cell_type": "code",
   "execution_count": 15,
   "metadata": {},
   "outputs": [
    {
     "data": {
      "text/plain": [
       "10"
      ]
     },
     "execution_count": 15,
     "metadata": {},
     "output_type": "execute_result"
    }
   ],
   "source": [
    "n = 7\n",
    "s = 'abcbaba'\n",
    "# 10\n",
    "substrCount(n, s)"
   ]
  },
  {
   "cell_type": "code",
   "execution_count": null,
   "metadata": {},
   "outputs": [],
   "source": []
  }
 ],
 "metadata": {
  "kernelspec": {
   "display_name": "Python 3",
   "language": "python",
   "name": "python3"
  },
  "language_info": {
   "codemirror_mode": {
    "name": "ipython",
    "version": 3
   },
   "file_extension": ".py",
   "mimetype": "text/x-python",
   "name": "python",
   "nbconvert_exporter": "python",
   "pygments_lexer": "ipython3",
   "version": "3.7.7"
  }
 },
 "nbformat": 4,
 "nbformat_minor": 4
}
