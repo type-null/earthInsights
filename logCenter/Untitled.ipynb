{
 "cells": [
  {
   "cell_type": "code",
   "execution_count": 3,
   "id": "understanding-proof",
   "metadata": {},
   "outputs": [
    {
     "data": {
      "text/plain": [
       "Counter({4: 1, 10: 1, 50: 1, 30: 2})"
      ]
     },
     "execution_count": 3,
     "metadata": {},
     "output_type": "execute_result"
    }
   ],
   "source": [
    "from collections import Counter\n",
    "\n",
    "songs = [4, 10, 50, 30, 90]\n",
    "\n",
    "tmp = []\n",
    "\n",
    "for song in songs:\n",
    "    tmp.append(song%60)\n",
    "    \n",
    "Counter(tmp)"
   ]
  },
  {
   "cell_type": "code",
   "execution_count": 4,
   "id": "dense-discovery",
   "metadata": {},
   "outputs": [
    {
     "data": {
      "text/plain": [
       "[(4, 1), (10, 1), (30, 2), (50, 1)]"
      ]
     },
     "execution_count": 4,
     "metadata": {},
     "output_type": "execute_result"
    }
   ],
   "source": [
    "count = Counter(tmp)\n",
    "\n",
    "sorted(count.items())"
   ]
  },
  {
   "cell_type": "code",
   "execution_count": 10,
   "id": "planned-skill",
   "metadata": {},
   "outputs": [
    {
     "data": {
      "text/plain": [
       "2"
      ]
     },
     "execution_count": 10,
     "metadata": {},
     "output_type": "execute_result"
    }
   ],
   "source": [
    "pair = 0\n",
    "\n",
    "for k,v in sorted(count.items()):\n",
    "    if k==0 or k==30:\n",
    "        pair += (v*(v-1)) // 2\n",
    "    elif k < 30:\n",
    "        if (60-k) in count.keys():\n",
    "            pair += count[60-k] * v\n",
    "\n",
    "pair"
   ]
  },
  {
   "cell_type": "code",
   "execution_count": 8,
   "id": "divided-export",
   "metadata": {},
   "outputs": [
    {
     "data": {
      "text/plain": [
       "3"
      ]
     },
     "execution_count": 8,
     "metadata": {},
     "output_type": "execute_result"
    }
   ],
   "source": [
    "6//2"
   ]
  },
  {
   "cell_type": "code",
   "execution_count": null,
   "id": "improved-christianity",
   "metadata": {},
   "outputs": [],
   "source": []
  }
 ],
 "metadata": {
  "kernelspec": {
   "display_name": "Python 3",
   "language": "python",
   "name": "python3"
  },
  "language_info": {
   "codemirror_mode": {
    "name": "ipython",
    "version": 3
   },
   "file_extension": ".py",
   "mimetype": "text/x-python",
   "name": "python",
   "nbconvert_exporter": "python",
   "pygments_lexer": "ipython3",
   "version": "3.7.9"
  }
 },
 "nbformat": 4,
 "nbformat_minor": 5
}
