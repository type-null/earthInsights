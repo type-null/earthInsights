{
 "cells": [
  {
   "cell_type": "markdown",
   "metadata": {},
   "source": [
    "# Lecture 3"
   ]
  },
  {
   "cell_type": "code",
   "execution_count": 2,
   "metadata": {},
   "outputs": [],
   "source": [
    "%matplotlib inline\n",
    "import matplotlib.pyplot as plt\n",
    "import seaborn as sns\n",
    "import numpy as np\n",
    "import pandas as pd\n",
    "\n",
    "sns.set()\n",
    "sns.set_context('talk')\n",
    "np.set_printoptions(threshold=20, precision=2, suppress=True)\n",
    "pd.options.display.max_rows = 7\n",
    "pd.options.display.max_columns = 8\n",
    "pd.set_option('precision', 2)\n",
    "# This option stops scientific notation for pandas\n",
    "# pd.set_option('display.float_format', '{:.2f}'.format)"
   ]
  },
  {
   "cell_type": "markdown",
   "metadata": {},
   "source": [
    "## Clarification on Indices"
   ]
  },
  {
   "cell_type": "code",
   "execution_count": 4,
   "metadata": {},
   "outputs": [
    {
     "data": {
      "text/html": [
       "<div>\n",
       "<style scoped>\n",
       "    .dataframe tbody tr th:only-of-type {\n",
       "        vertical-align: middle;\n",
       "    }\n",
       "\n",
       "    .dataframe tbody tr th {\n",
       "        vertical-align: top;\n",
       "    }\n",
       "\n",
       "    .dataframe thead th {\n",
       "        text-align: right;\n",
       "    }\n",
       "</style>\n",
       "<table border=\"1\" class=\"dataframe\">\n",
       "  <thead>\n",
       "    <tr style=\"text-align: right;\">\n",
       "      <th></th>\n",
       "      <th>Motto</th>\n",
       "      <th>Translation</th>\n",
       "      <th>Language</th>\n",
       "      <th>Date Adopted</th>\n",
       "    </tr>\n",
       "    <tr>\n",
       "      <th>State</th>\n",
       "      <th></th>\n",
       "      <th></th>\n",
       "      <th></th>\n",
       "      <th></th>\n",
       "    </tr>\n",
       "  </thead>\n",
       "  <tbody>\n",
       "    <tr>\n",
       "      <th>Alabama</th>\n",
       "      <td>Audemus jura nostra defendere</td>\n",
       "      <td>We dare defend our rights!</td>\n",
       "      <td>Latin</td>\n",
       "      <td>1923</td>\n",
       "    </tr>\n",
       "    <tr>\n",
       "      <th>Alaska</th>\n",
       "      <td>North to the future</td>\n",
       "      <td>—</td>\n",
       "      <td>English</td>\n",
       "      <td>1967</td>\n",
       "    </tr>\n",
       "    <tr>\n",
       "      <th>Arizona</th>\n",
       "      <td>Ditat Deus</td>\n",
       "      <td>God enriches</td>\n",
       "      <td>Latin</td>\n",
       "      <td>1863</td>\n",
       "    </tr>\n",
       "    <tr>\n",
       "      <th>...</th>\n",
       "      <td>...</td>\n",
       "      <td>...</td>\n",
       "      <td>...</td>\n",
       "      <td>...</td>\n",
       "    </tr>\n",
       "    <tr>\n",
       "      <th>West Virginia</th>\n",
       "      <td>Montani semper liberi</td>\n",
       "      <td>Mountaineers are always free</td>\n",
       "      <td>Latin</td>\n",
       "      <td>September 26, 1863</td>\n",
       "    </tr>\n",
       "    <tr>\n",
       "      <th>Wisconsin</th>\n",
       "      <td>Forward</td>\n",
       "      <td>—</td>\n",
       "      <td>English</td>\n",
       "      <td>1851</td>\n",
       "    </tr>\n",
       "    <tr>\n",
       "      <th>Wyoming</th>\n",
       "      <td>Equal Rights</td>\n",
       "      <td>—</td>\n",
       "      <td>English</td>\n",
       "      <td>1893</td>\n",
       "    </tr>\n",
       "  </tbody>\n",
       "</table>\n",
       "<p>50 rows × 4 columns</p>\n",
       "</div>"
      ],
      "text/plain": [
       "                                       Motto                   Translation  \\\n",
       "State                                                                        \n",
       "Alabama        Audemus jura nostra defendere    We dare defend our rights!   \n",
       "Alaska                   North to the future                             —   \n",
       "Arizona                           Ditat Deus                  God enriches   \n",
       "...                                      ...                           ...   \n",
       "West Virginia          Montani semper liberi  Mountaineers are always free   \n",
       "Wisconsin                            Forward                             —   \n",
       "Wyoming                         Equal Rights                             —   \n",
       "\n",
       "              Language        Date Adopted  \n",
       "State                                       \n",
       "Alabama          Latin                1923  \n",
       "Alaska         English                1967  \n",
       "Arizona          Latin                1863  \n",
       "...                ...                 ...  \n",
       "West Virginia    Latin  September 26, 1863  \n",
       "Wisconsin      English                1851  \n",
       "Wyoming        English                1893  \n",
       "\n",
       "[50 rows x 4 columns]"
      ]
     },
     "execution_count": 4,
     "metadata": {},
     "output_type": "execute_result"
    }
   ],
   "source": [
    "mottos = pd.read_csv('mottos.csv', index_col='State')\n",
    "mottos"
   ]
  },
  {
   "cell_type": "code",
   "execution_count": 9,
   "metadata": {},
   "outputs": [
    {
     "data": {
      "text/plain": [
       "'God enriches'"
      ]
     },
     "execution_count": 9,
     "metadata": {},
     "output_type": "execute_result"
    }
   ],
   "source": [
    "mottos.loc['Arizona', 'Translation']"
   ]
  },
  {
   "cell_type": "code",
   "execution_count": 11,
   "metadata": {},
   "outputs": [
    {
     "data": {
      "text/plain": [
       "'God enriches'"
      ]
     },
     "execution_count": 11,
     "metadata": {},
     "output_type": "execute_result"
    }
   ],
   "source": [
    "mottos.iloc[2, 1] # Gets element at row position 2 and column position 1"
   ]
  },
  {
   "cell_type": "markdown",
   "metadata": {},
   "source": [
    "# An Overview of Pandas GroupBy"
   ]
  },
  {
   "cell_type": "markdown",
   "metadata": {},
   "source": [
    "This exercise is inspired by Wes McKinney's [Python for Data Analysis](http://proquest.safaribooksonline.com.libproxy.berkeley.edu/book/programming/python/9781491957653)."
   ]
  },
  {
   "cell_type": "code",
   "execution_count": 14,
   "metadata": {},
   "outputs": [
    {
     "data": {
      "text/html": [
       "<div>\n",
       "<style scoped>\n",
       "    .dataframe tbody tr th:only-of-type {\n",
       "        vertical-align: middle;\n",
       "    }\n",
       "\n",
       "    .dataframe tbody tr th {\n",
       "        vertical-align: top;\n",
       "    }\n",
       "\n",
       "    .dataframe thead th {\n",
       "        text-align: right;\n",
       "    }\n",
       "</style>\n",
       "<table border=\"1\" class=\"dataframe\">\n",
       "  <thead>\n",
       "    <tr style=\"text-align: right;\">\n",
       "      <th></th>\n",
       "      <th>Candidate</th>\n",
       "      <th>Party</th>\n",
       "      <th>%</th>\n",
       "      <th>Year</th>\n",
       "      <th>Result</th>\n",
       "    </tr>\n",
       "  </thead>\n",
       "  <tbody>\n",
       "    <tr>\n",
       "      <th>0</th>\n",
       "      <td>Reagan</td>\n",
       "      <td>Republican</td>\n",
       "      <td>50.7</td>\n",
       "      <td>1980</td>\n",
       "      <td>win</td>\n",
       "    </tr>\n",
       "    <tr>\n",
       "      <th>1</th>\n",
       "      <td>Carter</td>\n",
       "      <td>Democratic</td>\n",
       "      <td>41.0</td>\n",
       "      <td>1980</td>\n",
       "      <td>loss</td>\n",
       "    </tr>\n",
       "    <tr>\n",
       "      <th>2</th>\n",
       "      <td>Anderson</td>\n",
       "      <td>Independent</td>\n",
       "      <td>6.6</td>\n",
       "      <td>1980</td>\n",
       "      <td>loss</td>\n",
       "    </tr>\n",
       "    <tr>\n",
       "      <th>...</th>\n",
       "      <td>...</td>\n",
       "      <td>...</td>\n",
       "      <td>...</td>\n",
       "      <td>...</td>\n",
       "      <td>...</td>\n",
       "    </tr>\n",
       "    <tr>\n",
       "      <th>20</th>\n",
       "      <td>Romney</td>\n",
       "      <td>Republican</td>\n",
       "      <td>47.2</td>\n",
       "      <td>2012</td>\n",
       "      <td>loss</td>\n",
       "    </tr>\n",
       "    <tr>\n",
       "      <th>21</th>\n",
       "      <td>Clinton</td>\n",
       "      <td>Democratic</td>\n",
       "      <td>48.2</td>\n",
       "      <td>2016</td>\n",
       "      <td>loss</td>\n",
       "    </tr>\n",
       "    <tr>\n",
       "      <th>22</th>\n",
       "      <td>Trump</td>\n",
       "      <td>Republican</td>\n",
       "      <td>46.1</td>\n",
       "      <td>2016</td>\n",
       "      <td>win</td>\n",
       "    </tr>\n",
       "  </tbody>\n",
       "</table>\n",
       "<p>23 rows × 5 columns</p>\n",
       "</div>"
      ],
      "text/plain": [
       "   Candidate        Party     %  Year Result\n",
       "0     Reagan   Republican  50.7  1980    win\n",
       "1     Carter   Democratic  41.0  1980   loss\n",
       "2   Anderson  Independent   6.6  1980   loss\n",
       "..       ...          ...   ...   ...    ...\n",
       "20    Romney   Republican  47.2  2012   loss\n",
       "21   Clinton   Democratic  48.2  2016   loss\n",
       "22     Trump   Republican  46.1  2016    win\n",
       "\n",
       "[23 rows x 5 columns]"
      ]
     },
     "execution_count": 14,
     "metadata": {},
     "output_type": "execute_result"
    }
   ],
   "source": [
    "df = pd.read_csv(\"elections.csv\")\n",
    "df"
   ]
  },
  {
   "cell_type": "markdown",
   "metadata": {},
   "source": [
    "## Grouping a Series by a Series"
   ]
  },
  {
   "cell_type": "markdown",
   "metadata": {},
   "source": [
    "Let's group the `%` Series by the `Party` Series. A call to [`groupby`](https://pandas.pydata.org/pandas-docs/stable/generated/pandas.DataFrame.groupby.html) does that, but what is the object that results?"
   ]
  },
  {
   "cell_type": "code",
   "execution_count": 15,
   "metadata": {},
   "outputs": [
    {
     "data": {
      "text/plain": [
       "pandas.core.groupby.generic.SeriesGroupBy"
      ]
     },
     "execution_count": 15,
     "metadata": {},
     "output_type": "execute_result"
    }
   ],
   "source": [
    "percent_grouped_by_party = df['%'].groupby(df['Party'])\n",
    "type(percent_grouped_by_party)"
   ]
  },
  {
   "cell_type": "markdown",
   "metadata": {},
   "source": [
    "As we see, `percent_grouped_by_party` is **NOT** a DataFrame, Series, or Index. Instead, it's a `SeriesGroupBy` object. A `SeriesGroupBy` consists of `groups`, one for each of the distinct values of the `Party` column. If we ask to see these groups, we'll be able to see which indices in the original DataFrame correspond to each group."
   ]
  },
  {
   "cell_type": "code",
   "execution_count": 16,
   "metadata": {},
   "outputs": [
    {
     "data": {
      "text/plain": [
       "{'Democratic': Int64Index([1, 4, 6, 7, 10, 13, 15, 17, 19, 21], dtype='int64'),\n",
       " 'Independent': Int64Index([2, 9, 12], dtype='int64'),\n",
       " 'Republican': Int64Index([0, 3, 5, 8, 11, 14, 16, 18, 20, 22], dtype='int64')}"
      ]
     },
     "execution_count": 16,
     "metadata": {},
     "output_type": "execute_result"
    }
   ],
   "source": [
    "percent_grouped_by_party.groups"
   ]
  },
  {
   "cell_type": "markdown",
   "metadata": {},
   "source": [
    "The `percent_grouped_by_party` object is capable of making computations across all these groups. For example, if we call the `mean` method of the `SeriesGroupBy` class, we'll get a new `Series` containing the mean of the \"Democratic\" `Series`, the mean of the \"Independent\" `Series`, and the mean of the \"Republican\" `Series`."
   ]
  },
  {
   "cell_type": "code",
   "execution_count": 17,
   "metadata": {
    "scrolled": true
   },
   "outputs": [
    {
     "data": {
      "text/plain": [
       "Party\n",
       "Democratic     46.53\n",
       "Independent    11.30\n",
       "Republican     47.86\n",
       "Name: %, dtype: float64"
      ]
     },
     "execution_count": 17,
     "metadata": {},
     "output_type": "execute_result"
    }
   ],
   "source": [
    "percent_grouped_by_party.mean()"
   ]
  },
  {
   "cell_type": "markdown",
   "metadata": {},
   "source": [
    "The output of the `mean` methood is a regular ole pandas Series."
   ]
  },
  {
   "cell_type": "code",
   "execution_count": 18,
   "metadata": {
    "scrolled": true
   },
   "outputs": [
    {
     "data": {
      "text/plain": [
       "pandas.core.series.Series"
      ]
     },
     "execution_count": 18,
     "metadata": {},
     "output_type": "execute_result"
    }
   ],
   "source": [
    "type(percent_grouped_by_party.mean())"
   ]
  },
  {
   "cell_type": "markdown",
   "metadata": {},
   "source": [
    "`SeriesGroupBy` objects have many other handy methods, e.g. max and min."
   ]
  },
  {
   "cell_type": "code",
   "execution_count": 19,
   "metadata": {},
   "outputs": [
    {
     "data": {
      "text/plain": [
       "Party\n",
       "Democratic     52.9\n",
       "Independent    18.9\n",
       "Republican     58.8\n",
       "Name: %, dtype: float64"
      ]
     },
     "execution_count": 19,
     "metadata": {},
     "output_type": "execute_result"
    }
   ],
   "source": [
    "percent_grouped_by_party.max()"
   ]
  },
  {
   "cell_type": "code",
   "execution_count": 20,
   "metadata": {},
   "outputs": [
    {
     "data": {
      "text/plain": [
       "Party\n",
       "Democratic     37.6\n",
       "Independent     6.6\n",
       "Republican     37.4\n",
       "Name: %, dtype: float64"
      ]
     },
     "execution_count": 20,
     "metadata": {},
     "output_type": "execute_result"
    }
   ],
   "source": [
    "percent_grouped_by_party.min()"
   ]
  },
  {
   "cell_type": "code",
   "execution_count": 21,
   "metadata": {},
   "outputs": [
    {
     "data": {
      "text/plain": [
       "Party\n",
       "Democratic     10\n",
       "Independent     3\n",
       "Republican     10\n",
       "Name: %, dtype: int64"
      ]
     },
     "execution_count": 21,
     "metadata": {},
     "output_type": "execute_result"
    }
   ],
   "source": [
    "percent_grouped_by_party.size()"
   ]
  },
  {
   "cell_type": "code",
   "execution_count": 22,
   "metadata": {
    "scrolled": true
   },
   "outputs": [
    {
     "data": {
      "text/plain": [
       "Party\n",
       "Democratic     41.0\n",
       "Independent     6.6\n",
       "Republican     50.7\n",
       "Name: %, dtype: float64"
      ]
     },
     "execution_count": 22,
     "metadata": {},
     "output_type": "execute_result"
    }
   ],
   "source": [
    "percent_grouped_by_party.first()"
   ]
  },
  {
   "cell_type": "markdown",
   "metadata": {},
   "source": [
    "We can iterate over a `SeriesGroupBy` object. Each element is a pair of `(name, group)`, where `name` is a String label for the group, and `group` is a `Series` corresponding to all the values from that group."
   ]
  },
  {
   "cell_type": "code",
   "execution_count": 23,
   "metadata": {},
   "outputs": [
    {
     "name": "stdout",
     "output_type": "stream",
     "text": [
      "Name: Democratic\n",
      "<class 'pandas.core.series.Series'>\n"
     ]
    },
    {
     "data": {
      "text/plain": [
       "1     41.0\n",
       "4     37.6\n",
       "6     45.6\n",
       "7     43.0\n",
       "10    49.2\n",
       "Name: %, dtype: float64"
      ]
     },
     "metadata": {},
     "output_type": "display_data"
    },
    {
     "name": "stdout",
     "output_type": "stream",
     "text": [
      "\n",
      "\n",
      "Name: Independent\n",
      "<class 'pandas.core.series.Series'>\n"
     ]
    },
    {
     "data": {
      "text/plain": [
       "2      6.6\n",
       "9     18.9\n",
       "12     8.4\n",
       "Name: %, dtype: float64"
      ]
     },
     "metadata": {},
     "output_type": "display_data"
    },
    {
     "name": "stdout",
     "output_type": "stream",
     "text": [
      "\n",
      "\n",
      "Name: Republican\n",
      "<class 'pandas.core.series.Series'>\n"
     ]
    },
    {
     "data": {
      "text/plain": [
       "0     50.7\n",
       "3     58.8\n",
       "5     53.4\n",
       "8     37.4\n",
       "11    40.7\n",
       "Name: %, dtype: float64"
      ]
     },
     "metadata": {},
     "output_type": "display_data"
    },
    {
     "name": "stdout",
     "output_type": "stream",
     "text": [
      "\n",
      "\n"
     ]
    }
   ],
   "source": [
    "from IPython.display import display  # like print, but for complex objects\n",
    "\n",
    "for name, group in percent_grouped_by_party:\n",
    "    print('Name:', name)\n",
    "    print(type(group))\n",
    "    display(group.head())\n",
    "    print('\\n')"
   ]
  },
  {
   "cell_type": "markdown",
   "metadata": {},
   "source": [
    "## Grouping a Series by Multiple Series"
   ]
  },
  {
   "cell_type": "markdown",
   "metadata": {},
   "source": [
    "We can also group a Series by multiple Series. For example, suppose we want to track all combinations of `{'Democratic', 'Republican', and 'Independent'}` and `{'win', 'loss'}`. "
   ]
  },
  {
   "cell_type": "code",
   "execution_count": 44,
   "metadata": {
    "scrolled": true
   },
   "outputs": [
    {
     "data": {
      "text/plain": [
       "{('Democratic', 'loss'): Int64Index([1, 4, 6, 13, 15, 21], dtype='int64'),\n",
       " ('Democratic', 'win'): Int64Index([7, 10, 17, 19], dtype='int64'),\n",
       " ('Independent', 'loss'): Int64Index([2, 9, 12], dtype='int64'),\n",
       " ('Republican', 'loss'): Int64Index([8, 11, 18, 20], dtype='int64'),\n",
       " ('Republican', 'win'): Int64Index([0, 3, 5, 14, 16, 22], dtype='int64')}"
      ]
     },
     "execution_count": 44,
     "metadata": {},
     "output_type": "execute_result"
    }
   ],
   "source": [
    "percent_grouped_by_party_and_result = df['%'].groupby([df['Party'], df['Result']])\n",
    "percent_grouped_by_party_and_result.groups"
   ]
  },
  {
   "cell_type": "markdown",
   "metadata": {},
   "source": [
    "Given this groupby object, we can compute the average percentage earned every time each of the parties won and lost the presidential election. We see that at least between 1980 and 2016, the Republicans have typically lost and won their elections by wider margins."
   ]
  },
  {
   "cell_type": "code",
   "execution_count": 45,
   "metadata": {},
   "outputs": [
    {
     "data": {
      "text/plain": [
       "Party        Result\n",
       "Democratic   loss      44.85\n",
       "             win       49.05\n",
       "Independent  loss      11.30\n",
       "Republican   loss      42.75\n",
       "             win       51.27\n",
       "Name: %, dtype: float64"
      ]
     },
     "execution_count": 45,
     "metadata": {},
     "output_type": "execute_result"
    }
   ],
   "source": [
    "party_result_mean = percent_grouped_by_party_and_result.mean()\n",
    "party_result_mean"
   ]
  },
  {
   "cell_type": "markdown",
   "metadata": {},
   "source": [
    "The careful reader will note that the returned object looks a little funny. It seems to have two indexes! If we check the type of this object, we'll see it's just a regular Series."
   ]
  },
  {
   "cell_type": "code",
   "execution_count": 46,
   "metadata": {},
   "outputs": [
    {
     "data": {
      "text/plain": [
       "pandas.core.series.Series"
      ]
     },
     "execution_count": 46,
     "metadata": {},
     "output_type": "execute_result"
    }
   ],
   "source": [
    "type(party_result_mean)"
   ]
  },
  {
   "cell_type": "markdown",
   "metadata": {},
   "source": [
    "However if we request to see the index of this `Series`, we see that it is a \"MultiIndex\", which is a special type of index used for data that is indexed in two or more ways."
   ]
  },
  {
   "cell_type": "code",
   "execution_count": 47,
   "metadata": {},
   "outputs": [
    {
     "data": {
      "text/plain": [
       "MultiIndex(levels=[['Democratic', 'Independent', 'Republican'], ['loss', 'win']],\n",
       "           codes=[[0, 0, 1, 2, 2], [0, 1, 0, 0, 1]],\n",
       "           names=['Party', 'Result'])"
      ]
     },
     "execution_count": 47,
     "metadata": {},
     "output_type": "execute_result"
    }
   ],
   "source": [
    "party_result_mean.index"
   ]
  },
  {
   "cell_type": "markdown",
   "metadata": {},
   "source": [
    "Selecting an element of a multi-index gives you a series with just an index."
   ]
  },
  {
   "cell_type": "code",
   "execution_count": 48,
   "metadata": {},
   "outputs": [
    {
     "data": {
      "text/plain": [
       "Result\n",
       "loss    42.75\n",
       "win     51.27\n",
       "Name: %, dtype: float64"
      ]
     },
     "execution_count": 48,
     "metadata": {},
     "output_type": "execute_result"
    }
   ],
   "source": [
    "party_result_mean['Republican']"
   ]
  },
  {
   "cell_type": "markdown",
   "metadata": {},
   "source": [
    "Or you can select both levels at once."
   ]
  },
  {
   "cell_type": "code",
   "execution_count": 49,
   "metadata": {},
   "outputs": [
    {
     "data": {
      "text/plain": [
       "49.05"
      ]
     },
     "execution_count": 49,
     "metadata": {},
     "output_type": "execute_result"
    }
   ],
   "source": [
    "party_result_mean['Democratic', 'win']"
   ]
  },
  {
   "cell_type": "markdown",
   "metadata": {},
   "source": [
    "Or you can slice."
   ]
  },
  {
   "cell_type": "code",
   "execution_count": 50,
   "metadata": {},
   "outputs": [
    {
     "data": {
      "text/plain": [
       "Party\n",
       "Democratic     44.85\n",
       "Independent    11.30\n",
       "Republican     42.75\n",
       "Name: %, dtype: float64"
      ]
     },
     "execution_count": 50,
     "metadata": {},
     "output_type": "execute_result"
    }
   ],
   "source": [
    "party_result_mean[:, \"loss\"]"
   ]
  },
  {
   "cell_type": "markdown",
   "metadata": {},
   "source": [
    "## Grouping a DataFrame by a Series"
   ]
  },
  {
   "cell_type": "markdown",
   "metadata": {},
   "source": [
    "We can also group an entire dataframe by one or more Series. The result is a `DataFrameGroupBy` object:"
   ]
  },
  {
   "cell_type": "code",
   "execution_count": 51,
   "metadata": {},
   "outputs": [
    {
     "data": {
      "text/plain": [
       "<pandas.core.groupby.generic.DataFrameGroupBy object at 0x10c152828>"
      ]
     },
     "execution_count": 51,
     "metadata": {},
     "output_type": "execute_result"
    }
   ],
   "source": [
    "everything_grouped_by_party = df.groupby('Party')\n",
    "everything_grouped_by_party"
   ]
  },
  {
   "cell_type": "markdown",
   "metadata": {},
   "source": [
    "As in our previous example, this object contains three `group` objects, one for each party label."
   ]
  },
  {
   "cell_type": "code",
   "execution_count": 52,
   "metadata": {
    "scrolled": false
   },
   "outputs": [
    {
     "data": {
      "text/plain": [
       "{'Democratic': Int64Index([1, 4, 6, 7, 10, 13, 15, 17, 19, 21], dtype='int64'),\n",
       " 'Independent': Int64Index([2, 9, 12], dtype='int64'),\n",
       " 'Republican': Int64Index([0, 3, 5, 8, 11, 14, 16, 18, 20, 22], dtype='int64')}"
      ]
     },
     "execution_count": 52,
     "metadata": {},
     "output_type": "execute_result"
    }
   ],
   "source": [
    "everything_grouped_by_party.groups"
   ]
  },
  {
   "cell_type": "markdown",
   "metadata": {},
   "source": [
    "Just as with `SeriesGroupBy` objects, we can iterate over a `DataFrameGroupBy` object to understand what is effectively inside."
   ]
  },
  {
   "cell_type": "code",
   "execution_count": 53,
   "metadata": {},
   "outputs": [
    {
     "name": "stdout",
     "output_type": "stream",
     "text": [
      "name: Democratic\n"
     ]
    },
    {
     "data": {
      "text/html": [
       "<div>\n",
       "<style scoped>\n",
       "    .dataframe tbody tr th:only-of-type {\n",
       "        vertical-align: middle;\n",
       "    }\n",
       "\n",
       "    .dataframe tbody tr th {\n",
       "        vertical-align: top;\n",
       "    }\n",
       "\n",
       "    .dataframe thead th {\n",
       "        text-align: right;\n",
       "    }\n",
       "</style>\n",
       "<table border=\"1\" class=\"dataframe\">\n",
       "  <thead>\n",
       "    <tr style=\"text-align: right;\">\n",
       "      <th></th>\n",
       "      <th>Candidate</th>\n",
       "      <th>Party</th>\n",
       "      <th>%</th>\n",
       "      <th>Year</th>\n",
       "      <th>Result</th>\n",
       "    </tr>\n",
       "  </thead>\n",
       "  <tbody>\n",
       "    <tr>\n",
       "      <th>1</th>\n",
       "      <td>Carter</td>\n",
       "      <td>Democratic</td>\n",
       "      <td>41.0</td>\n",
       "      <td>1980</td>\n",
       "      <td>loss</td>\n",
       "    </tr>\n",
       "    <tr>\n",
       "      <th>4</th>\n",
       "      <td>Mondale</td>\n",
       "      <td>Democratic</td>\n",
       "      <td>37.6</td>\n",
       "      <td>1984</td>\n",
       "      <td>loss</td>\n",
       "    </tr>\n",
       "    <tr>\n",
       "      <th>6</th>\n",
       "      <td>Dukakis</td>\n",
       "      <td>Democratic</td>\n",
       "      <td>45.6</td>\n",
       "      <td>1988</td>\n",
       "      <td>loss</td>\n",
       "    </tr>\n",
       "    <tr>\n",
       "      <th>7</th>\n",
       "      <td>Clinton</td>\n",
       "      <td>Democratic</td>\n",
       "      <td>43.0</td>\n",
       "      <td>1992</td>\n",
       "      <td>win</td>\n",
       "    </tr>\n",
       "    <tr>\n",
       "      <th>10</th>\n",
       "      <td>Clinton</td>\n",
       "      <td>Democratic</td>\n",
       "      <td>49.2</td>\n",
       "      <td>1996</td>\n",
       "      <td>win</td>\n",
       "    </tr>\n",
       "  </tbody>\n",
       "</table>\n",
       "</div>"
      ],
      "text/plain": [
       "   Candidate       Party     %  Year Result\n",
       "1     Carter  Democratic  41.0  1980   loss\n",
       "4    Mondale  Democratic  37.6  1984   loss\n",
       "6    Dukakis  Democratic  45.6  1988   loss\n",
       "7    Clinton  Democratic  43.0  1992    win\n",
       "10   Clinton  Democratic  49.2  1996    win"
      ]
     },
     "metadata": {},
     "output_type": "display_data"
    },
    {
     "name": "stdout",
     "output_type": "stream",
     "text": [
      "name: Independent\n"
     ]
    },
    {
     "data": {
      "text/html": [
       "<div>\n",
       "<style scoped>\n",
       "    .dataframe tbody tr th:only-of-type {\n",
       "        vertical-align: middle;\n",
       "    }\n",
       "\n",
       "    .dataframe tbody tr th {\n",
       "        vertical-align: top;\n",
       "    }\n",
       "\n",
       "    .dataframe thead th {\n",
       "        text-align: right;\n",
       "    }\n",
       "</style>\n",
       "<table border=\"1\" class=\"dataframe\">\n",
       "  <thead>\n",
       "    <tr style=\"text-align: right;\">\n",
       "      <th></th>\n",
       "      <th>Candidate</th>\n",
       "      <th>Party</th>\n",
       "      <th>%</th>\n",
       "      <th>Year</th>\n",
       "      <th>Result</th>\n",
       "    </tr>\n",
       "  </thead>\n",
       "  <tbody>\n",
       "    <tr>\n",
       "      <th>2</th>\n",
       "      <td>Anderson</td>\n",
       "      <td>Independent</td>\n",
       "      <td>6.6</td>\n",
       "      <td>1980</td>\n",
       "      <td>loss</td>\n",
       "    </tr>\n",
       "    <tr>\n",
       "      <th>9</th>\n",
       "      <td>Perot</td>\n",
       "      <td>Independent</td>\n",
       "      <td>18.9</td>\n",
       "      <td>1992</td>\n",
       "      <td>loss</td>\n",
       "    </tr>\n",
       "    <tr>\n",
       "      <th>12</th>\n",
       "      <td>Perot</td>\n",
       "      <td>Independent</td>\n",
       "      <td>8.4</td>\n",
       "      <td>1996</td>\n",
       "      <td>loss</td>\n",
       "    </tr>\n",
       "  </tbody>\n",
       "</table>\n",
       "</div>"
      ],
      "text/plain": [
       "   Candidate        Party     %  Year Result\n",
       "2   Anderson  Independent   6.6  1980   loss\n",
       "9      Perot  Independent  18.9  1992   loss\n",
       "12     Perot  Independent   8.4  1996   loss"
      ]
     },
     "metadata": {},
     "output_type": "display_data"
    },
    {
     "name": "stdout",
     "output_type": "stream",
     "text": [
      "name: Republican\n"
     ]
    },
    {
     "data": {
      "text/html": [
       "<div>\n",
       "<style scoped>\n",
       "    .dataframe tbody tr th:only-of-type {\n",
       "        vertical-align: middle;\n",
       "    }\n",
       "\n",
       "    .dataframe tbody tr th {\n",
       "        vertical-align: top;\n",
       "    }\n",
       "\n",
       "    .dataframe thead th {\n",
       "        text-align: right;\n",
       "    }\n",
       "</style>\n",
       "<table border=\"1\" class=\"dataframe\">\n",
       "  <thead>\n",
       "    <tr style=\"text-align: right;\">\n",
       "      <th></th>\n",
       "      <th>Candidate</th>\n",
       "      <th>Party</th>\n",
       "      <th>%</th>\n",
       "      <th>Year</th>\n",
       "      <th>Result</th>\n",
       "    </tr>\n",
       "  </thead>\n",
       "  <tbody>\n",
       "    <tr>\n",
       "      <th>0</th>\n",
       "      <td>Reagan</td>\n",
       "      <td>Republican</td>\n",
       "      <td>50.7</td>\n",
       "      <td>1980</td>\n",
       "      <td>win</td>\n",
       "    </tr>\n",
       "    <tr>\n",
       "      <th>3</th>\n",
       "      <td>Reagan</td>\n",
       "      <td>Republican</td>\n",
       "      <td>58.8</td>\n",
       "      <td>1984</td>\n",
       "      <td>win</td>\n",
       "    </tr>\n",
       "    <tr>\n",
       "      <th>5</th>\n",
       "      <td>Bush</td>\n",
       "      <td>Republican</td>\n",
       "      <td>53.4</td>\n",
       "      <td>1988</td>\n",
       "      <td>win</td>\n",
       "    </tr>\n",
       "    <tr>\n",
       "      <th>8</th>\n",
       "      <td>Bush</td>\n",
       "      <td>Republican</td>\n",
       "      <td>37.4</td>\n",
       "      <td>1992</td>\n",
       "      <td>loss</td>\n",
       "    </tr>\n",
       "    <tr>\n",
       "      <th>11</th>\n",
       "      <td>Dole</td>\n",
       "      <td>Republican</td>\n",
       "      <td>40.7</td>\n",
       "      <td>1996</td>\n",
       "      <td>loss</td>\n",
       "    </tr>\n",
       "  </tbody>\n",
       "</table>\n",
       "</div>"
      ],
      "text/plain": [
       "   Candidate       Party     %  Year Result\n",
       "0     Reagan  Republican  50.7  1980    win\n",
       "3     Reagan  Republican  58.8  1984    win\n",
       "5       Bush  Republican  53.4  1988    win\n",
       "8       Bush  Republican  37.4  1992   loss\n",
       "11      Dole  Republican  40.7  1996   loss"
      ]
     },
     "metadata": {},
     "output_type": "display_data"
    }
   ],
   "source": [
    "for n, g in everything_grouped_by_party:\n",
    "    print('name:', n)\n",
    "    display(g.head())"
   ]
  },
  {
   "cell_type": "markdown",
   "metadata": {},
   "source": [
    "And just like `SeriesGroupBy` objects, we can apply methods like `mean` to compute the mean of each group. Since a `DataFrameGroupBy` is linked to the entire original dataframe (instead of to a single column from the dataframe), we calculate a mean for every numerical column. In this example below, we get the mean vote earned (as before), and the mean year (which isn't a useful quantity)."
   ]
  },
  {
   "cell_type": "code",
   "execution_count": 54,
   "metadata": {
    "scrolled": false
   },
   "outputs": [
    {
     "data": {
      "text/html": [
       "<div>\n",
       "<style scoped>\n",
       "    .dataframe tbody tr th:only-of-type {\n",
       "        vertical-align: middle;\n",
       "    }\n",
       "\n",
       "    .dataframe tbody tr th {\n",
       "        vertical-align: top;\n",
       "    }\n",
       "\n",
       "    .dataframe thead th {\n",
       "        text-align: right;\n",
       "    }\n",
       "</style>\n",
       "<table border=\"1\" class=\"dataframe\">\n",
       "  <thead>\n",
       "    <tr style=\"text-align: right;\">\n",
       "      <th></th>\n",
       "      <th>%</th>\n",
       "      <th>Year</th>\n",
       "    </tr>\n",
       "    <tr>\n",
       "      <th>Party</th>\n",
       "      <th></th>\n",
       "      <th></th>\n",
       "    </tr>\n",
       "  </thead>\n",
       "  <tbody>\n",
       "    <tr>\n",
       "      <th>Democratic</th>\n",
       "      <td>46.53</td>\n",
       "      <td>1998.00</td>\n",
       "    </tr>\n",
       "    <tr>\n",
       "      <th>Independent</th>\n",
       "      <td>11.30</td>\n",
       "      <td>1989.33</td>\n",
       "    </tr>\n",
       "    <tr>\n",
       "      <th>Republican</th>\n",
       "      <td>47.86</td>\n",
       "      <td>1998.00</td>\n",
       "    </tr>\n",
       "  </tbody>\n",
       "</table>\n",
       "</div>"
      ],
      "text/plain": [
       "                 %     Year\n",
       "Party                      \n",
       "Democratic   46.53  1998.00\n",
       "Independent  11.30  1989.33\n",
       "Republican   47.86  1998.00"
      ]
     },
     "execution_count": 54,
     "metadata": {},
     "output_type": "execute_result"
    }
   ],
   "source": [
    "everything_grouped_by_party.mean()"
   ]
  },
  {
   "cell_type": "markdown",
   "metadata": {},
   "source": [
    "Where did all the other columns go in the mean above? They are *nuisance columns*, which get automatically eliminated from an operation where it doesn't make sense (such as a numerical mean)."
   ]
  },
  {
   "cell_type": "markdown",
   "metadata": {},
   "source": [
    "## Grouping a DataFrame by Multiple Series"
   ]
  },
  {
   "cell_type": "markdown",
   "metadata": {},
   "source": [
    "DataFrames may also be grouped by multiple series at once. For example, we can repeat what we did with a Series above and group the entire DataFrame by Party and Result. After aggregation, we end up with a DataFrame that has a MultiIndex."
   ]
  },
  {
   "cell_type": "code",
   "execution_count": 55,
   "metadata": {},
   "outputs": [],
   "source": [
    "everything_grouped_by_party_and_result=df.groupby([df['Party'], df['Result']])"
   ]
  },
  {
   "cell_type": "code",
   "execution_count": 56,
   "metadata": {},
   "outputs": [
    {
     "data": {
      "text/html": [
       "<div>\n",
       "<style scoped>\n",
       "    .dataframe tbody tr th:only-of-type {\n",
       "        vertical-align: middle;\n",
       "    }\n",
       "\n",
       "    .dataframe tbody tr th {\n",
       "        vertical-align: top;\n",
       "    }\n",
       "\n",
       "    .dataframe thead th {\n",
       "        text-align: right;\n",
       "    }\n",
       "</style>\n",
       "<table border=\"1\" class=\"dataframe\">\n",
       "  <thead>\n",
       "    <tr style=\"text-align: right;\">\n",
       "      <th></th>\n",
       "      <th></th>\n",
       "      <th>Candidate</th>\n",
       "      <th>%</th>\n",
       "      <th>Year</th>\n",
       "    </tr>\n",
       "    <tr>\n",
       "      <th>Party</th>\n",
       "      <th>Result</th>\n",
       "      <th></th>\n",
       "      <th></th>\n",
       "      <th></th>\n",
       "    </tr>\n",
       "  </thead>\n",
       "  <tbody>\n",
       "    <tr>\n",
       "      <th rowspan=\"2\" valign=\"top\">Democratic</th>\n",
       "      <th>loss</th>\n",
       "      <td>Mondale</td>\n",
       "      <td>48.4</td>\n",
       "      <td>2016</td>\n",
       "    </tr>\n",
       "    <tr>\n",
       "      <th>win</th>\n",
       "      <td>Obama</td>\n",
       "      <td>52.9</td>\n",
       "      <td>2012</td>\n",
       "    </tr>\n",
       "    <tr>\n",
       "      <th>Independent</th>\n",
       "      <th>loss</th>\n",
       "      <td>Perot</td>\n",
       "      <td>18.9</td>\n",
       "      <td>1996</td>\n",
       "    </tr>\n",
       "    <tr>\n",
       "      <th rowspan=\"2\" valign=\"top\">Republican</th>\n",
       "      <th>loss</th>\n",
       "      <td>Romney</td>\n",
       "      <td>47.2</td>\n",
       "      <td>2012</td>\n",
       "    </tr>\n",
       "    <tr>\n",
       "      <th>win</th>\n",
       "      <td>Trump</td>\n",
       "      <td>58.8</td>\n",
       "      <td>2016</td>\n",
       "    </tr>\n",
       "  </tbody>\n",
       "</table>\n",
       "</div>"
      ],
      "text/plain": [
       "                   Candidate     %  Year\n",
       "Party       Result                      \n",
       "Democratic  loss     Mondale  48.4  2016\n",
       "            win        Obama  52.9  2012\n",
       "Independent loss       Perot  18.9  1996\n",
       "Republican  loss      Romney  47.2  2012\n",
       "            win        Trump  58.8  2016"
      ]
     },
     "execution_count": 56,
     "metadata": {},
     "output_type": "execute_result"
    }
   ],
   "source": [
    "everything_grouped_by_party_and_result.max()"
   ]
  },
  {
   "cell_type": "markdown",
   "metadata": {},
   "source": [
    "The resulting DataFrame above is pretty strange. We'll observe that Walter Mondale did not run for office in 2016! Make sure you understand why this is happening, as this sort of thing is a common mistake made by people who don't fully understand how pandas works."
   ]
  },
  {
   "cell_type": "markdown",
   "metadata": {},
   "source": [
    "**Question**: How do you generate a table like the one above, except that each entry should represent all attributes of the candidate who got the maximum vote in that category? For example, the Republican Win category should feature Reagan in 1984 with 58.8% of the vote. *Hint*: Try sorting.\n",
    "\n",
    "    .\n",
    "    \n",
    "    \n",
    "    \n",
    "    \n",
    "    \n",
    "    \n",
    "    \n",
    "    \n",
    "    \n",
    "    \n",
    "    \n",
    "    \n",
    "    \n",
    "    \n",
    "    \n",
    "    ."
   ]
  },
  {
   "cell_type": "code",
   "execution_count": 57,
   "metadata": {},
   "outputs": [
    {
     "data": {
      "text/html": [
       "<div>\n",
       "<style scoped>\n",
       "    .dataframe tbody tr th:only-of-type {\n",
       "        vertical-align: middle;\n",
       "    }\n",
       "\n",
       "    .dataframe tbody tr th {\n",
       "        vertical-align: top;\n",
       "    }\n",
       "\n",
       "    .dataframe thead th {\n",
       "        text-align: right;\n",
       "    }\n",
       "</style>\n",
       "<table border=\"1\" class=\"dataframe\">\n",
       "  <thead>\n",
       "    <tr style=\"text-align: right;\">\n",
       "      <th></th>\n",
       "      <th></th>\n",
       "      <th>Candidate</th>\n",
       "      <th>Party</th>\n",
       "      <th>%</th>\n",
       "      <th>Year</th>\n",
       "      <th>Result</th>\n",
       "    </tr>\n",
       "    <tr>\n",
       "      <th>Party</th>\n",
       "      <th>Result</th>\n",
       "      <th></th>\n",
       "      <th></th>\n",
       "      <th></th>\n",
       "      <th></th>\n",
       "      <th></th>\n",
       "    </tr>\n",
       "  </thead>\n",
       "  <tbody>\n",
       "    <tr>\n",
       "      <th rowspan=\"2\" valign=\"top\">Democratic</th>\n",
       "      <th>loss</th>\n",
       "      <td>Gore</td>\n",
       "      <td>Democratic</td>\n",
       "      <td>48.4</td>\n",
       "      <td>2000</td>\n",
       "      <td>loss</td>\n",
       "    </tr>\n",
       "    <tr>\n",
       "      <th>win</th>\n",
       "      <td>Obama</td>\n",
       "      <td>Democratic</td>\n",
       "      <td>52.9</td>\n",
       "      <td>2008</td>\n",
       "      <td>win</td>\n",
       "    </tr>\n",
       "    <tr>\n",
       "      <th>Independent</th>\n",
       "      <th>loss</th>\n",
       "      <td>Perot</td>\n",
       "      <td>Independent</td>\n",
       "      <td>18.9</td>\n",
       "      <td>1992</td>\n",
       "      <td>loss</td>\n",
       "    </tr>\n",
       "    <tr>\n",
       "      <th rowspan=\"2\" valign=\"top\">Republican</th>\n",
       "      <th>loss</th>\n",
       "      <td>Romney</td>\n",
       "      <td>Republican</td>\n",
       "      <td>47.2</td>\n",
       "      <td>2012</td>\n",
       "      <td>loss</td>\n",
       "    </tr>\n",
       "    <tr>\n",
       "      <th>win</th>\n",
       "      <td>Reagan</td>\n",
       "      <td>Republican</td>\n",
       "      <td>58.8</td>\n",
       "      <td>1984</td>\n",
       "      <td>win</td>\n",
       "    </tr>\n",
       "  </tbody>\n",
       "</table>\n",
       "</div>"
      ],
      "text/plain": [
       "                   Candidate        Party     %  Year Result\n",
       "Party       Result                                          \n",
       "Democratic  loss        Gore   Democratic  48.4  2000   loss\n",
       "            win        Obama   Democratic  52.9  2008    win\n",
       "Independent loss       Perot  Independent  18.9  1992   loss\n",
       "Republican  loss      Romney   Republican  47.2  2012   loss\n",
       "            win       Reagan   Republican  58.8  1984    win"
      ]
     },
     "execution_count": 57,
     "metadata": {},
     "output_type": "execute_result"
    }
   ],
   "source": [
    "(df.sort_values(\"%\", ascending=False).\n",
    "    groupby([df['Party'], df['Result']]).\n",
    "    first())"
   ]
  },
  {
   "cell_type": "markdown",
   "metadata": {},
   "source": [
    "The result of an aggregation function applied to a DataFrameGroupBy "
   ]
  },
  {
   "cell_type": "markdown",
   "metadata": {},
   "source": [
    "## Pivot Tables"
   ]
  },
  {
   "cell_type": "markdown",
   "metadata": {},
   "source": [
    "Recall from before that we were able to group the % Series by the \"Party\" and \"Result\" Series, allowing us to understand the average vote earned by each party under each election result."
   ]
  },
  {
   "cell_type": "code",
   "execution_count": 73,
   "metadata": {},
   "outputs": [
    {
     "data": {
      "text/plain": [
       "Party        Result\n",
       "Democratic   loss      44.85\n",
       "             win       49.05\n",
       "Independent  loss      11.30\n",
       "Republican   loss      42.75\n",
       "             win       51.27\n",
       "Name: %, dtype: float64"
      ]
     },
     "execution_count": 73,
     "metadata": {},
     "output_type": "execute_result"
    }
   ],
   "source": [
    "percent_grouped_by_party_and_result = df['%'].groupby([df['Party'], df['Result']])\n",
    "percent_grouped_by_party_and_result.mean()"
   ]
  },
  {
   "cell_type": "markdown",
   "metadata": {},
   "source": [
    "Because we called `groupby` on a Series, the result of our aggregation operation was also a Series. However, I believe this data is more naturally expressed in a tabular format, with Party as the rows, and Result as the columns. The `pivot_table` operation is the natural way to achieve this data format."
   ]
  },
  {
   "cell_type": "code",
   "execution_count": 74,
   "metadata": {
    "scrolled": false
   },
   "outputs": [
    {
     "data": {
      "text/html": [
       "<div>\n",
       "<style scoped>\n",
       "    .dataframe tbody tr th:only-of-type {\n",
       "        vertical-align: middle;\n",
       "    }\n",
       "\n",
       "    .dataframe tbody tr th {\n",
       "        vertical-align: top;\n",
       "    }\n",
       "\n",
       "    .dataframe thead th {\n",
       "        text-align: right;\n",
       "    }\n",
       "</style>\n",
       "<table border=\"1\" class=\"dataframe\">\n",
       "  <thead>\n",
       "    <tr style=\"text-align: right;\">\n",
       "      <th>Result</th>\n",
       "      <th>loss</th>\n",
       "      <th>win</th>\n",
       "    </tr>\n",
       "    <tr>\n",
       "      <th>Party</th>\n",
       "      <th></th>\n",
       "      <th></th>\n",
       "    </tr>\n",
       "  </thead>\n",
       "  <tbody>\n",
       "    <tr>\n",
       "      <th>Democratic</th>\n",
       "      <td>44.85</td>\n",
       "      <td>49.05</td>\n",
       "    </tr>\n",
       "    <tr>\n",
       "      <th>Independent</th>\n",
       "      <td>11.30</td>\n",
       "      <td>NaN</td>\n",
       "    </tr>\n",
       "    <tr>\n",
       "      <th>Republican</th>\n",
       "      <td>42.75</td>\n",
       "      <td>51.27</td>\n",
       "    </tr>\n",
       "  </tbody>\n",
       "</table>\n",
       "</div>"
      ],
      "text/plain": [
       "Result        loss    win\n",
       "Party                    \n",
       "Democratic   44.85  49.05\n",
       "Independent  11.30    NaN\n",
       "Republican   42.75  51.27"
      ]
     },
     "execution_count": 74,
     "metadata": {},
     "output_type": "execute_result"
    }
   ],
   "source": [
    "df_pivot = df.pivot_table(\n",
    "    index='Party', # the rows (turned into index)\n",
    "    columns='Result', # the column values\n",
    "    values='%', # the field(s) to processed in each group\n",
    "    aggfunc=np.mean, # group operation\n",
    ")\n",
    "df_pivot.head()"
   ]
  },
  {
   "cell_type": "markdown",
   "metadata": {},
   "source": [
    "The basic idea is that you specify a Series to be the `index` (i.e. rows) and a Series to be the `columns`. The data in the specified `values` is then grouped by all possible combinations of values that occur in the `index` and `columns` Series. These groups are then aggregated using the `aggfunc`, and arranged into a table that matches the requested `index` and `columns`. The diagram below summarizes how pivot tables are formed. (Diagram inspired by Joey Gonzales). Diagram source at [this link](https://docs.google.com/presentation/d/1FrYg6yd6B-CIgfWLWm4W8vBhfmJ6Qt9dKkN-mlN5AKU/edit#slide=id.g4131093782_0_89).\n",
    "\n",
    "![groupby](pivot_table_overview.png)"
   ]
  },
  {
   "cell_type": "markdown",
   "metadata": {},
   "source": [
    "For more on pivot tables, see [this excellent tutorial](http://pbpython.com/pandas-pivot-table-explained.html) by Chris Moffitt."
   ]
  },
  {
   "cell_type": "markdown",
   "metadata": {},
   "source": [
    "## List Arguments to pivot_table (Extra)"
   ]
  },
  {
   "cell_type": "markdown",
   "metadata": {},
   "source": [
    "The arguments to our pivot_table method can also be lists. A few examples are given below."
   ]
  },
  {
   "cell_type": "markdown",
   "metadata": {},
   "source": [
    "If we pivot such that only our `columns` argument is a list, we end up with columns that are MultiIndexed."
   ]
  },
  {
   "cell_type": "code",
   "execution_count": null,
   "metadata": {
    "scrolled": true
   },
   "outputs": [],
   "source": [
    "df.pivot_table(\n",
    "    index='Result', # the rows (turned into index)\n",
    "    columns=['Party', 'Candidate'], # the column values\n",
    "    values='Year', # the field(s) to processed in each group\n",
    "    aggfunc=list, # group operation\n",
    ")"
   ]
  },
  {
   "cell_type": "markdown",
   "metadata": {},
   "source": [
    "If we pivot such that only our `index` argument is a list, we end up with rows that are MultiIndexed."
   ]
  },
  {
   "cell_type": "code",
   "execution_count": null,
   "metadata": {},
   "outputs": [],
   "source": [
    "df.pivot_table(\n",
    "    index=['Party', 'Candidate'], # the rows (turned into index)\n",
    "    columns='Result',# the column values\n",
    "    values='%', # the field(s) to processed in each group\n",
    "    aggfunc=np.mean, # group operation\n",
    ")"
   ]
  },
  {
   "cell_type": "markdown",
   "metadata": {},
   "source": [
    "If we pivot such that only our values argument is a list, then we again get a DataFrame with multi-indexed Columns."
   ]
  },
  {
   "cell_type": "code",
   "execution_count": null,
   "metadata": {},
   "outputs": [],
   "source": [
    "df.pivot_table(\n",
    "    index='Party', # the rows (turned into index)\n",
    "    columns='Result',# the column values\n",
    "    values=['%', 'Year'], # the field(s) to processed in each group\n",
    "    aggfunc=np.mean, # group operation\n",
    ")"
   ]
  },
  {
   "cell_type": "markdown",
   "metadata": {},
   "source": [
    "## Custom Aggregation Functions"
   ]
  },
  {
   "cell_type": "markdown",
   "metadata": {},
   "source": [
    "As described above, both `SeriesGroupBy` and `DataFrameGroupBy` objects have lots of handy methods for computing aggregate values for groups, e.g."
   ]
  },
  {
   "cell_type": "code",
   "execution_count": 58,
   "metadata": {},
   "outputs": [
    {
     "data": {
      "text/plain": [
       "Party\n",
       "Democratic     37.6\n",
       "Independent     6.6\n",
       "Republican     37.4\n",
       "Name: %, dtype: float64"
      ]
     },
     "execution_count": 58,
     "metadata": {},
     "output_type": "execute_result"
    }
   ],
   "source": [
    "percent_grouped_by_party.min()"
   ]
  },
  {
   "cell_type": "code",
   "execution_count": 59,
   "metadata": {
    "scrolled": true
   },
   "outputs": [
    {
     "data": {
      "text/html": [
       "<div>\n",
       "<style scoped>\n",
       "    .dataframe tbody tr th:only-of-type {\n",
       "        vertical-align: middle;\n",
       "    }\n",
       "\n",
       "    .dataframe tbody tr th {\n",
       "        vertical-align: top;\n",
       "    }\n",
       "\n",
       "    .dataframe thead th {\n",
       "        text-align: right;\n",
       "    }\n",
       "</style>\n",
       "<table border=\"1\" class=\"dataframe\">\n",
       "  <thead>\n",
       "    <tr style=\"text-align: right;\">\n",
       "      <th></th>\n",
       "      <th>%</th>\n",
       "      <th>Year</th>\n",
       "    </tr>\n",
       "    <tr>\n",
       "      <th>Party</th>\n",
       "      <th></th>\n",
       "      <th></th>\n",
       "    </tr>\n",
       "  </thead>\n",
       "  <tbody>\n",
       "    <tr>\n",
       "      <th>Democratic</th>\n",
       "      <td>48.25</td>\n",
       "      <td>1998</td>\n",
       "    </tr>\n",
       "    <tr>\n",
       "      <th>Independent</th>\n",
       "      <td>8.40</td>\n",
       "      <td>1992</td>\n",
       "    </tr>\n",
       "    <tr>\n",
       "      <th>Republican</th>\n",
       "      <td>47.55</td>\n",
       "      <td>1998</td>\n",
       "    </tr>\n",
       "  </tbody>\n",
       "</table>\n",
       "</div>"
      ],
      "text/plain": [
       "                 %  Year\n",
       "Party                   \n",
       "Democratic   48.25  1998\n",
       "Independent   8.40  1992\n",
       "Republican   47.55  1998"
      ]
     },
     "execution_count": 59,
     "metadata": {},
     "output_type": "execute_result"
    }
   ],
   "source": [
    "everything_grouped_by_party.median()"
   ]
  },
  {
   "cell_type": "markdown",
   "metadata": {},
   "source": [
    "It turns out that all of these GroupBy methods are just shorthand for a more powerful and universal method of our GroupBy objects called agg. For example, `.min()` is just shorthand for `.agg(min)`, where `min` refers to the function `min`."
   ]
  },
  {
   "cell_type": "code",
   "execution_count": 60,
   "metadata": {},
   "outputs": [
    {
     "data": {
      "text/plain": [
       "Party\n",
       "Democratic     37.6\n",
       "Independent     6.6\n",
       "Republican     37.4\n",
       "Name: %, dtype: float64"
      ]
     },
     "execution_count": 60,
     "metadata": {},
     "output_type": "execute_result"
    }
   ],
   "source": [
    "percent_grouped_by_party.agg(min)"
   ]
  },
  {
   "cell_type": "markdown",
   "metadata": {},
   "source": [
    "Naturally, we can define our own custom aggregation functions. For example, the function below returns the first item in a series."
   ]
  },
  {
   "cell_type": "code",
   "execution_count": 61,
   "metadata": {},
   "outputs": [],
   "source": [
    "def average_of_first_and_last(series):\n",
    "    return (series.iloc[0] + series.iloc[-1])/2"
   ]
  },
  {
   "cell_type": "markdown",
   "metadata": {},
   "source": [
    "We can supply this function as a custom aggregation function for each series. As you can see, nuisance columns are automatically removed."
   ]
  },
  {
   "cell_type": "code",
   "execution_count": 62,
   "metadata": {},
   "outputs": [
    {
     "data": {
      "text/plain": [
       "Party        Result\n",
       "Democratic   loss      44.60\n",
       "             win       47.05\n",
       "Independent  loss       7.50\n",
       "Republican   loss      42.30\n",
       "             win       48.40\n",
       "Name: %, dtype: float64"
      ]
     },
     "execution_count": 62,
     "metadata": {},
     "output_type": "execute_result"
    }
   ],
   "source": [
    "percent_grouped_by_party_and_result.agg(average_of_first_and_last)"
   ]
  },
  {
   "cell_type": "markdown",
   "metadata": {},
   "source": [
    "`agg` is fundamental to our use of GroupBy objects. Indeed, you will rarely call `groupby` without also calling `agg`, at least implicitly. We can summarize the grouping process with the following diagram, inspired by a similar diagram created by DS100 instructor Joey Gonzales. Diagram source at [this link](https://docs.google.com/presentation/d/1FrYg6yd6B-CIgfWLWm4W8vBhfmJ6Qt9dKkN-mlN5AKU/edit#slide=id.g4131093782_0_40).\n",
    "\n",
    "![groupby](groupby_overview.png) "
   ]
  },
  {
   "cell_type": "markdown",
   "metadata": {},
   "source": [
    "The result of calling `groupby` then `agg` on a `Series` is also a `Series`, and the result of calling `groupby` then `agg` on a `DataFrame` is also typically a `DataFrame`, though there are exceptions, e.g. if you use the aggregation function `size`, you will get back a `Series`."
   ]
  },
  {
   "cell_type": "code",
   "execution_count": 63,
   "metadata": {},
   "outputs": [],
   "source": [
    "def list_of_first_and_last(series):\n",
    "    return [series.iloc[0], series.iloc[-1]]"
   ]
  },
  {
   "cell_type": "code",
   "execution_count": 64,
   "metadata": {},
   "outputs": [
    {
     "data": {
      "text/html": [
       "<div>\n",
       "<style scoped>\n",
       "    .dataframe tbody tr th:only-of-type {\n",
       "        vertical-align: middle;\n",
       "    }\n",
       "\n",
       "    .dataframe tbody tr th {\n",
       "        vertical-align: top;\n",
       "    }\n",
       "\n",
       "    .dataframe thead th {\n",
       "        text-align: right;\n",
       "    }\n",
       "</style>\n",
       "<table border=\"1\" class=\"dataframe\">\n",
       "  <thead>\n",
       "    <tr style=\"text-align: right;\">\n",
       "      <th></th>\n",
       "      <th>Candidate</th>\n",
       "      <th>%</th>\n",
       "      <th>Year</th>\n",
       "      <th>Result</th>\n",
       "    </tr>\n",
       "    <tr>\n",
       "      <th>Party</th>\n",
       "      <th></th>\n",
       "      <th></th>\n",
       "      <th></th>\n",
       "      <th></th>\n",
       "    </tr>\n",
       "  </thead>\n",
       "  <tbody>\n",
       "    <tr>\n",
       "      <th>Democratic</th>\n",
       "      <td>[Carter, Clinton]</td>\n",
       "      <td>[41.0, 48.2]</td>\n",
       "      <td>[1980, 2016]</td>\n",
       "      <td>[loss, loss]</td>\n",
       "    </tr>\n",
       "    <tr>\n",
       "      <th>Independent</th>\n",
       "      <td>[Anderson, Perot]</td>\n",
       "      <td>[6.6, 8.4]</td>\n",
       "      <td>[1980, 1996]</td>\n",
       "      <td>[loss, loss]</td>\n",
       "    </tr>\n",
       "    <tr>\n",
       "      <th>Republican</th>\n",
       "      <td>[Reagan, Trump]</td>\n",
       "      <td>[50.7, 46.1]</td>\n",
       "      <td>[1980, 2016]</td>\n",
       "      <td>[win, win]</td>\n",
       "    </tr>\n",
       "  </tbody>\n",
       "</table>\n",
       "</div>"
      ],
      "text/plain": [
       "                     Candidate             %          Year        Result\n",
       "Party                                                                   \n",
       "Democratic   [Carter, Clinton]  [41.0, 48.2]  [1980, 2016]  [loss, loss]\n",
       "Independent  [Anderson, Perot]    [6.6, 8.4]  [1980, 1996]  [loss, loss]\n",
       "Republican     [Reagan, Trump]  [50.7, 46.1]  [1980, 2016]    [win, win]"
      ]
     },
     "execution_count": 64,
     "metadata": {},
     "output_type": "execute_result"
    }
   ],
   "source": [
    "everything_grouped_by_party.agg(list_of_first_and_last)"
   ]
  },
  {
   "cell_type": "markdown",
   "metadata": {},
   "source": [
    "## Using Groups to Filter Datasets"
   ]
  },
  {
   "cell_type": "code",
   "execution_count": 65,
   "metadata": {},
   "outputs": [],
   "source": [
    "everything_grouped_by_candidate = df.groupby('Candidate')"
   ]
  },
  {
   "cell_type": "code",
   "execution_count": 66,
   "metadata": {},
   "outputs": [
    {
     "data": {
      "text/html": [
       "<div>\n",
       "<style scoped>\n",
       "    .dataframe tbody tr th:only-of-type {\n",
       "        vertical-align: middle;\n",
       "    }\n",
       "\n",
       "    .dataframe tbody tr th {\n",
       "        vertical-align: top;\n",
       "    }\n",
       "\n",
       "    .dataframe thead th {\n",
       "        text-align: right;\n",
       "    }\n",
       "</style>\n",
       "<table border=\"1\" class=\"dataframe\">\n",
       "  <thead>\n",
       "    <tr style=\"text-align: right;\">\n",
       "      <th></th>\n",
       "      <th>Candidate</th>\n",
       "      <th>Party</th>\n",
       "      <th>%</th>\n",
       "      <th>Year</th>\n",
       "      <th>Result</th>\n",
       "    </tr>\n",
       "  </thead>\n",
       "  <tbody>\n",
       "    <tr>\n",
       "      <th>5</th>\n",
       "      <td>Bush</td>\n",
       "      <td>Republican</td>\n",
       "      <td>53.4</td>\n",
       "      <td>1988</td>\n",
       "      <td>win</td>\n",
       "    </tr>\n",
       "    <tr>\n",
       "      <th>7</th>\n",
       "      <td>Clinton</td>\n",
       "      <td>Democratic</td>\n",
       "      <td>43.0</td>\n",
       "      <td>1992</td>\n",
       "      <td>win</td>\n",
       "    </tr>\n",
       "    <tr>\n",
       "      <th>8</th>\n",
       "      <td>Bush</td>\n",
       "      <td>Republican</td>\n",
       "      <td>37.4</td>\n",
       "      <td>1992</td>\n",
       "      <td>loss</td>\n",
       "    </tr>\n",
       "    <tr>\n",
       "      <th>...</th>\n",
       "      <td>...</td>\n",
       "      <td>...</td>\n",
       "      <td>...</td>\n",
       "      <td>...</td>\n",
       "      <td>...</td>\n",
       "    </tr>\n",
       "    <tr>\n",
       "      <th>20</th>\n",
       "      <td>Romney</td>\n",
       "      <td>Republican</td>\n",
       "      <td>47.2</td>\n",
       "      <td>2012</td>\n",
       "      <td>loss</td>\n",
       "    </tr>\n",
       "    <tr>\n",
       "      <th>21</th>\n",
       "      <td>Clinton</td>\n",
       "      <td>Democratic</td>\n",
       "      <td>48.2</td>\n",
       "      <td>2016</td>\n",
       "      <td>loss</td>\n",
       "    </tr>\n",
       "    <tr>\n",
       "      <th>22</th>\n",
       "      <td>Trump</td>\n",
       "      <td>Republican</td>\n",
       "      <td>46.1</td>\n",
       "      <td>2016</td>\n",
       "      <td>win</td>\n",
       "    </tr>\n",
       "  </tbody>\n",
       "</table>\n",
       "<p>13 rows × 5 columns</p>\n",
       "</div>"
      ],
      "text/plain": [
       "   Candidate       Party     %  Year Result\n",
       "5       Bush  Republican  53.4  1988    win\n",
       "7    Clinton  Democratic  43.0  1992    win\n",
       "8       Bush  Republican  37.4  1992   loss\n",
       "..       ...         ...   ...   ...    ...\n",
       "20    Romney  Republican  47.2  2012   loss\n",
       "21   Clinton  Democratic  48.2  2016   loss\n",
       "22     Trump  Republican  46.1  2016    win\n",
       "\n",
       "[13 rows x 5 columns]"
      ]
     },
     "execution_count": 66,
     "metadata": {},
     "output_type": "execute_result"
    }
   ],
   "source": [
    "everything_grouped_by_candidate.filter(lambda subframe: subframe[\"Year\"].max() > 2000)"
   ]
  },
  {
   "cell_type": "code",
   "execution_count": 67,
   "metadata": {},
   "outputs": [],
   "source": [
    "everything_grouped_by_year = df.groupby('Year')"
   ]
  },
  {
   "cell_type": "code",
   "execution_count": 68,
   "metadata": {
    "scrolled": false
   },
   "outputs": [
    {
     "data": {
      "text/html": [
       "<div>\n",
       "<style scoped>\n",
       "    .dataframe tbody tr th:only-of-type {\n",
       "        vertical-align: middle;\n",
       "    }\n",
       "\n",
       "    .dataframe tbody tr th {\n",
       "        vertical-align: top;\n",
       "    }\n",
       "\n",
       "    .dataframe thead th {\n",
       "        text-align: right;\n",
       "    }\n",
       "</style>\n",
       "<table border=\"1\" class=\"dataframe\">\n",
       "  <thead>\n",
       "    <tr style=\"text-align: right;\">\n",
       "      <th></th>\n",
       "      <th>Candidate</th>\n",
       "      <th>Party</th>\n",
       "      <th>%</th>\n",
       "      <th>Year</th>\n",
       "      <th>Result</th>\n",
       "    </tr>\n",
       "  </thead>\n",
       "  <tbody>\n",
       "    <tr>\n",
       "      <th>3</th>\n",
       "      <td>Reagan</td>\n",
       "      <td>Republican</td>\n",
       "      <td>58.8</td>\n",
       "      <td>1984</td>\n",
       "      <td>win</td>\n",
       "    </tr>\n",
       "    <tr>\n",
       "      <th>4</th>\n",
       "      <td>Mondale</td>\n",
       "      <td>Democratic</td>\n",
       "      <td>37.6</td>\n",
       "      <td>1984</td>\n",
       "      <td>loss</td>\n",
       "    </tr>\n",
       "    <tr>\n",
       "      <th>13</th>\n",
       "      <td>Gore</td>\n",
       "      <td>Democratic</td>\n",
       "      <td>48.4</td>\n",
       "      <td>2000</td>\n",
       "      <td>loss</td>\n",
       "    </tr>\n",
       "    <tr>\n",
       "      <th>14</th>\n",
       "      <td>Bush</td>\n",
       "      <td>Republican</td>\n",
       "      <td>47.9</td>\n",
       "      <td>2000</td>\n",
       "      <td>win</td>\n",
       "    </tr>\n",
       "    <tr>\n",
       "      <th>21</th>\n",
       "      <td>Clinton</td>\n",
       "      <td>Democratic</td>\n",
       "      <td>48.2</td>\n",
       "      <td>2016</td>\n",
       "      <td>loss</td>\n",
       "    </tr>\n",
       "    <tr>\n",
       "      <th>22</th>\n",
       "      <td>Trump</td>\n",
       "      <td>Republican</td>\n",
       "      <td>46.1</td>\n",
       "      <td>2016</td>\n",
       "      <td>win</td>\n",
       "    </tr>\n",
       "  </tbody>\n",
       "</table>\n",
       "</div>"
      ],
      "text/plain": [
       "   Candidate       Party     %  Year Result\n",
       "3     Reagan  Republican  58.8  1984    win\n",
       "4    Mondale  Democratic  37.6  1984   loss\n",
       "13      Gore  Democratic  48.4  2000   loss\n",
       "14      Bush  Republican  47.9  2000    win\n",
       "21   Clinton  Democratic  48.2  2016   loss\n",
       "22     Trump  Republican  46.1  2016    win"
      ]
     },
     "execution_count": 68,
     "metadata": {},
     "output_type": "execute_result"
    }
   ],
   "source": [
    "everything_grouped_by_year.filter(lambda subframe: subframe[\"%\"].sum() < 97)"
   ]
  },
  {
   "cell_type": "markdown",
   "metadata": {},
   "source": [
    "A visual picture of how filtering works is shown below.\n",
    "\n",
    "![filter](filter_overview.png)"
   ]
  },
  {
   "cell_type": "markdown",
   "metadata": {},
   "source": [
    "## Using isin for filtering"
   ]
  },
  {
   "cell_type": "markdown",
   "metadata": {},
   "source": [
    "This isn't actually related to `groupby` at all, but it seemed natural to bring it up here. \n",
    "\n",
    "Sometimes we want to restrict our attention to only rows where certain values appear. For example, we saw last time how we'd look at only rows that contain \"Democratic\" candidates."
   ]
  },
  {
   "cell_type": "code",
   "execution_count": 69,
   "metadata": {},
   "outputs": [
    {
     "data": {
      "text/html": [
       "<div>\n",
       "<style scoped>\n",
       "    .dataframe tbody tr th:only-of-type {\n",
       "        vertical-align: middle;\n",
       "    }\n",
       "\n",
       "    .dataframe tbody tr th {\n",
       "        vertical-align: top;\n",
       "    }\n",
       "\n",
       "    .dataframe thead th {\n",
       "        text-align: right;\n",
       "    }\n",
       "</style>\n",
       "<table border=\"1\" class=\"dataframe\">\n",
       "  <thead>\n",
       "    <tr style=\"text-align: right;\">\n",
       "      <th></th>\n",
       "      <th>Candidate</th>\n",
       "      <th>Party</th>\n",
       "      <th>%</th>\n",
       "      <th>Year</th>\n",
       "      <th>Result</th>\n",
       "    </tr>\n",
       "  </thead>\n",
       "  <tbody>\n",
       "    <tr>\n",
       "      <th>1</th>\n",
       "      <td>Carter</td>\n",
       "      <td>Democratic</td>\n",
       "      <td>41.0</td>\n",
       "      <td>1980</td>\n",
       "      <td>loss</td>\n",
       "    </tr>\n",
       "    <tr>\n",
       "      <th>4</th>\n",
       "      <td>Mondale</td>\n",
       "      <td>Democratic</td>\n",
       "      <td>37.6</td>\n",
       "      <td>1984</td>\n",
       "      <td>loss</td>\n",
       "    </tr>\n",
       "    <tr>\n",
       "      <th>6</th>\n",
       "      <td>Dukakis</td>\n",
       "      <td>Democratic</td>\n",
       "      <td>45.6</td>\n",
       "      <td>1988</td>\n",
       "      <td>loss</td>\n",
       "    </tr>\n",
       "    <tr>\n",
       "      <th>...</th>\n",
       "      <td>...</td>\n",
       "      <td>...</td>\n",
       "      <td>...</td>\n",
       "      <td>...</td>\n",
       "      <td>...</td>\n",
       "    </tr>\n",
       "    <tr>\n",
       "      <th>17</th>\n",
       "      <td>Obama</td>\n",
       "      <td>Democratic</td>\n",
       "      <td>52.9</td>\n",
       "      <td>2008</td>\n",
       "      <td>win</td>\n",
       "    </tr>\n",
       "    <tr>\n",
       "      <th>19</th>\n",
       "      <td>Obama</td>\n",
       "      <td>Democratic</td>\n",
       "      <td>51.1</td>\n",
       "      <td>2012</td>\n",
       "      <td>win</td>\n",
       "    </tr>\n",
       "    <tr>\n",
       "      <th>21</th>\n",
       "      <td>Clinton</td>\n",
       "      <td>Democratic</td>\n",
       "      <td>48.2</td>\n",
       "      <td>2016</td>\n",
       "      <td>loss</td>\n",
       "    </tr>\n",
       "  </tbody>\n",
       "</table>\n",
       "<p>10 rows × 5 columns</p>\n",
       "</div>"
      ],
      "text/plain": [
       "   Candidate       Party     %  Year Result\n",
       "1     Carter  Democratic  41.0  1980   loss\n",
       "4    Mondale  Democratic  37.6  1984   loss\n",
       "6    Dukakis  Democratic  45.6  1988   loss\n",
       "..       ...         ...   ...   ...    ...\n",
       "17     Obama  Democratic  52.9  2008    win\n",
       "19     Obama  Democratic  51.1  2012    win\n",
       "21   Clinton  Democratic  48.2  2016   loss\n",
       "\n",
       "[10 rows x 5 columns]"
      ]
     },
     "execution_count": 69,
     "metadata": {},
     "output_type": "execute_result"
    }
   ],
   "source": [
    "df[df[\"Party\"] == \"Democratic\"]"
   ]
  },
  {
   "cell_type": "markdown",
   "metadata": {},
   "source": [
    "Suppose we wanted to filter such that all Republicans and Democrats appeared. One ugly way to do this would be `df[(df[\"Party\"] == \"Democratic\") | (df[\"Party\"] == \"Republican\")]`. However, a better idea is to use the `isin` method."
   ]
  },
  {
   "cell_type": "code",
   "execution_count": 70,
   "metadata": {},
   "outputs": [
    {
     "data": {
      "text/html": [
       "<div>\n",
       "<style scoped>\n",
       "    .dataframe tbody tr th:only-of-type {\n",
       "        vertical-align: middle;\n",
       "    }\n",
       "\n",
       "    .dataframe tbody tr th {\n",
       "        vertical-align: top;\n",
       "    }\n",
       "\n",
       "    .dataframe thead th {\n",
       "        text-align: right;\n",
       "    }\n",
       "</style>\n",
       "<table border=\"1\" class=\"dataframe\">\n",
       "  <thead>\n",
       "    <tr style=\"text-align: right;\">\n",
       "      <th></th>\n",
       "      <th>Candidate</th>\n",
       "      <th>Party</th>\n",
       "      <th>%</th>\n",
       "      <th>Year</th>\n",
       "      <th>Result</th>\n",
       "    </tr>\n",
       "  </thead>\n",
       "  <tbody>\n",
       "    <tr>\n",
       "      <th>0</th>\n",
       "      <td>Reagan</td>\n",
       "      <td>Republican</td>\n",
       "      <td>50.7</td>\n",
       "      <td>1980</td>\n",
       "      <td>win</td>\n",
       "    </tr>\n",
       "    <tr>\n",
       "      <th>1</th>\n",
       "      <td>Carter</td>\n",
       "      <td>Democratic</td>\n",
       "      <td>41.0</td>\n",
       "      <td>1980</td>\n",
       "      <td>loss</td>\n",
       "    </tr>\n",
       "    <tr>\n",
       "      <th>3</th>\n",
       "      <td>Reagan</td>\n",
       "      <td>Republican</td>\n",
       "      <td>58.8</td>\n",
       "      <td>1984</td>\n",
       "      <td>win</td>\n",
       "    </tr>\n",
       "    <tr>\n",
       "      <th>...</th>\n",
       "      <td>...</td>\n",
       "      <td>...</td>\n",
       "      <td>...</td>\n",
       "      <td>...</td>\n",
       "      <td>...</td>\n",
       "    </tr>\n",
       "    <tr>\n",
       "      <th>20</th>\n",
       "      <td>Romney</td>\n",
       "      <td>Republican</td>\n",
       "      <td>47.2</td>\n",
       "      <td>2012</td>\n",
       "      <td>loss</td>\n",
       "    </tr>\n",
       "    <tr>\n",
       "      <th>21</th>\n",
       "      <td>Clinton</td>\n",
       "      <td>Democratic</td>\n",
       "      <td>48.2</td>\n",
       "      <td>2016</td>\n",
       "      <td>loss</td>\n",
       "    </tr>\n",
       "    <tr>\n",
       "      <th>22</th>\n",
       "      <td>Trump</td>\n",
       "      <td>Republican</td>\n",
       "      <td>46.1</td>\n",
       "      <td>2016</td>\n",
       "      <td>win</td>\n",
       "    </tr>\n",
       "  </tbody>\n",
       "</table>\n",
       "<p>20 rows × 5 columns</p>\n",
       "</div>"
      ],
      "text/plain": [
       "   Candidate       Party     %  Year Result\n",
       "0     Reagan  Republican  50.7  1980    win\n",
       "1     Carter  Democratic  41.0  1980   loss\n",
       "3     Reagan  Republican  58.8  1984    win\n",
       "..       ...         ...   ...   ...    ...\n",
       "20    Romney  Republican  47.2  2012   loss\n",
       "21   Clinton  Democratic  48.2  2016   loss\n",
       "22     Trump  Republican  46.1  2016    win\n",
       "\n",
       "[20 rows x 5 columns]"
      ]
     },
     "execution_count": 70,
     "metadata": {},
     "output_type": "execute_result"
    }
   ],
   "source": [
    "df[(df[\"Party\"] == \"Democratic\") | (df[\"Party\"] == \"Republican\")]\n",
    "\n",
    "df[df[\"Party\"].isin([\"Republican\", \"Democratic\"])]"
   ]
  },
  {
   "cell_type": "markdown",
   "metadata": {},
   "source": [
    "## Grouping over a different dimension (bonus topic, less often useful)\n",
    "\n",
    "Above, we've been grouping data along the rows, using column keys as our selectors.  But we can also group along the columns, for example we can group by how many times the letter a appears in the column name."
   ]
  },
  {
   "cell_type": "code",
   "execution_count": 71,
   "metadata": {
    "scrolled": true
   },
   "outputs": [
    {
     "name": "stdout",
     "output_type": "stream",
     "text": [
      "0\n",
      "Index(['%', 'Result'], dtype='object')\n",
      "1\n",
      "Index(['Party', 'Year'], dtype='object')\n",
      "2\n",
      "Index(['Candidate'], dtype='object')\n"
     ]
    }
   ],
   "source": [
    "grouped = df.groupby(lambda x: x.count('a'), axis=1)\n",
    "for dtype, group in grouped:\n",
    "    print(dtype)\n",
    "    print(group.columns)"
   ]
  },
  {
   "cell_type": "code",
   "execution_count": 72,
   "metadata": {},
   "outputs": [
    {
     "data": {
      "text/html": [
       "<div>\n",
       "<style scoped>\n",
       "    .dataframe tbody tr th:only-of-type {\n",
       "        vertical-align: middle;\n",
       "    }\n",
       "\n",
       "    .dataframe tbody tr th {\n",
       "        vertical-align: top;\n",
       "    }\n",
       "\n",
       "    .dataframe thead th {\n",
       "        text-align: right;\n",
       "    }\n",
       "</style>\n",
       "<table border=\"1\" class=\"dataframe\">\n",
       "  <thead>\n",
       "    <tr style=\"text-align: right;\">\n",
       "      <th></th>\n",
       "      <th>4</th>\n",
       "      <th>5</th>\n",
       "      <th>6</th>\n",
       "      <th>7</th>\n",
       "      <th>8</th>\n",
       "    </tr>\n",
       "  </thead>\n",
       "  <tbody>\n",
       "    <tr>\n",
       "      <th>Party</th>\n",
       "      <td>Republican</td>\n",
       "      <td>Republican</td>\n",
       "      <td>Republican</td>\n",
       "      <td>Democratic</td>\n",
       "      <td>Independent</td>\n",
       "    </tr>\n",
       "    <tr>\n",
       "      <th>%</th>\n",
       "      <td>53</td>\n",
       "      <td>53</td>\n",
       "      <td>59</td>\n",
       "      <td>49</td>\n",
       "      <td>6.6</td>\n",
       "    </tr>\n",
       "    <tr>\n",
       "      <th>Year</th>\n",
       "      <td>2004</td>\n",
       "      <td>2016</td>\n",
       "      <td>2012</td>\n",
       "      <td>2016</td>\n",
       "      <td>1980</td>\n",
       "    </tr>\n",
       "    <tr>\n",
       "      <th>Result</th>\n",
       "      <td>win</td>\n",
       "      <td>win</td>\n",
       "      <td>win</td>\n",
       "      <td>win</td>\n",
       "      <td>loss</td>\n",
       "    </tr>\n",
       "  </tbody>\n",
       "</table>\n",
       "</div>"
      ],
      "text/plain": [
       "                 4           5           6           7            8\n",
       "Party   Republican  Republican  Republican  Democratic  Independent\n",
       "%               53          53          59          49          6.6\n",
       "Year          2004        2016        2012        2016         1980\n",
       "Result         win         win         win         win         loss"
      ]
     },
     "execution_count": 72,
     "metadata": {},
     "output_type": "execute_result"
    }
   ],
   "source": [
    "df.set_index('Candidate').transpose().groupby(len, axis=1).max()"
   ]
  },
  {
   "cell_type": "markdown",
   "metadata": {},
   "source": [
    "## Getting the Data"
   ]
  },
  {
   "cell_type": "markdown",
   "metadata": {},
   "source": [
    "https://www.ssa.gov/OACT/babynames/index.html\n",
    "\n",
    "https://www.ssa.gov/data\n",
    "\n",
    "We can download data from the internet with Python, and do so only if needed:"
   ]
  },
  {
   "cell_type": "code",
   "execution_count": 76,
   "metadata": {},
   "outputs": [],
   "source": [
    "import requests\n",
    "from pathlib import Path\n",
    "\n",
    "namesbystate_path = Path('namesbystate.zip')\n",
    "data_url = 'https://www.ssa.gov/oact/babynames/state/namesbystate.zip'\n",
    "\n",
    "if not namesbystate_path.exists():\n",
    "    print('Downloading...', end=' ')\n",
    "    resp = requests.get(data_url)\n",
    "    with namesbystate_path.open('wb') as f:\n",
    "        f.write(resp.content)\n",
    "    print('Done!')"
   ]
  },
  {
   "cell_type": "markdown",
   "metadata": {},
   "source": [
    "## What were the most popular California male & female names in each year?"
   ]
  },
  {
   "cell_type": "markdown",
   "metadata": {},
   "source": [
    "### Extracting from a ZIP archive\n",
    "\n",
    "We can see how large the compressed and uncompressed data are:"
   ]
  },
  {
   "cell_type": "code",
   "execution_count": 77,
   "metadata": {},
   "outputs": [
    {
     "data": {
      "text/plain": [
       "122.38892"
      ]
     },
     "execution_count": 77,
     "metadata": {},
     "output_type": "execute_result"
    }
   ],
   "source": [
    "import zipfile\n",
    "zf = zipfile.ZipFile(namesbystate_path, 'r')\n",
    "sum(f.file_size for f in zf.filelist) / 1_000_000"
   ]
  },
  {
   "cell_type": "code",
   "execution_count": 78,
   "metadata": {},
   "outputs": [
    {
     "data": {
      "text/plain": [
       "21.568281"
      ]
     },
     "execution_count": 78,
     "metadata": {},
     "output_type": "execute_result"
    }
   ],
   "source": [
    "sum(f.compress_size for f in zf.filelist) / 1_000_000"
   ]
  },
  {
   "cell_type": "code",
   "execution_count": 79,
   "metadata": {},
   "outputs": [
    {
     "data": {
      "text/plain": [
       "5.674486529547719"
      ]
     },
     "execution_count": 79,
     "metadata": {},
     "output_type": "execute_result"
    }
   ],
   "source": [
    "__/_  # divide the next-previous result by the previous one"
   ]
  },
  {
   "cell_type": "markdown",
   "metadata": {},
   "source": [
    "What are these data?"
   ]
  },
  {
   "cell_type": "code",
   "execution_count": 80,
   "metadata": {},
   "outputs": [
    {
     "data": {
      "text/plain": [
       "'/Users/sam/repos/ds100/su19-public/lec/lec03/StateReadMe.pdf'"
      ]
     },
     "execution_count": 80,
     "metadata": {},
     "output_type": "execute_result"
    }
   ],
   "source": [
    "zf.extract('StateReadMe.pdf')"
   ]
  },
  {
   "cell_type": "markdown",
   "metadata": {},
   "source": [
    "We want the names for California."
   ]
  },
  {
   "cell_type": "code",
   "execution_count": 81,
   "metadata": {},
   "outputs": [
    {
     "name": "stdout",
     "output_type": "stream",
     "text": [
      "['AK.TXT', 'AL.TXT', 'AR.TXT', 'AZ.TXT', 'CA.TXT', 'CO.TXT', 'CT.TXT', 'DC.TXT', 'DE.TXT', 'FL.TXT', 'GA.TXT', 'HI.TXT', 'IA.TXT', 'ID.TXT', 'IL.TXT', 'IN.TXT', 'KS.TXT', 'KY.TXT', 'LA.TXT', 'MA.TXT', 'MD.TXT', 'ME.TXT', 'MI.TXT', 'MN.TXT', 'MO.TXT', 'MS.TXT', 'MT.TXT', 'NC.TXT', 'ND.TXT', 'NE.TXT', 'NH.TXT', 'NJ.TXT', 'NM.TXT', 'NV.TXT', 'NY.TXT', 'OH.TXT', 'OK.TXT', 'OR.TXT', 'PA.TXT', 'RI.TXT', 'SC.TXT', 'SD.TXT', 'StateReadMe.pdf', 'TN.TXT', 'TX.TXT', 'UT.TXT', 'VA.TXT', 'VT.TXT', 'WA.TXT', 'WI.TXT', 'WV.TXT', 'WY.TXT']\n"
     ]
    }
   ],
   "source": [
    "print([f.filename for f in zf.filelist])"
   ]
  },
  {
   "cell_type": "code",
   "execution_count": 82,
   "metadata": {},
   "outputs": [
    {
     "name": "stdout",
     "output_type": "stream",
     "text": [
      "CA,F,1910,Mary,295\n",
      "CA,F,1910,Helen,239\n",
      "CA,F,1910,Dorothy,220\n",
      "CA,F,1910,Margaret,163\n",
      "CA,F,1910,Frances,134\n",
      "CA,F,1910,Ruth,128\n",
      "CA,F,1910,Evelyn,126\n",
      "CA,F,1910,Alice,118\n",
      "CA,F,1910,Virginia,101\n",
      "CA,F,1910,Elizabeth,93\n"
     ]
    }
   ],
   "source": [
    "ca_name = 'CA.TXT'\n",
    "with zf.open(ca_name) as f:\n",
    "    for i in range(10):\n",
    "        print(f.readline().rstrip().decode())"
   ]
  },
  {
   "cell_type": "code",
   "execution_count": 92,
   "metadata": {},
   "outputs": [
    {
     "data": {
      "text/html": [
       "<div>\n",
       "<style scoped>\n",
       "    .dataframe tbody tr th:only-of-type {\n",
       "        vertical-align: middle;\n",
       "    }\n",
       "\n",
       "    .dataframe tbody tr th {\n",
       "        vertical-align: top;\n",
       "    }\n",
       "\n",
       "    .dataframe thead th {\n",
       "        text-align: right;\n",
       "    }\n",
       "</style>\n",
       "<table border=\"1\" class=\"dataframe\">\n",
       "  <thead>\n",
       "    <tr style=\"text-align: right;\">\n",
       "      <th></th>\n",
       "      <th>State</th>\n",
       "      <th>Sex</th>\n",
       "      <th>Year</th>\n",
       "      <th>Name</th>\n",
       "      <th>Count</th>\n",
       "    </tr>\n",
       "  </thead>\n",
       "  <tbody>\n",
       "    <tr>\n",
       "      <th>0</th>\n",
       "      <td>CA</td>\n",
       "      <td>F</td>\n",
       "      <td>1910</td>\n",
       "      <td>Mary</td>\n",
       "      <td>295</td>\n",
       "    </tr>\n",
       "    <tr>\n",
       "      <th>1</th>\n",
       "      <td>CA</td>\n",
       "      <td>F</td>\n",
       "      <td>1910</td>\n",
       "      <td>Helen</td>\n",
       "      <td>239</td>\n",
       "    </tr>\n",
       "    <tr>\n",
       "      <th>2</th>\n",
       "      <td>CA</td>\n",
       "      <td>F</td>\n",
       "      <td>1910</td>\n",
       "      <td>Dorothy</td>\n",
       "      <td>220</td>\n",
       "    </tr>\n",
       "    <tr>\n",
       "      <th>...</th>\n",
       "      <td>...</td>\n",
       "      <td>...</td>\n",
       "      <td>...</td>\n",
       "      <td>...</td>\n",
       "      <td>...</td>\n",
       "    </tr>\n",
       "    <tr>\n",
       "      <th>374631</th>\n",
       "      <td>CA</td>\n",
       "      <td>M</td>\n",
       "      <td>2017</td>\n",
       "      <td>Zia</td>\n",
       "      <td>5</td>\n",
       "    </tr>\n",
       "    <tr>\n",
       "      <th>374632</th>\n",
       "      <td>CA</td>\n",
       "      <td>M</td>\n",
       "      <td>2017</td>\n",
       "      <td>Ziad</td>\n",
       "      <td>5</td>\n",
       "    </tr>\n",
       "    <tr>\n",
       "      <th>374633</th>\n",
       "      <td>CA</td>\n",
       "      <td>M</td>\n",
       "      <td>2017</td>\n",
       "      <td>Ziv</td>\n",
       "      <td>5</td>\n",
       "    </tr>\n",
       "  </tbody>\n",
       "</table>\n",
       "<p>374634 rows × 5 columns</p>\n",
       "</div>"
      ],
      "text/plain": [
       "       State Sex  Year     Name  Count\n",
       "0         CA   F  1910     Mary    295\n",
       "1         CA   F  1910    Helen    239\n",
       "2         CA   F  1910  Dorothy    220\n",
       "...      ...  ..   ...      ...    ...\n",
       "374631    CA   M  2017      Zia      5\n",
       "374632    CA   M  2017     Ziad      5\n",
       "374633    CA   M  2017      Ziv      5\n",
       "\n",
       "[374634 rows x 5 columns]"
      ]
     },
     "execution_count": 92,
     "metadata": {},
     "output_type": "execute_result"
    }
   ],
   "source": [
    "field_names = ['State', 'Sex', 'Year', 'Name', 'Count']\n",
    "with zf.open(ca_name) as fh:\n",
    "    ca = pd.read_csv(fh, header=None, names=field_names)\n",
    "ca"
   ]
  },
  {
   "cell_type": "code",
   "execution_count": 84,
   "metadata": {},
   "outputs": [
    {
     "data": {
      "text/plain": [
       "(374634, 5)"
      ]
     },
     "execution_count": 84,
     "metadata": {},
     "output_type": "execute_result"
    }
   ],
   "source": [
    "ca.shape"
   ]
  },
  {
   "cell_type": "markdown",
   "metadata": {},
   "source": [
    "### Group by year"
   ]
  },
  {
   "cell_type": "code",
   "execution_count": 93,
   "metadata": {},
   "outputs": [
    {
     "data": {
      "text/html": [
       "<div>\n",
       "<style scoped>\n",
       "    .dataframe tbody tr th:only-of-type {\n",
       "        vertical-align: middle;\n",
       "    }\n",
       "\n",
       "    .dataframe tbody tr th {\n",
       "        vertical-align: top;\n",
       "    }\n",
       "\n",
       "    .dataframe thead th {\n",
       "        text-align: right;\n",
       "    }\n",
       "</style>\n",
       "<table border=\"1\" class=\"dataframe\">\n",
       "  <thead>\n",
       "    <tr style=\"text-align: right;\">\n",
       "      <th></th>\n",
       "      <th>State</th>\n",
       "      <th>Sex</th>\n",
       "      <th>Year</th>\n",
       "      <th>Name</th>\n",
       "      <th>Count</th>\n",
       "    </tr>\n",
       "  </thead>\n",
       "  <tbody>\n",
       "    <tr>\n",
       "      <th>311664</th>\n",
       "      <td>CA</td>\n",
       "      <td>M</td>\n",
       "      <td>1995</td>\n",
       "      <td>Daniel</td>\n",
       "      <td>5003</td>\n",
       "    </tr>\n",
       "    <tr>\n",
       "      <th>311665</th>\n",
       "      <td>CA</td>\n",
       "      <td>M</td>\n",
       "      <td>1995</td>\n",
       "      <td>Michael</td>\n",
       "      <td>4783</td>\n",
       "    </tr>\n",
       "    <tr>\n",
       "      <th>311666</th>\n",
       "      <td>CA</td>\n",
       "      <td>M</td>\n",
       "      <td>1995</td>\n",
       "      <td>Jose</td>\n",
       "      <td>4572</td>\n",
       "    </tr>\n",
       "    <tr>\n",
       "      <th>...</th>\n",
       "      <td>...</td>\n",
       "      <td>...</td>\n",
       "      <td>...</td>\n",
       "      <td>...</td>\n",
       "      <td>...</td>\n",
       "    </tr>\n",
       "    <tr>\n",
       "      <th>314139</th>\n",
       "      <td>CA</td>\n",
       "      <td>M</td>\n",
       "      <td>1995</td>\n",
       "      <td>Zavier</td>\n",
       "      <td>5</td>\n",
       "    </tr>\n",
       "    <tr>\n",
       "      <th>314140</th>\n",
       "      <td>CA</td>\n",
       "      <td>M</td>\n",
       "      <td>1995</td>\n",
       "      <td>Zayd</td>\n",
       "      <td>5</td>\n",
       "    </tr>\n",
       "    <tr>\n",
       "      <th>314141</th>\n",
       "      <td>CA</td>\n",
       "      <td>M</td>\n",
       "      <td>1995</td>\n",
       "      <td>Zeferino</td>\n",
       "      <td>5</td>\n",
       "    </tr>\n",
       "  </tbody>\n",
       "</table>\n",
       "<p>2478 rows × 5 columns</p>\n",
       "</div>"
      ],
      "text/plain": [
       "       State Sex  Year      Name  Count\n",
       "311664    CA   M  1995    Daniel   5003\n",
       "311665    CA   M  1995   Michael   4783\n",
       "311666    CA   M  1995      Jose   4572\n",
       "...      ...  ..   ...       ...    ...\n",
       "314139    CA   M  1995    Zavier      5\n",
       "314140    CA   M  1995      Zayd      5\n",
       "314141    CA   M  1995  Zeferino      5\n",
       "\n",
       "[2478 rows x 5 columns]"
      ]
     },
     "execution_count": 93,
     "metadata": {},
     "output_type": "execute_result"
    }
   ],
   "source": [
    "ca[(ca['Year'] == 1995) & (ca['Sex'] == 'M')]"
   ]
  },
  {
   "cell_type": "code",
   "execution_count": 86,
   "metadata": {
    "scrolled": true
   },
   "outputs": [
    {
     "data": {
      "image/png": "[encoded data removed]",
      "text/plain": [
       "<Figure size 432x288 with 1 Axes>"
      ]
     },
     "metadata": {
      "needs_background": "light"
     },
     "output_type": "display_data"
    }
   ],
   "source": [
    "ca.groupby('Year').size().plot();"
   ]
  },
  {
   "cell_type": "markdown",
   "metadata": {},
   "source": [
    "### Grouping by multiple columns"
   ]
  },
  {
   "cell_type": "code",
   "execution_count": 90,
   "metadata": {
    "scrolled": true
   },
   "outputs": [
    {
     "data": {
      "text/plain": [
       "Year  Sex\n",
       "1910  F       233\n",
       "      M       130\n",
       "1911  F       251\n",
       "             ... \n",
       "2016  M      2904\n",
       "2017  F      3740\n",
       "      M      2918\n",
       "Length: 216, dtype: int64"
      ]
     },
     "execution_count": 90,
     "metadata": {},
     "output_type": "execute_result"
    }
   ],
   "source": [
    "ca.groupby(['Year', 'Sex']).size()"
   ]
  },
  {
   "cell_type": "code",
   "execution_count": 91,
   "metadata": {},
   "outputs": [
    {
     "data": {
      "text/plain": [
       "Year  Sex\n",
       "1910  F       233\n",
       "      M       130\n",
       "1911  F       251\n",
       "             ... \n",
       "2016  M      2904\n",
       "2017  F      3740\n",
       "      M      2918\n",
       "Length: 216, dtype: int64"
      ]
     },
     "execution_count": 91,
     "metadata": {},
     "output_type": "execute_result"
    }
   ],
   "source": [
    "ca.groupby(['Year', 'Sex']).size()"
   ]
  },
  {
   "cell_type": "code",
   "execution_count": 94,
   "metadata": {
    "scrolled": true
   },
   "outputs": [
    {
     "data": {
      "text/html": [
       "<div>\n",
       "<style scoped>\n",
       "    .dataframe tbody tr th:only-of-type {\n",
       "        vertical-align: middle;\n",
       "    }\n",
       "\n",
       "    .dataframe tbody tr th {\n",
       "        vertical-align: top;\n",
       "    }\n",
       "\n",
       "    .dataframe thead th {\n",
       "        text-align: right;\n",
       "    }\n",
       "</style>\n",
       "<table border=\"1\" class=\"dataframe\">\n",
       "  <thead>\n",
       "    <tr style=\"text-align: right;\">\n",
       "      <th></th>\n",
       "      <th></th>\n",
       "      <th>State</th>\n",
       "      <th>Name</th>\n",
       "      <th>Count</th>\n",
       "    </tr>\n",
       "    <tr>\n",
       "      <th>Year</th>\n",
       "      <th>Sex</th>\n",
       "      <th></th>\n",
       "      <th></th>\n",
       "      <th></th>\n",
       "    </tr>\n",
       "  </thead>\n",
       "  <tbody>\n",
       "    <tr>\n",
       "      <th rowspan=\"2\" valign=\"top\">1910</th>\n",
       "      <th>F</th>\n",
       "      <td>CA</td>\n",
       "      <td>Mary</td>\n",
       "      <td>295</td>\n",
       "    </tr>\n",
       "    <tr>\n",
       "      <th>M</th>\n",
       "      <td>CA</td>\n",
       "      <td>John</td>\n",
       "      <td>237</td>\n",
       "    </tr>\n",
       "    <tr>\n",
       "      <th>1911</th>\n",
       "      <th>F</th>\n",
       "      <td>CA</td>\n",
       "      <td>Mary</td>\n",
       "      <td>390</td>\n",
       "    </tr>\n",
       "    <tr>\n",
       "      <th>...</th>\n",
       "      <th>...</th>\n",
       "      <td>...</td>\n",
       "      <td>...</td>\n",
       "      <td>...</td>\n",
       "    </tr>\n",
       "    <tr>\n",
       "      <th>2016</th>\n",
       "      <th>M</th>\n",
       "      <td>CA</td>\n",
       "      <td>Noah</td>\n",
       "      <td>2688</td>\n",
       "    </tr>\n",
       "    <tr>\n",
       "      <th rowspan=\"2\" valign=\"top\">2017</th>\n",
       "      <th>F</th>\n",
       "      <td>CA</td>\n",
       "      <td>Emma</td>\n",
       "      <td>2726</td>\n",
       "    </tr>\n",
       "    <tr>\n",
       "      <th>M</th>\n",
       "      <td>CA</td>\n",
       "      <td>Noah</td>\n",
       "      <td>2511</td>\n",
       "    </tr>\n",
       "  </tbody>\n",
       "</table>\n",
       "<p>216 rows × 3 columns</p>\n",
       "</div>"
      ],
      "text/plain": [
       "         State  Name  Count\n",
       "Year Sex                   \n",
       "1910 F      CA  Mary    295\n",
       "     M      CA  John    237\n",
       "1911 F      CA  Mary    390\n",
       "...        ...   ...    ...\n",
       "2016 M      CA  Noah   2688\n",
       "2017 F      CA  Emma   2726\n",
       "     M      CA  Noah   2511\n",
       "\n",
       "[216 rows x 3 columns]"
      ]
     },
     "execution_count": 94,
     "metadata": {},
     "output_type": "execute_result"
    }
   ],
   "source": [
    "most_popular_names = (ca.groupby(['Year', 'Sex']).first())\n",
    "most_popular_names"
   ]
  },
  {
   "cell_type": "markdown",
   "metadata": {},
   "source": [
    "As we'd expect, we get a MultiIndexed DataFrame, which we can index using [] just like our single indexed DataFrames."
   ]
  },
  {
   "cell_type": "code",
   "execution_count": 95,
   "metadata": {},
   "outputs": [
    {
     "data": {
      "text/html": [
       "<div>\n",
       "<style scoped>\n",
       "    .dataframe tbody tr th:only-of-type {\n",
       "        vertical-align: middle;\n",
       "    }\n",
       "\n",
       "    .dataframe tbody tr th {\n",
       "        vertical-align: top;\n",
       "    }\n",
       "\n",
       "    .dataframe thead th {\n",
       "        text-align: right;\n",
       "    }\n",
       "</style>\n",
       "<table border=\"1\" class=\"dataframe\">\n",
       "  <thead>\n",
       "    <tr style=\"text-align: right;\">\n",
       "      <th></th>\n",
       "      <th></th>\n",
       "      <th>State</th>\n",
       "      <th>Name</th>\n",
       "      <th>Count</th>\n",
       "    </tr>\n",
       "    <tr>\n",
       "      <th>Year</th>\n",
       "      <th>Sex</th>\n",
       "      <th></th>\n",
       "      <th></th>\n",
       "      <th></th>\n",
       "    </tr>\n",
       "  </thead>\n",
       "  <tbody>\n",
       "    <tr>\n",
       "      <th>1910</th>\n",
       "      <th>M</th>\n",
       "      <td>CA</td>\n",
       "      <td>John</td>\n",
       "      <td>237</td>\n",
       "    </tr>\n",
       "    <tr>\n",
       "      <th>1911</th>\n",
       "      <th>M</th>\n",
       "      <td>CA</td>\n",
       "      <td>John</td>\n",
       "      <td>214</td>\n",
       "    </tr>\n",
       "    <tr>\n",
       "      <th>1912</th>\n",
       "      <th>M</th>\n",
       "      <td>CA</td>\n",
       "      <td>John</td>\n",
       "      <td>501</td>\n",
       "    </tr>\n",
       "    <tr>\n",
       "      <th>...</th>\n",
       "      <th>...</th>\n",
       "      <td>...</td>\n",
       "      <td>...</td>\n",
       "      <td>...</td>\n",
       "    </tr>\n",
       "    <tr>\n",
       "      <th>1915</th>\n",
       "      <th>M</th>\n",
       "      <td>CA</td>\n",
       "      <td>John</td>\n",
       "      <td>1033</td>\n",
       "    </tr>\n",
       "    <tr>\n",
       "      <th>1916</th>\n",
       "      <th>M</th>\n",
       "      <td>CA</td>\n",
       "      <td>John</td>\n",
       "      <td>1086</td>\n",
       "    </tr>\n",
       "    <tr>\n",
       "      <th>1917</th>\n",
       "      <th>M</th>\n",
       "      <td>CA</td>\n",
       "      <td>John</td>\n",
       "      <td>1066</td>\n",
       "    </tr>\n",
       "  </tbody>\n",
       "</table>\n",
       "<p>8 rows × 3 columns</p>\n",
       "</div>"
      ],
      "text/plain": [
       "         State  Name  Count\n",
       "Year Sex                   \n",
       "1910 M      CA  John    237\n",
       "1911 M      CA  John    214\n",
       "1912 M      CA  John    501\n",
       "...        ...   ...    ...\n",
       "1915 M      CA  John   1033\n",
       "1916 M      CA  John   1086\n",
       "1917 M      CA  John   1066\n",
       "\n",
       "[8 rows x 3 columns]"
      ]
     },
     "execution_count": 95,
     "metadata": {},
     "output_type": "execute_result"
    }
   ],
   "source": [
    "most_popular_names[most_popular_names['Name'] == 'John']"
   ]
  },
  {
   "cell_type": "markdown",
   "metadata": {},
   "source": [
    "`.loc` is a bit more complicated:"
   ]
  },
  {
   "cell_type": "code",
   "execution_count": 96,
   "metadata": {},
   "outputs": [
    {
     "data": {
      "text/html": [
       "<div>\n",
       "<style scoped>\n",
       "    .dataframe tbody tr th:only-of-type {\n",
       "        vertical-align: middle;\n",
       "    }\n",
       "\n",
       "    .dataframe tbody tr th {\n",
       "        vertical-align: top;\n",
       "    }\n",
       "\n",
       "    .dataframe thead th {\n",
       "        text-align: right;\n",
       "    }\n",
       "</style>\n",
       "<table border=\"1\" class=\"dataframe\">\n",
       "  <thead>\n",
       "    <tr style=\"text-align: right;\">\n",
       "      <th></th>\n",
       "      <th></th>\n",
       "      <th>State</th>\n",
       "      <th>Name</th>\n",
       "      <th>Count</th>\n",
       "    </tr>\n",
       "    <tr>\n",
       "      <th>Year</th>\n",
       "      <th>Sex</th>\n",
       "      <th></th>\n",
       "      <th></th>\n",
       "      <th></th>\n",
       "    </tr>\n",
       "  </thead>\n",
       "  <tbody>\n",
       "    <tr>\n",
       "      <th rowspan=\"2\" valign=\"top\">2017</th>\n",
       "      <th>F</th>\n",
       "      <td>CA</td>\n",
       "      <td>Emma</td>\n",
       "      <td>2726</td>\n",
       "    </tr>\n",
       "    <tr>\n",
       "      <th>M</th>\n",
       "      <td>CA</td>\n",
       "      <td>Noah</td>\n",
       "      <td>2511</td>\n",
       "    </tr>\n",
       "  </tbody>\n",
       "</table>\n",
       "</div>"
      ],
      "text/plain": [
       "         State  Name  Count\n",
       "Year Sex                   \n",
       "2017 F      CA  Emma   2726\n",
       "     M      CA  Noah   2511"
      ]
     },
     "execution_count": 96,
     "metadata": {},
     "output_type": "execute_result"
    }
   ],
   "source": [
    "most_popular_names.loc[2017, :, :]"
   ]
  },
  {
   "cell_type": "code",
   "execution_count": 97,
   "metadata": {},
   "outputs": [
    {
     "data": {
      "text/html": [
       "<div>\n",
       "<style scoped>\n",
       "    .dataframe tbody tr th:only-of-type {\n",
       "        vertical-align: middle;\n",
       "    }\n",
       "\n",
       "    .dataframe tbody tr th {\n",
       "        vertical-align: top;\n",
       "    }\n",
       "\n",
       "    .dataframe thead th {\n",
       "        text-align: right;\n",
       "    }\n",
       "</style>\n",
       "<table border=\"1\" class=\"dataframe\">\n",
       "  <thead>\n",
       "    <tr style=\"text-align: right;\">\n",
       "      <th>Year</th>\n",
       "      <th>1910</th>\n",
       "      <th>1911</th>\n",
       "      <th>1912</th>\n",
       "      <th>1913</th>\n",
       "      <th>...</th>\n",
       "      <th>2014</th>\n",
       "      <th>2015</th>\n",
       "      <th>2016</th>\n",
       "      <th>2017</th>\n",
       "    </tr>\n",
       "    <tr>\n",
       "      <th>Sex</th>\n",
       "      <th></th>\n",
       "      <th></th>\n",
       "      <th></th>\n",
       "      <th></th>\n",
       "      <th></th>\n",
       "      <th></th>\n",
       "      <th></th>\n",
       "      <th></th>\n",
       "      <th></th>\n",
       "    </tr>\n",
       "  </thead>\n",
       "  <tbody>\n",
       "    <tr>\n",
       "      <th>F</th>\n",
       "      <td>Mary</td>\n",
       "      <td>Mary</td>\n",
       "      <td>Mary</td>\n",
       "      <td>Mary</td>\n",
       "      <td>...</td>\n",
       "      <td>Sophia</td>\n",
       "      <td>Sophia</td>\n",
       "      <td>Mia</td>\n",
       "      <td>Emma</td>\n",
       "    </tr>\n",
       "    <tr>\n",
       "      <th>M</th>\n",
       "      <td>John</td>\n",
       "      <td>John</td>\n",
       "      <td>John</td>\n",
       "      <td>John</td>\n",
       "      <td>...</td>\n",
       "      <td>Noah</td>\n",
       "      <td>Noah</td>\n",
       "      <td>Noah</td>\n",
       "      <td>Noah</td>\n",
       "    </tr>\n",
       "  </tbody>\n",
       "</table>\n",
       "<p>2 rows × 108 columns</p>\n",
       "</div>"
      ],
      "text/plain": [
       "Year  1910  1911  1912  1913  ...    2014    2015  2016  2017\n",
       "Sex                           ...                            \n",
       "F     Mary  Mary  Mary  Mary  ...  Sophia  Sophia   Mia  Emma\n",
       "M     John  John  John  John  ...    Noah    Noah  Noah  Noah\n",
       "\n",
       "[2 rows x 108 columns]"
      ]
     },
     "execution_count": 97,
     "metadata": {},
     "output_type": "execute_result"
    }
   ],
   "source": [
    "pop_pivot = ca.pivot_table(\n",
    "    index='Sex',\n",
    "    columns='Year',\n",
    "    values='Name',\n",
    "    aggfunc=lambda ns: ns.iloc[0]\n",
    ")\n",
    "pop_pivot"
   ]
  },
  {
   "cell_type": "code",
   "execution_count": 98,
   "metadata": {},
   "outputs": [
    {
     "data": {
      "image/png": "[encoded data removed]",
      "text/plain": [
       "<Figure size 432x288 with 1 Axes>"
      ]
     },
     "metadata": {
      "needs_background": "light"
     },
     "output_type": "display_data"
    }
   ],
   "source": [
    "pop_pivot.loc['M'].value_counts().plot(kind='barh');"
   ]
  },
  {
   "cell_type": "code",
   "execution_count": 99,
   "metadata": {},
   "outputs": [
    {
     "data": {
      "image/png": "[encoded data removed]",
      "text/plain": [
       "<Figure size 432x288 with 1 Axes>"
      ]
     },
     "metadata": {
      "needs_background": "light"
     },
     "output_type": "display_data"
    }
   ],
   "source": [
    "ca.pivot_table(\n",
    "    index='Year',\n",
    "    columns='Sex',\n",
    "    values='Name',\n",
    "    aggfunc=len,\n",
    ").plot();"
   ]
  },
  {
   "cell_type": "code",
   "execution_count": 100,
   "metadata": {},
   "outputs": [
    {
     "data": {
      "image/png": "[encoded data removed]",
      "text/plain": [
       "<Figure size 432x288 with 1 Axes>"
      ]
     },
     "metadata": {
      "needs_background": "light"
     },
     "output_type": "display_data"
    }
   ],
   "source": [
    "ca.pivot_table(\n",
    "    index='Year',\n",
    "    columns='Sex',\n",
    "    values='Count',\n",
    "    aggfunc=sum,\n",
    ").plot();"
   ]
  },
  {
   "cell_type": "markdown",
   "metadata": {},
   "source": [
    "## Enrollment Practice Questions"
   ]
  },
  {
   "cell_type": "code",
   "execution_count": 104,
   "metadata": {},
   "outputs": [
    {
     "data": {
      "text/html": [
       "<div>\n",
       "<style scoped>\n",
       "    .dataframe tbody tr th:only-of-type {\n",
       "        vertical-align: middle;\n",
       "    }\n",
       "\n",
       "    .dataframe tbody tr th {\n",
       "        vertical-align: top;\n",
       "    }\n",
       "\n",
       "    .dataframe thead th {\n",
       "        text-align: right;\n",
       "    }\n",
       "</style>\n",
       "<table border=\"1\" class=\"dataframe\">\n",
       "  <thead>\n",
       "    <tr style=\"text-align: right;\">\n",
       "      <th></th>\n",
       "      <th>Term</th>\n",
       "      <th>Subject</th>\n",
       "      <th>Number</th>\n",
       "      <th>Title</th>\n",
       "      <th>Instructor</th>\n",
       "      <th>Enrollment Cnt</th>\n",
       "    </tr>\n",
       "  </thead>\n",
       "  <tbody>\n",
       "    <tr>\n",
       "      <th>0</th>\n",
       "      <td>2018 Spring</td>\n",
       "      <td>Computer Science</td>\n",
       "      <td>9A</td>\n",
       "      <td>Programmers' Matlab</td>\n",
       "      <td>Carol Marshall; Paul Hilfinger</td>\n",
       "      <td>8</td>\n",
       "    </tr>\n",
       "    <tr>\n",
       "      <th>1</th>\n",
       "      <td>2018 Spring</td>\n",
       "      <td>Computer Science</td>\n",
       "      <td>9C</td>\n",
       "      <td>Programmers' C</td>\n",
       "      <td>Carol Marshall; Paul Hilfinger</td>\n",
       "      <td>11</td>\n",
       "    </tr>\n",
       "    <tr>\n",
       "      <th>2</th>\n",
       "      <td>2018 Spring</td>\n",
       "      <td>Computer Science</td>\n",
       "      <td>9E</td>\n",
       "      <td>Productive Unix Use</td>\n",
       "      <td>Carol Marshall; Paul Hilfinger</td>\n",
       "      <td>36</td>\n",
       "    </tr>\n",
       "    <tr>\n",
       "      <th>3</th>\n",
       "      <td>2018 Spring</td>\n",
       "      <td>Computer Science</td>\n",
       "      <td>9F</td>\n",
       "      <td>Programmers' C++</td>\n",
       "      <td>Carol Marshall; Paul Hilfinger</td>\n",
       "      <td>33</td>\n",
       "    </tr>\n",
       "    <tr>\n",
       "      <th>4</th>\n",
       "      <td>2018 Spring</td>\n",
       "      <td>Computer Science</td>\n",
       "      <td>9G</td>\n",
       "      <td>Programmers' Java</td>\n",
       "      <td>Carol Marshall; Paul Hilfinger</td>\n",
       "      <td>11</td>\n",
       "    </tr>\n",
       "  </tbody>\n",
       "</table>\n",
       "</div>"
      ],
      "text/plain": [
       "          Term           Subject Number                Title  \\\n",
       "0  2018 Spring  Computer Science     9A  Programmers' Matlab   \n",
       "1  2018 Spring  Computer Science     9C       Programmers' C   \n",
       "2  2018 Spring  Computer Science     9E  Productive Unix Use   \n",
       "3  2018 Spring  Computer Science     9F     Programmers' C++   \n",
       "4  2018 Spring  Computer Science     9G    Programmers' Java   \n",
       "\n",
       "                       Instructor  Enrollment Cnt  \n",
       "0  Carol Marshall; Paul Hilfinger               8  \n",
       "1  Carol Marshall; Paul Hilfinger              11  \n",
       "2  Carol Marshall; Paul Hilfinger              36  \n",
       "3  Carol Marshall; Paul Hilfinger              33  \n",
       "4  Carol Marshall; Paul Hilfinger              11  "
      ]
     },
     "execution_count": 104,
     "metadata": {},
     "output_type": "execute_result"
    }
   ],
   "source": [
    "df = pd.read_csv(\"enrollments.csv\", usecols=[\"Term\", \"Subject\", \"Number\", \"Title\", \"Enrollment Cnt\", \"Instructor\"])\n",
    "df.head()"
   ]
  },
  {
   "cell_type": "markdown",
   "metadata": {},
   "source": [
    "## Challenge One"
   ]
  },
  {
   "cell_type": "markdown",
   "metadata": {},
   "source": [
    "Try to find all Spring offerings of this course. Note, this dataset only contains Spring offerings, so there's no need to filter based on semester. The official \"Number\" for this class is \"C100\"."
   ]
  },
  {
   "cell_type": "code",
   "execution_count": 105,
   "metadata": {},
   "outputs": [
    {
     "data": {
      "text/html": [
       "<div>\n",
       "<style scoped>\n",
       "    .dataframe tbody tr th:only-of-type {\n",
       "        vertical-align: middle;\n",
       "    }\n",
       "\n",
       "    .dataframe tbody tr th {\n",
       "        vertical-align: top;\n",
       "    }\n",
       "\n",
       "    .dataframe thead th {\n",
       "        text-align: right;\n",
       "    }\n",
       "</style>\n",
       "<table border=\"1\" class=\"dataframe\">\n",
       "  <thead>\n",
       "    <tr style=\"text-align: right;\">\n",
       "      <th></th>\n",
       "      <th>Term</th>\n",
       "      <th>Subject</th>\n",
       "      <th>Number</th>\n",
       "      <th>Title</th>\n",
       "      <th>Instructor</th>\n",
       "      <th>Enrollment Cnt</th>\n",
       "    </tr>\n",
       "  </thead>\n",
       "  <tbody>\n",
       "    <tr>\n",
       "      <th>20</th>\n",
       "      <td>2018 Spring</td>\n",
       "      <td>Computer Science</td>\n",
       "      <td>C100</td>\n",
       "      <td>Princ&amp;Tech Data Sci</td>\n",
       "      <td>Fernando Perez; Joseph Gonzalez</td>\n",
       "      <td>610</td>\n",
       "    </tr>\n",
       "    <tr>\n",
       "      <th>387</th>\n",
       "      <td>2017 Spring</td>\n",
       "      <td>Computer Science</td>\n",
       "      <td>C100</td>\n",
       "      <td>Princ&amp;Tech Data Sci</td>\n",
       "      <td>Bin Yu; Deborah Nolan; Joseph Gonzalez; Joseph...</td>\n",
       "      <td>67</td>\n",
       "    </tr>\n",
       "    <tr>\n",
       "      <th>670</th>\n",
       "      <td>2017 Spring</td>\n",
       "      <td>Statistics</td>\n",
       "      <td>C100</td>\n",
       "      <td>Princ&amp;Tech Data Sci</td>\n",
       "      <td>Bin Yu; Deborah Nolan; Joseph Gonzalez; Joseph...</td>\n",
       "      <td>28</td>\n",
       "    </tr>\n",
       "  </tbody>\n",
       "</table>\n",
       "</div>"
      ],
      "text/plain": [
       "            Term           Subject Number                Title  \\\n",
       "20   2018 Spring  Computer Science   C100  Princ&Tech Data Sci   \n",
       "387  2017 Spring  Computer Science   C100  Princ&Tech Data Sci   \n",
       "670  2017 Spring        Statistics   C100  Princ&Tech Data Sci   \n",
       "\n",
       "                                            Instructor  Enrollment Cnt  \n",
       "20                     Fernando Perez; Joseph Gonzalez             610  \n",
       "387  Bin Yu; Deborah Nolan; Joseph Gonzalez; Joseph...              67  \n",
       "670  Bin Yu; Deborah Nolan; Joseph Gonzalez; Joseph...              28  "
      ]
     },
     "execution_count": 105,
     "metadata": {},
     "output_type": "execute_result"
    }
   ],
   "source": [
    "df[df[\"Number\"] == \"C100\"]"
   ]
  },
  {
   "cell_type": "markdown",
   "metadata": {},
   "source": [
    "## Challenge Two"
   ]
  },
  {
   "cell_type": "markdown",
   "metadata": {},
   "source": [
    "Create a series where each row correspond to one subject (e.g. English), and each value corresponds to the average number of students for courses in that subject. For example, your series might have a row saying that the average number of students in a Computer Science class is 88."
   ]
  },
  {
   "cell_type": "code",
   "execution_count": 106,
   "metadata": {},
   "outputs": [],
   "source": [
    "enrollment_grouped_by_subject = df[\"Enrollment Cnt\"].groupby(df[\"Subject\"])"
   ]
  },
  {
   "cell_type": "code",
   "execution_count": 107,
   "metadata": {
    "scrolled": false
   },
   "outputs": [
    {
     "data": {
      "text/plain": [
       "Subject\n",
       "Computer Science                 88.07\n",
       "Electrical Eng & Computer Sci    21.33\n",
       "Electrical Engineering           36.34\n",
       "English                          24.39\n",
       "Philosophy                       41.52\n",
       "Statistics                       60.30\n",
       "Name: Enrollment Cnt, dtype: float64"
      ]
     },
     "execution_count": 107,
     "metadata": {},
     "output_type": "execute_result"
    }
   ],
   "source": [
    "enrollment_grouped_by_subject.mean()"
   ]
  },
  {
   "cell_type": "markdown",
   "metadata": {},
   "source": [
    "## Challenge Three"
   ]
  },
  {
   "cell_type": "markdown",
   "metadata": {},
   "source": [
    "Create a multi-indexed series where each row corresponds to one subject (e.g. English) offered during one semester (e.g. Spring 2017), and each value corresponds to the maximum number of students for courses in that subject during that semester. For example, you might have a row saying that the maximum number of students in a computer science course during Spring 2012 was 575."
   ]
  },
  {
   "cell_type": "code",
   "execution_count": 108,
   "metadata": {},
   "outputs": [],
   "source": [
    "enrollment_grouped_by_subject_and_term = df[\"Enrollment Cnt\"].groupby([df[\"Subject\"], df[\"Term\"]])"
   ]
  },
  {
   "cell_type": "code",
   "execution_count": 109,
   "metadata": {},
   "outputs": [
    {
     "data": {
      "text/plain": [
       "Subject           Term       \n",
       "Computer Science  2012 Spring     575\n",
       "                  2013 Spring     529\n",
       "                  2014 Spring     944\n",
       "                                 ... \n",
       "Statistics        2016 Spring     450\n",
       "                  2017 Spring     393\n",
       "                  2018 Spring    1043\n",
       "Name: Enrollment Cnt, Length: 38, dtype: int64"
      ]
     },
     "execution_count": 109,
     "metadata": {},
     "output_type": "execute_result"
    }
   ],
   "source": [
    "enrollment_grouped_by_subject_and_term.max()"
   ]
  },
  {
   "cell_type": "markdown",
   "metadata": {},
   "source": [
    "## Challenge Four"
   ]
  },
  {
   "cell_type": "markdown",
   "metadata": {},
   "source": [
    "Try to compute the size of the largest class ever taught by each instructor. This challenge is stated more vaguely on purpose. You'll have to decide what the data structure looks like. Your result should be sorted in decreasing order of class size."
   ]
  },
  {
   "cell_type": "code",
   "execution_count": 110,
   "metadata": {},
   "outputs": [],
   "source": [
    "enrollment_grouped_by_instructor = df[\"Enrollment Cnt\"].groupby(df[\"Instructor\"])"
   ]
  },
  {
   "cell_type": "code",
   "execution_count": 111,
   "metadata": {},
   "outputs": [
    {
     "data": {
      "text/plain": [
       "Instructor\n",
       "Joshua Hug                1379\n",
       "Joshua Hug; Joshua Hug    1328\n",
       "John DeNero               1210\n",
       "                          ... \n",
       "Robert Full                  1\n",
       "Katherine Yelick             1\n",
       "Lotfi Zadeh                  1\n",
       "Name: Enrollment Cnt, Length: 745, dtype: int64"
      ]
     },
     "execution_count": 111,
     "metadata": {},
     "output_type": "execute_result"
    }
   ],
   "source": [
    "enrollment_grouped_by_instructor.max().sort_values(ascending=False)"
   ]
  },
  {
   "cell_type": "markdown",
   "metadata": {},
   "source": [
    "## Can I deduce birth sex from the last letter of a person’s name?"
   ]
  },
  {
   "cell_type": "markdown",
   "metadata": {},
   "source": [
    "### Compute last letter of each name"
   ]
  },
  {
   "cell_type": "code",
   "execution_count": 22,
   "metadata": {},
   "outputs": [
    {
     "data": {
      "text/html": [
       "<div>\n",
       "<style scoped>\n",
       "    .dataframe tbody tr th:only-of-type {\n",
       "        vertical-align: middle;\n",
       "    }\n",
       "\n",
       "    .dataframe tbody tr th {\n",
       "        vertical-align: top;\n",
       "    }\n",
       "\n",
       "    .dataframe thead th {\n",
       "        text-align: right;\n",
       "    }\n",
       "</style>\n",
       "<table border=\"1\" class=\"dataframe\">\n",
       "  <thead>\n",
       "    <tr style=\"text-align: right;\">\n",
       "      <th></th>\n",
       "      <th>State</th>\n",
       "      <th>Sex</th>\n",
       "      <th>Year</th>\n",
       "      <th>Name</th>\n",
       "      <th>Count</th>\n",
       "    </tr>\n",
       "  </thead>\n",
       "  <tbody>\n",
       "    <tr>\n",
       "      <th>0</th>\n",
       "      <td>CA</td>\n",
       "      <td>F</td>\n",
       "      <td>1910</td>\n",
       "      <td>Mary</td>\n",
       "      <td>295</td>\n",
       "    </tr>\n",
       "    <tr>\n",
       "      <th>1</th>\n",
       "      <td>CA</td>\n",
       "      <td>F</td>\n",
       "      <td>1910</td>\n",
       "      <td>Helen</td>\n",
       "      <td>239</td>\n",
       "    </tr>\n",
       "    <tr>\n",
       "      <th>2</th>\n",
       "      <td>CA</td>\n",
       "      <td>F</td>\n",
       "      <td>1910</td>\n",
       "      <td>Dorothy</td>\n",
       "      <td>220</td>\n",
       "    </tr>\n",
       "    <tr>\n",
       "      <th>3</th>\n",
       "      <td>CA</td>\n",
       "      <td>F</td>\n",
       "      <td>1910</td>\n",
       "      <td>Margaret</td>\n",
       "      <td>163</td>\n",
       "    </tr>\n",
       "    <tr>\n",
       "      <th>4</th>\n",
       "      <td>CA</td>\n",
       "      <td>F</td>\n",
       "      <td>1910</td>\n",
       "      <td>Frances</td>\n",
       "      <td>134</td>\n",
       "    </tr>\n",
       "  </tbody>\n",
       "</table>\n",
       "</div>"
      ],
      "text/plain": [
       "  State Sex  Year      Name  Count\n",
       "0    CA   F  1910      Mary    295\n",
       "1    CA   F  1910     Helen    239\n",
       "2    CA   F  1910   Dorothy    220\n",
       "3    CA   F  1910  Margaret    163\n",
       "4    CA   F  1910   Frances    134"
      ]
     },
     "execution_count": 22,
     "metadata": {},
     "output_type": "execute_result"
    }
   ],
   "source": [
    "ca.head()"
   ]
  },
  {
   "cell_type": "code",
   "execution_count": 23,
   "metadata": {},
   "outputs": [
    {
     "data": {
      "text/plain": [
       "0    y\n",
       "1    n\n",
       "2    y\n",
       "3    t\n",
       "4    s\n",
       "Name: Name, dtype: object"
      ]
     },
     "execution_count": 23,
     "metadata": {},
     "output_type": "execute_result"
    }
   ],
   "source": [
    "ca['Name'].str[-1].head()"
   ]
  },
  {
   "cell_type": "markdown",
   "metadata": {},
   "source": [
    "To add column to dataframe:"
   ]
  },
  {
   "cell_type": "code",
   "execution_count": 24,
   "metadata": {},
   "outputs": [
    {
     "data": {
      "text/html": [
       "<div>\n",
       "<style scoped>\n",
       "    .dataframe tbody tr th:only-of-type {\n",
       "        vertical-align: middle;\n",
       "    }\n",
       "\n",
       "    .dataframe tbody tr th {\n",
       "        vertical-align: top;\n",
       "    }\n",
       "\n",
       "    .dataframe thead th {\n",
       "        text-align: right;\n",
       "    }\n",
       "</style>\n",
       "<table border=\"1\" class=\"dataframe\">\n",
       "  <thead>\n",
       "    <tr style=\"text-align: right;\">\n",
       "      <th></th>\n",
       "      <th>State</th>\n",
       "      <th>Sex</th>\n",
       "      <th>Year</th>\n",
       "      <th>Name</th>\n",
       "      <th>Count</th>\n",
       "      <th>Last</th>\n",
       "    </tr>\n",
       "  </thead>\n",
       "  <tbody>\n",
       "    <tr>\n",
       "      <th>0</th>\n",
       "      <td>CA</td>\n",
       "      <td>F</td>\n",
       "      <td>1910</td>\n",
       "      <td>Mary</td>\n",
       "      <td>295</td>\n",
       "      <td>y</td>\n",
       "    </tr>\n",
       "    <tr>\n",
       "      <th>1</th>\n",
       "      <td>CA</td>\n",
       "      <td>F</td>\n",
       "      <td>1910</td>\n",
       "      <td>Helen</td>\n",
       "      <td>239</td>\n",
       "      <td>n</td>\n",
       "    </tr>\n",
       "    <tr>\n",
       "      <th>2</th>\n",
       "      <td>CA</td>\n",
       "      <td>F</td>\n",
       "      <td>1910</td>\n",
       "      <td>Dorothy</td>\n",
       "      <td>220</td>\n",
       "      <td>y</td>\n",
       "    </tr>\n",
       "    <tr>\n",
       "      <th>3</th>\n",
       "      <td>CA</td>\n",
       "      <td>F</td>\n",
       "      <td>1910</td>\n",
       "      <td>Margaret</td>\n",
       "      <td>163</td>\n",
       "      <td>t</td>\n",
       "    </tr>\n",
       "    <tr>\n",
       "      <th>4</th>\n",
       "      <td>CA</td>\n",
       "      <td>F</td>\n",
       "      <td>1910</td>\n",
       "      <td>Frances</td>\n",
       "      <td>134</td>\n",
       "      <td>s</td>\n",
       "    </tr>\n",
       "  </tbody>\n",
       "</table>\n",
       "</div>"
      ],
      "text/plain": [
       "  State Sex  Year      Name  Count Last\n",
       "0    CA   F  1910      Mary    295    y\n",
       "1    CA   F  1910     Helen    239    n\n",
       "2    CA   F  1910   Dorothy    220    y\n",
       "3    CA   F  1910  Margaret    163    t\n",
       "4    CA   F  1910   Frances    134    s"
      ]
     },
     "execution_count": 24,
     "metadata": {},
     "output_type": "execute_result"
    }
   ],
   "source": [
    "ca['Last'] = ca['Name'].str[-1]\n",
    "ca.head()"
   ]
  },
  {
   "cell_type": "markdown",
   "metadata": {},
   "source": [
    "### Group by last letter and sex"
   ]
  },
  {
   "cell_type": "code",
   "execution_count": 25,
   "metadata": {},
   "outputs": [
    {
     "data": {
      "text/html": [
       "<div>\n",
       "<style scoped>\n",
       "    .dataframe tbody tr th:only-of-type {\n",
       "        vertical-align: middle;\n",
       "    }\n",
       "\n",
       "    .dataframe tbody tr th {\n",
       "        vertical-align: top;\n",
       "    }\n",
       "\n",
       "    .dataframe thead th {\n",
       "        text-align: right;\n",
       "    }\n",
       "</style>\n",
       "<table border=\"1\" class=\"dataframe\">\n",
       "  <thead>\n",
       "    <tr style=\"text-align: right;\">\n",
       "      <th></th>\n",
       "      <th></th>\n",
       "      <th>Count</th>\n",
       "    </tr>\n",
       "    <tr>\n",
       "      <th>Last</th>\n",
       "      <th>Sex</th>\n",
       "      <th></th>\n",
       "    </tr>\n",
       "  </thead>\n",
       "  <tbody>\n",
       "    <tr>\n",
       "      <th rowspan=\"2\" valign=\"top\">a</th>\n",
       "      <th>F</th>\n",
       "      <td>5750384</td>\n",
       "    </tr>\n",
       "    <tr>\n",
       "      <th>M</th>\n",
       "      <td>185959</td>\n",
       "    </tr>\n",
       "    <tr>\n",
       "      <th rowspan=\"2\" valign=\"top\">b</th>\n",
       "      <th>F</th>\n",
       "      <td>894</td>\n",
       "    </tr>\n",
       "    <tr>\n",
       "      <th>M</th>\n",
       "      <td>147627</td>\n",
       "    </tr>\n",
       "    <tr>\n",
       "      <th>c</th>\n",
       "      <th>F</th>\n",
       "      <td>2889</td>\n",
       "    </tr>\n",
       "  </tbody>\n",
       "</table>\n",
       "</div>"
      ],
      "text/plain": [
       "            Count\n",
       "Last Sex         \n",
       "a    F    5750384\n",
       "     M     185959\n",
       "b    F        894\n",
       "     M     147627\n",
       "c    F       2889"
      ]
     },
     "execution_count": 25,
     "metadata": {},
     "output_type": "execute_result"
    }
   ],
   "source": [
    "letter_counts = (ca\n",
    "                 .loc[:, ('Sex', 'Count', 'Last')]\n",
    "                 .groupby(['Last', 'Sex'])\n",
    "                 .sum())\n",
    "letter_counts.head()"
   ]
  },
  {
   "cell_type": "markdown",
   "metadata": {},
   "source": [
    "### Visualize our result"
   ]
  },
  {
   "cell_type": "markdown",
   "metadata": {},
   "source": [
    "Use .plot to get some basic plotting functionality:"
   ]
  },
  {
   "cell_type": "code",
   "execution_count": 26,
   "metadata": {},
   "outputs": [
    {
     "data": {
      "image/png": "[encoded data removed]",
      "text/plain": [
       "<Figure size 1080x1080 with 1 Axes>"
      ]
     },
     "metadata": {
      "needs_background": "light"
     },
     "output_type": "display_data"
    }
   ],
   "source": [
    "# Why is this not good?\n",
    "letter_counts.plot.barh(figsize=(15, 15));"
   ]
  },
  {
   "cell_type": "markdown",
   "metadata": {},
   "source": [
    "Reading the docs shows me that pandas will make one set of bars for each column in my table. How do I move each sex into its own column? I have to use pivot:"
   ]
  },
  {
   "cell_type": "code",
   "execution_count": 27,
   "metadata": {},
   "outputs": [
    {
     "data": {
      "text/html": [
       "<div>\n",
       "<style scoped>\n",
       "    .dataframe tbody tr th:only-of-type {\n",
       "        vertical-align: middle;\n",
       "    }\n",
       "\n",
       "    .dataframe tbody tr th {\n",
       "        vertical-align: top;\n",
       "    }\n",
       "\n",
       "    .dataframe thead th {\n",
       "        text-align: right;\n",
       "    }\n",
       "</style>\n",
       "<table border=\"1\" class=\"dataframe\">\n",
       "  <thead>\n",
       "    <tr style=\"text-align: right;\">\n",
       "      <th>Sex</th>\n",
       "      <th>F</th>\n",
       "      <th>M</th>\n",
       "    </tr>\n",
       "    <tr>\n",
       "      <th>Last</th>\n",
       "      <th></th>\n",
       "      <th></th>\n",
       "    </tr>\n",
       "  </thead>\n",
       "  <tbody>\n",
       "    <tr>\n",
       "      <th>a</th>\n",
       "      <td>5750384</td>\n",
       "      <td>185959</td>\n",
       "    </tr>\n",
       "    <tr>\n",
       "      <th>b</th>\n",
       "      <td>894</td>\n",
       "      <td>147627</td>\n",
       "    </tr>\n",
       "    <tr>\n",
       "      <th>c</th>\n",
       "      <td>2889</td>\n",
       "      <td>219350</td>\n",
       "    </tr>\n",
       "    <tr>\n",
       "      <th>d</th>\n",
       "      <td>28728</td>\n",
       "      <td>1222725</td>\n",
       "    </tr>\n",
       "    <tr>\n",
       "      <th>e</th>\n",
       "      <td>2974686</td>\n",
       "      <td>1206604</td>\n",
       "    </tr>\n",
       "  </tbody>\n",
       "</table>\n",
       "</div>"
      ],
      "text/plain": [
       "Sex         F        M\n",
       "Last                  \n",
       "a     5750384   185959\n",
       "b         894   147627\n",
       "c        2889   219350\n",
       "d       28728  1222725\n",
       "e     2974686  1206604"
      ]
     },
     "execution_count": 27,
     "metadata": {},
     "output_type": "execute_result"
    }
   ],
   "source": [
    "# For comparison, the group above:\n",
    "# letter_counts = (baby_names\n",
    "#                  .loc[:, ('Sex', 'Count', 'Last letter')]\n",
    "#                  .groupby(['Last letter', 'Sex'])\n",
    "#                  .sum())\n",
    "\n",
    "last_letter_pivot = ca.pivot_table(\n",
    "    index='Last', # the rows (turned into index)\n",
    "    columns='Sex', # the column values\n",
    "    values='Count', # the field(s) to processed in each group\n",
    "    aggfunc=sum, # group operation\n",
    ")\n",
    "last_letter_pivot.head()"
   ]
  },
  {
   "cell_type": "code",
   "execution_count": 28,
   "metadata": {},
   "outputs": [
    {
     "data": {
      "image/png": "[encoded data removed]",
      "text/plain": [
       "<Figure size 720x720 with 1 Axes>"
      ]
     },
     "metadata": {
      "needs_background": "light"
     },
     "output_type": "display_data"
    }
   ],
   "source": [
    "last_letter_pivot.plot.barh(figsize=(10, 10));"
   ]
  },
  {
   "cell_type": "markdown",
   "metadata": {},
   "source": [
    "Why is this still not ideal?\n",
    "\n",
    "- Plotting raw counts\n",
    "- Not sorted by any order"
   ]
  },
  {
   "cell_type": "code",
   "execution_count": 29,
   "metadata": {},
   "outputs": [
    {
     "data": {
      "text/html": [
       "<div>\n",
       "<style scoped>\n",
       "    .dataframe tbody tr th:only-of-type {\n",
       "        vertical-align: middle;\n",
       "    }\n",
       "\n",
       "    .dataframe tbody tr th {\n",
       "        vertical-align: top;\n",
       "    }\n",
       "\n",
       "    .dataframe thead th {\n",
       "        text-align: right;\n",
       "    }\n",
       "</style>\n",
       "<table border=\"1\" class=\"dataframe\">\n",
       "  <thead>\n",
       "    <tr style=\"text-align: right;\">\n",
       "      <th></th>\n",
       "      <th>F</th>\n",
       "      <th>M</th>\n",
       "    </tr>\n",
       "    <tr>\n",
       "      <th>Last</th>\n",
       "      <th></th>\n",
       "      <th></th>\n",
       "    </tr>\n",
       "  </thead>\n",
       "  <tbody>\n",
       "    <tr>\n",
       "      <th>a</th>\n",
       "      <td>0.968674</td>\n",
       "      <td>0.031326</td>\n",
       "    </tr>\n",
       "    <tr>\n",
       "      <th>i</th>\n",
       "      <td>0.804707</td>\n",
       "      <td>0.195293</td>\n",
       "    </tr>\n",
       "    <tr>\n",
       "      <th>e</th>\n",
       "      <td>0.711428</td>\n",
       "      <td>0.288572</td>\n",
       "    </tr>\n",
       "    <tr>\n",
       "      <th>z</th>\n",
       "      <td>0.689834</td>\n",
       "      <td>0.310166</td>\n",
       "    </tr>\n",
       "    <tr>\n",
       "      <th>y</th>\n",
       "      <td>0.564982</td>\n",
       "      <td>0.435018</td>\n",
       "    </tr>\n",
       "  </tbody>\n",
       "</table>\n",
       "</div>"
      ],
      "text/plain": [
       "             F         M\n",
       "Last                    \n",
       "a     0.968674  0.031326\n",
       "i     0.804707  0.195293\n",
       "e     0.711428  0.288572\n",
       "z     0.689834  0.310166\n",
       "y     0.564982  0.435018"
      ]
     },
     "execution_count": 29,
     "metadata": {},
     "output_type": "execute_result"
    }
   ],
   "source": [
    "totals = last_letter_pivot['F'] + last_letter_pivot['M']\n",
    "\n",
    "last_letter_props = pd.DataFrame({\n",
    "    'F': last_letter_pivot['F'] / totals,\n",
    "    'M': last_letter_pivot['M'] / totals,\n",
    "}).sort_values('M')\n",
    "last_letter_props.head()"
   ]
  },
  {
   "cell_type": "code",
   "execution_count": 30,
   "metadata": {},
   "outputs": [
    {
     "data": {
      "image/png": "[encoded data removed]",
      "text/plain": [
       "<Figure size 720x720 with 1 Axes>"
      ]
     },
     "metadata": {
      "needs_background": "light"
     },
     "output_type": "display_data"
    }
   ],
   "source": [
    "last_letter_props.plot.barh(figsize=(10, 10));"
   ]
  },
  {
   "cell_type": "code",
   "execution_count": null,
   "metadata": {},
   "outputs": [],
   "source": []
  }
 ],
 "metadata": {
  "kernelspec": {
   "display_name": "Python 3",
   "language": "python",
   "name": "python3"
  },
  "language_info": {
   "codemirror_mode": {
    "name": "ipython",
    "version": 3
   },
   "file_extension": ".py",
   "mimetype": "text/x-python",
   "name": "python",
   "nbconvert_exporter": "python",
   "pygments_lexer": "ipython3",
   "version": "3.7.3"
  }
 },
 "nbformat": 4,
 "nbformat_minor": 2
}
