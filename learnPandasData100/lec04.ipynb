{
 "cells": [
  {
   "cell_type": "code",
   "execution_count": 54,
   "metadata": {},
   "outputs": [],
   "source": [
    "%matplotlib inline\n",
    "import matplotlib.pyplot as plt\n",
    "import seaborn as sns\n",
    "import numpy as np\n",
    "import pandas as pd\n",
    "\n",
    "sns.set()\n",
    "sns.set_context('talk')\n",
    "np.set_printoptions(threshold=20, precision=2, suppress=True)\n",
    "pd.options.display.max_rows = 7\n",
    "pd.options.display.max_columns = 8\n",
    "pd.set_option('precision', 2)\n",
    "# This option stops scientific notation for pandas\n",
    "# pd.set_option('display.float_format', '{:.2f}'.format)"
   ]
  },
  {
   "cell_type": "code",
   "execution_count": 226,
   "metadata": {},
   "outputs": [],
   "source": [
    "# Sam's special methods to display large DataFrames\n",
    "import ipywidgets as widgets\n",
    "from ipywidgets import interact, interactive, fixed, interact_manual\n",
    "def df_interact(df, nrows=7, ncols=7):\n",
    "    '''\n",
    "    Outputs sliders that show rows and columns of df\n",
    "    '''\n",
    "    def peek(row=0, col=0):\n",
    "        return df.iloc[row:row + nrows, col:col + ncols]\n",
    "\n",
    "    row_arg = (0, len(df), nrows) if len(df) > nrows else fixed(0)\n",
    "    col_arg = ((0, len(df.columns), ncols)\n",
    "               if len(df.columns) > ncols else fixed(0))\n",
    "    \n",
    "    interact(peek, row=row_arg, col=col_arg)\n",
    "    print('({} rows, {} columns) total'.format(df.shape[0], df.shape[1]))\n",
    "\n",
    "def display_df(df, rows=pd.options.display.max_rows,\n",
    "               cols=pd.options.display.max_columns):\n",
    "    with pd.option_context('display.max_rows', rows,\n",
    "                           'display.max_columns', cols):\n",
    "        display(df)"
   ]
  },
  {
   "cell_type": "markdown",
   "metadata": {},
   "source": [
    "## Tidy Data\n",
    "\n",
    "Based off Hadley Wickham's _R for Data Science_ book: https://r4ds.had.co.nz/tidy-data.html"
   ]
  },
  {
   "cell_type": "code",
   "execution_count": 241,
   "metadata": {},
   "outputs": [],
   "source": [
    "tb = pd.read_csv('who.csv')\n",
    "# tb"
   ]
  },
  {
   "cell_type": "code",
   "execution_count": 227,
   "metadata": {},
   "outputs": [
    {
     "data": {
      "application/vnd.jupyter.widget-view+json": {
       "model_id": "be5b2bb113054e99bbb3d75aa864049c",
       "version_major": 2,
       "version_minor": 0
      },
      "text/plain": [
       "interactive(children=(IntSlider(value=0, description='row', max=7240, step=7), IntSlider(value=0, description=…"
      ]
     },
     "metadata": {},
     "output_type": "display_data"
    },
    {
     "name": "stdout",
     "output_type": "stream",
     "text": [
      "(7240 rows, 18 columns) total\n"
     ]
    }
   ],
   "source": [
    "df_interact(tb)"
   ]
  },
  {
   "cell_type": "code",
   "execution_count": 136,
   "metadata": {},
   "outputs": [],
   "source": [
    "def drop_iso(df):\n",
    "    return df.drop(columns=['iso2', 'iso3'])"
   ]
  },
  {
   "cell_type": "code",
   "execution_count": 137,
   "metadata": {},
   "outputs": [],
   "source": [
    "def make_tidy(df):\n",
    "    return pd.melt(df, id_vars=['country', 'year'],\n",
    "                   var_name='entry', value_name='count')"
   ]
  },
  {
   "cell_type": "code",
   "execution_count": 140,
   "metadata": {},
   "outputs": [],
   "source": [
    "def split_entry(df):\n",
    "    codes = df['entry'].str.split('_').str[-1]\n",
    "    return (df.assign(sex=codes.str[0], agecode=codes.str[1:])\n",
    "            .drop(columns=['entry']))"
   ]
  },
  {
   "cell_type": "code",
   "execution_count": 141,
   "metadata": {},
   "outputs": [],
   "source": [
    "def age_from_code(df):\n",
    "    return df.assign(age=df['agecode'].replace({\n",
    "        '014': '0-14',\n",
    "        '04': '0-4',\n",
    "        '1524': '15-24',\n",
    "        '2534': '25-34',\n",
    "        '3544': '35-44',\n",
    "        '4554': '45-54',\n",
    "        '5564': '55-64',\n",
    "        '65': '65+',\n",
    "    })).drop(columns='agecode')"
   ]
  },
  {
   "cell_type": "code",
   "execution_count": 142,
   "metadata": {},
   "outputs": [
    {
     "data": {
      "text/html": [
       "<div>\n",
       "<style scoped>\n",
       "    .dataframe tbody tr th:only-of-type {\n",
       "        vertical-align: middle;\n",
       "    }\n",
       "\n",
       "    .dataframe tbody tr th {\n",
       "        vertical-align: top;\n",
       "    }\n",
       "\n",
       "    .dataframe thead th {\n",
       "        text-align: right;\n",
       "    }\n",
       "</style>\n",
       "<table border=\"1\" class=\"dataframe\">\n",
       "  <thead>\n",
       "    <tr style=\"text-align: right;\">\n",
       "      <th></th>\n",
       "      <th>country</th>\n",
       "      <th>year</th>\n",
       "      <th>count</th>\n",
       "      <th>sex</th>\n",
       "      <th>age</th>\n",
       "    </tr>\n",
       "  </thead>\n",
       "  <tbody>\n",
       "    <tr>\n",
       "      <th>0</th>\n",
       "      <td>Afghanistan</td>\n",
       "      <td>1980</td>\n",
       "      <td>NaN</td>\n",
       "      <td>m</td>\n",
       "      <td>0-14</td>\n",
       "    </tr>\n",
       "    <tr>\n",
       "      <th>1</th>\n",
       "      <td>Afghanistan</td>\n",
       "      <td>1981</td>\n",
       "      <td>NaN</td>\n",
       "      <td>m</td>\n",
       "      <td>0-14</td>\n",
       "    </tr>\n",
       "    <tr>\n",
       "      <th>2</th>\n",
       "      <td>Afghanistan</td>\n",
       "      <td>1982</td>\n",
       "      <td>NaN</td>\n",
       "      <td>m</td>\n",
       "      <td>0-14</td>\n",
       "    </tr>\n",
       "    <tr>\n",
       "      <th>...</th>\n",
       "      <td>...</td>\n",
       "      <td>...</td>\n",
       "      <td>...</td>\n",
       "      <td>...</td>\n",
       "      <td>...</td>\n",
       "    </tr>\n",
       "    <tr>\n",
       "      <th>101357</th>\n",
       "      <td>Zimbabwe</td>\n",
       "      <td>2011</td>\n",
       "      <td>160.0</td>\n",
       "      <td>f</td>\n",
       "      <td>65+</td>\n",
       "    </tr>\n",
       "    <tr>\n",
       "      <th>101358</th>\n",
       "      <td>Zimbabwe</td>\n",
       "      <td>2012</td>\n",
       "      <td>161.0</td>\n",
       "      <td>f</td>\n",
       "      <td>65+</td>\n",
       "    </tr>\n",
       "    <tr>\n",
       "      <th>101359</th>\n",
       "      <td>Zimbabwe</td>\n",
       "      <td>2013</td>\n",
       "      <td>NaN</td>\n",
       "      <td>f</td>\n",
       "      <td>65+</td>\n",
       "    </tr>\n",
       "  </tbody>\n",
       "</table>\n",
       "<p>101360 rows × 5 columns</p>\n",
       "</div>"
      ],
      "text/plain": [
       "            country  year  count sex   age\n",
       "0       Afghanistan  1980    NaN   m  0-14\n",
       "1       Afghanistan  1981    NaN   m  0-14\n",
       "2       Afghanistan  1982    NaN   m  0-14\n",
       "...             ...   ...    ...  ..   ...\n",
       "101357     Zimbabwe  2011  160.0   f   65+\n",
       "101358     Zimbabwe  2012  161.0   f   65+\n",
       "101359     Zimbabwe  2013    NaN   f   65+\n",
       "\n",
       "[101360 rows x 5 columns]"
      ]
     },
     "execution_count": 142,
     "metadata": {},
     "output_type": "execute_result"
    }
   ],
   "source": [
    "tidy = (tb.pipe(drop_iso)\n",
    " .pipe(make_tidy)\n",
    " .pipe(split_entry)\n",
    " .pipe(age_from_code)\n",
    ")\n",
    "tidy"
   ]
  },
  {
   "cell_type": "code",
   "execution_count": 238,
   "metadata": {},
   "outputs": [
    {
     "data": {
      "text/html": [
       "<div>\n",
       "<style scoped>\n",
       "    .dataframe tbody tr th:only-of-type {\n",
       "        vertical-align: middle;\n",
       "    }\n",
       "\n",
       "    .dataframe tbody tr th {\n",
       "        vertical-align: top;\n",
       "    }\n",
       "\n",
       "    .dataframe thead th {\n",
       "        text-align: right;\n",
       "    }\n",
       "</style>\n",
       "<table border=\"1\" class=\"dataframe\">\n",
       "  <thead>\n",
       "    <tr style=\"text-align: right;\">\n",
       "      <th></th>\n",
       "      <th>country</th>\n",
       "      <th>year</th>\n",
       "      <th>count</th>\n",
       "    </tr>\n",
       "  </thead>\n",
       "  <tbody>\n",
       "    <tr>\n",
       "      <th>1291</th>\n",
       "      <td>Haiti</td>\n",
       "      <td>1996</td>\n",
       "      <td>239.36</td>\n",
       "    </tr>\n",
       "    <tr>\n",
       "      <th>1292</th>\n",
       "      <td>Haiti</td>\n",
       "      <td>1997</td>\n",
       "      <td>389.21</td>\n",
       "    </tr>\n",
       "    <tr>\n",
       "      <th>1293</th>\n",
       "      <td>Haiti</td>\n",
       "      <td>1998</td>\n",
       "      <td>460.14</td>\n",
       "    </tr>\n",
       "    <tr>\n",
       "      <th>...</th>\n",
       "      <td>...</td>\n",
       "      <td>...</td>\n",
       "      <td>...</td>\n",
       "    </tr>\n",
       "    <tr>\n",
       "      <th>1339</th>\n",
       "      <td>Hungary</td>\n",
       "      <td>2010</td>\n",
       "      <td>19.07</td>\n",
       "    </tr>\n",
       "    <tr>\n",
       "      <th>1340</th>\n",
       "      <td>Hungary</td>\n",
       "      <td>2011</td>\n",
       "      <td>18.57</td>\n",
       "    </tr>\n",
       "    <tr>\n",
       "      <th>1341</th>\n",
       "      <td>Hungary</td>\n",
       "      <td>2012</td>\n",
       "      <td>19.50</td>\n",
       "    </tr>\n",
       "  </tbody>\n",
       "</table>\n",
       "<p>51 rows × 3 columns</p>\n",
       "</div>"
      ],
      "text/plain": [
       "      country  year   count\n",
       "1291    Haiti  1996  239.36\n",
       "1292    Haiti  1997  389.21\n",
       "1293    Haiti  1998  460.14\n",
       "...       ...   ...     ...\n",
       "1339  Hungary  2010   19.07\n",
       "1340  Hungary  2011   18.57\n",
       "1341  Hungary  2012   19.50\n",
       "\n",
       "[51 rows x 3 columns]"
      ]
     },
     "execution_count": 238,
     "metadata": {},
     "output_type": "execute_result"
    }
   ],
   "source": [
    "counts = (tidy\n",
    " .groupby(['country', 'year'])\n",
    " .mean()\n",
    " .dropna()\n",
    " .reset_index()\n",
    " .loc[lambda df: df['country'].str[0] == 'H']\n",
    ")\n",
    "counts"
   ]
  },
  {
   "cell_type": "markdown",
   "metadata": {},
   "source": [
    "Tidy data is especially useful for seaborn, the plotting library we will use extensively in this course!"
   ]
  },
  {
   "cell_type": "code",
   "execution_count": 243,
   "metadata": {},
   "outputs": [
    {
     "data": {
      "text/plain": [
       "<matplotlib.axes._subplots.AxesSubplot at 0x1a4cf22860>"
      ]
     },
     "execution_count": 243,
     "metadata": {},
     "output_type": "execute_result"
    },
    {
     "data": {
      "image/png": "[encoded data removed]",
      "text/plain": [
       "<Figure size 432x288 with 1 Axes>"
      ]
     },
     "metadata": {},
     "output_type": "display_data"
    }
   ],
   "source": [
    "sns.barplot(x='count', y='country', data=counts)"
   ]
  },
  {
   "cell_type": "code",
   "execution_count": 252,
   "metadata": {},
   "outputs": [
    {
     "data": {
      "text/plain": [
       "<seaborn.axisgrid.FacetGrid at 0x1a27807d30>"
      ]
     },
     "execution_count": 252,
     "metadata": {},
     "output_type": "execute_result"
    },
    {
     "data": {
      "image/png": "[encoded data removed]",
      "text/plain": [
       "<Figure size 1080x360 with 3 Axes>"
      ]
     },
     "metadata": {},
     "output_type": "display_data"
    }
   ],
   "source": [
    "sns.lmplot(x='year', y='count', col='country', data=counts)"
   ]
  },
  {
   "cell_type": "markdown",
   "metadata": {},
   "source": [
    "## JSON"
   ]
  },
  {
   "cell_type": "code",
   "execution_count": 246,
   "metadata": {
    "scrolled": true
   },
   "outputs": [
    {
     "name": "stdout",
     "output_type": "stream",
     "text": [
      "{\r\n",
      "    \"Candidate\": {\r\n",
      "        \"0\": \"Reagan\",\r\n",
      "        \"1\": \"Carter\",\r\n",
      "        \"2\": \"Anderson\",\r\n",
      "        \"3\": \"Reagan\",\r\n",
      "        \"4\": \"Mondale\",\r\n",
      "        \"5\": \"Bush\",\r\n",
      "        \"6\": \"Dukakis\",\r\n",
      "        \"7\": \"Clinton\",\r\n",
      "        \"8\": \"Bush\",\r\n",
      "        \"9\": \"Perot\",\r\n",
      "        \"10\": \"Clinton\",\r\n",
      "        \"11\": \"Dole\",\r\n",
      "        \"12\": \"Perot\",\r\n",
      "        \"13\": \"Gore\",\r\n",
      "        \"14\": \"Bush\",\r\n",
      "        \"15\": \"Kerry\",\r\n",
      "        \"16\": \"Bush\",\r\n",
      "        \"17\": \"Obama\",\r\n",
      "        \"18\": \"McCain\",\r\n",
      "        \"19\": \"Obama\",\r\n",
      "        \"20\": \"Romney\",\r\n",
      "        \"21\": \"Clinton\",\r\n",
      "        \"22\": \"Trump\"\r\n",
      "    },\r\n",
      "    \"Party\": {\r\n",
      "        \"0\": \"Republican\",\r\n",
      "        \"1\": \"Democratic\",\r\n",
      "        \"2\": \"Independent\",\r\n",
      "        \"3\": \"Republican\",\r\n",
      "        \"4\": \"Democratic\",\r\n",
      "        \"5\": \"Republican\",\r\n",
      "        \"6\": \"Democratic\",\r\n",
      "        \"7\": \"Democratic\",\r\n",
      "        \"8\": \"Republican\",\r\n",
      "        \"9\": \"Independent\",\r\n",
      "        \"10\": \"Democratic\",\r\n",
      "        \"11\": \"Republican\",\r\n",
      "        \"12\": \"Independent\",\r\n",
      "        \"13\": \"Democratic\",\r\n",
      "        \"14\": \"Republican\",\r\n",
      "        \"15\": \"Democratic\",\r\n",
      "        \"16\": \"Republican\",\r\n",
      "        \"17\": \"Democratic\",\r\n",
      "        \"18\": \"Republican\",\r\n",
      "        \"19\": \"Democratic\",\r\n",
      "        \"20\": \"Republican\",\r\n",
      "        \"21\": \"Democratic\",\r\n",
      "        \"22\": \"Republican\"\r\n",
      "    },\r\n",
      "    \"%\": {\r\n",
      "        \"0\": 50.7,\r\n",
      "        \"1\": 41.0,\r\n",
      "        \"2\": 6.6,\r\n",
      "        \"3\": 58.8,\r\n",
      "        \"4\": 37.6,\r\n",
      "        \"5\": 53.4,\r\n",
      "        \"6\": 45.6,\r\n",
      "        \"7\": 43.0,\r\n",
      "        \"8\": 37.4,\r\n",
      "        \"9\": 18.9,\r\n",
      "        \"10\": 49.2,\r\n",
      "        \"11\": 40.7,\r\n",
      "        \"12\": 8.4,\r\n",
      "        \"13\": 48.4,\r\n",
      "        \"14\": 47.9,\r\n",
      "        \"15\": 48.3,\r\n",
      "        \"16\": 50.7,\r\n",
      "        \"17\": 52.9,\r\n",
      "        \"18\": 45.7,\r\n",
      "        \"19\": 51.1,\r\n",
      "        \"20\": 47.2,\r\n",
      "        \"21\": 48.2,\r\n",
      "        \"22\": 46.1\r\n",
      "    },\r\n",
      "    \"Year\": {\r\n",
      "        \"0\": 1980,\r\n",
      "        \"1\": 1980,\r\n",
      "        \"2\": 1980,\r\n",
      "        \"3\": 1984,\r\n",
      "        \"4\": 1984,\r\n",
      "        \"5\": 1988,\r\n",
      "        \"6\": 1988,\r\n",
      "        \"7\": 1992,\r\n",
      "        \"8\": 1992,\r\n",
      "        \"9\": 1992,\r\n",
      "        \"10\": 1996,\r\n",
      "        \"11\": 1996,\r\n",
      "        \"12\": 1996,\r\n",
      "        \"13\": 2000,\r\n",
      "        \"14\": 2000,\r\n",
      "        \"15\": 2004,\r\n",
      "        \"16\": 2004,\r\n",
      "        \"17\": 2008,\r\n",
      "        \"18\": 2008,\r\n",
      "        \"19\": 2012,\r\n",
      "        \"20\": 2012,\r\n",
      "        \"21\": 2016,\r\n",
      "        \"22\": 2016\r\n",
      "    },\r\n",
      "    \"Result\": {\r\n",
      "        \"0\": \"win\",\r\n",
      "        \"1\": \"loss\",\r\n",
      "        \"2\": \"loss\",\r\n",
      "        \"3\": \"win\",\r\n",
      "        \"4\": \"loss\",\r\n",
      "        \"5\": \"win\",\r\n",
      "        \"6\": \"loss\",\r\n",
      "        \"7\": \"win\",\r\n",
      "        \"8\": \"loss\",\r\n",
      "        \"9\": \"loss\",\r\n",
      "        \"10\": \"win\",\r\n",
      "        \"11\": \"loss\",\r\n",
      "        \"12\": \"loss\",\r\n",
      "        \"13\": \"loss\",\r\n",
      "        \"14\": \"win\",\r\n",
      "        \"15\": \"loss\",\r\n",
      "        \"16\": \"win\",\r\n",
      "        \"17\": \"win\",\r\n",
      "        \"18\": \"loss\",\r\n",
      "        \"19\": \"win\",\r\n",
      "        \"20\": \"loss\",\r\n",
      "        \"21\": \"loss\",\r\n",
      "        \"22\": \"win\"\r\n",
      "    }\r\n",
      "}\r\n"
     ]
    }
   ],
   "source": [
    "elections = pd.read_csv(\"elections.csv\")\n",
    "elections.to_json(\"elections.json\") # orient='table' or 'records' or 'values'\n",
    "!python -m json.tool elections.json "
   ]
  },
  {
   "cell_type": "markdown",
   "metadata": {},
   "source": [
    "## Hierarchical Data"
   ]
  },
  {
   "cell_type": "markdown",
   "metadata": {},
   "source": [
    "A lot of structured data isn't in CSV format, but in HTML, XML, JSON, YAML, etc. JSON might have a structure that Pandas can't read directly.\n",
    "\n",
    "Here's an example: a group of people collected information about US congressional legislators in YAML format.\n",
    "\n",
    "https://github.com/unitedstates/congress-legislators\n",
    "\n",
    "Here's one of the data files:\n",
    "\n",
    "https://github.com/unitedstates/congress-legislators/blob/master/legislators-current.yaml"
   ]
  },
  {
   "cell_type": "code",
   "execution_count": 20,
   "metadata": {},
   "outputs": [
    {
     "name": "stdout",
     "output_type": "stream",
     "text": [
      "Downloading... Done!\n"
     ]
    }
   ],
   "source": [
    "import requests\n",
    "from pathlib import Path\n",
    "\n",
    "legislators_path = 'legislators-current.yaml'\n",
    "base_url = 'https://github.com/unitedstates/congress-legislators/raw/dc6fde4ed65f88edf11568d0522eca17b439f447/'\n",
    "\n",
    "def download(url, path):\n",
    "    \"\"\"Download the contents of a URL to a local file.\"\"\"\n",
    "    path = Path(path) # If path was a string, now it's a Path\n",
    "    if not path.exists():\n",
    "        print('Downloading...', end=' ')\n",
    "        resp = requests.get(url)\n",
    "        with path.open('wb') as f:\n",
    "            f.write(resp.content)\n",
    "        print('Done!')\n",
    "        \n",
    "download(base_url + legislators_path, legislators_path)"
   ]
  },
  {
   "cell_type": "code",
   "execution_count": 21,
   "metadata": {},
   "outputs": [
    {
     "data": {
      "text/plain": [
       "539"
      ]
     },
     "execution_count": 21,
     "metadata": {},
     "output_type": "execute_result"
    }
   ],
   "source": [
    "import yaml\n",
    "\n",
    "legislators = yaml.safe_load(open(legislators_path))\n",
    "len(legislators)"
   ]
  },
  {
   "cell_type": "code",
   "execution_count": 23,
   "metadata": {},
   "outputs": [
    {
     "data": {
      "text/plain": [
       "{'id': {'bioguide': 'B000944',\n",
       "  'thomas': '00136',\n",
       "  'lis': 'S307',\n",
       "  'govtrack': 400050,\n",
       "  'opensecrets': 'N00003535',\n",
       "  'votesmart': 27018,\n",
       "  'fec': ['H2OH13033', 'S6OH00163'],\n",
       "  'cspan': 5051,\n",
       "  'wikipedia': 'Sherrod Brown',\n",
       "  'house_history': 9996,\n",
       "  'ballotpedia': 'Sherrod Brown',\n",
       "  'maplight': 168,\n",
       "  'icpsr': 29389,\n",
       "  'wikidata': 'Q381880',\n",
       "  'google_entity_id': 'kg:/m/034s80'},\n",
       " 'name': {'first': 'Sherrod',\n",
       "  'last': 'Brown',\n",
       "  'official_full': 'Sherrod Brown'},\n",
       " 'bio': {'birthday': '1952-11-09', 'gender': 'M', 'religion': 'Lutheran'},\n",
       " 'terms': [{'type': 'rep',\n",
       "   'start': '1993-01-05',\n",
       "   'end': '1995-01-03',\n",
       "   'state': 'OH',\n",
       "   'district': 13,\n",
       "   'party': 'Democrat'},\n",
       "  {'type': 'rep',\n",
       "   'start': '1995-01-04',\n",
       "   'end': '1997-01-03',\n",
       "   'state': 'OH',\n",
       "   'district': 13,\n",
       "   'party': 'Democrat'},\n",
       "  {'type': 'rep',\n",
       "   'start': '1997-01-07',\n",
       "   'end': '1999-01-03',\n",
       "   'state': 'OH',\n",
       "   'district': 13,\n",
       "   'party': 'Democrat'},\n",
       "  {'type': 'rep',\n",
       "   'start': '1999-01-06',\n",
       "   'end': '2001-01-03',\n",
       "   'state': 'OH',\n",
       "   'district': 13,\n",
       "   'party': 'Democrat'},\n",
       "  {'type': 'rep',\n",
       "   'start': '2001-01-03',\n",
       "   'end': '2003-01-03',\n",
       "   'state': 'OH',\n",
       "   'district': 13,\n",
       "   'party': 'Democrat'},\n",
       "  {'type': 'rep',\n",
       "   'start': '2003-01-07',\n",
       "   'end': '2005-01-03',\n",
       "   'state': 'OH',\n",
       "   'district': 13,\n",
       "   'party': 'Democrat',\n",
       "   'url': 'http://www.house.gov/sherrodbrown'},\n",
       "  {'type': 'rep',\n",
       "   'start': '2005-01-04',\n",
       "   'end': '2007-01-03',\n",
       "   'state': 'OH',\n",
       "   'district': 13,\n",
       "   'party': 'Democrat',\n",
       "   'url': 'http://www.house.gov/sherrodbrown'},\n",
       "  {'type': 'sen',\n",
       "   'start': '2007-01-04',\n",
       "   'end': '2013-01-03',\n",
       "   'state': 'OH',\n",
       "   'class': 1,\n",
       "   'party': 'Democrat',\n",
       "   'url': 'http://brown.senate.gov/',\n",
       "   'address': '713 HART SENATE OFFICE BUILDING WASHINGTON DC 20510',\n",
       "   'phone': '202-224-2315',\n",
       "   'fax': '202-228-6321',\n",
       "   'contact_form': 'http://www.brown.senate.gov/contact/',\n",
       "   'office': '713 Hart Senate Office Building'},\n",
       "  {'type': 'sen',\n",
       "   'start': '2013-01-03',\n",
       "   'end': '2019-01-03',\n",
       "   'state': 'OH',\n",
       "   'party': 'Democrat',\n",
       "   'class': 1,\n",
       "   'url': 'https://www.brown.senate.gov',\n",
       "   'address': '713 Hart Senate Office Building Washington DC 20510',\n",
       "   'phone': '202-224-2315',\n",
       "   'fax': '202-228-6321',\n",
       "   'contact_form': 'http://www.brown.senate.gov/contact/',\n",
       "   'office': '713 Hart Senate Office Building',\n",
       "   'state_rank': 'senior',\n",
       "   'rss_url': 'http://www.brown.senate.gov/rss/feeds/?type=all&amp;'},\n",
       "  {'type': 'sen',\n",
       "   'start': '2019-01-03',\n",
       "   'end': '2025-01-03',\n",
       "   'state': 'OH',\n",
       "   'class': 1,\n",
       "   'party': 'Democrat',\n",
       "   'state_rank': 'senior',\n",
       "   'url': 'https://www.brown.senate.gov',\n",
       "   'rss_url': 'http://www.brown.senate.gov/rss/feeds/?type=all&amp;',\n",
       "   'contact_form': 'http://www.brown.senate.gov/contact/',\n",
       "   'address': '503 Hart Senate Office Building Washington DC 20510',\n",
       "   'office': '503 Hart Senate Office Building',\n",
       "   'phone': '202-224-2315'}]}"
      ]
     },
     "execution_count": 23,
     "metadata": {},
     "output_type": "execute_result"
    }
   ],
   "source": [
    "legislators[0]"
   ]
  },
  {
   "cell_type": "code",
   "execution_count": 24,
   "metadata": {},
   "outputs": [
    {
     "data": {
      "text/plain": [
       "{'bioguide': 'B000944',\n",
       " 'thomas': '00136',\n",
       " 'lis': 'S307',\n",
       " 'govtrack': 400050,\n",
       " 'opensecrets': 'N00003535',\n",
       " 'votesmart': 27018,\n",
       " 'fec': ['H2OH13033', 'S6OH00163'],\n",
       " 'cspan': 5051,\n",
       " 'wikipedia': 'Sherrod Brown',\n",
       " 'house_history': 9996,\n",
       " 'ballotpedia': 'Sherrod Brown',\n",
       " 'maplight': 168,\n",
       " 'icpsr': 29389,\n",
       " 'wikidata': 'Q381880',\n",
       " 'google_entity_id': 'kg:/m/034s80'}"
      ]
     },
     "execution_count": 24,
     "metadata": {},
     "output_type": "execute_result"
    }
   ],
   "source": [
    "x = legislators[0]\n",
    "x['id']"
   ]
  },
  {
   "cell_type": "code",
   "execution_count": 25,
   "metadata": {},
   "outputs": [
    {
     "data": {
      "text/plain": [
       "{'first': 'Sherrod', 'last': 'Brown', 'official_full': 'Sherrod Brown'}"
      ]
     },
     "execution_count": 25,
     "metadata": {},
     "output_type": "execute_result"
    }
   ],
   "source": [
    "x['name']"
   ]
  },
  {
   "cell_type": "code",
   "execution_count": 26,
   "metadata": {},
   "outputs": [
    {
     "data": {
      "text/plain": [
       "{'birthday': '1952-11-09', 'gender': 'M', 'religion': 'Lutheran'}"
      ]
     },
     "execution_count": 26,
     "metadata": {},
     "output_type": "execute_result"
    }
   ],
   "source": [
    "x['bio']"
   ]
  },
  {
   "cell_type": "code",
   "execution_count": 27,
   "metadata": {},
   "outputs": [
    {
     "data": {
      "text/plain": [
       "datetime.datetime(1952, 11, 9, 0, 0)"
      ]
     },
     "execution_count": 27,
     "metadata": {},
     "output_type": "execute_result"
    }
   ],
   "source": [
    "from datetime import datetime\n",
    "\n",
    "def to_date(s):\n",
    "    return datetime.strptime(s, '%Y-%m-%d')\n",
    "\n",
    "to_date(x['bio']['birthday'])"
   ]
  },
  {
   "cell_type": "code",
   "execution_count": 28,
   "metadata": {},
   "outputs": [
    {
     "data": {
      "text/html": [
       "<div>\n",
       "<style scoped>\n",
       "    .dataframe tbody tr th:only-of-type {\n",
       "        vertical-align: middle;\n",
       "    }\n",
       "\n",
       "    .dataframe tbody tr th {\n",
       "        vertical-align: top;\n",
       "    }\n",
       "\n",
       "    .dataframe thead th {\n",
       "        text-align: right;\n",
       "    }\n",
       "</style>\n",
       "<table border=\"1\" class=\"dataframe\">\n",
       "  <thead>\n",
       "    <tr style=\"text-align: right;\">\n",
       "      <th></th>\n",
       "      <th>id</th>\n",
       "      <th>first</th>\n",
       "      <th>last</th>\n",
       "      <th>birthday</th>\n",
       "    </tr>\n",
       "  </thead>\n",
       "  <tbody>\n",
       "    <tr>\n",
       "      <th>0</th>\n",
       "      <td>B000944</td>\n",
       "      <td>Sherrod</td>\n",
       "      <td>Brown</td>\n",
       "      <td>1952-11-09</td>\n",
       "    </tr>\n",
       "    <tr>\n",
       "      <th>1</th>\n",
       "      <td>C000127</td>\n",
       "      <td>Maria</td>\n",
       "      <td>Cantwell</td>\n",
       "      <td>1958-10-13</td>\n",
       "    </tr>\n",
       "    <tr>\n",
       "      <th>2</th>\n",
       "      <td>C000141</td>\n",
       "      <td>Benjamin</td>\n",
       "      <td>Cardin</td>\n",
       "      <td>1943-10-05</td>\n",
       "    </tr>\n",
       "    <tr>\n",
       "      <th>3</th>\n",
       "      <td>C000174</td>\n",
       "      <td>Thomas</td>\n",
       "      <td>Carper</td>\n",
       "      <td>1947-01-23</td>\n",
       "    </tr>\n",
       "    <tr>\n",
       "      <th>4</th>\n",
       "      <td>C001070</td>\n",
       "      <td>Robert</td>\n",
       "      <td>Casey</td>\n",
       "      <td>1960-04-13</td>\n",
       "    </tr>\n",
       "  </tbody>\n",
       "</table>\n",
       "</div>"
      ],
      "text/plain": [
       "        id     first      last   birthday\n",
       "0  B000944   Sherrod     Brown 1952-11-09\n",
       "1  C000127     Maria  Cantwell 1958-10-13\n",
       "2  C000141  Benjamin    Cardin 1943-10-05\n",
       "3  C000174    Thomas    Carper 1947-01-23\n",
       "4  C001070    Robert     Casey 1960-04-13"
      ]
     },
     "execution_count": 28,
     "metadata": {},
     "output_type": "execute_result"
    }
   ],
   "source": [
    "leg_df = pd.DataFrame(\n",
    "    columns=['id', 'first', 'last', 'birthday'],\n",
    "    data=[[x['id']['bioguide'], \n",
    "           x['name']['first'],\n",
    "           x['name']['last'],\n",
    "           to_date(x['bio']['birthday'])] for x in legislators])\n",
    "leg_df.head()"
   ]
  },
  {
   "cell_type": "code",
   "execution_count": 29,
   "metadata": {},
   "outputs": [
    {
     "data": {
      "text/plain": [
       "Timedelta('24335 days 15:57:15.878519')"
      ]
     },
     "execution_count": 29,
     "metadata": {},
     "output_type": "execute_result"
    }
   ],
   "source": [
    "datetime.now() - leg_df.loc[0, 'birthday']"
   ]
  },
  {
   "cell_type": "code",
   "execution_count": 30,
   "metadata": {},
   "outputs": [
    {
     "data": {
      "text/html": [
       "<div>\n",
       "<style scoped>\n",
       "    .dataframe tbody tr th:only-of-type {\n",
       "        vertical-align: middle;\n",
       "    }\n",
       "\n",
       "    .dataframe tbody tr th {\n",
       "        vertical-align: top;\n",
       "    }\n",
       "\n",
       "    .dataframe thead th {\n",
       "        text-align: right;\n",
       "    }\n",
       "</style>\n",
       "<table border=\"1\" class=\"dataframe\">\n",
       "  <thead>\n",
       "    <tr style=\"text-align: right;\">\n",
       "      <th></th>\n",
       "      <th>id</th>\n",
       "      <th>first</th>\n",
       "      <th>last</th>\n",
       "      <th>birthday</th>\n",
       "      <th>age</th>\n",
       "    </tr>\n",
       "  </thead>\n",
       "  <tbody>\n",
       "    <tr>\n",
       "      <th>0</th>\n",
       "      <td>B000944</td>\n",
       "      <td>Sherrod</td>\n",
       "      <td>Brown</td>\n",
       "      <td>1952-11-09</td>\n",
       "      <td>66.67</td>\n",
       "    </tr>\n",
       "    <tr>\n",
       "      <th>1</th>\n",
       "      <td>C000127</td>\n",
       "      <td>Maria</td>\n",
       "      <td>Cantwell</td>\n",
       "      <td>1958-10-13</td>\n",
       "      <td>60.74</td>\n",
       "    </tr>\n",
       "    <tr>\n",
       "      <th>2</th>\n",
       "      <td>C000141</td>\n",
       "      <td>Benjamin</td>\n",
       "      <td>Cardin</td>\n",
       "      <td>1943-10-05</td>\n",
       "      <td>75.78</td>\n",
       "    </tr>\n",
       "    <tr>\n",
       "      <th>3</th>\n",
       "      <td>C000174</td>\n",
       "      <td>Thomas</td>\n",
       "      <td>Carper</td>\n",
       "      <td>1947-01-23</td>\n",
       "      <td>72.47</td>\n",
       "    </tr>\n",
       "    <tr>\n",
       "      <th>4</th>\n",
       "      <td>C001070</td>\n",
       "      <td>Robert</td>\n",
       "      <td>Casey</td>\n",
       "      <td>1960-04-13</td>\n",
       "      <td>59.24</td>\n",
       "    </tr>\n",
       "  </tbody>\n",
       "</table>\n",
       "</div>"
      ],
      "text/plain": [
       "        id     first      last   birthday    age\n",
       "0  B000944   Sherrod     Brown 1952-11-09  66.67\n",
       "1  C000127     Maria  Cantwell 1958-10-13  60.74\n",
       "2  C000141  Benjamin    Cardin 1943-10-05  75.78\n",
       "3  C000174    Thomas    Carper 1947-01-23  72.47\n",
       "4  C001070    Robert     Casey 1960-04-13  59.24"
      ]
     },
     "execution_count": 30,
     "metadata": {},
     "output_type": "execute_result"
    }
   ],
   "source": [
    "leg_df['age'] = (datetime.now() - leg_df['birthday']).apply(lambda age: age.days/365)\n",
    "leg_df.head()"
   ]
  },
  {
   "cell_type": "code",
   "execution_count": 31,
   "metadata": {},
   "outputs": [
    {
     "data": {
      "image/png": "[encoded data removed]",
      "text/plain": [
       "<Figure size 432x288 with 1 Axes>"
      ]
     },
     "metadata": {
      "needs_background": "light"
     },
     "output_type": "display_data"
    }
   ],
   "source": [
    "leg_df['age'].plot(kind='hist');"
   ]
  },
  {
   "cell_type": "markdown",
   "metadata": {},
   "source": [
    "## Missing Values\n",
    "\n",
    "Note that religion got removed between Spring 2019 and now. https://github.com/unitedstates/congress-legislators/issues/657\n",
    "\n",
    "We're actually using the last version of the data that still has religion in it."
   ]
  },
  {
   "cell_type": "code",
   "execution_count": 34,
   "metadata": {},
   "outputs": [
    {
     "data": {
      "text/html": [
       "<div>\n",
       "<style scoped>\n",
       "    .dataframe tbody tr th:only-of-type {\n",
       "        vertical-align: middle;\n",
       "    }\n",
       "\n",
       "    .dataframe tbody tr th {\n",
       "        vertical-align: top;\n",
       "    }\n",
       "\n",
       "    .dataframe thead th {\n",
       "        text-align: right;\n",
       "    }\n",
       "</style>\n",
       "<table border=\"1\" class=\"dataframe\">\n",
       "  <thead>\n",
       "    <tr style=\"text-align: right;\">\n",
       "      <th></th>\n",
       "      <th>id</th>\n",
       "      <th>first</th>\n",
       "      <th>last</th>\n",
       "      <th>birthday</th>\n",
       "      <th>age</th>\n",
       "      <th>religion</th>\n",
       "    </tr>\n",
       "  </thead>\n",
       "  <tbody>\n",
       "    <tr>\n",
       "      <th>0</th>\n",
       "      <td>B000944</td>\n",
       "      <td>Sherrod</td>\n",
       "      <td>Brown</td>\n",
       "      <td>1952-11-09</td>\n",
       "      <td>66.67</td>\n",
       "      <td>Lutheran</td>\n",
       "    </tr>\n",
       "    <tr>\n",
       "      <th>1</th>\n",
       "      <td>C000127</td>\n",
       "      <td>Maria</td>\n",
       "      <td>Cantwell</td>\n",
       "      <td>1958-10-13</td>\n",
       "      <td>60.74</td>\n",
       "      <td>Roman Catholic</td>\n",
       "    </tr>\n",
       "    <tr>\n",
       "      <th>2</th>\n",
       "      <td>C000141</td>\n",
       "      <td>Benjamin</td>\n",
       "      <td>Cardin</td>\n",
       "      <td>1943-10-05</td>\n",
       "      <td>75.78</td>\n",
       "      <td>Jewish</td>\n",
       "    </tr>\n",
       "    <tr>\n",
       "      <th>...</th>\n",
       "      <td>...</td>\n",
       "      <td>...</td>\n",
       "      <td>...</td>\n",
       "      <td>...</td>\n",
       "      <td>...</td>\n",
       "      <td>...</td>\n",
       "    </tr>\n",
       "    <tr>\n",
       "      <th>536</th>\n",
       "      <td>R000615</td>\n",
       "      <td>Mitt</td>\n",
       "      <td>Romney</td>\n",
       "      <td>1947-03-12</td>\n",
       "      <td>72.34</td>\n",
       "      <td>None</td>\n",
       "    </tr>\n",
       "    <tr>\n",
       "      <th>537</th>\n",
       "      <td>M001197</td>\n",
       "      <td>Martha</td>\n",
       "      <td>McSally</td>\n",
       "      <td>1966-03-22</td>\n",
       "      <td>53.30</td>\n",
       "      <td>None</td>\n",
       "    </tr>\n",
       "    <tr>\n",
       "      <th>538</th>\n",
       "      <td>G000592</td>\n",
       "      <td>Jared</td>\n",
       "      <td>Golden</td>\n",
       "      <td>1982-07-25</td>\n",
       "      <td>36.95</td>\n",
       "      <td>None</td>\n",
       "    </tr>\n",
       "  </tbody>\n",
       "</table>\n",
       "<p>539 rows × 6 columns</p>\n",
       "</div>"
      ],
      "text/plain": [
       "          id     first      last   birthday    age        religion\n",
       "0    B000944   Sherrod     Brown 1952-11-09  66.67        Lutheran\n",
       "1    C000127     Maria  Cantwell 1958-10-13  60.74  Roman Catholic\n",
       "2    C000141  Benjamin    Cardin 1943-10-05  75.78          Jewish\n",
       "..       ...       ...       ...        ...    ...             ...\n",
       "536  R000615      Mitt    Romney 1947-03-12  72.34            None\n",
       "537  M001197    Martha   McSally 1966-03-22  53.30            None\n",
       "538  G000592     Jared    Golden 1982-07-25  36.95            None\n",
       "\n",
       "[539 rows x 6 columns]"
      ]
     },
     "execution_count": 34,
     "metadata": {},
     "output_type": "execute_result"
    }
   ],
   "source": [
    "leg_df['religion'] = [x['bio'].get('religion') for x in legislators]\n",
    "leg_df"
   ]
  },
  {
   "cell_type": "code",
   "execution_count": 35,
   "metadata": {},
   "outputs": [
    {
     "data": {
      "image/png": "[encoded data removed]",
      "text/plain": [
       "<Figure size 432x288 with 1 Axes>"
      ]
     },
     "metadata": {
      "needs_background": "light"
     },
     "output_type": "display_data"
    }
   ],
   "source": [
    "leg_df[leg_df['religion'].notnull()]['age'].plot(kind='hist');"
   ]
  },
  {
   "cell_type": "markdown",
   "metadata": {},
   "source": [
    "## Joins"
   ]
  },
  {
   "cell_type": "code",
   "execution_count": 37,
   "metadata": {},
   "outputs": [
    {
     "name": "stdout",
     "output_type": "stream",
     "text": [
      "47 217\n"
     ]
    }
   ],
   "source": [
    "comm_path = 'committees-current.yaml'\n",
    "comm_membership_path = 'committee-membership-current.yaml'\n",
    "for p in [comm_path, comm_membership_path]:\n",
    "    download(base_url + p, p)\n",
    "comms = yaml.safe_load(open(comm_path))\n",
    "comm_membership = yaml.safe_load(open(comm_membership_path))\n",
    "print(len(comms), len(comm_membership))"
   ]
  },
  {
   "cell_type": "code",
   "execution_count": 38,
   "metadata": {},
   "outputs": [
    {
     "data": {
      "text/plain": [
       "{'type': 'house',\n",
       " 'name': 'House Committee on Agriculture',\n",
       " 'url': 'https://agriculture.house.gov/',\n",
       " 'minority_url': 'https://democrats-agriculture.house.gov/',\n",
       " 'thomas_id': 'HSAG',\n",
       " 'house_committee_id': 'AG',\n",
       " 'subcommittees': [{'name': 'Conservation and Forestry',\n",
       "   'thomas_id': '15',\n",
       "   'address': '1301 LHOB; Washington, DC 20515',\n",
       "   'phone': '(202) 225-2171'},\n",
       "  {'name': 'Commodity Exchanges, Energy, and Credit',\n",
       "   'thomas_id': '22',\n",
       "   'address': '1301 LHOB; Washington, DC 20515',\n",
       "   'phone': '(202) 225-2171'},\n",
       "  {'name': 'General Farm Commodities and Risk Management',\n",
       "   'thomas_id': '16',\n",
       "   'address': '1301 LHOB; Washington, DC 20515',\n",
       "   'phone': '(202) 225-2171'},\n",
       "  {'name': 'Livestock and Foreign Agriculture',\n",
       "   'thomas_id': '29',\n",
       "   'address': '1301 LHOB; Washington, DC 20515',\n",
       "   'phone': '(202) 225-2171'},\n",
       "  {'name': 'Biotechnology, Horticulture, and Research',\n",
       "   'thomas_id': '14',\n",
       "   'address': '1301 LHOB; Washington, DC 20515',\n",
       "   'phone': '(202) 225-2171'},\n",
       "  {'name': 'Nutrition',\n",
       "   'thomas_id': '03',\n",
       "   'address': '1301 LHOB; Washington, DC 20515',\n",
       "   'phone': '(202) 225-2171'}],\n",
       " 'address': '1301 LHOB; Washington, DC 20515-6001',\n",
       " 'phone': '(202) 225-2171',\n",
       " 'rss_url': 'https://agriculture.house.gov/news/rss.aspx',\n",
       " 'minority_rss_url': 'https://democrats-agriculture.house.gov/Rss.aspx?GroupID=1',\n",
       " 'jurisdiction': 'The House Committee on Agriculture has legislative jurisdiction over agriculture, food, rural development, and forestry.',\n",
       " 'jurisdiction_source': 'https://agriculture.house.gov/issuesinfocus/'}"
      ]
     },
     "execution_count": 38,
     "metadata": {},
     "output_type": "execute_result"
    }
   ],
   "source": [
    "comms[0]"
   ]
  },
  {
   "cell_type": "code",
   "execution_count": 40,
   "metadata": {},
   "outputs": [
    {
     "data": {
      "text/html": [
       "<div>\n",
       "<style scoped>\n",
       "    .dataframe tbody tr th:only-of-type {\n",
       "        vertical-align: middle;\n",
       "    }\n",
       "\n",
       "    .dataframe tbody tr th {\n",
       "        vertical-align: top;\n",
       "    }\n",
       "\n",
       "    .dataframe thead th {\n",
       "        text-align: right;\n",
       "    }\n",
       "</style>\n",
       "<table border=\"1\" class=\"dataframe\">\n",
       "  <thead>\n",
       "    <tr style=\"text-align: right;\">\n",
       "      <th></th>\n",
       "      <th>name</th>\n",
       "      <th>thomas_id</th>\n",
       "      <th>type</th>\n",
       "    </tr>\n",
       "  </thead>\n",
       "  <tbody>\n",
       "    <tr>\n",
       "      <th>0</th>\n",
       "      <td>House Committee on Agriculture</td>\n",
       "      <td>HSAG</td>\n",
       "      <td>house</td>\n",
       "    </tr>\n",
       "    <tr>\n",
       "      <th>1</th>\n",
       "      <td>House Committee on Appropriations</td>\n",
       "      <td>HSAP</td>\n",
       "      <td>house</td>\n",
       "    </tr>\n",
       "    <tr>\n",
       "      <th>2</th>\n",
       "      <td>House Committee on Armed Services</td>\n",
       "      <td>HSAS</td>\n",
       "      <td>house</td>\n",
       "    </tr>\n",
       "    <tr>\n",
       "      <th>...</th>\n",
       "      <td>...</td>\n",
       "      <td>...</td>\n",
       "      <td>...</td>\n",
       "    </tr>\n",
       "    <tr>\n",
       "      <th>44</th>\n",
       "      <td>Senate Committee on Rules and Administration</td>\n",
       "      <td>SSRA</td>\n",
       "      <td>senate</td>\n",
       "    </tr>\n",
       "    <tr>\n",
       "      <th>45</th>\n",
       "      <td>Senate Committee on Small Business and Entrepr...</td>\n",
       "      <td>SSSB</td>\n",
       "      <td>senate</td>\n",
       "    </tr>\n",
       "    <tr>\n",
       "      <th>46</th>\n",
       "      <td>Senate Committee on Veterans' Affairs</td>\n",
       "      <td>SSVA</td>\n",
       "      <td>senate</td>\n",
       "    </tr>\n",
       "  </tbody>\n",
       "</table>\n",
       "<p>47 rows × 3 columns</p>\n",
       "</div>"
      ],
      "text/plain": [
       "                                                 name thomas_id    type\n",
       "0                      House Committee on Agriculture      HSAG   house\n",
       "1                   House Committee on Appropriations      HSAP   house\n",
       "2                   House Committee on Armed Services      HSAS   house\n",
       "..                                                ...       ...     ...\n",
       "44       Senate Committee on Rules and Administration      SSRA  senate\n",
       "45  Senate Committee on Small Business and Entrepr...      SSSB  senate\n",
       "46              Senate Committee on Veterans' Affairs      SSVA  senate\n",
       "\n",
       "[47 rows x 3 columns]"
      ]
     },
     "execution_count": 40,
     "metadata": {},
     "output_type": "execute_result"
    }
   ],
   "source": [
    "comm_df = pd.DataFrame(\n",
    "    columns=['name', 'thomas_id', 'type'],\n",
    "    data=[[c['name'], c['thomas_id'], c['type']] for c in comms]\n",
    ")\n",
    "comm_df"
   ]
  },
  {
   "cell_type": "code",
   "execution_count": 41,
   "metadata": {},
   "outputs": [
    {
     "data": {
      "text/plain": [
       "dict_keys(['HLIG', 'HLIG01', 'HLIG02', 'HLIG03', 'HLIG04', 'HSAG', 'HSAG03', 'HSAG14', 'HSAG15', 'HSAG16', 'HSAG22', 'HSAG29', 'HSAP', 'HSAP01', 'HSAP02', 'HSAP04', 'HSAP06', 'HSAP07', 'HSAP10', 'HSAP15', 'HSAP18', 'HSAP19', 'HSAP20', 'HSAP23', 'HSAP24', 'HSAS', 'HSAS02', 'HSAS03', 'HSAS06', 'HSAS25', 'HSAS26', 'HSAS28', 'HSAS29', 'HSBA', 'HSBA01', 'HSBA04', 'HSBA09', 'HSBA15', 'HSBA16', 'HSBA20', 'HSBU', 'HSED', 'HSED02', 'HSED10', 'HSED13', 'HSED14', 'HSFA', 'HSFA05', 'HSFA07', 'HSFA13', 'HSFA14', 'HSFA16', 'HSFA18', 'HSGO', 'HSGO06', 'HSGO24', 'HSGO25', 'HSGO27', 'HSGO28', 'HSGO29', 'HSHA', 'HSHM', 'HSHM05', 'HSHM07', 'HSHM08', 'HSHM09', 'HSHM11', 'HSHM12', 'HSIF', 'HSIF02', 'HSIF03', 'HSIF14', 'HSIF16', 'HSIF17', 'HSIF18', 'HSII', 'HSII06', 'HSII10', 'HSII13', 'HSII15', 'HSII24', 'HSJU', 'HSJU01', 'HSJU03', 'HSJU05', 'HSJU08', 'HSJU10', 'HSPW', 'HSPW02', 'HSPW05', 'HSPW07', 'HSPW12', 'HSPW13', 'HSPW14', 'HSRU', 'HSRU02', 'HSRU04', 'HSSM', 'HSSM23', 'HSSM24', 'HSSM25', 'HSSM26', 'HSSM27', 'HSSO', 'HSSY', 'HSSY15', 'HSSY16', 'HSSY18', 'HSSY20', 'HSSY21', 'HSVR', 'HSVR03', 'HSVR08', 'HSVR09', 'HSVR10', 'HSVR11', 'HSWM', 'HSWM01', 'HSWM02', 'HSWM03', 'HSWM04', 'HSWM05', 'HSWM06', 'JCSE', 'JSEC', 'JSLC', 'JSPR', 'JSTX', 'SCNC', 'SLET', 'SLIA', 'SLIN', 'SPAG', 'SSAF', 'SSAF13', 'SSAF14', 'SSAF15', 'SSAF16', 'SSAF17', 'SSAP', 'SSAP01', 'SSAP02', 'SSAP08', 'SSAP14', 'SSAP16', 'SSAP17', 'SSAP18', 'SSAP19', 'SSAP20', 'SSAP22', 'SSAP23', 'SSAP24', 'SSAS', 'SSAS13', 'SSAS14', 'SSAS15', 'SSAS16', 'SSAS17', 'SSAS20', 'SSAS21', 'SSBK', 'SSBK04', 'SSBK05', 'SSBK08', 'SSBK09', 'SSBK12', 'SSBU', 'SSCM', 'SSCM01', 'SSCM20', 'SSCM22', 'SSCM24', 'SSCM25', 'SSCM26', 'SSEG', 'SSEG01', 'SSEG03', 'SSEG04', 'SSEG07', 'SSEV', 'SSEV08', 'SSEV09', 'SSEV10', 'SSEV15', 'SSFI', 'SSFI02', 'SSFI10', 'SSFI11', 'SSFI12', 'SSFI13', 'SSFI14', 'SSFR', 'SSFR01', 'SSFR02', 'SSFR06', 'SSFR07', 'SSFR09', 'SSFR14', 'SSFR15', 'SSGA', 'SSGA01', 'SSGA18', 'SSGA19', 'SSHR', 'SSHR09', 'SSHR11', 'SSHR12', 'SSJU', 'SSJU01', 'SSJU04', 'SSJU21', 'SSJU22', 'SSJU23', 'SSJU25', 'SSRA', 'SSSB', 'SSVA'])"
      ]
     },
     "execution_count": 41,
     "metadata": {},
     "output_type": "execute_result"
    }
   ],
   "source": [
    "comm_membership.keys()"
   ]
  },
  {
   "cell_type": "code",
   "execution_count": 42,
   "metadata": {},
   "outputs": [
    {
     "data": {
      "text/plain": [
       "{'name': 'K. Michael Conaway',\n",
       " 'party': 'majority',\n",
       " 'rank': 1,\n",
       " 'title': 'Chair',\n",
       " 'thomas': '01805',\n",
       " 'bioguide': 'C001062'}"
      ]
     },
     "execution_count": 42,
     "metadata": {},
     "output_type": "execute_result"
    }
   ],
   "source": [
    "comm_membership['HSAG'][0]"
   ]
  },
  {
   "cell_type": "code",
   "execution_count": 43,
   "metadata": {},
   "outputs": [
    {
     "data": {
      "text/html": [
       "<div>\n",
       "<style scoped>\n",
       "    .dataframe tbody tr th:only-of-type {\n",
       "        vertical-align: middle;\n",
       "    }\n",
       "\n",
       "    .dataframe tbody tr th {\n",
       "        vertical-align: top;\n",
       "    }\n",
       "\n",
       "    .dataframe thead th {\n",
       "        text-align: right;\n",
       "    }\n",
       "</style>\n",
       "<table border=\"1\" class=\"dataframe\">\n",
       "  <thead>\n",
       "    <tr style=\"text-align: right;\">\n",
       "      <th></th>\n",
       "      <th>comm_id</th>\n",
       "      <th>leg_id</th>\n",
       "    </tr>\n",
       "  </thead>\n",
       "  <tbody>\n",
       "    <tr>\n",
       "      <th>0</th>\n",
       "      <td>HLIG</td>\n",
       "      <td>N000181</td>\n",
       "    </tr>\n",
       "    <tr>\n",
       "      <th>1</th>\n",
       "      <td>HLIG</td>\n",
       "      <td>C001062</td>\n",
       "    </tr>\n",
       "    <tr>\n",
       "      <th>2</th>\n",
       "      <td>HLIG</td>\n",
       "      <td>K000210</td>\n",
       "    </tr>\n",
       "    <tr>\n",
       "      <th>3</th>\n",
       "      <td>HLIG</td>\n",
       "      <td>T000463</td>\n",
       "    </tr>\n",
       "    <tr>\n",
       "      <th>4</th>\n",
       "      <td>HLIG</td>\n",
       "      <td>W000815</td>\n",
       "    </tr>\n",
       "  </tbody>\n",
       "</table>\n",
       "</div>"
      ],
      "text/plain": [
       "  comm_id   leg_id\n",
       "0    HLIG  N000181\n",
       "1    HLIG  C001062\n",
       "2    HLIG  K000210\n",
       "3    HLIG  T000463\n",
       "4    HLIG  W000815"
      ]
     },
     "execution_count": 43,
     "metadata": {},
     "output_type": "execute_result"
    }
   ],
   "source": [
    "member_df = pd.DataFrame(\n",
    "    columns=['comm_id', 'leg_id'],\n",
    "    data=[[c, m['bioguide']] for c, members in comm_membership.items() for m in members]\n",
    ")\n",
    "member_df.head()"
   ]
  },
  {
   "cell_type": "code",
   "execution_count": 44,
   "metadata": {},
   "outputs": [
    {
     "data": {
      "text/html": [
       "<div>\n",
       "<style scoped>\n",
       "    .dataframe tbody tr th:only-of-type {\n",
       "        vertical-align: middle;\n",
       "    }\n",
       "\n",
       "    .dataframe tbody tr th {\n",
       "        vertical-align: top;\n",
       "    }\n",
       "\n",
       "    .dataframe thead th {\n",
       "        text-align: right;\n",
       "    }\n",
       "</style>\n",
       "<table border=\"1\" class=\"dataframe\">\n",
       "  <thead>\n",
       "    <tr style=\"text-align: right;\">\n",
       "      <th></th>\n",
       "      <th>comm_id</th>\n",
       "      <th>leg_id</th>\n",
       "      <th>name</th>\n",
       "      <th>thomas_id</th>\n",
       "      <th>type</th>\n",
       "    </tr>\n",
       "  </thead>\n",
       "  <tbody>\n",
       "    <tr>\n",
       "      <th>0</th>\n",
       "      <td>HLIG</td>\n",
       "      <td>N000181</td>\n",
       "      <td>House Permanent Select Committee on Intelligence</td>\n",
       "      <td>HLIG</td>\n",
       "      <td>house</td>\n",
       "    </tr>\n",
       "    <tr>\n",
       "      <th>1</th>\n",
       "      <td>HLIG</td>\n",
       "      <td>C001062</td>\n",
       "      <td>House Permanent Select Committee on Intelligence</td>\n",
       "      <td>HLIG</td>\n",
       "      <td>house</td>\n",
       "    </tr>\n",
       "    <tr>\n",
       "      <th>2</th>\n",
       "      <td>HLIG</td>\n",
       "      <td>K000210</td>\n",
       "      <td>House Permanent Select Committee on Intelligence</td>\n",
       "      <td>HLIG</td>\n",
       "      <td>house</td>\n",
       "    </tr>\n",
       "    <tr>\n",
       "      <th>3</th>\n",
       "      <td>HLIG</td>\n",
       "      <td>T000463</td>\n",
       "      <td>House Permanent Select Committee on Intelligence</td>\n",
       "      <td>HLIG</td>\n",
       "      <td>house</td>\n",
       "    </tr>\n",
       "    <tr>\n",
       "      <th>4</th>\n",
       "      <td>HLIG</td>\n",
       "      <td>W000815</td>\n",
       "      <td>House Permanent Select Committee on Intelligence</td>\n",
       "      <td>HLIG</td>\n",
       "      <td>house</td>\n",
       "    </tr>\n",
       "  </tbody>\n",
       "</table>\n",
       "</div>"
      ],
      "text/plain": [
       "  comm_id   leg_id                                              name  \\\n",
       "0    HLIG  N000181  House Permanent Select Committee on Intelligence   \n",
       "1    HLIG  C001062  House Permanent Select Committee on Intelligence   \n",
       "2    HLIG  K000210  House Permanent Select Committee on Intelligence   \n",
       "3    HLIG  T000463  House Permanent Select Committee on Intelligence   \n",
       "4    HLIG  W000815  House Permanent Select Committee on Intelligence   \n",
       "\n",
       "  thomas_id   type  \n",
       "0      HLIG  house  \n",
       "1      HLIG  house  \n",
       "2      HLIG  house  \n",
       "3      HLIG  house  \n",
       "4      HLIG  house  "
      ]
     },
     "execution_count": 44,
     "metadata": {},
     "output_type": "execute_result"
    }
   ],
   "source": [
    "member_comm = member_df.merge(comm_df, left_on='comm_id', right_on='thomas_id')\n",
    "member_comm.head()"
   ]
  },
  {
   "cell_type": "code",
   "execution_count": 45,
   "metadata": {},
   "outputs": [
    {
     "data": {
      "text/plain": [
       "House Committee on Armed Services                                 48\n",
       "House Committee on Energy and Commerce                            48\n",
       "House Committee on Transportation and Infrastructure              47\n",
       "                                                                  ..\n",
       "Senate Select Committee on Ethics                                  6\n",
       "Joint Committee on Taxation                                        5\n",
       "United States Senate Caucus on International Narcotics Control     5\n",
       "Name: name, Length: 47, dtype: int64"
      ]
     },
     "execution_count": 45,
     "metadata": {},
     "output_type": "execute_result"
    }
   ],
   "source": [
    "comm_sizes = member_comm['name'].value_counts()\n",
    "comm_sizes"
   ]
  },
  {
   "cell_type": "code",
   "execution_count": 47,
   "metadata": {},
   "outputs": [
    {
     "data": {
      "text/html": [
       "<div>\n",
       "<style scoped>\n",
       "    .dataframe tbody tr th:only-of-type {\n",
       "        vertical-align: middle;\n",
       "    }\n",
       "\n",
       "    .dataframe tbody tr th {\n",
       "        vertical-align: top;\n",
       "    }\n",
       "\n",
       "    .dataframe thead th {\n",
       "        text-align: right;\n",
       "    }\n",
       "</style>\n",
       "<table border=\"1\" class=\"dataframe\">\n",
       "  <thead>\n",
       "    <tr style=\"text-align: right;\">\n",
       "      <th></th>\n",
       "      <th>comm_id</th>\n",
       "      <th>leg_id</th>\n",
       "      <th>name</th>\n",
       "      <th>thomas_id</th>\n",
       "      <th>...</th>\n",
       "      <th>last</th>\n",
       "      <th>birthday</th>\n",
       "      <th>age</th>\n",
       "      <th>religion</th>\n",
       "    </tr>\n",
       "  </thead>\n",
       "  <tbody>\n",
       "    <tr>\n",
       "      <th>0</th>\n",
       "      <td>HLIG</td>\n",
       "      <td>N000181</td>\n",
       "      <td>House Permanent Select Committee on Intelligence</td>\n",
       "      <td>HLIG</td>\n",
       "      <td>...</td>\n",
       "      <td>Nunes</td>\n",
       "      <td>1973-10-01</td>\n",
       "      <td>45.76</td>\n",
       "      <td>Roman Catholic</td>\n",
       "    </tr>\n",
       "    <tr>\n",
       "      <th>1</th>\n",
       "      <td>HSWM</td>\n",
       "      <td>N000181</td>\n",
       "      <td>House Committee on Ways and Means</td>\n",
       "      <td>HSWM</td>\n",
       "      <td>...</td>\n",
       "      <td>Nunes</td>\n",
       "      <td>1973-10-01</td>\n",
       "      <td>45.76</td>\n",
       "      <td>Roman Catholic</td>\n",
       "    </tr>\n",
       "    <tr>\n",
       "      <th>2</th>\n",
       "      <td>HLIG</td>\n",
       "      <td>C001062</td>\n",
       "      <td>House Permanent Select Committee on Intelligence</td>\n",
       "      <td>HLIG</td>\n",
       "      <td>...</td>\n",
       "      <td>Conaway</td>\n",
       "      <td>1948-06-11</td>\n",
       "      <td>71.09</td>\n",
       "      <td>Baptist</td>\n",
       "    </tr>\n",
       "    <tr>\n",
       "      <th>...</th>\n",
       "      <td>...</td>\n",
       "      <td>...</td>\n",
       "      <td>...</td>\n",
       "      <td>...</td>\n",
       "      <td>...</td>\n",
       "      <td>...</td>\n",
       "      <td>...</td>\n",
       "      <td>...</td>\n",
       "      <td>...</td>\n",
       "    </tr>\n",
       "    <tr>\n",
       "      <th>1061</th>\n",
       "      <td>SSGA</td>\n",
       "      <td>P000603</td>\n",
       "      <td>Senate Committee on Homeland Security and Gove...</td>\n",
       "      <td>SSGA</td>\n",
       "      <td>...</td>\n",
       "      <td>Paul</td>\n",
       "      <td>1963-01-07</td>\n",
       "      <td>56.50</td>\n",
       "      <td>None</td>\n",
       "    </tr>\n",
       "    <tr>\n",
       "      <th>1062</th>\n",
       "      <td>SSHR</td>\n",
       "      <td>P000603</td>\n",
       "      <td>Senate Committee on Health, Education, Labor, ...</td>\n",
       "      <td>SSHR</td>\n",
       "      <td>...</td>\n",
       "      <td>Paul</td>\n",
       "      <td>1963-01-07</td>\n",
       "      <td>56.50</td>\n",
       "      <td>None</td>\n",
       "    </tr>\n",
       "    <tr>\n",
       "      <th>1063</th>\n",
       "      <td>SSSB</td>\n",
       "      <td>P000603</td>\n",
       "      <td>Senate Committee on Small Business and Entrepr...</td>\n",
       "      <td>SSSB</td>\n",
       "      <td>...</td>\n",
       "      <td>Paul</td>\n",
       "      <td>1963-01-07</td>\n",
       "      <td>56.50</td>\n",
       "      <td>None</td>\n",
       "    </tr>\n",
       "  </tbody>\n",
       "</table>\n",
       "<p>1064 rows × 11 columns</p>\n",
       "</div>"
      ],
      "text/plain": [
       "     comm_id   leg_id                                               name  \\\n",
       "0       HLIG  N000181   House Permanent Select Committee on Intelligence   \n",
       "1       HSWM  N000181                  House Committee on Ways and Means   \n",
       "2       HLIG  C001062   House Permanent Select Committee on Intelligence   \n",
       "...      ...      ...                                                ...   \n",
       "1061    SSGA  P000603  Senate Committee on Homeland Security and Gove...   \n",
       "1062    SSHR  P000603  Senate Committee on Health, Education, Labor, ...   \n",
       "1063    SSSB  P000603  Senate Committee on Small Business and Entrepr...   \n",
       "\n",
       "     thomas_id  ...     last   birthday    age        religion  \n",
       "0         HLIG  ...    Nunes 1973-10-01  45.76  Roman Catholic  \n",
       "1         HSWM  ...    Nunes 1973-10-01  45.76  Roman Catholic  \n",
       "2         HLIG  ...  Conaway 1948-06-11  71.09         Baptist  \n",
       "...        ...  ...      ...        ...    ...             ...  \n",
       "1061      SSGA  ...     Paul 1963-01-07  56.50            None  \n",
       "1062      SSHR  ...     Paul 1963-01-07  56.50            None  \n",
       "1063      SSSB  ...     Paul 1963-01-07  56.50            None  \n",
       "\n",
       "[1064 rows x 11 columns]"
      ]
     },
     "execution_count": 47,
     "metadata": {},
     "output_type": "execute_result"
    }
   ],
   "source": [
    "df = member_comm.merge(leg_df, left_on='leg_id', right_on='id')\n",
    "df"
   ]
  },
  {
   "cell_type": "code",
   "execution_count": 48,
   "metadata": {},
   "outputs": [
    {
     "data": {
      "text/plain": [
       "name\n",
       "House Permanent Select Committee on Intelligence                  55.20\n",
       "House Committee on House Administration                           55.31\n",
       "Joint Economic Committee                                          55.56\n",
       "                                                                  ...  \n",
       "Joint Committee on Taxation                                       71.53\n",
       "Joint Committee on the Library                                    74.02\n",
       "United States Senate Caucus on International Narcotics Control    75.85\n",
       "Name: age, Length: 47, dtype: float64"
      ]
     },
     "execution_count": 48,
     "metadata": {},
     "output_type": "execute_result"
    }
   ],
   "source": [
    "comm_ages = df['age'].groupby(df['name']).mean().sort_values()\n",
    "comm_ages"
   ]
  },
  {
   "cell_type": "code",
   "execution_count": 49,
   "metadata": {},
   "outputs": [
    {
     "data": {
      "text/plain": [
       "59.02013368236462"
      ]
     },
     "execution_count": 49,
     "metadata": {},
     "output_type": "execute_result"
    }
   ],
   "source": [
    "leg_df['age'].mean()"
   ]
  },
  {
   "cell_type": "code",
   "execution_count": 50,
   "metadata": {},
   "outputs": [
    {
     "data": {
      "text/html": [
       "<div>\n",
       "<style scoped>\n",
       "    .dataframe tbody tr th:only-of-type {\n",
       "        vertical-align: middle;\n",
       "    }\n",
       "\n",
       "    .dataframe tbody tr th {\n",
       "        vertical-align: top;\n",
       "    }\n",
       "\n",
       "    .dataframe thead th {\n",
       "        text-align: right;\n",
       "    }\n",
       "</style>\n",
       "<table border=\"1\" class=\"dataframe\">\n",
       "  <thead>\n",
       "    <tr style=\"text-align: right;\">\n",
       "      <th></th>\n",
       "      <th>index</th>\n",
       "      <th>leg_id</th>\n",
       "    </tr>\n",
       "  </thead>\n",
       "  <tbody>\n",
       "    <tr>\n",
       "      <th>0</th>\n",
       "      <td>L000174</td>\n",
       "      <td>24</td>\n",
       "    </tr>\n",
       "    <tr>\n",
       "      <th>1</th>\n",
       "      <td>S000320</td>\n",
       "      <td>23</td>\n",
       "    </tr>\n",
       "    <tr>\n",
       "      <th>2</th>\n",
       "      <td>M000934</td>\n",
       "      <td>22</td>\n",
       "    </tr>\n",
       "    <tr>\n",
       "      <th>3</th>\n",
       "      <td>C001047</td>\n",
       "      <td>22</td>\n",
       "    </tr>\n",
       "    <tr>\n",
       "      <th>4</th>\n",
       "      <td>U000039</td>\n",
       "      <td>21</td>\n",
       "    </tr>\n",
       "  </tbody>\n",
       "</table>\n",
       "</div>"
      ],
      "text/plain": [
       "     index  leg_id\n",
       "0  L000174      24\n",
       "1  S000320      23\n",
       "2  M000934      22\n",
       "3  C001047      22\n",
       "4  U000039      21"
      ]
     },
     "execution_count": 50,
     "metadata": {},
     "output_type": "execute_result"
    }
   ],
   "source": [
    "member_count = member_df['leg_id'].value_counts().to_frame().reset_index()\n",
    "member_count.head()"
   ]
  },
  {
   "cell_type": "code",
   "execution_count": 51,
   "metadata": {},
   "outputs": [
    {
     "data": {
      "text/html": [
       "<div>\n",
       "<style scoped>\n",
       "    .dataframe tbody tr th:only-of-type {\n",
       "        vertical-align: middle;\n",
       "    }\n",
       "\n",
       "    .dataframe tbody tr th {\n",
       "        vertical-align: top;\n",
       "    }\n",
       "\n",
       "    .dataframe thead th {\n",
       "        text-align: right;\n",
       "    }\n",
       "</style>\n",
       "<table border=\"1\" class=\"dataframe\">\n",
       "  <thead>\n",
       "    <tr style=\"text-align: right;\">\n",
       "      <th></th>\n",
       "      <th>id</th>\n",
       "      <th>num_comms</th>\n",
       "    </tr>\n",
       "  </thead>\n",
       "  <tbody>\n",
       "    <tr>\n",
       "      <th>0</th>\n",
       "      <td>L000174</td>\n",
       "      <td>24</td>\n",
       "    </tr>\n",
       "    <tr>\n",
       "      <th>1</th>\n",
       "      <td>S000320</td>\n",
       "      <td>23</td>\n",
       "    </tr>\n",
       "    <tr>\n",
       "      <th>2</th>\n",
       "      <td>M000934</td>\n",
       "      <td>22</td>\n",
       "    </tr>\n",
       "    <tr>\n",
       "      <th>3</th>\n",
       "      <td>C001047</td>\n",
       "      <td>22</td>\n",
       "    </tr>\n",
       "    <tr>\n",
       "      <th>4</th>\n",
       "      <td>U000039</td>\n",
       "      <td>21</td>\n",
       "    </tr>\n",
       "  </tbody>\n",
       "</table>\n",
       "</div>"
      ],
      "text/plain": [
       "        id  num_comms\n",
       "0  L000174         24\n",
       "1  S000320         23\n",
       "2  M000934         22\n",
       "3  C001047         22\n",
       "4  U000039         21"
      ]
     },
     "execution_count": 51,
     "metadata": {},
     "output_type": "execute_result"
    }
   ],
   "source": [
    "member_count.columns = ['id', 'num_comms']\n",
    "member_count.head()"
   ]
  },
  {
   "cell_type": "code",
   "execution_count": 52,
   "metadata": {},
   "outputs": [
    {
     "data": {
      "text/html": [
       "<div>\n",
       "<style scoped>\n",
       "    .dataframe tbody tr th:only-of-type {\n",
       "        vertical-align: middle;\n",
       "    }\n",
       "\n",
       "    .dataframe tbody tr th {\n",
       "        vertical-align: top;\n",
       "    }\n",
       "\n",
       "    .dataframe thead th {\n",
       "        text-align: right;\n",
       "    }\n",
       "</style>\n",
       "<table border=\"1\" class=\"dataframe\">\n",
       "  <thead>\n",
       "    <tr style=\"text-align: right;\">\n",
       "      <th></th>\n",
       "      <th>id</th>\n",
       "      <th>first</th>\n",
       "      <th>last</th>\n",
       "      <th>birthday</th>\n",
       "      <th>age</th>\n",
       "      <th>religion</th>\n",
       "      <th>num_comms</th>\n",
       "    </tr>\n",
       "  </thead>\n",
       "  <tbody>\n",
       "    <tr>\n",
       "      <th>0</th>\n",
       "      <td>B000944</td>\n",
       "      <td>Sherrod</td>\n",
       "      <td>Brown</td>\n",
       "      <td>1952-11-09</td>\n",
       "      <td>66.67</td>\n",
       "      <td>Lutheran</td>\n",
       "      <td>14</td>\n",
       "    </tr>\n",
       "    <tr>\n",
       "      <th>1</th>\n",
       "      <td>C000127</td>\n",
       "      <td>Maria</td>\n",
       "      <td>Cantwell</td>\n",
       "      <td>1958-10-13</td>\n",
       "      <td>60.74</td>\n",
       "      <td>Roman Catholic</td>\n",
       "      <td>16</td>\n",
       "    </tr>\n",
       "    <tr>\n",
       "      <th>2</th>\n",
       "      <td>C000141</td>\n",
       "      <td>Benjamin</td>\n",
       "      <td>Cardin</td>\n",
       "      <td>1943-10-05</td>\n",
       "      <td>75.78</td>\n",
       "      <td>Jewish</td>\n",
       "      <td>14</td>\n",
       "    </tr>\n",
       "    <tr>\n",
       "      <th>3</th>\n",
       "      <td>C000174</td>\n",
       "      <td>Thomas</td>\n",
       "      <td>Carper</td>\n",
       "      <td>1947-01-23</td>\n",
       "      <td>72.47</td>\n",
       "      <td>Presbyterian</td>\n",
       "      <td>12</td>\n",
       "    </tr>\n",
       "    <tr>\n",
       "      <th>4</th>\n",
       "      <td>C001070</td>\n",
       "      <td>Robert</td>\n",
       "      <td>Casey</td>\n",
       "      <td>1960-04-13</td>\n",
       "      <td>59.24</td>\n",
       "      <td>None</td>\n",
       "      <td>12</td>\n",
       "    </tr>\n",
       "  </tbody>\n",
       "</table>\n",
       "</div>"
      ],
      "text/plain": [
       "        id     first      last   birthday    age        religion  num_comms\n",
       "0  B000944   Sherrod     Brown 1952-11-09  66.67        Lutheran         14\n",
       "1  C000127     Maria  Cantwell 1958-10-13  60.74  Roman Catholic         16\n",
       "2  C000141  Benjamin    Cardin 1943-10-05  75.78          Jewish         14\n",
       "3  C000174    Thomas    Carper 1947-01-23  72.47    Presbyterian         12\n",
       "4  C001070    Robert     Casey 1960-04-13  59.24            None         12"
      ]
     },
     "execution_count": 52,
     "metadata": {},
     "output_type": "execute_result"
    }
   ],
   "source": [
    "df = leg_df.merge(member_count, left_on='id', right_on='id')\n",
    "df.head()"
   ]
  },
  {
   "cell_type": "code",
   "execution_count": 53,
   "metadata": {},
   "outputs": [
    {
     "data": {
      "image/png": "[encoded data removed]",
      "text/plain": [
       "<Figure size 360x360 with 1 Axes>"
      ]
     },
     "metadata": {
      "needs_background": "light"
     },
     "output_type": "display_data"
    }
   ],
   "source": [
    "import seaborn as sns\n",
    "sns.lmplot(x='age', y='num_comms', data=df, fit_reg=True);"
   ]
  },
  {
   "cell_type": "code",
   "execution_count": null,
   "metadata": {},
   "outputs": [],
   "source": []
  }
 ],
 "metadata": {
  "kernelspec": {
   "display_name": "Python 3",
   "language": "python",
   "name": "python3"
  },
  "language_info": {
   "codemirror_mode": {
    "name": "ipython",
    "version": 3
   },
   "file_extension": ".py",
   "mimetype": "text/x-python",
   "name": "python",
   "nbconvert_exporter": "python",
   "pygments_lexer": "ipython3",
   "version": "3.7.3"
  }
 },
 "nbformat": 4,
 "nbformat_minor": 2
}
