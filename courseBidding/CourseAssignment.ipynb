{
 "cells": [
  {
   "cell_type": "markdown",
   "metadata": {
    "colab_type": "text",
    "id": "3J9WA3mgQo2t"
   },
   "source": [
    "# Notes"
   ]
  },
  {
   "cell_type": "markdown",
   "metadata": {
    "colab_type": "text",
    "id": "OF_kJfBOWJ_h"
   },
   "source": [
    "### Input\n",
    "\n",
    "Response spreadsheet of the combined student form. Each row represents a student's input. Each column stands for a blank of the form:\n",
    "\n",
    "> `A`: Timestamp\n",
    "> `B`: Email Address\n",
    "> `C`: Gender\n",
    ">\n",
    "> `D`: Is the last digit of your UNI even or odd?\n",
    "\n",
    "\n",
    "#### Group 1 (Course bidding + Preference)\n",
    "\n",
    "- `E-L`: Bids for *Business Analytics, Cloud Computing, Machine Learning,\tData Analytics,\tOptimization,\tStochastic,\tSimulation,\tComputational Discrete Optimization*\n",
    "\n",
    "- `M-T`: Rank for the courses (No.1 - No.8)\n",
    "\n",
    "\n",
    "#### Group 2 (Preference + Course bidding + Timeslot bidding)\n",
    "\n",
    "- `U-AB`: Rank for the courses (No.1 - No.8)\n",
    "\n",
    "- `AC-AJ`: Bids for *Business Analytics, Cloud Computing, Machine Learning,\tData Analytics,\tOptimization,\tStochastic,\tSimulation,\tComputational Discrete Optimization*\n",
    "\n",
    "- `AK-AN`: Bids for time slots (9-11 am, 12-2 pm, 3-5 pm, 6-8 pm)\n",
    "\n",
    "\n",
    "### Output\n",
    "\n",
    "`(Student, [3 Courses])` assignment. Each student is assigned to at least one semi-core course."
   ]
  },
  {
   "cell_type": "markdown",
   "metadata": {
    "colab_type": "text",
    "id": "ssQx8bUBQta0"
   },
   "source": [
    "## Methodologies to test"
   ]
  },
  {
   "cell_type": "markdown",
   "metadata": {
    "colab_type": "text",
    "id": "6dICLAMjX1fH"
   },
   "source": [
    "\n",
    "**Experimental Groups**\n",
    "* a) Students give a strict ordering of the classes;\n",
    "* b) Students  bid on classes, so that the total sum of the bidding sums to <= 100;\n",
    "* c) Students bid on classes from one time slots, so that the total sum of the bidding sums to <= 100;\n",
    "\n",
    "\n",
    "**Tests**\n",
    "1. Ignore a, use b to infer students preferences, with class preferences given by higher bidder; [still ask a for comparing with b,c]\n",
    "2. Use a and b;\n",
    "3. Use a and c;\n",
    "4. Ignore b, c, class preferences are given by unique lottery.\n",
    "\n"
   ]
  },
  {
   "cell_type": "markdown",
   "metadata": {
    "colab_type": "text",
    "id": "vrEpiRiWdlvs"
   },
   "source": [
    "## Structure of Notebook\n",
    "* Data Processing\n",
    "* Section 1: Preference Generator from Bids and Lotteries\n",
    "* Section 2: Schedules for Round 2 algorithm\n",
    "* Section 3: Two-round algorithm "
   ]
  },
  {
   "cell_type": "markdown",
   "metadata": {
    "colab_type": "text",
    "id": "6ynsvn1F6d7T"
   },
   "source": [
    "# Pre Processing\n",
    "Goal: To separate the raw data file into 2 csv files, one for each experimental group a) and the other for experimental groups b) and c)."
   ]
  },
  {
   "cell_type": "markdown",
   "metadata": {
    "colab_type": "text",
    "id": "9NIcoHiKeqoG"
   },
   "source": [
    "**Course Names** \n",
    "\n",
    "Let the following courses be denoted by: <br>\n",
    "`c1`: Business Analytics <br>\n",
    "`c2`: Cloud Computing <br>\n",
    "`c3`: Machine Learning <br>\n",
    "`c4`: Data Analytics <br>\n",
    "`c5`: Optimization <br>\n",
    "`c6`: Stochastic <br>\n",
    "`c7`: Simulation <br>\n",
    "`c8`: Computational Discrete Optimization \n",
    "\n",
    "where `c1`,`c3`,`c5`,`c6` are semi-core\n",
    "\n",
    "**Time Slots**\n",
    "\n",
    "Let the following time slots be denoted by: <br>\n",
    "`t1`: 9-11am (`c6`,`c7`)<br>\n",
    "`t2`: 12-2pm (`c1`,`c4`)<br>\n",
    "`t3`: 3-5pm (`c2`,`c8`)<br>\n",
    "`t4`: 6-8pm (`c3`,`c5`)\n",
    "\n",
    "**Course Capacities**\n",
    "\n",
    "Let the course capacities be denoted as:\n",
    "k (a dict)"
   ]
  },
  {
   "cell_type": "markdown",
   "metadata": {
    "colab_type": "text",
    "id": "OJ58XdTz5chS"
   },
   "source": [
    "## Separate Groups"
   ]
  },
  {
   "cell_type": "code",
   "execution_count": 2,
   "metadata": {
    "colab": {},
    "colab_type": "code",
    "executionInfo": {
     "elapsed": 18675,
     "status": "ok",
     "timestamp": 1596582078594,
     "user": {
      "displayName": "Weihang Ren",
      "photoUrl": "",
      "userId": "18183422973531312162"
     },
     "user_tz": 240
    },
    "id": "sqlXtHmlhGs5"
   },
   "outputs": [],
   "source": [
    "# authentication\n",
    "from google.colab import auth\n",
    "auth.authenticate_user()\n",
    "\n",
    "import gspread\n",
    "from oauth2client.client import GoogleCredentials\n",
    "\n",
    "gc = gspread.authorize(GoogleCredentials.get_application_default())"
   ]
  },
  {
   "cell_type": "code",
   "execution_count": 4,
   "metadata": {
    "colab": {},
    "colab_type": "code",
    "executionInfo": {
     "elapsed": 18404,
     "status": "ok",
     "timestamp": 1596582079834,
     "user": {
      "displayName": "Weihang Ren",
      "photoUrl": "",
      "userId": "18183422973531312162"
     },
     "user_tz": 240
    },
    "id": "oGp-RDBQghEu"
   },
   "outputs": [],
   "source": [
    "# import StudentForm (Combined) data from Google Sheets\n",
    "wb = gc.open_by_url('https://docs.google.com/spreadsheets/d/1LKi4I4VMGEK2_XBi8zYewFSvqx75nb8HFX9Oo08a8qE/edit#gid=1255728861')\n",
    "data = wb.sheet1.get_all_values()"
   ]
  },
  {
   "cell_type": "code",
   "execution_count": 2,
   "metadata": {
    "colab": {},
    "colab_type": "code",
    "executionInfo": {
     "elapsed": 18015,
     "status": "ok",
     "timestamp": 1596582078596,
     "user": {
      "displayName": "Weihang Ren",
      "photoUrl": "",
      "userId": "18183422973531312162"
     },
     "user_tz": 240
    },
    "id": "zalJ3CmIgIro"
   },
   "outputs": [],
   "source": [
    "import numpy as np\n",
    "import pandas as pd\n",
    "import matplotlib.pyplot as plt"
   ]
  },
  {
   "cell_type": "code",
   "execution_count": 3,
   "metadata": {},
   "outputs": [],
   "source": [
    "filename = \"StudentForm (Combined) (Responses).xlsx\""
   ]
  },
  {
   "cell_type": "code",
   "execution_count": 4,
   "metadata": {
    "colab": {
     "base_uri": "https://localhost:8080/",
     "height": 34
    },
    "colab_type": "code",
    "executionInfo": {
     "elapsed": 316,
     "status": "ok",
     "timestamp": 1596582082556,
     "user": {
      "displayName": "Weihang Ren",
      "photoUrl": "",
      "userId": "18183422973531312162"
     },
     "user_tz": 240
    },
    "id": "d9u9Ety2jMD4",
    "outputId": "eee9a72e-d203-431a-8209-8ed7c5119e6e"
   },
   "outputs": [
    {
     "data": {
      "text/plain": [
       "(34, 40)"
      ]
     },
     "execution_count": 4,
     "metadata": {},
     "output_type": "execute_result"
    }
   ],
   "source": [
    "df = pd.read_excel(filename, header=None)\n",
    "df.shape"
   ]
  },
  {
   "cell_type": "code",
   "execution_count": 5,
   "metadata": {
    "colab": {},
    "colab_type": "code",
    "executionInfo": {
     "elapsed": 253,
     "status": "ok",
     "timestamp": 1596582086102,
     "user": {
      "displayName": "Weihang Ren",
      "photoUrl": "",
      "userId": "18183422973531312162"
     },
     "user_tz": 240
    },
    "id": "wCuanFLUozmC"
   },
   "outputs": [],
   "source": [
    "# disagree; this makes the code more compact, and allows both column names \n",
    "# and the course names in the preferences to be denoted by the same terms.\n",
    "# it is necessary for later steps in the code.\n",
    "df= df.replace(to_replace = {'Business Analytics':'c1', \n",
    "                         'Cloud Computing' : 'c2',\n",
    "                         'Machine Learning' : 'c3',\n",
    "                         'Data Analytics': 'c4',\n",
    "                         'Optimization': 'c5',\n",
    "                         'Stochastic': 'c6',\n",
    "                         'Simulation': 'c7',\n",
    "                         'Computational Discrete Optimization': 'c8'\n",
    "                         },\n",
    "           value = None)"
   ]
  },
  {
   "cell_type": "code",
   "execution_count": 6,
   "metadata": {
    "colab": {},
    "colab_type": "code",
    "executionInfo": {
     "elapsed": 193,
     "status": "ok",
     "timestamp": 1596582086410,
     "user": {
      "displayName": "Weihang Ren",
      "photoUrl": "",
      "userId": "18183422973531312162"
     },
     "user_tz": 240
    },
    "id": "Tl_yeqMown92"
   },
   "outputs": [],
   "source": [
    "# df.head()\n",
    "# df"
   ]
  },
  {
   "cell_type": "code",
   "execution_count": 7,
   "metadata": {
    "colab": {},
    "colab_type": "code",
    "executionInfo": {
     "elapsed": 237,
     "status": "ok",
     "timestamp": 1596582087125,
     "user": {
      "displayName": "Weihang Ren",
      "photoUrl": "",
      "userId": "18183422973531312162"
     },
     "user_tz": 240
    },
    "id": "9_ocmmsejiy7"
   },
   "outputs": [],
   "source": [
    "# extract group 1 and group 2 data from combined df\n",
    "df_group1 = df[df.iloc[:,3]==\"Even (0, 2, 4, 6, 8)\"].drop(columns=range(20,40)).replace(to_replace={'Even (0, 2, 4, 6, 8)':'Group1'})\n",
    "df_group2 = df[df.iloc[:,3]==\"Odd (1, 3, 5, 7, 9)\"].drop(columns=range(4,20)).replace(to_replace={'Odd (1, 3, 5, 7, 9)':'Group2'})\n",
    "\n",
    "# set colnames\n",
    "df_group1_colnames = ['Timestamp','Student','Gender','Group',\n",
    "                      'c1','c2','c3','c4','c5','c6','c7','c8', # bids on courses\n",
    "                      'R1','R2','R3','R4','R5','R6','R7','R8'  # ranks\n",
    "                      ]\n",
    "df_group2_colnames = ['Timestamp','Student','Gender','Group',\n",
    "                      'R1','R2','R3','R4','R5','R6','R7','R8', # ranks\n",
    "                      'c1','c2','c3','c4','c5','c6','c7','c8', # bids on courses\n",
    "                      't1','t2','t3','t4'                      # bids on time slots\n",
    "                      ]\n",
    "\n",
    "df_group1.columns = df_group1_colnames\n",
    "df_group2.columns = df_group2_colnames"
   ]
  },
  {
   "cell_type": "code",
   "execution_count": 8,
   "metadata": {
    "colab": {},
    "colab_type": "code",
    "executionInfo": {
     "elapsed": 232,
     "status": "ok",
     "timestamp": 1596582087811,
     "user": {
      "displayName": "Weihang Ren",
      "photoUrl": "",
      "userId": "18183422973531312162"
     },
     "user_tz": 240
    },
    "id": "T7cDHcHDROpQ"
   },
   "outputs": [],
   "source": [
    "# change datatype of bids from str to int\n",
    "df_group1 = df_group1.apply(pd.to_numeric, downcast='integer', errors='ignore')\n",
    "df_group2 = df_group2.apply(pd.to_numeric, downcast='integer', errors='ignore')\n",
    "\n",
    "# index each student using their UNI\n",
    "df_group1.index = df_group1.Student.str[:6]\n",
    "df_group1.index.name = 'UNI'\n",
    "df_group2.index = df_group2.Student.str[:6]\n",
    "df_group2.index.name = 'UNI'\n",
    "\n",
    "# check bid criteria is met\n",
    "df_group1['CourseBidCriteria'] = (df_group1.loc[:,'c1':'c8'].sum(axis=1) == 100)\n",
    "df_group2['CourseBidCriteria'] = (df_group2.loc[:,'c1':'c8'].sum(axis=1) == 100)\n",
    "df_group2['TimeBidCriteria'] = (df_group2.loc[:,'t1':'t4'].sum(axis=1) == 100)"
   ]
  },
  {
   "cell_type": "code",
   "execution_count": 9,
   "metadata": {
    "colab": {
     "base_uri": "https://localhost:8080/",
     "height": 340
    },
    "colab_type": "code",
    "executionInfo": {
     "elapsed": 261,
     "status": "ok",
     "timestamp": 1596582090004,
     "user": {
      "displayName": "Weihang Ren",
      "photoUrl": "",
      "userId": "18183422973531312162"
     },
     "user_tz": 240
    },
    "id": "G_flnhExnB_e",
    "outputId": "3972cbf4-d192-4208-e5ee-986ce694d2e1"
   },
   "outputs": [
    {
     "data": {
      "text/html": [
       "<div>\n",
       "<style scoped>\n",
       "    .dataframe tbody tr th:only-of-type {\n",
       "        vertical-align: middle;\n",
       "    }\n",
       "\n",
       "    .dataframe tbody tr th {\n",
       "        vertical-align: top;\n",
       "    }\n",
       "\n",
       "    .dataframe thead th {\n",
       "        text-align: right;\n",
       "    }\n",
       "</style>\n",
       "<table border=\"1\" class=\"dataframe\">\n",
       "  <thead>\n",
       "    <tr style=\"text-align: right;\">\n",
       "      <th></th>\n",
       "      <th>Timestamp</th>\n",
       "      <th>Student</th>\n",
       "      <th>Gender</th>\n",
       "      <th>Group</th>\n",
       "      <th>c1</th>\n",
       "      <th>c2</th>\n",
       "      <th>c3</th>\n",
       "      <th>c4</th>\n",
       "      <th>c5</th>\n",
       "      <th>c6</th>\n",
       "      <th>...</th>\n",
       "      <th>c8</th>\n",
       "      <th>R1</th>\n",
       "      <th>R2</th>\n",
       "      <th>R3</th>\n",
       "      <th>R4</th>\n",
       "      <th>R5</th>\n",
       "      <th>R6</th>\n",
       "      <th>R7</th>\n",
       "      <th>R8</th>\n",
       "      <th>CourseBidCriteria</th>\n",
       "    </tr>\n",
       "    <tr>\n",
       "      <th>UNI</th>\n",
       "      <th></th>\n",
       "      <th></th>\n",
       "      <th></th>\n",
       "      <th></th>\n",
       "      <th></th>\n",
       "      <th></th>\n",
       "      <th></th>\n",
       "      <th></th>\n",
       "      <th></th>\n",
       "      <th></th>\n",
       "      <th></th>\n",
       "      <th></th>\n",
       "      <th></th>\n",
       "      <th></th>\n",
       "      <th></th>\n",
       "      <th></th>\n",
       "      <th></th>\n",
       "      <th></th>\n",
       "      <th></th>\n",
       "      <th></th>\n",
       "      <th></th>\n",
       "    </tr>\n",
       "  </thead>\n",
       "  <tbody>\n",
       "    <tr>\n",
       "      <th>qt2131</th>\n",
       "      <td>1596122471600000000</td>\n",
       "      <td>qt2131@columbia.edu</td>\n",
       "      <td>Female</td>\n",
       "      <td>Group1</td>\n",
       "      <td>1</td>\n",
       "      <td>2</td>\n",
       "      <td>3</td>\n",
       "      <td>4</td>\n",
       "      <td>5</td>\n",
       "      <td>6</td>\n",
       "      <td>...</td>\n",
       "      <td>72</td>\n",
       "      <td>c8</td>\n",
       "      <td>c7</td>\n",
       "      <td>c6</td>\n",
       "      <td>c5</td>\n",
       "      <td>c4</td>\n",
       "      <td>c3</td>\n",
       "      <td>c2</td>\n",
       "      <td>c1</td>\n",
       "      <td>True</td>\n",
       "    </tr>\n",
       "    <tr>\n",
       "      <th>zs2440</th>\n",
       "      <td>1596215209461000000</td>\n",
       "      <td>zs2440@columbia.edu</td>\n",
       "      <td>Female</td>\n",
       "      <td>Group1</td>\n",
       "      <td>0</td>\n",
       "      <td>100</td>\n",
       "      <td>0</td>\n",
       "      <td>0</td>\n",
       "      <td>0</td>\n",
       "      <td>0</td>\n",
       "      <td>...</td>\n",
       "      <td>0</td>\n",
       "      <td>c2</td>\n",
       "      <td>c1</td>\n",
       "      <td>c3</td>\n",
       "      <td>c4</td>\n",
       "      <td>c5</td>\n",
       "      <td>c6</td>\n",
       "      <td>c7</td>\n",
       "      <td>c8</td>\n",
       "      <td>True</td>\n",
       "    </tr>\n",
       "    <tr>\n",
       "      <th>xt2230</th>\n",
       "      <td>1596219805170000000</td>\n",
       "      <td>xt2230@columbia.edu</td>\n",
       "      <td>Female</td>\n",
       "      <td>Group1</td>\n",
       "      <td>0</td>\n",
       "      <td>65</td>\n",
       "      <td>0</td>\n",
       "      <td>0</td>\n",
       "      <td>0</td>\n",
       "      <td>0</td>\n",
       "      <td>...</td>\n",
       "      <td>35</td>\n",
       "      <td>c2</td>\n",
       "      <td>c8</td>\n",
       "      <td>c4</td>\n",
       "      <td>c3</td>\n",
       "      <td>c1</td>\n",
       "      <td>c5</td>\n",
       "      <td>c6</td>\n",
       "      <td>c7</td>\n",
       "      <td>True</td>\n",
       "    </tr>\n",
       "    <tr>\n",
       "      <th>sjl222</th>\n",
       "      <td>1596224022427000000</td>\n",
       "      <td>sjl2220@columbia.edu</td>\n",
       "      <td>Male</td>\n",
       "      <td>Group1</td>\n",
       "      <td>45</td>\n",
       "      <td>0</td>\n",
       "      <td>45</td>\n",
       "      <td>0</td>\n",
       "      <td>0</td>\n",
       "      <td>10</td>\n",
       "      <td>...</td>\n",
       "      <td>0</td>\n",
       "      <td>c1</td>\n",
       "      <td>c3</td>\n",
       "      <td>c6</td>\n",
       "      <td>c5</td>\n",
       "      <td>c7</td>\n",
       "      <td>c4</td>\n",
       "      <td>c8</td>\n",
       "      <td>c2</td>\n",
       "      <td>True</td>\n",
       "    </tr>\n",
       "    <tr>\n",
       "      <th>zl2856</th>\n",
       "      <td>1596225961121000000</td>\n",
       "      <td>zl2856@columbia.edu</td>\n",
       "      <td>Female</td>\n",
       "      <td>Group1</td>\n",
       "      <td>15</td>\n",
       "      <td>10</td>\n",
       "      <td>15</td>\n",
       "      <td>10</td>\n",
       "      <td>15</td>\n",
       "      <td>15</td>\n",
       "      <td>...</td>\n",
       "      <td>10</td>\n",
       "      <td>c1</td>\n",
       "      <td>c5</td>\n",
       "      <td>c3</td>\n",
       "      <td>c6</td>\n",
       "      <td>c7</td>\n",
       "      <td>c2</td>\n",
       "      <td>c8</td>\n",
       "      <td>c4</td>\n",
       "      <td>True</td>\n",
       "    </tr>\n",
       "  </tbody>\n",
       "</table>\n",
       "<p>5 rows × 21 columns</p>\n",
       "</div>"
      ],
      "text/plain": [
       "                  Timestamp               Student  Gender   Group  c1   c2  \\\n",
       "UNI                                                                          \n",
       "qt2131  1596122471600000000   qt2131@columbia.edu  Female  Group1   1    2   \n",
       "zs2440  1596215209461000000   zs2440@columbia.edu  Female  Group1   0  100   \n",
       "xt2230  1596219805170000000   xt2230@columbia.edu  Female  Group1   0   65   \n",
       "sjl222  1596224022427000000  sjl2220@columbia.edu    Male  Group1  45    0   \n",
       "zl2856  1596225961121000000   zl2856@columbia.edu  Female  Group1  15   10   \n",
       "\n",
       "        c3  c4  c5  c6  ...  c8  R1  R2  R3  R4  R5  R6  R7  R8  \\\n",
       "UNI                     ...                                       \n",
       "qt2131   3   4   5   6  ...  72  c8  c7  c6  c5  c4  c3  c2  c1   \n",
       "zs2440   0   0   0   0  ...   0  c2  c1  c3  c4  c5  c6  c7  c8   \n",
       "xt2230   0   0   0   0  ...  35  c2  c8  c4  c3  c1  c5  c6  c7   \n",
       "sjl222  45   0   0  10  ...   0  c1  c3  c6  c5  c7  c4  c8  c2   \n",
       "zl2856  15  10  15  15  ...  10  c1  c5  c3  c6  c7  c2  c8  c4   \n",
       "\n",
       "       CourseBidCriteria  \n",
       "UNI                       \n",
       "qt2131              True  \n",
       "zs2440              True  \n",
       "xt2230              True  \n",
       "sjl222              True  \n",
       "zl2856              True  \n",
       "\n",
       "[5 rows x 21 columns]"
      ]
     },
     "execution_count": 9,
     "metadata": {},
     "output_type": "execute_result"
    }
   ],
   "source": [
    "df_group1.head()"
   ]
  },
  {
   "cell_type": "code",
   "execution_count": 10,
   "metadata": {
    "colab": {
     "base_uri": "https://localhost:8080/",
     "height": 340
    },
    "colab_type": "code",
    "executionInfo": {
     "elapsed": 233,
     "status": "ok",
     "timestamp": 1596582092600,
     "user": {
      "displayName": "Weihang Ren",
      "photoUrl": "",
      "userId": "18183422973531312162"
     },
     "user_tz": 240
    },
    "id": "2knihjGSnhql",
    "outputId": "8c1e17a7-b637-4bc3-e168-abe7ffd7fae8"
   },
   "outputs": [
    {
     "data": {
      "text/html": [
       "<div>\n",
       "<style scoped>\n",
       "    .dataframe tbody tr th:only-of-type {\n",
       "        vertical-align: middle;\n",
       "    }\n",
       "\n",
       "    .dataframe tbody tr th {\n",
       "        vertical-align: top;\n",
       "    }\n",
       "\n",
       "    .dataframe thead th {\n",
       "        text-align: right;\n",
       "    }\n",
       "</style>\n",
       "<table border=\"1\" class=\"dataframe\">\n",
       "  <thead>\n",
       "    <tr style=\"text-align: right;\">\n",
       "      <th></th>\n",
       "      <th>Timestamp</th>\n",
       "      <th>Student</th>\n",
       "      <th>Gender</th>\n",
       "      <th>Group</th>\n",
       "      <th>R1</th>\n",
       "      <th>R2</th>\n",
       "      <th>R3</th>\n",
       "      <th>R4</th>\n",
       "      <th>R5</th>\n",
       "      <th>R6</th>\n",
       "      <th>...</th>\n",
       "      <th>c5</th>\n",
       "      <th>c6</th>\n",
       "      <th>c7</th>\n",
       "      <th>c8</th>\n",
       "      <th>t1</th>\n",
       "      <th>t2</th>\n",
       "      <th>t3</th>\n",
       "      <th>t4</th>\n",
       "      <th>CourseBidCriteria</th>\n",
       "      <th>TimeBidCriteria</th>\n",
       "    </tr>\n",
       "    <tr>\n",
       "      <th>UNI</th>\n",
       "      <th></th>\n",
       "      <th></th>\n",
       "      <th></th>\n",
       "      <th></th>\n",
       "      <th></th>\n",
       "      <th></th>\n",
       "      <th></th>\n",
       "      <th></th>\n",
       "      <th></th>\n",
       "      <th></th>\n",
       "      <th></th>\n",
       "      <th></th>\n",
       "      <th></th>\n",
       "      <th></th>\n",
       "      <th></th>\n",
       "      <th></th>\n",
       "      <th></th>\n",
       "      <th></th>\n",
       "      <th></th>\n",
       "      <th></th>\n",
       "      <th></th>\n",
       "    </tr>\n",
       "  </thead>\n",
       "  <tbody>\n",
       "    <tr>\n",
       "      <th>wr2325</th>\n",
       "      <td>1596123921952000000</td>\n",
       "      <td>wr2325@columbia.edu</td>\n",
       "      <td>Male</td>\n",
       "      <td>Group2</td>\n",
       "      <td>c3</td>\n",
       "      <td>c8</td>\n",
       "      <td>c5</td>\n",
       "      <td>c4</td>\n",
       "      <td>c6</td>\n",
       "      <td>c7</td>\n",
       "      <td>...</td>\n",
       "      <td>10</td>\n",
       "      <td>5</td>\n",
       "      <td>5</td>\n",
       "      <td>35</td>\n",
       "      <td>10</td>\n",
       "      <td>20</td>\n",
       "      <td>40</td>\n",
       "      <td>30</td>\n",
       "      <td>True</td>\n",
       "      <td>True</td>\n",
       "    </tr>\n",
       "    <tr>\n",
       "      <th>sj2993</th>\n",
       "      <td>1596215231263000000</td>\n",
       "      <td>sj2993@columbia.edu</td>\n",
       "      <td>Male</td>\n",
       "      <td>Group2</td>\n",
       "      <td>c1</td>\n",
       "      <td>c4</td>\n",
       "      <td>c3</td>\n",
       "      <td>c2</td>\n",
       "      <td>c5</td>\n",
       "      <td>c7</td>\n",
       "      <td>...</td>\n",
       "      <td>3</td>\n",
       "      <td>1</td>\n",
       "      <td>3</td>\n",
       "      <td>3</td>\n",
       "      <td>40</td>\n",
       "      <td>30</td>\n",
       "      <td>20</td>\n",
       "      <td>10</td>\n",
       "      <td>True</td>\n",
       "      <td>True</td>\n",
       "    </tr>\n",
       "    <tr>\n",
       "      <th>sa3763</th>\n",
       "      <td>1596215676520000000</td>\n",
       "      <td>sa3763@columbia.edu</td>\n",
       "      <td>Female</td>\n",
       "      <td>Group2</td>\n",
       "      <td>c1</td>\n",
       "      <td>c6</td>\n",
       "      <td>c5</td>\n",
       "      <td>c7</td>\n",
       "      <td>c4</td>\n",
       "      <td>c3</td>\n",
       "      <td>...</td>\n",
       "      <td>5</td>\n",
       "      <td>5</td>\n",
       "      <td>10</td>\n",
       "      <td>5</td>\n",
       "      <td>30</td>\n",
       "      <td>40</td>\n",
       "      <td>20</td>\n",
       "      <td>10</td>\n",
       "      <td>True</td>\n",
       "      <td>True</td>\n",
       "    </tr>\n",
       "    <tr>\n",
       "      <th>yf2507</th>\n",
       "      <td>1596215843684000000</td>\n",
       "      <td>yf2507@columbia.edu</td>\n",
       "      <td>Female</td>\n",
       "      <td>Group2</td>\n",
       "      <td>c4</td>\n",
       "      <td>c1</td>\n",
       "      <td>c3</td>\n",
       "      <td>c5</td>\n",
       "      <td>c6</td>\n",
       "      <td>c7</td>\n",
       "      <td>...</td>\n",
       "      <td>5</td>\n",
       "      <td>5</td>\n",
       "      <td>0</td>\n",
       "      <td>0</td>\n",
       "      <td>25</td>\n",
       "      <td>25</td>\n",
       "      <td>25</td>\n",
       "      <td>25</td>\n",
       "      <td>True</td>\n",
       "      <td>True</td>\n",
       "    </tr>\n",
       "    <tr>\n",
       "      <th>js5553</th>\n",
       "      <td>1596216166790000000</td>\n",
       "      <td>js5553@columbia.edu</td>\n",
       "      <td>Male</td>\n",
       "      <td>Group2</td>\n",
       "      <td>c1</td>\n",
       "      <td>c3</td>\n",
       "      <td>c2</td>\n",
       "      <td>c4</td>\n",
       "      <td>c5</td>\n",
       "      <td>c6</td>\n",
       "      <td>...</td>\n",
       "      <td>5</td>\n",
       "      <td>5</td>\n",
       "      <td>0</td>\n",
       "      <td>0</td>\n",
       "      <td>0</td>\n",
       "      <td>50</td>\n",
       "      <td>20</td>\n",
       "      <td>30</td>\n",
       "      <td>True</td>\n",
       "      <td>True</td>\n",
       "    </tr>\n",
       "  </tbody>\n",
       "</table>\n",
       "<p>5 rows × 26 columns</p>\n",
       "</div>"
      ],
      "text/plain": [
       "                  Timestamp              Student  Gender   Group  R1  R2  R3  \\\n",
       "UNI                                                                            \n",
       "wr2325  1596123921952000000  wr2325@columbia.edu    Male  Group2  c3  c8  c5   \n",
       "sj2993  1596215231263000000  sj2993@columbia.edu    Male  Group2  c1  c4  c3   \n",
       "sa3763  1596215676520000000  sa3763@columbia.edu  Female  Group2  c1  c6  c5   \n",
       "yf2507  1596215843684000000  yf2507@columbia.edu  Female  Group2  c4  c1  c3   \n",
       "js5553  1596216166790000000  js5553@columbia.edu    Male  Group2  c1  c3  c2   \n",
       "\n",
       "        R4  R5  R6  ...  c5 c6  c7  c8  t1  t2  t3  t4  CourseBidCriteria  \\\n",
       "UNI                 ...                                                     \n",
       "wr2325  c4  c6  c7  ...  10  5   5  35  10  20  40  30               True   \n",
       "sj2993  c2  c5  c7  ...   3  1   3   3  40  30  20  10               True   \n",
       "sa3763  c7  c4  c3  ...   5  5  10   5  30  40  20  10               True   \n",
       "yf2507  c5  c6  c7  ...   5  5   0   0  25  25  25  25               True   \n",
       "js5553  c4  c5  c6  ...   5  5   0   0   0  50  20  30               True   \n",
       "\n",
       "        TimeBidCriteria  \n",
       "UNI                      \n",
       "wr2325             True  \n",
       "sj2993             True  \n",
       "sa3763             True  \n",
       "yf2507             True  \n",
       "js5553             True  \n",
       "\n",
       "[5 rows x 26 columns]"
      ]
     },
     "execution_count": 10,
     "metadata": {},
     "output_type": "execute_result"
    }
   ],
   "source": [
    "df_group2.head()"
   ]
  },
  {
   "cell_type": "markdown",
   "metadata": {
    "colab_type": "text",
    "id": "1-T32VFdviL_"
   },
   "source": [
    "## Response Summary"
   ]
  },
  {
   "cell_type": "code",
   "execution_count": 11,
   "metadata": {
    "colab": {},
    "colab_type": "code",
    "executionInfo": {
     "elapsed": 258,
     "status": "ok",
     "timestamp": 1596584091744,
     "user": {
      "displayName": "Weihang Ren",
      "photoUrl": "",
      "userId": "18183422973531312162"
     },
     "user_tz": 240
    },
    "id": "C2IG6E-5vmfU"
   },
   "outputs": [],
   "source": [
    "def countBidder(df, course):\n",
    "    c = df.groupby(course).count()[[\"Group\"]]\n",
    "    return int(c[1:].sum())\n",
    "\n",
    "def report(df):\n",
    "    print(f\"# of participants: {len(df)}\")\n",
    "    gender = df.groupby(\"Gender\").count()[\"Group\"]\n",
    "    print(f\"Female: {gender[0]}, Male: {gender[1]}\")\n",
    "    print(f\"\\n# of bidders for each course:\")\n",
    "    for c in ['c1', 'c2', 'c3', 'c4', 'c5', 'c6', 'c7', 'c8']:\n",
    "        print(f\"\\t{c}: {countBidder(df, c)}\")"
   ]
  },
  {
   "cell_type": "code",
   "execution_count": 12,
   "metadata": {
    "colab": {
     "base_uri": "https://localhost:8080/",
     "height": 221
    },
    "colab_type": "code",
    "executionInfo": {
     "elapsed": 258,
     "status": "ok",
     "timestamp": 1596584091963,
     "user": {
      "displayName": "Weihang Ren",
      "photoUrl": "",
      "userId": "18183422973531312162"
     },
     "user_tz": 240
    },
    "id": "0lWOwoW9vnN7",
    "outputId": "829dc398-0018-49a5-b33e-d6a8f5f556b3"
   },
   "outputs": [
    {
     "name": "stdout",
     "output_type": "stream",
     "text": [
      "# of participants: 11\n",
      "Female: 6, Male: 5\n",
      "\n",
      "# of bidders for each course:\n",
      "\tc1: 9\n",
      "\tc2: 8\n",
      "\tc3: 6\n",
      "\tc4: 6\n",
      "\tc5: 5\n",
      "\tc6: 7\n",
      "\tc7: 5\n",
      "\tc8: 7\n"
     ]
    }
   ],
   "source": [
    "report(df_group1)"
   ]
  },
  {
   "cell_type": "code",
   "execution_count": 13,
   "metadata": {
    "colab": {
     "base_uri": "https://localhost:8080/",
     "height": 221
    },
    "colab_type": "code",
    "executionInfo": {
     "elapsed": 427,
     "status": "ok",
     "timestamp": 1596584092353,
     "user": {
      "displayName": "Weihang Ren",
      "photoUrl": "",
      "userId": "18183422973531312162"
     },
     "user_tz": 240
    },
    "id": "wymGKjmnvn8Q",
    "outputId": "0d48b17b-7986-4d43-9b24-8e4cbc5ee38f"
   },
   "outputs": [
    {
     "name": "stdout",
     "output_type": "stream",
     "text": [
      "# of participants: 22\n",
      "Female: 10, Male: 12\n",
      "\n",
      "# of bidders for each course:\n",
      "\tc1: 20\n",
      "\tc2: 16\n",
      "\tc3: 18\n",
      "\tc4: 19\n",
      "\tc5: 19\n",
      "\tc6: 17\n",
      "\tc7: 11\n",
      "\tc8: 7\n"
     ]
    }
   ],
   "source": [
    "report(df_group2)"
   ]
  },
  {
   "cell_type": "markdown",
   "metadata": {
    "colab_type": "text",
    "id": "gONqlRKw1WnI"
   },
   "source": [
    "## Generate Course Capacities"
   ]
  },
  {
   "cell_type": "code",
   "execution_count": 14,
   "metadata": {
    "colab": {},
    "colab_type": "code",
    "executionInfo": {
     "elapsed": 258,
     "status": "ok",
     "timestamp": 1596584593709,
     "user": {
      "displayName": "Weihang Ren",
      "photoUrl": "",
      "userId": "18183422973531312162"
     },
     "user_tz": 240
    },
    "id": "jgCW8o0nvodD"
   },
   "outputs": [],
   "source": [
    "# import math\n",
    "\n",
    "sc = ['c1','c3','c5','c6']\n",
    "course = ['c1','c2','c3','c4','c5','c6','c7','c8']\n",
    "ld = ['c1','c2','c3','c4']\n",
    "hd = ['c5','c6','c7','c8']\n",
    "\n",
    "# Equal number of seats for all 8 courses\n",
    "def capacity(df):\n",
    "    cap = {c: 0 for c in course}\n",
    "    \n",
    "    # 4 semi-core courses take at least len(df) people\n",
    "    capOfSC = round(len(df)/4)\n",
    "    lastSC = len(df) - 3*capOfSC\n",
    "    for c in sc:\n",
    "        cap[c] += capOfSC\n",
    "    cap[sc[-1]] = lastSC\n",
    "    \n",
    "    remainTotalSeats = 3*len(df) - 3*capOfSC - lastSC\n",
    "#     print(remainTotalSeats)\n",
    "    capOfAll = round(remainTotalSeats/8)\n",
    "    for c in course:\n",
    "        cap[c] += capOfAll\n",
    "#     cap[course[-1]] = 3*len(df) - sum(list(cap.values())[:-1])\n",
    "    \n",
    "    # adjust for demand\n",
    "#     for c in ld:\n",
    "#         cap[c] -= 1\n",
    "        \n",
    "#     for c in hd:\n",
    "#         cap[c] += 1\n",
    "\n",
    "    return cap"
   ]
  },
  {
   "cell_type": "code",
   "execution_count": 15,
   "metadata": {
    "colab": {
     "base_uri": "https://localhost:8080/",
     "height": 34
    },
    "colab_type": "code",
    "executionInfo": {
     "elapsed": 179,
     "status": "ok",
     "timestamp": 1596584595901,
     "user": {
      "displayName": "Weihang Ren",
      "photoUrl": "",
      "userId": "18183422973531312162"
     },
     "user_tz": 240
    },
    "id": "272jhKf0vo07",
    "outputId": "9b087984-c64d-4c8e-ab87-9aab7e8548f4"
   },
   "outputs": [
    {
     "data": {
      "text/plain": [
       "70"
      ]
     },
     "execution_count": 15,
     "metadata": {},
     "output_type": "execute_result"
    }
   ],
   "source": [
    "sum(capacity(df_group2).values())\n",
    "# capacity(df_group1)"
   ]
  },
  {
   "cell_type": "code",
   "execution_count": 16,
   "metadata": {
    "colab": {},
    "colab_type": "code",
    "id": "6RiXm4-LvpK0"
   },
   "outputs": [
    {
     "data": {
      "text/plain": [
       "22"
      ]
     },
     "execution_count": 16,
     "metadata": {},
     "output_type": "execute_result"
    }
   ],
   "source": [
    "len(df_group2)"
   ]
  },
  {
   "cell_type": "code",
   "execution_count": 17,
   "metadata": {
    "colab": {},
    "colab_type": "code",
    "id": "2bvYDMGivpfG"
   },
   "outputs": [
    {
     "data": {
      "text/plain": [
       "[1, 2]"
      ]
     },
     "execution_count": 17,
     "metadata": {},
     "output_type": "execute_result"
    }
   ],
   "source": [
    "[1,2,3][:-1]"
   ]
  },
  {
   "cell_type": "markdown",
   "metadata": {
    "colab_type": "text",
    "id": "rgEHSzZteUKo"
   },
   "source": [
    "# Section 1: Preference Generator from Bids and Lotteries\n"
   ]
  },
  {
   "cell_type": "markdown",
   "metadata": {
    "colab_type": "text",
    "id": "_A5umSFA1Wk1"
   },
   "source": [
    "### Student-side preferences\n",
    "\n",
    "```python\n",
    "def get_pref(df, sc=False):     # actual preferences\n",
    "def get_bid_pref(df, sc=False): # implied preferences from bids\n",
    "```\n",
    "Functions return output of the following structure:\n",
    "```\n",
    "{'student1': [c2, c3, ...],\n",
    " 'student2': [c1, c4, ...],\n",
    "  ...\n",
    "}\n",
    "```"
   ]
  },
  {
   "cell_type": "markdown",
   "metadata": {
    "colab_type": "text",
    "id": "3cQuDb031fWj"
   },
   "source": [
    "TODO: Function to get dictionary of student preferences from data frame\n"
   ]
  },
  {
   "cell_type": "code",
   "execution_count": 18,
   "metadata": {
    "colab": {},
    "colab_type": "code",
    "executionInfo": {
     "elapsed": 183,
     "status": "ok",
     "timestamp": 1596582096678,
     "user": {
      "displayName": "Weihang Ren",
      "photoUrl": "",
      "userId": "18183422973531312162"
     },
     "user_tz": 240
    },
    "id": "snoEk2GjzlyC"
   },
   "outputs": [],
   "source": [
    "def get_pref(df, sc=False):\n",
    "    '''\n",
    "    Returns a dictionary of students' preferences, with student UNI as the key\n",
    "    sc=False gives all courses, sc=True gives only semi-core courses\n",
    "    '''\n",
    "    pref_dict = {}\n",
    "    if sc:\n",
    "        for UNI, row in df.loc[:,'R1':'R8'].iterrows():\n",
    "            sc_list = []\n",
    "            for c in row.values:\n",
    "                if c in ['c1','c3','c5','c6']: # if course is semi-core\n",
    "                    sc_list.append(c)\n",
    "            pref_dict[UNI] = sc_list\n",
    "\n",
    "    else:  \n",
    "        for UNI, row in df.loc[:,'R1':'R8'].iterrows():\n",
    "            pref_dict[UNI] = list(row.values)\n",
    "\n",
    "    return pref_dict"
   ]
  },
  {
   "cell_type": "code",
   "execution_count": 19,
   "metadata": {
    "colab": {},
    "colab_type": "code",
    "executionInfo": {
     "elapsed": 164,
     "status": "ok",
     "timestamp": 1596582097059,
     "user": {
      "displayName": "Weihang Ren",
      "photoUrl": "",
      "userId": "18183422973531312162"
     },
     "user_tz": 240
    },
    "id": "gniy4iD_7pDb"
   },
   "outputs": [
    {
     "data": {
      "text/plain": [
       "{'wr2325': ['c3', 'c8', 'c5', 'c4', 'c6', 'c7', 'c2', 'c1'],\n",
       " 'sj2993': ['c1', 'c4', 'c3', 'c2', 'c5', 'c7', 'c8', 'c6'],\n",
       " 'sa3763': ['c1', 'c6', 'c5', 'c7', 'c4', 'c3', 'c2', 'c8'],\n",
       " 'yf2507': ['c4', 'c1', 'c3', 'c5', 'c6', 'c7', 'c8', 'c2'],\n",
       " 'js5553': ['c1', 'c3', 'c2', 'c4', 'c5', 'c6', 'c7', 'c8'],\n",
       " 'sc4597': ['c3', 'c1', 'c2', 'c5', 'c6', 'c8', 'c7', 'c4'],\n",
       " 'pa2561': ['c1', 'c4', 'c5', 'c6', 'c7', 'c2', 'c3', 'c8'],\n",
       " 'cf2799': ['c3', 'c4', 'c5', 'c1', 'c2', 'c7', 'c6', 'c8'],\n",
       " 'sc4617': ['c1', 'c5', 'c7', 'c2', 'c3', 'c6', 'c8', 'c4'],\n",
       " 'ma3973': ['c1', 'c3', 'c5', 'c2', 'c4', 'c6', 'c7', 'c8'],\n",
       " 'qz2391': ['c4', 'c1', 'c2', 'c3', 'c6', 'c5', 'c7', 'c8'],\n",
       " 'tnw211': ['c2', 'c1', 'c6', 'c5', 'c7', 'c3', 'c4', 'c8'],\n",
       " 'xm2235': ['c4', 'c3', 'c6', 'c1', 'c7', 'c5', 'c2', 'c8'],\n",
       " 'da2899': ['c4', 'c2', 'c3', 'c1', 'c7', 'c8', 'c5', 'c6'],\n",
       " 'wg2347': ['c4', 'c1', 'c6', 'c8', 'c5', 'c2', 'c3', 'c7'],\n",
       " 'yp2555': ['c1', 'c4', 'c3', 'c2', 'c5', 'c6', 'c7', 'c8'],\n",
       " 'yw3379': ['c3', 'c2', 'c1', 'c4', 'c5', 'c6', 'c8', 'c7'],\n",
       " 'zp2215': ['c4', 'c5', 'c2', 'c1', 'c3', 'c6', 'c7', 'c8'],\n",
       " 'lh2991': ['c3', 'c4', 'c1', 'c2', 'c5', 'c7', 'c6', 'c8'],\n",
       " 'sc4811': ['c4', 'c1', 'c2', 'c6', 'c7', 'c8', 'c3', 'c5'],\n",
       " 'yd2547': ['c1', 'c6', 'c5', 'c7', 'c4', 'c3', 'c8', 'c2'],\n",
       " 'mds225': ['c1', 'c2', 'c4', 'c3', 'c6', 'c5', 'c7', 'c8']}"
      ]
     },
     "execution_count": 19,
     "metadata": {},
     "output_type": "execute_result"
    }
   ],
   "source": [
    "get_pref(df_group2)\n",
    "# get_pref(df_group2, sc=True)"
   ]
  },
  {
   "cell_type": "markdown",
   "metadata": {
    "colab_type": "text",
    "id": "mN-3OaUtzpvR"
   },
   "source": [
    "TODO: Function to generate implied preferences from bids (Test 1)."
   ]
  },
  {
   "cell_type": "code",
   "execution_count": 20,
   "metadata": {
    "colab": {},
    "colab_type": "code",
    "executionInfo": {
     "elapsed": 161,
     "status": "ok",
     "timestamp": 1596582097809,
     "user": {
      "displayName": "Weihang Ren",
      "photoUrl": "",
      "userId": "18183422973531312162"
     },
     "user_tz": 240
    },
    "id": "pO2n1ir2uZgO"
   },
   "outputs": [],
   "source": [
    "def get_bid_pref(df, sc=False):\n",
    "    '''\n",
    "    Returns a dictionary of students' preferences, derived from course bids.\n",
    "    Student UNI as key.\n",
    "    sc=False gives all courses, sc=True gives only semi-core courses\n",
    "    '''\n",
    "    pref_dict = {}\n",
    "    if sc:\n",
    "        for UNI, row in df.loc[:,'c1':'c8'].iterrows():\n",
    "            sc_list = []\n",
    "        for c in row.sort_values(ascending=False).index.values:\n",
    "            if c in ['c1','c3','c5','c6']: # if course is semi-core\n",
    "                sc_list.append(c)\n",
    "        pref_dict[UNI] = sc_list\n",
    "\n",
    "    else:\n",
    "        for UNI, row in df.loc[:,'c1':'c8'].iterrows():\n",
    "            pref_dict[UNI] = list(row.sort_values(ascending=False).index.values)\n",
    "\n",
    "    return pref_dict"
   ]
  },
  {
   "cell_type": "code",
   "execution_count": 21,
   "metadata": {
    "colab": {},
    "colab_type": "code",
    "executionInfo": {
     "elapsed": 170,
     "status": "ok",
     "timestamp": 1596582098443,
     "user": {
      "displayName": "Weihang Ren",
      "photoUrl": "",
      "userId": "18183422973531312162"
     },
     "user_tz": 240
    },
    "id": "PDi-98AF3z_u"
   },
   "outputs": [
    {
     "data": {
      "text/plain": [
       "{'qt2131': ['c8', 'c7', 'c6', 'c5', 'c4', 'c3', 'c2', 'c1'],\n",
       " 'zs2440': ['c2', 'c8', 'c7', 'c6', 'c5', 'c4', 'c3', 'c1'],\n",
       " 'xt2230': ['c2', 'c8', 'c7', 'c6', 'c5', 'c4', 'c3', 'c1'],\n",
       " 'sjl222': ['c3', 'c1', 'c6', 'c8', 'c7', 'c5', 'c4', 'c2'],\n",
       " 'zl2856': ['c6', 'c5', 'c3', 'c1', 'c8', 'c7', 'c4', 'c2'],\n",
       " 'mz2776': ['c3', 'c8', 'c6', 'c4', 'c2', 'c1', 'c7', 'c5'],\n",
       " 'tg2718': ['c4', 'c1', 'c5', 'c3', 'c7', 'c8', 'c6', 'c2'],\n",
       " 'rg3266': ['c1', 'c8', 'c7', 'c6', 'c5', 'c4', 'c3', 'c2'],\n",
       " 'jy3026': ['c1', 'c3', 'c4', 'c2', 'c8', 'c7', 'c6', 'c5'],\n",
       " 'atc214': ['c2', 'c1', 'c5', 'c4', 'c8', 'c7', 'c6', 'c3'],\n",
       " 'wx2226': ['c2', 'c1', 'c7', 'c8', 'c6', 'c5', 'c4', 'c3']}"
      ]
     },
     "execution_count": 21,
     "metadata": {},
     "output_type": "execute_result"
    }
   ],
   "source": [
    "get_bid_pref(df_group1)\n",
    "# get_bid_pref(df_group1, sc=True)"
   ]
  },
  {
   "cell_type": "markdown",
   "metadata": {
    "colab_type": "text",
    "id": "GvtGUOKN0tUZ"
   },
   "source": [
    "### Course-side Preferences\n",
    "\n",
    "```python\n",
    "def get_course_pref(df, sc = False, rank = True, seed = 42)\n",
    "# when rank = True (default), returns dictionary of courses' rankings \n",
    "# when rank = False, returns dictionary of courses' bids\n",
    "\n",
    "def get_time_pref(df, sc = False, rank = True, seed = 42)\n",
    "# converts time bids into course bids, and runs get_course_pref()\n",
    "```\n",
    "Function returns a dictionary of the following structure:\n",
    "```\n",
    "{'c1': ['student1', 'student3', ...],\n",
    " 'c2': ['student2', 'student3', ...],\n",
    "  ...\n",
    "}\n",
    "```\n"
   ]
  },
  {
   "cell_type": "markdown",
   "metadata": {
    "colab_type": "text",
    "id": "AOZ8O9mom3CI"
   },
   "source": [
    "TODO: Function to get students' bids for courses/ timeslots (Tests 1-3)"
   ]
  },
  {
   "cell_type": "code",
   "execution_count": 22,
   "metadata": {
    "colab": {},
    "colab_type": "code",
    "executionInfo": {
     "elapsed": 227,
     "status": "ok",
     "timestamp": 1596582100376,
     "user": {
      "displayName": "Weihang Ren",
      "photoUrl": "",
      "userId": "18183422973531312162"
     },
     "user_tz": 240
    },
    "id": "qPG79-N32Add"
   },
   "outputs": [],
   "source": [
    "def modified_bid(df, seed = 42):\n",
    "    '''\n",
    "    Adds a random real number x drawn from uniform distribution for each student-course pair\n",
    "    Modifies each positive bid b>0 as b'=b+x\n",
    "    Returns a modified bid matrix\n",
    "    '''\n",
    "    np.random.seed(seed)\n",
    "    df_ = df.loc[:,'c1':'c8']\n",
    "    X = np.random.uniform(size=df_.shape)\n",
    "    mod_bids = df_ + X\n",
    "    # mod_bids[mod_bids < 1] = 0\n",
    "    return mod_bids"
   ]
  },
  {
   "cell_type": "code",
   "execution_count": 23,
   "metadata": {},
   "outputs": [
    {
     "data": {
      "text/html": [
       "<div>\n",
       "<style scoped>\n",
       "    .dataframe tbody tr th:only-of-type {\n",
       "        vertical-align: middle;\n",
       "    }\n",
       "\n",
       "    .dataframe tbody tr th {\n",
       "        vertical-align: top;\n",
       "    }\n",
       "\n",
       "    .dataframe thead th {\n",
       "        text-align: right;\n",
       "    }\n",
       "</style>\n",
       "<table border=\"1\" class=\"dataframe\">\n",
       "  <thead>\n",
       "    <tr style=\"text-align: right;\">\n",
       "      <th></th>\n",
       "      <th>c1</th>\n",
       "      <th>c2</th>\n",
       "      <th>c3</th>\n",
       "      <th>c4</th>\n",
       "      <th>c5</th>\n",
       "      <th>c6</th>\n",
       "      <th>c7</th>\n",
       "      <th>c8</th>\n",
       "    </tr>\n",
       "    <tr>\n",
       "      <th>UNI</th>\n",
       "      <th></th>\n",
       "      <th></th>\n",
       "      <th></th>\n",
       "      <th></th>\n",
       "      <th></th>\n",
       "      <th></th>\n",
       "      <th></th>\n",
       "      <th></th>\n",
       "    </tr>\n",
       "  </thead>\n",
       "  <tbody>\n",
       "    <tr>\n",
       "      <th>qt2131</th>\n",
       "      <td>1.374540</td>\n",
       "      <td>2.950714</td>\n",
       "      <td>3.731994</td>\n",
       "      <td>4.598658</td>\n",
       "      <td>5.156019</td>\n",
       "      <td>6.155995</td>\n",
       "      <td>7.058084</td>\n",
       "      <td>72.866176</td>\n",
       "    </tr>\n",
       "    <tr>\n",
       "      <th>zs2440</th>\n",
       "      <td>0.601115</td>\n",
       "      <td>100.708073</td>\n",
       "      <td>0.020584</td>\n",
       "      <td>0.969910</td>\n",
       "      <td>0.832443</td>\n",
       "      <td>0.212339</td>\n",
       "      <td>0.181825</td>\n",
       "      <td>0.183405</td>\n",
       "    </tr>\n",
       "    <tr>\n",
       "      <th>xt2230</th>\n",
       "      <td>0.304242</td>\n",
       "      <td>65.524756</td>\n",
       "      <td>0.431945</td>\n",
       "      <td>0.291229</td>\n",
       "      <td>0.611853</td>\n",
       "      <td>0.139494</td>\n",
       "      <td>0.292145</td>\n",
       "      <td>35.366362</td>\n",
       "    </tr>\n",
       "    <tr>\n",
       "      <th>sjl222</th>\n",
       "      <td>45.456070</td>\n",
       "      <td>0.785176</td>\n",
       "      <td>45.199674</td>\n",
       "      <td>0.514234</td>\n",
       "      <td>0.592415</td>\n",
       "      <td>10.046450</td>\n",
       "      <td>0.607545</td>\n",
       "      <td>0.170524</td>\n",
       "    </tr>\n",
       "    <tr>\n",
       "      <th>zl2856</th>\n",
       "      <td>15.065052</td>\n",
       "      <td>10.948886</td>\n",
       "      <td>15.965632</td>\n",
       "      <td>10.808397</td>\n",
       "      <td>15.304614</td>\n",
       "      <td>15.097672</td>\n",
       "      <td>10.684233</td>\n",
       "      <td>10.440152</td>\n",
       "    </tr>\n",
       "    <tr>\n",
       "      <th>mz2776</th>\n",
       "      <td>1.122038</td>\n",
       "      <td>1.495177</td>\n",
       "      <td>95.034389</td>\n",
       "      <td>1.909320</td>\n",
       "      <td>0.258780</td>\n",
       "      <td>1.662522</td>\n",
       "      <td>0.311711</td>\n",
       "      <td>1.520068</td>\n",
       "    </tr>\n",
       "    <tr>\n",
       "      <th>tg2718</th>\n",
       "      <td>20.546710</td>\n",
       "      <td>0.184854</td>\n",
       "      <td>10.969585</td>\n",
       "      <td>50.775133</td>\n",
       "      <td>10.939499</td>\n",
       "      <td>2.894827</td>\n",
       "      <td>4.597900</td>\n",
       "      <td>2.921874</td>\n",
       "    </tr>\n",
       "    <tr>\n",
       "      <th>rg3266</th>\n",
       "      <td>100.088493</td>\n",
       "      <td>0.195983</td>\n",
       "      <td>0.045227</td>\n",
       "      <td>0.325330</td>\n",
       "      <td>0.388677</td>\n",
       "      <td>0.271349</td>\n",
       "      <td>0.828738</td>\n",
       "      <td>0.356753</td>\n",
       "    </tr>\n",
       "    <tr>\n",
       "      <th>jy3026</th>\n",
       "      <td>35.280935</td>\n",
       "      <td>6.542696</td>\n",
       "      <td>30.140924</td>\n",
       "      <td>25.802197</td>\n",
       "      <td>1.074551</td>\n",
       "      <td>1.986887</td>\n",
       "      <td>1.772245</td>\n",
       "      <td>1.198716</td>\n",
       "    </tr>\n",
       "    <tr>\n",
       "      <th>atc214</th>\n",
       "      <td>49.005522</td>\n",
       "      <td>49.815461</td>\n",
       "      <td>0.706857</td>\n",
       "      <td>1.729007</td>\n",
       "      <td>1.771270</td>\n",
       "      <td>0.074045</td>\n",
       "      <td>0.358466</td>\n",
       "      <td>0.115869</td>\n",
       "    </tr>\n",
       "    <tr>\n",
       "      <th>wx2226</th>\n",
       "      <td>30.863103</td>\n",
       "      <td>30.623298</td>\n",
       "      <td>0.330898</td>\n",
       "      <td>0.063558</td>\n",
       "      <td>0.310982</td>\n",
       "      <td>10.325183</td>\n",
       "      <td>20.729606</td>\n",
       "      <td>10.637557</td>\n",
       "    </tr>\n",
       "  </tbody>\n",
       "</table>\n",
       "</div>"
      ],
      "text/plain": [
       "                c1          c2         c3         c4         c5         c6  \\\n",
       "UNI                                                                          \n",
       "qt2131    1.374540    2.950714   3.731994   4.598658   5.156019   6.155995   \n",
       "zs2440    0.601115  100.708073   0.020584   0.969910   0.832443   0.212339   \n",
       "xt2230    0.304242   65.524756   0.431945   0.291229   0.611853   0.139494   \n",
       "sjl222   45.456070    0.785176  45.199674   0.514234   0.592415  10.046450   \n",
       "zl2856   15.065052   10.948886  15.965632  10.808397  15.304614  15.097672   \n",
       "mz2776    1.122038    1.495177  95.034389   1.909320   0.258780   1.662522   \n",
       "tg2718   20.546710    0.184854  10.969585  50.775133  10.939499   2.894827   \n",
       "rg3266  100.088493    0.195983   0.045227   0.325330   0.388677   0.271349   \n",
       "jy3026   35.280935    6.542696  30.140924  25.802197   1.074551   1.986887   \n",
       "atc214   49.005522   49.815461   0.706857   1.729007   1.771270   0.074045   \n",
       "wx2226   30.863103   30.623298   0.330898   0.063558   0.310982  10.325183   \n",
       "\n",
       "               c7         c8  \n",
       "UNI                           \n",
       "qt2131   7.058084  72.866176  \n",
       "zs2440   0.181825   0.183405  \n",
       "xt2230   0.292145  35.366362  \n",
       "sjl222   0.607545   0.170524  \n",
       "zl2856  10.684233  10.440152  \n",
       "mz2776   0.311711   1.520068  \n",
       "tg2718   4.597900   2.921874  \n",
       "rg3266   0.828738   0.356753  \n",
       "jy3026   1.772245   1.198716  \n",
       "atc214   0.358466   0.115869  \n",
       "wx2226  20.729606  10.637557  "
      ]
     },
     "execution_count": 23,
     "metadata": {},
     "output_type": "execute_result"
    }
   ],
   "source": [
    "modified_bid(df_group1, seed = 42)"
   ]
  },
  {
   "cell_type": "code",
   "execution_count": 24,
   "metadata": {
    "colab": {},
    "colab_type": "code",
    "executionInfo": {
     "elapsed": 180,
     "status": "ok",
     "timestamp": 1596582101666,
     "user": {
      "displayName": "Weihang Ren",
      "photoUrl": "",
      "userId": "18183422973531312162"
     },
     "user_tz": 240
    },
    "id": "cmtmop_sAP5C"
   },
   "outputs": [],
   "source": [
    "def get_course_pref(df, sc = False, rank = True, seed = 42):\n",
    "    '''\n",
    "    Returns course ranks when rank = True, or (original) course bids when rank = False.\n",
    "\n",
    "    sc = True returns only semi-core courses\n",
    "    rank = True (default) returns courses' strict ranking on students, based on bids.\n",
    "          Ties are broken by adds a random number from uniform distribution to actual bid value\n",
    "\n",
    "    Uses modified_bid():\n",
    "    seed = 42 is default value; only relevant when rank = True\n",
    "    '''  \n",
    "    # for course bids\n",
    "    if not rank:\n",
    "        if sc:\n",
    "            course_dict = df.loc[:,['c1','c3','c5','c6']].to_dict()\n",
    "        if not sc:\n",
    "            course_dict = df.loc[:,'c1':'c8'].to_dict()\n",
    "\n",
    "    # for strict course ranks\n",
    "    if rank:\n",
    "        new_df = modified_bid(df, seed = seed)  # get modified bid matrix\n",
    "        course_dict = {}\n",
    "        if not sc:       \n",
    "            for c in new_df:\n",
    "                course_dict[c] = list(new_df[c].sort_values(ascending=False).index.values)\n",
    "    if sc:\n",
    "        for c in ['c1','c3','c5','c6']:\n",
    "            course_dict[c] = list(new_df[c].sort_values(ascending=False).index.values)\n",
    "\n",
    "    return course_dict"
   ]
  },
  {
   "cell_type": "code",
   "execution_count": 25,
   "metadata": {
    "colab": {},
    "colab_type": "code",
    "executionInfo": {
     "elapsed": 193,
     "status": "ok",
     "timestamp": 1596584381682,
     "user": {
      "displayName": "Weihang Ren",
      "photoUrl": "",
      "userId": "18183422973531312162"
     },
     "user_tz": 240
    },
    "id": "FD7hDEnfuC_O"
   },
   "outputs": [
    {
     "data": {
      "text/plain": [
       "{'c1': ['rg3266',\n",
       "  'atc214',\n",
       "  'sjl222',\n",
       "  'jy3026',\n",
       "  'wx2226',\n",
       "  'tg2718',\n",
       "  'zl2856',\n",
       "  'qt2131',\n",
       "  'mz2776',\n",
       "  'zs2440',\n",
       "  'xt2230'],\n",
       " 'c3': ['mz2776',\n",
       "  'sjl222',\n",
       "  'jy3026',\n",
       "  'zl2856',\n",
       "  'tg2718',\n",
       "  'qt2131',\n",
       "  'atc214',\n",
       "  'xt2230',\n",
       "  'wx2226',\n",
       "  'rg3266',\n",
       "  'zs2440'],\n",
       " 'c5': ['zl2856',\n",
       "  'tg2718',\n",
       "  'qt2131',\n",
       "  'atc214',\n",
       "  'jy3026',\n",
       "  'zs2440',\n",
       "  'xt2230',\n",
       "  'sjl222',\n",
       "  'rg3266',\n",
       "  'wx2226',\n",
       "  'mz2776'],\n",
       " 'c6': ['zl2856',\n",
       "  'wx2226',\n",
       "  'sjl222',\n",
       "  'qt2131',\n",
       "  'tg2718',\n",
       "  'jy3026',\n",
       "  'mz2776',\n",
       "  'rg3266',\n",
       "  'zs2440',\n",
       "  'xt2230',\n",
       "  'atc214']}"
      ]
     },
     "execution_count": 25,
     "metadata": {},
     "output_type": "execute_result"
    }
   ],
   "source": [
    "get_course_pref(df_group1, sc=True)"
   ]
  },
  {
   "cell_type": "code",
   "execution_count": 26,
   "metadata": {
    "colab": {},
    "colab_type": "code",
    "executionInfo": {
     "elapsed": 188,
     "status": "ok",
     "timestamp": 1596582238478,
     "user": {
      "displayName": "Weihang Ren",
      "photoUrl": "",
      "userId": "18183422973531312162"
     },
     "user_tz": 240
    },
    "id": "iT_WvobC08m_"
   },
   "outputs": [],
   "source": [
    "def get_time_pref(df, sc = False, rank = True, seed = 42):\n",
    "    '''\n",
    "    Converts time bids to course bids.\n",
    "    Returns course ranks when rank = True, or (original) course bids when rank = False.\n",
    "\n",
    "    Only for df_group2. Returns students' bids timeslots, represented as bids on the individual courses.\n",
    "\n",
    "    Uses get_course_pref():\n",
    "      sc = True returns only semi-core courses\n",
    "      rank = True (default) returns courses' strict ranking on students, based on bids.\n",
    "          Ties are broken by adds a random number from uniform distribution to actual bid value\n",
    "      seed = 42 is default value; only relevant when break = True  \n",
    "    '''\n",
    "    # check that the dataframe passed into function contains time bids\n",
    "    try:\n",
    "        df.loc[:,'t1':'t4']\n",
    "    except:\n",
    "        raise ValueError(\"No timeslot keys in df. This function only works for df_group2.\")\n",
    "\n",
    "    # convert time bids to course bids\n",
    "    new_df = pd.DataFrame()\n",
    "    new_df['c1'] = df.t2; new_df['c2'] = df.t3; new_df['c3'] = df.t4; new_df['c4'] = df.t2\n",
    "    new_df['c5'] = df.t4; new_df['c6'] = df.t1; new_df['c7'] = df.t1; new_df['c8'] = df.t3\n",
    "\n",
    "    # get_course_pref()\n",
    "    out_dict = get_course_pref(new_df, sc=sc, rank=rank, seed=seed)\n",
    "\n",
    "    return out_dict"
   ]
  },
  {
   "cell_type": "code",
   "execution_count": 39,
   "metadata": {
    "colab": {},
    "colab_type": "code",
    "executionInfo": {
     "elapsed": 217,
     "status": "ok",
     "timestamp": 1596582255776,
     "user": {
      "displayName": "Weihang Ren",
      "photoUrl": "",
      "userId": "18183422973531312162"
     },
     "user_tz": 240
    },
    "id": "MjPFurIHuvD8"
   },
   "outputs": [],
   "source": [
    "# get_time_pref(df_group2)"
   ]
  },
  {
   "cell_type": "markdown",
   "metadata": {
    "colab_type": "text",
    "id": "h1tXcBGA09on"
   },
   "source": [
    "TODO: Function to get course preferences using unique lottery (Test 4)"
   ]
  },
  {
   "cell_type": "code",
   "execution_count": 40,
   "metadata": {
    "colab": {},
    "colab_type": "code",
    "id": "9mj3hk8N1LdQ"
   },
   "outputs": [],
   "source": [
    "# np.random.uniform()"
   ]
  },
  {
   "cell_type": "code",
   "execution_count": 41,
   "metadata": {
    "colab": {
     "base_uri": "https://localhost:8080/",
     "height": 51
    },
    "colab_type": "code",
    "executionInfo": {
     "elapsed": 178,
     "status": "ok",
     "timestamp": 1596582339342,
     "user": {
      "displayName": "Weihang Ren",
      "photoUrl": "",
      "userId": "18183422973531312162"
     },
     "user_tz": 240
    },
    "id": "WjAYI6zp57gX",
    "outputId": "f28136b1-e59e-4e40-e059-209428a78bf0"
   },
   "outputs": [
    {
     "data": {
      "text/plain": [
       "array(['mz2776', 'qt2131', 'atc214', 'wx2226', 'xt2230', 'zs2440',\n",
       "       'jy3026', 'zl2856', 'rg3266', 'sjl222', 'tg2718'], dtype=object)"
      ]
     },
     "execution_count": 41,
     "metadata": {},
     "output_type": "execute_result"
    }
   ],
   "source": [
    "def lottery(ds, reverse=False):\n",
    "    np.random.seed(42)\n",
    "    ds = ds.reset_index()\n",
    "    if reverse:\n",
    "        return np.flip(np.random.permutation(ds['UNI']))\n",
    "    return np.random.permutation(ds['UNI'])\n",
    "\n",
    "lottery(df_group1)\n",
    "\n",
    "# will be good if function can be initialized to give the reverse lottery order as well\n",
    "# Done!"
   ]
  },
  {
   "cell_type": "code",
   "execution_count": 42,
   "metadata": {
    "colab": {
     "base_uri": "https://localhost:8080/",
     "height": 51
    },
    "colab_type": "code",
    "executionInfo": {
     "elapsed": 211,
     "status": "ok",
     "timestamp": 1596582356665,
     "user": {
      "displayName": "Weihang Ren",
      "photoUrl": "",
      "userId": "18183422973531312162"
     },
     "user_tz": 240
    },
    "id": "G2mmEyRHtKjF",
    "outputId": "9162c4a2-8d25-4bcb-cd6c-a8637d89b1db"
   },
   "outputs": [
    {
     "data": {
      "text/plain": [
       "array(['tg2718', 'sjl222', 'rg3266', 'zl2856', 'jy3026', 'zs2440',\n",
       "       'xt2230', 'wx2226', 'atc214', 'qt2131', 'mz2776'], dtype=object)"
      ]
     },
     "execution_count": 42,
     "metadata": {},
     "output_type": "execute_result"
    }
   ],
   "source": [
    "lottery(df_group1, reverse=True)"
   ]
  },
  {
   "cell_type": "markdown",
   "metadata": {
    "colab_type": "text",
    "id": "vYkGko95QUh5"
   },
   "source": [
    "# Section 2: Schedules for the Second Round\n",
    "\n",
    "TODO: For each student, given their preference list (excluding assigned semi-core course) `pref_r2`, and assigned semi-core course `sc_assigned`, generate list of schedules which satisfy the following constraints:\n",
    "* All 3 courses do not overlap in course timing\n",
    "* Includes exactly 2 courses (excluding assigned semi-core course)\n",
    "\n",
    "```python\n",
    "def get_schedules(pref_r2, sc_assigned): \n",
    "```"
   ]
  },
  {
   "cell_type": "code",
   "execution_count": null,
   "metadata": {
    "colab": {},
    "colab_type": "code",
    "id": "8Q3ILid8QaK3"
   },
   "outputs": [],
   "source": []
  },
  {
   "cell_type": "code",
   "execution_count": null,
   "metadata": {
    "colab": {},
    "colab_type": "code",
    "id": "3Ref6aOXQa4n"
   },
   "outputs": [],
   "source": []
  },
  {
   "cell_type": "markdown",
   "metadata": {
    "colab_type": "text",
    "id": "jZ-z6PZGX1o8"
   },
   "source": [
    "# Section 3: Two-round Algorithm \n",
    "\n",
    "TODO: Generate course capacities based on the total count of participants.\n",
    "\n",
    "TODO: Student-proposing algorithms are similar (sc or non-sc). Consider to build a common method for student-proposing.\n",
    "  ```python\n",
    "  def propose(students, preference_lists, biddings, number_of_courses_to_be_assigned):\n",
    "  ```"
   ]
  },
  {
   "cell_type": "code",
   "execution_count": 43,
   "metadata": {
    "colab": {},
    "colab_type": "code",
    "id": "xVzB5oI9wOr2"
   },
   "outputs": [],
   "source": [
    "# student preferences\n",
    "s_pref_sc = get_bid_pref(df_group1, sc=True)\n",
    "\n",
    "# course preferences\n",
    "c_pref_sc = get_course_pref(df_group1, sc=True)\n",
    "\n",
    "# list of students and courses\n",
    "student_list = list(s_pref_sc.keys())\n",
    "course_list = list(c_pref_sc.keys())"
   ]
  },
  {
   "cell_type": "code",
   "execution_count": 46,
   "metadata": {
    "colab": {},
    "colab_type": "code",
    "id": "ZfeWcYUTri2K"
   },
   "outputs": [],
   "source": [
    "## student-proposing GS:\n",
    "\n",
    "# index preferences to avoid expensive lookups when matching\n",
    "from collections import defaultdict\n",
    "srank_sc = defaultdict(dict)\n",
    "crank_sc = defaultdict(dict)\n",
    "\n",
    "for s, prefs in s_pref_sc.items():\n",
    "    for i, c in enumerate(prefs):\n",
    "        srank_sc[s][c] = i\n",
    "\n",
    "for c, prefs in c_pref_sc.items():\n",
    "    for i, s in enumerate(prefs):\n",
    "        crank_sc[c][s] = i\n",
    "\n",
    "# functions\n",
    "def prefers(c,s,h):\n",
    "    '''Test whether c prefers s over h'''\n",
    "    return crank_sc[c][s] < crank_sc[c][h]\n",
    "\n",
    "def after(s,c):\n",
    "    '''Return the course favored by s after c.'''\n",
    "    i = srank_sc[s][c] + 1 # index of course following c in list of prefs\n",
    "    return s_pref_sc[s][i]"
   ]
  },
  {
   "cell_type": "code",
   "execution_count": null,
   "metadata": {
    "colab": {},
    "colab_type": "code",
    "id": "jU59QYetwUyr"
   },
   "outputs": [],
   "source": []
  },
  {
   "cell_type": "code",
   "execution_count": null,
   "metadata": {
    "colab": {},
    "colab_type": "code",
    "id": "pNgO_biswX-e"
   },
   "outputs": [],
   "source": []
  },
  {
   "cell_type": "code",
   "execution_count": null,
   "metadata": {
    "colab": {},
    "colab_type": "code",
    "id": "edEsWbe-iM05"
   },
   "outputs": [],
   "source": [
    "# ^ work in progress, do not delete/edit"
   ]
  },
  {
   "cell_type": "code",
   "execution_count": null,
   "metadata": {
    "colab": {},
    "colab_type": "code",
    "id": "toKI6Pp2iMg5"
   },
   "outputs": [],
   "source": []
  },
  {
   "cell_type": "markdown",
   "metadata": {
    "colab_type": "text",
    "id": "rB4sGZjxrzWE"
   },
   "source": [
    "### Test 1 (Course bidding only, Group 1)\n",
    "\n",
    "#### Part I. Assign 1 semi-core to each student\n",
    "\n",
    "- *Student preferences*: Get implied rankings using \n",
    "```python \n",
    "get_bid_pref(df_group1, sc = True)\n",
    "```\n",
    "- *Course preferences*: Get course bids using \n",
    "```python\n",
    "get_course_pref(df_group1, sc = True)\n",
    "```\n",
    "- Carry out student-proposing GS algorithm\n",
    "\n",
    "- Select each students' biddings of the first sc course on their preference lists as `b_sc_1`;\n",
    "- For each semi-core course:\n",
    "  - Order students by bidding `b_sc_1` from high to low\n",
    "  - Assign top *k* students to this course (*k* = course capacity)\n",
    "- If there are students who have not been assigned:\n",
    "  - Excluding students who already have a sc course, select each students' biddings of the second sc course on their preference lists as `b_sc_2`;\n",
    "  - ...\n",
    "- Repeat above until all students have 1 sc course.\n",
    "\n",
    "\n",
    "**Note:** Students assigned during this part will not be rejected later."
   ]
  },
  {
   "cell_type": "code",
   "execution_count": 27,
   "metadata": {
    "colab": {
     "base_uri": "https://localhost:8080/",
     "height": 204
    },
    "colab_type": "code",
    "executionInfo": {
     "elapsed": 213,
     "status": "ok",
     "timestamp": 1596582436232,
     "user": {
      "displayName": "Weihang Ren",
      "photoUrl": "",
      "userId": "18183422973531312162"
     },
     "user_tz": 240
    },
    "id": "HOxHlDtOsNhy",
    "outputId": "7127c95f-c498-4a35-88c5-4490ba8f8f0e"
   },
   "outputs": [
    {
     "data": {
      "text/plain": [
       "['zl2856', 'zs2440']"
      ]
     },
     "execution_count": 27,
     "metadata": {},
     "output_type": "execute_result"
    }
   ],
   "source": [
    "sc = ['c1','c3','c5','c6']\n",
    "course = ['c1','c2','c3','c4','c5','c6','c7','c8']\n",
    "\n",
    "# get group 1's pref list of sc\n",
    "pref_sc = get_pref(df_group1, sc=True)\n",
    "\n",
    "## first round\n",
    "# get first sc course on each one's pref list\n",
    "pref_sc_1 = {u: x[0] for (u,x) in pref_sc.items()}\n",
    "\n",
    "# rank students for each sc by bidding\n",
    "# (0, uni) means student prefer this sc but placed 0 bid for it\n",
    "bid_sc = {c: sorted([(df_group1.loc[u,c], u) \n",
    "              for u in pref_sc_1.keys() \n",
    "              if pref_sc_1[u] == c], reverse=True) \n",
    "          for c in sc}\n",
    "\n",
    "# assign\n",
    "cap = capacity(df_group1) # init capacity\n",
    "# keep top k students\n",
    "bid_sc_k_1 = {c: s[:cap[c]] for (c, s) in bid_sc.items()}\n",
    "bid_sc_k_1\n",
    "\n",
    "# # find unmatched student\n",
    "rejected = [i[1] for l in [s[cap[c]:] for (c, s) in bid_sc.items()] for i in l]\n",
    "rejected"
   ]
  },
  {
   "cell_type": "code",
   "execution_count": 28,
   "metadata": {
    "colab": {},
    "colab_type": "code",
    "id": "0sQgCljWsNWf"
   },
   "outputs": [
    {
     "data": {
      "text/plain": [
       "{'zs2440': 'c3', 'zl2856': 'c5'}"
      ]
     },
     "execution_count": 28,
     "metadata": {},
     "output_type": "execute_result"
    }
   ],
   "source": [
    "## second round\n",
    "# get second sc course for the rejected\n",
    "pref_sc_2 = {u: x[1] for (u,x) in pref_sc.items() if u in rejected}\n",
    "pref_sc_2"
   ]
  },
  {
   "cell_type": "code",
   "execution_count": 29,
   "metadata": {
    "colab": {},
    "colab_type": "code",
    "id": "3YR61dSxsNJ0"
   },
   "outputs": [
    {
     "data": {
      "text/plain": [
       "{'c1': [], 'c3': [(0, 'zs2440')], 'c5': [(15, 'zl2856')], 'c6': []}"
      ]
     },
     "execution_count": 29,
     "metadata": {},
     "output_type": "execute_result"
    }
   ],
   "source": [
    "# rank students for each sc by bidding\n",
    "# (0, uni) means student prefer this sc but placed 0 bid for it\n",
    "bid_sc_2 = {c: sorted([(df_group1.loc[u,c], u) \n",
    "              for u in pref_sc_2.keys() \n",
    "              if pref_sc_2[u] == c], reverse=True) \n",
    "          for c in sc}\n",
    "bid_sc_2"
   ]
  },
  {
   "cell_type": "code",
   "execution_count": 30,
   "metadata": {},
   "outputs": [
    {
     "ename": "NameError",
     "evalue": "name 'newCap' is not defined",
     "output_type": "error",
     "traceback": [
      "\u001b[0;31m---------------------------------------------------------------------------\u001b[0m",
      "\u001b[0;31mNameError\u001b[0m                                 Traceback (most recent call last)",
      "\u001b[0;32m<ipython-input-30-e8e37ab1d709>\u001b[0m in \u001b[0;36m<module>\u001b[0;34m\u001b[0m\n\u001b[1;32m      1\u001b[0m \u001b[0;31m# assign\u001b[0m\u001b[0;34m\u001b[0m\u001b[0;34m\u001b[0m\u001b[0;34m\u001b[0m\u001b[0m\n\u001b[1;32m      2\u001b[0m \u001b[0;31m# update capacity\u001b[0m\u001b[0;34m\u001b[0m\u001b[0;34m\u001b[0m\u001b[0;34m\u001b[0m\u001b[0m\n\u001b[0;32m----> 3\u001b[0;31m \u001b[0mcap_2\u001b[0m \u001b[0;34m=\u001b[0m \u001b[0;34m{\u001b[0m\u001b[0mc\u001b[0m\u001b[0;34m:\u001b[0m \u001b[0mnewCap\u001b[0m\u001b[0;34m(\u001b[0m\u001b[0mc\u001b[0m\u001b[0;34m,\u001b[0m \u001b[0mk\u001b[0m\u001b[0;34m,\u001b[0m \u001b[0mbid_sc_2\u001b[0m\u001b[0;34m)\u001b[0m \u001b[0;32mfor\u001b[0m \u001b[0;34m(\u001b[0m\u001b[0mc\u001b[0m\u001b[0;34m,\u001b[0m \u001b[0mk\u001b[0m\u001b[0;34m)\u001b[0m \u001b[0;32min\u001b[0m \u001b[0mcap\u001b[0m\u001b[0;34m.\u001b[0m\u001b[0mitems\u001b[0m\u001b[0;34m(\u001b[0m\u001b[0;34m)\u001b[0m\u001b[0;34m}\u001b[0m\u001b[0;34m\u001b[0m\u001b[0;34m\u001b[0m\u001b[0m\n\u001b[0m\u001b[1;32m      4\u001b[0m \u001b[0;31m# keep top k students\u001b[0m\u001b[0;34m\u001b[0m\u001b[0;34m\u001b[0m\u001b[0;34m\u001b[0m\u001b[0m\n\u001b[1;32m      5\u001b[0m \u001b[0mbid_sc_k_2\u001b[0m \u001b[0;34m=\u001b[0m \u001b[0;34m{\u001b[0m\u001b[0mc\u001b[0m\u001b[0;34m:\u001b[0m \u001b[0ms\u001b[0m\u001b[0;34m[\u001b[0m\u001b[0;34m:\u001b[0m\u001b[0mcap_2\u001b[0m\u001b[0;34m[\u001b[0m\u001b[0mc\u001b[0m\u001b[0;34m]\u001b[0m\u001b[0;34m]\u001b[0m \u001b[0;32mfor\u001b[0m \u001b[0;34m(\u001b[0m\u001b[0mc\u001b[0m\u001b[0;34m,\u001b[0m \u001b[0ms\u001b[0m\u001b[0;34m)\u001b[0m \u001b[0;32min\u001b[0m \u001b[0mbid_sc_2\u001b[0m\u001b[0;34m.\u001b[0m\u001b[0mitems\u001b[0m\u001b[0;34m(\u001b[0m\u001b[0;34m)\u001b[0m\u001b[0;34m}\u001b[0m\u001b[0;34m\u001b[0m\u001b[0;34m\u001b[0m\u001b[0m\n",
      "\u001b[0;32m<ipython-input-30-e8e37ab1d709>\u001b[0m in \u001b[0;36m<dictcomp>\u001b[0;34m(.0)\u001b[0m\n\u001b[1;32m      1\u001b[0m \u001b[0;31m# assign\u001b[0m\u001b[0;34m\u001b[0m\u001b[0;34m\u001b[0m\u001b[0;34m\u001b[0m\u001b[0m\n\u001b[1;32m      2\u001b[0m \u001b[0;31m# update capacity\u001b[0m\u001b[0;34m\u001b[0m\u001b[0;34m\u001b[0m\u001b[0;34m\u001b[0m\u001b[0m\n\u001b[0;32m----> 3\u001b[0;31m \u001b[0mcap_2\u001b[0m \u001b[0;34m=\u001b[0m \u001b[0;34m{\u001b[0m\u001b[0mc\u001b[0m\u001b[0;34m:\u001b[0m \u001b[0mnewCap\u001b[0m\u001b[0;34m(\u001b[0m\u001b[0mc\u001b[0m\u001b[0;34m,\u001b[0m \u001b[0mk\u001b[0m\u001b[0;34m,\u001b[0m \u001b[0mbid_sc_2\u001b[0m\u001b[0;34m)\u001b[0m \u001b[0;32mfor\u001b[0m \u001b[0;34m(\u001b[0m\u001b[0mc\u001b[0m\u001b[0;34m,\u001b[0m \u001b[0mk\u001b[0m\u001b[0;34m)\u001b[0m \u001b[0;32min\u001b[0m \u001b[0mcap\u001b[0m\u001b[0;34m.\u001b[0m\u001b[0mitems\u001b[0m\u001b[0;34m(\u001b[0m\u001b[0;34m)\u001b[0m\u001b[0;34m}\u001b[0m\u001b[0;34m\u001b[0m\u001b[0;34m\u001b[0m\u001b[0m\n\u001b[0m\u001b[1;32m      4\u001b[0m \u001b[0;31m# keep top k students\u001b[0m\u001b[0;34m\u001b[0m\u001b[0;34m\u001b[0m\u001b[0;34m\u001b[0m\u001b[0m\n\u001b[1;32m      5\u001b[0m \u001b[0mbid_sc_k_2\u001b[0m \u001b[0;34m=\u001b[0m \u001b[0;34m{\u001b[0m\u001b[0mc\u001b[0m\u001b[0;34m:\u001b[0m \u001b[0ms\u001b[0m\u001b[0;34m[\u001b[0m\u001b[0;34m:\u001b[0m\u001b[0mcap_2\u001b[0m\u001b[0;34m[\u001b[0m\u001b[0mc\u001b[0m\u001b[0;34m]\u001b[0m\u001b[0;34m]\u001b[0m \u001b[0;32mfor\u001b[0m \u001b[0;34m(\u001b[0m\u001b[0mc\u001b[0m\u001b[0;34m,\u001b[0m \u001b[0ms\u001b[0m\u001b[0;34m)\u001b[0m \u001b[0;32min\u001b[0m \u001b[0mbid_sc_2\u001b[0m\u001b[0;34m.\u001b[0m\u001b[0mitems\u001b[0m\u001b[0;34m(\u001b[0m\u001b[0;34m)\u001b[0m\u001b[0;34m}\u001b[0m\u001b[0;34m\u001b[0m\u001b[0;34m\u001b[0m\u001b[0m\n",
      "\u001b[0;31mNameError\u001b[0m: name 'newCap' is not defined"
     ]
    }
   ],
   "source": [
    "# assign\n",
    "# update capacity\n",
    "cap_2 = {c: newCap(c, k, bid_sc_2) for (c, k) in cap.items()}\n",
    "# keep top k students\n",
    "bid_sc_k_2 = {c: s[:cap_2[c]] for (c, s) in bid_sc_2.items()}\n",
    "bid_sc_k_2\n",
    "\n",
    "# find unmatched student\n",
    "rejected = [i[1] for l in [s[cap_2[c]:] for (c, s) in bid_sc_2.items()] for i in l]\n",
    "rejected"
   ]
  },
  {
   "cell_type": "code",
   "execution_count": 31,
   "metadata": {},
   "outputs": [
    {
     "data": {
      "text/plain": [
       "[1, 2, 3, 4, 5, 6]"
      ]
     },
     "execution_count": 31,
     "metadata": {},
     "output_type": "execute_result"
    }
   ],
   "source": [
    "[1,2,3,4,5,6,7,8,9][:6]"
   ]
  },
  {
   "cell_type": "code",
   "execution_count": 32,
   "metadata": {},
   "outputs": [
    {
     "data": {
      "text/plain": [
       "[7, 8, 9]"
      ]
     },
     "execution_count": 32,
     "metadata": {},
     "output_type": "execute_result"
    }
   ],
   "source": [
    "a = [1,2,3,4,5,6,7,8,9]\n",
    "a[6:]"
   ]
  },
  {
   "cell_type": "code",
   "execution_count": 33,
   "metadata": {},
   "outputs": [
    {
     "data": {
      "text/plain": [
       "11"
      ]
     },
     "execution_count": 33,
     "metadata": {},
     "output_type": "execute_result"
    }
   ],
   "source": [
    "# get group 1's pref list of sc\n",
    "pref_sc = get_pref(df_group1, sc=True)\n",
    "len(pref_sc.keys())"
   ]
  },
  {
   "cell_type": "code",
   "execution_count": 34,
   "metadata": {},
   "outputs": [],
   "source": [
    "def newCap(c, k, bid_sc_k):\n",
    "    a = 0\n",
    "    if bid_sc_k.get(c):\n",
    "        a = len(bid_sc_k.get(c))\n",
    "    return k - a\n",
    "\n",
    "\n",
    "def assignSC(df):\n",
    "    stop = False\n",
    "    r = 0 # starts with 0 (first round)\n",
    "    cap = capacity(df) # init capacity\n",
    "    # sc_assign = {c: [] for c in sc}\n",
    "    pref_sc = get_pref(df, sc=True) # get group 1's pref list of sc\n",
    "    pref_sc_z = {} # pref to be updated each round\n",
    "    rejected = pref_sc.keys()\n",
    "    \n",
    "    while not stop:\n",
    "        # get first(round#) sc course on each one's pref list\n",
    "        pref_sc_r = {u: x[r] for (u,x) in pref_sc.items() if u in rejected}\n",
    "        print(pref_sc_r)\n",
    "        # modify pref list\n",
    "        pref_sc_z.update(pref_sc_r)\n",
    "\n",
    "        # rank students for each sc by bidding\n",
    "        # (0, uni) means student prefer this sc but placed 0 bid for it\n",
    "        bid_sc = {c: sorted([(modified_bid(df).loc[u,c], u) \n",
    "                      for u in pref_sc_z.keys() \n",
    "                      if pref_sc_z[u] == c], reverse=True) \n",
    "                  for c in sc}\n",
    "\n",
    "        # keep top k students\n",
    "        bid_sc_k = {c: s[:cap[c]] for (c, s) in bid_sc.items()}\n",
    "        print(r, bid_sc_k)\n",
    "\n",
    "        # find the list of unmatched student unis\n",
    "        rejected = [i[1] for l in [s[cap[c]:] for (c, s) in bid_sc.items()] for i in l]\n",
    "        print(rejected)\n",
    "\n",
    "        if rejected: # not empty\n",
    "            r += 1\n",
    "            # cap = {c: newCap(c, k, bid_sc_k) for (c, k) in cap.items()} # update capacity\n",
    "        else:\n",
    "            stop = True\n",
    "        \n",
    "        # compile assignments\n",
    "#         for c in bid_sc_k:\n",
    "#             sc_assign[c].extend(bid_sc_k[c])\n",
    "    \n",
    "    # update capacity\n",
    "    cap = {c: newCap(c, k, bid_sc_k) for (c, k) in cap.items()}\n",
    "    \n",
    "    return bid_sc_k, cap"
   ]
  },
  {
   "cell_type": "code",
   "execution_count": 35,
   "metadata": {},
   "outputs": [
    {
     "name": "stdout",
     "output_type": "stream",
     "text": [
      "{'qt2131': 'c6', 'zs2440': 'c1', 'xt2230': 'c3', 'sjl222': 'c1', 'zl2856': 'c1', 'mz2776': 'c3', 'tg2718': 'c1', 'rg3266': 'c1', 'jy3026': 'c1', 'atc214': 'c1', 'wx2226': 'c1'}\n",
      "0 {'c1': [(100.08849250205192, 'rg3266'), (49.005522117123604, 'atc214'), (45.45606998421704, 'sjl222'), (35.280934509687384, 'jy3026'), (30.863103425875593, 'wx2226'), (20.54671027934328, 'tg2718')], 'c3': [(95.03438852111522, 'mz2776'), (0.43194501864211576, 'xt2230')], 'c5': [], 'c6': [(6.155994520336202, 'qt2131')]}\n",
      "['zl2856', 'zs2440']\n",
      "{'zs2440': 'c3', 'zl2856': 'c5'}\n",
      "1 {'c1': [(100.08849250205192, 'rg3266'), (49.005522117123604, 'atc214'), (45.45606998421704, 'sjl222'), (35.280934509687384, 'jy3026'), (30.863103425875593, 'wx2226'), (20.54671027934328, 'tg2718')], 'c3': [(95.03438852111522, 'mz2776'), (0.43194501864211576, 'xt2230'), (0.020584494295802447, 'zs2440')], 'c5': [(15.30461376917337, 'zl2856')], 'c6': [(6.155994520336202, 'qt2131')]}\n",
      "[]\n"
     ]
    },
    {
     "data": {
      "text/plain": [
       "{'c1': [(100.08849250205192, 'rg3266'),\n",
       "  (49.005522117123604, 'atc214'),\n",
       "  (45.45606998421704, 'sjl222'),\n",
       "  (35.280934509687384, 'jy3026'),\n",
       "  (30.863103425875593, 'wx2226'),\n",
       "  (20.54671027934328, 'tg2718')],\n",
       " 'c3': [(95.03438852111522, 'mz2776'),\n",
       "  (0.43194501864211576, 'xt2230'),\n",
       "  (0.020584494295802447, 'zs2440')],\n",
       " 'c5': [(15.30461376917337, 'zl2856')],\n",
       " 'c6': [(6.155994520336202, 'qt2131')]}"
      ]
     },
     "execution_count": 35,
     "metadata": {},
     "output_type": "execute_result"
    }
   ],
   "source": [
    "(assignCourseView, cap) = assignSC(df_group1)\n",
    "assignCourseView"
   ]
  },
  {
   "cell_type": "code",
   "execution_count": 36,
   "metadata": {},
   "outputs": [
    {
     "data": {
      "text/html": [
       "<div>\n",
       "<style scoped>\n",
       "    .dataframe tbody tr th:only-of-type {\n",
       "        vertical-align: middle;\n",
       "    }\n",
       "\n",
       "    .dataframe tbody tr th {\n",
       "        vertical-align: top;\n",
       "    }\n",
       "\n",
       "    .dataframe thead th {\n",
       "        text-align: right;\n",
       "    }\n",
       "</style>\n",
       "<table border=\"1\" class=\"dataframe\">\n",
       "  <thead>\n",
       "    <tr style=\"text-align: right;\">\n",
       "      <th></th>\n",
       "      <th>c1</th>\n",
       "      <th>c2</th>\n",
       "      <th>c3</th>\n",
       "      <th>c4</th>\n",
       "      <th>c5</th>\n",
       "      <th>c6</th>\n",
       "      <th>c7</th>\n",
       "      <th>c8</th>\n",
       "    </tr>\n",
       "    <tr>\n",
       "      <th>UNI</th>\n",
       "      <th></th>\n",
       "      <th></th>\n",
       "      <th></th>\n",
       "      <th></th>\n",
       "      <th></th>\n",
       "      <th></th>\n",
       "      <th></th>\n",
       "      <th></th>\n",
       "    </tr>\n",
       "  </thead>\n",
       "  <tbody>\n",
       "    <tr>\n",
       "      <th>qt2131</th>\n",
       "      <td>1.374540</td>\n",
       "      <td>2.950714</td>\n",
       "      <td>3.731994</td>\n",
       "      <td>4.598658</td>\n",
       "      <td>5.156019</td>\n",
       "      <td>6.155995</td>\n",
       "      <td>7.058084</td>\n",
       "      <td>72.866176</td>\n",
       "    </tr>\n",
       "    <tr>\n",
       "      <th>zs2440</th>\n",
       "      <td>0.601115</td>\n",
       "      <td>100.708073</td>\n",
       "      <td>0.020584</td>\n",
       "      <td>0.969910</td>\n",
       "      <td>0.832443</td>\n",
       "      <td>0.212339</td>\n",
       "      <td>0.181825</td>\n",
       "      <td>0.183405</td>\n",
       "    </tr>\n",
       "    <tr>\n",
       "      <th>xt2230</th>\n",
       "      <td>0.304242</td>\n",
       "      <td>65.524756</td>\n",
       "      <td>0.431945</td>\n",
       "      <td>0.291229</td>\n",
       "      <td>0.611853</td>\n",
       "      <td>0.139494</td>\n",
       "      <td>0.292145</td>\n",
       "      <td>35.366362</td>\n",
       "    </tr>\n",
       "    <tr>\n",
       "      <th>sjl222</th>\n",
       "      <td>45.456070</td>\n",
       "      <td>0.785176</td>\n",
       "      <td>45.199674</td>\n",
       "      <td>0.514234</td>\n",
       "      <td>0.592415</td>\n",
       "      <td>10.046450</td>\n",
       "      <td>0.607545</td>\n",
       "      <td>0.170524</td>\n",
       "    </tr>\n",
       "    <tr>\n",
       "      <th>zl2856</th>\n",
       "      <td>15.065052</td>\n",
       "      <td>10.948886</td>\n",
       "      <td>15.965632</td>\n",
       "      <td>10.808397</td>\n",
       "      <td>15.304614</td>\n",
       "      <td>15.097672</td>\n",
       "      <td>10.684233</td>\n",
       "      <td>10.440152</td>\n",
       "    </tr>\n",
       "    <tr>\n",
       "      <th>mz2776</th>\n",
       "      <td>1.122038</td>\n",
       "      <td>1.495177</td>\n",
       "      <td>95.034389</td>\n",
       "      <td>1.909320</td>\n",
       "      <td>0.258780</td>\n",
       "      <td>1.662522</td>\n",
       "      <td>0.311711</td>\n",
       "      <td>1.520068</td>\n",
       "    </tr>\n",
       "    <tr>\n",
       "      <th>tg2718</th>\n",
       "      <td>20.546710</td>\n",
       "      <td>0.184854</td>\n",
       "      <td>10.969585</td>\n",
       "      <td>50.775133</td>\n",
       "      <td>10.939499</td>\n",
       "      <td>2.894827</td>\n",
       "      <td>4.597900</td>\n",
       "      <td>2.921874</td>\n",
       "    </tr>\n",
       "    <tr>\n",
       "      <th>rg3266</th>\n",
       "      <td>100.088493</td>\n",
       "      <td>0.195983</td>\n",
       "      <td>0.045227</td>\n",
       "      <td>0.325330</td>\n",
       "      <td>0.388677</td>\n",
       "      <td>0.271349</td>\n",
       "      <td>0.828738</td>\n",
       "      <td>0.356753</td>\n",
       "    </tr>\n",
       "    <tr>\n",
       "      <th>jy3026</th>\n",
       "      <td>35.280935</td>\n",
       "      <td>6.542696</td>\n",
       "      <td>30.140924</td>\n",
       "      <td>25.802197</td>\n",
       "      <td>1.074551</td>\n",
       "      <td>1.986887</td>\n",
       "      <td>1.772245</td>\n",
       "      <td>1.198716</td>\n",
       "    </tr>\n",
       "    <tr>\n",
       "      <th>atc214</th>\n",
       "      <td>49.005522</td>\n",
       "      <td>49.815461</td>\n",
       "      <td>0.706857</td>\n",
       "      <td>1.729007</td>\n",
       "      <td>1.771270</td>\n",
       "      <td>0.074045</td>\n",
       "      <td>0.358466</td>\n",
       "      <td>0.115869</td>\n",
       "    </tr>\n",
       "    <tr>\n",
       "      <th>wx2226</th>\n",
       "      <td>30.863103</td>\n",
       "      <td>30.623298</td>\n",
       "      <td>0.330898</td>\n",
       "      <td>0.063558</td>\n",
       "      <td>0.310982</td>\n",
       "      <td>10.325183</td>\n",
       "      <td>20.729606</td>\n",
       "      <td>10.637557</td>\n",
       "    </tr>\n",
       "  </tbody>\n",
       "</table>\n",
       "</div>"
      ],
      "text/plain": [
       "                c1          c2         c3         c4         c5         c6  \\\n",
       "UNI                                                                          \n",
       "qt2131    1.374540    2.950714   3.731994   4.598658   5.156019   6.155995   \n",
       "zs2440    0.601115  100.708073   0.020584   0.969910   0.832443   0.212339   \n",
       "xt2230    0.304242   65.524756   0.431945   0.291229   0.611853   0.139494   \n",
       "sjl222   45.456070    0.785176  45.199674   0.514234   0.592415  10.046450   \n",
       "zl2856   15.065052   10.948886  15.965632  10.808397  15.304614  15.097672   \n",
       "mz2776    1.122038    1.495177  95.034389   1.909320   0.258780   1.662522   \n",
       "tg2718   20.546710    0.184854  10.969585  50.775133  10.939499   2.894827   \n",
       "rg3266  100.088493    0.195983   0.045227   0.325330   0.388677   0.271349   \n",
       "jy3026   35.280935    6.542696  30.140924  25.802197   1.074551   1.986887   \n",
       "atc214   49.005522   49.815461   0.706857   1.729007   1.771270   0.074045   \n",
       "wx2226   30.863103   30.623298   0.330898   0.063558   0.310982  10.325183   \n",
       "\n",
       "               c7         c8  \n",
       "UNI                           \n",
       "qt2131   7.058084  72.866176  \n",
       "zs2440   0.181825   0.183405  \n",
       "xt2230   0.292145  35.366362  \n",
       "sjl222   0.607545   0.170524  \n",
       "zl2856  10.684233  10.440152  \n",
       "mz2776   0.311711   1.520068  \n",
       "tg2718   4.597900   2.921874  \n",
       "rg3266   0.828738   0.356753  \n",
       "jy3026   1.772245   1.198716  \n",
       "atc214   0.358466   0.115869  \n",
       "wx2226  20.729606  10.637557  "
      ]
     },
     "execution_count": 36,
     "metadata": {},
     "output_type": "execute_result"
    }
   ],
   "source": [
    "df = modified_bid(df_group1)\n",
    "df"
   ]
  },
  {
   "cell_type": "code",
   "execution_count": 37,
   "metadata": {},
   "outputs": [
    {
     "data": {
      "text/plain": [
       "{'qt2131': [],\n",
       " 'zs2440': [],\n",
       " 'xt2230': [],\n",
       " 'sjl222': [],\n",
       " 'zl2856': [],\n",
       " 'mz2776': [],\n",
       " 'tg2718': [],\n",
       " 'rg3266': [],\n",
       " 'jy3026': [],\n",
       " 'atc214': [],\n",
       " 'wx2226': []}"
      ]
     },
     "execution_count": 37,
     "metadata": {},
     "output_type": "execute_result"
    }
   ],
   "source": [
    "pref_sc = get_pref(df, sc=True) # get group 1's pref list of sc\n",
    "pref_sc"
   ]
  },
  {
   "cell_type": "code",
   "execution_count": null,
   "metadata": {},
   "outputs": [],
   "source": []
  },
  {
   "cell_type": "code",
   "execution_count": 38,
   "metadata": {},
   "outputs": [
    {
     "data": {
      "text/plain": [
       "[123]"
      ]
     },
     "execution_count": 38,
     "metadata": {},
     "output_type": "execute_result"
    }
   ],
   "source": [
    "a=[]\n",
    "a.extend([123])\n",
    "a"
   ]
  },
  {
   "cell_type": "markdown",
   "metadata": {
    "colab_type": "text",
    "id": "CMurFdjFsEg9"
   },
   "source": [
    "**Part II. Assign 2 courses to each student**\n",
    "\n",
    "- Remove assigned course, time-conflict course from each student's preference list;\n",
    "\n",
    "- Students propose to the top 2 courses on their modified preference list;\n",
    "  -  Each course rejects if outnumbered capacity and holds others in case of rejecting in rounds after;\n",
    "\n",
    "- Repeat until no one get rejected.\n",
    "\n",
    "**Note:** The output of above algorithm issemi-core stableand always exits."
   ]
  },
  {
   "cell_type": "code",
   "execution_count": 39,
   "metadata": {},
   "outputs": [
    {
     "data": {
      "text/plain": [
       "{'qt2131': ['c8', 'c7', 'c6', 'c5', 'c4', 'c3', 'c2', 'c1'],\n",
       " 'zs2440': ['c2', 'c1', 'c3', 'c4', 'c5', 'c6', 'c7', 'c8'],\n",
       " 'xt2230': ['c2', 'c8', 'c4', 'c3', 'c1', 'c5', 'c6', 'c7'],\n",
       " 'sjl222': ['c1', 'c3', 'c6', 'c5', 'c7', 'c4', 'c8', 'c2'],\n",
       " 'zl2856': ['c1', 'c5', 'c3', 'c6', 'c7', 'c2', 'c8', 'c4'],\n",
       " 'mz2776': ['c3', 'c6', 'c2', 'c1', 'c7', 'c4', 'c8', 'c5'],\n",
       " 'tg2718': ['c4', 'c1', 'c5', 'c3', 'c7', 'c6', 'c2', 'c8'],\n",
       " 'rg3266': ['c1', 'c4', 'c3', 'c2', 'c8', 'c5', 'c6', 'c7'],\n",
       " 'jy3026': ['c1', 'c3', 'c4', 'c2', 'c5', 'c6', 'c7', 'c8'],\n",
       " 'atc214': ['c1', 'c2', 'c4', 'c5', 'c3', 'c8', 'c6', 'c7'],\n",
       " 'wx2226': ['c2', 'c1', 'c7', 'c8', 'c6', 'c3', 'c4', 'c5']}"
      ]
     },
     "execution_count": 39,
     "metadata": {},
     "output_type": "execute_result"
    }
   ],
   "source": [
    "# update preference list\n",
    "prefL = get_pref(df_group1)\n",
    "updatedPref = prefL\n",
    "updatedPref"
   ]
  },
  {
   "cell_type": "code",
   "execution_count": 40,
   "metadata": {},
   "outputs": [
    {
     "data": {
      "text/plain": [
       "{'c1': [(100.08849250205192, 'rg3266'),\n",
       "  (49.005522117123604, 'atc214'),\n",
       "  (45.45606998421704, 'sjl222'),\n",
       "  (35.280934509687384, 'jy3026'),\n",
       "  (30.863103425875593, 'wx2226'),\n",
       "  (20.54671027934328, 'tg2718')],\n",
       " 'c3': [(95.03438852111522, 'mz2776'),\n",
       "  (0.43194501864211576, 'xt2230'),\n",
       "  (0.020584494295802447, 'zs2440')],\n",
       " 'c5': [(15.30461376917337, 'zl2856')],\n",
       " 'c6': [(6.155994520336202, 'qt2131')]}"
      ]
     },
     "execution_count": 40,
     "metadata": {},
     "output_type": "execute_result"
    }
   ],
   "source": [
    "assignCourseView"
   ]
  },
  {
   "cell_type": "code",
   "execution_count": 41,
   "metadata": {},
   "outputs": [
    {
     "data": {
      "text/plain": [
       "{'c1': ['rg3266', 'atc214', 'sjl222', 'jy3026', 'wx2226', 'tg2718'],\n",
       " 'c3': ['mz2776', 'xt2230', 'zs2440'],\n",
       " 'c5': ['zl2856'],\n",
       " 'c6': ['qt2131']}"
      ]
     },
     "execution_count": 41,
     "metadata": {},
     "output_type": "execute_result"
    }
   ],
   "source": [
    "courseViewUni = {c: [s[1] for s in assignCourseView[c]] for c in assignCourseView.keys()}\n",
    "courseViewUni"
   ]
  },
  {
   "cell_type": "code",
   "execution_count": 42,
   "metadata": {},
   "outputs": [
    {
     "data": {
      "text/plain": [
       "{'rg3266': [],\n",
       " 'atc214': [],\n",
       " 'sjl222': [],\n",
       " 'jy3026': [],\n",
       " 'wx2226': [],\n",
       " 'tg2718': [],\n",
       " 'mz2776': [],\n",
       " 'xt2230': [],\n",
       " 'zs2440': [],\n",
       " 'zl2856': [],\n",
       " 'qt2131': []}"
      ]
     },
     "execution_count": 42,
     "metadata": {},
     "output_type": "execute_result"
    }
   ],
   "source": [
    "studenView = {u: [] for l in courseViewUni.values() for u in l}\n",
    "studenView"
   ]
  },
  {
   "cell_type": "code",
   "execution_count": 43,
   "metadata": {},
   "outputs": [
    {
     "data": {
      "text/plain": [
       "{'rg3266': 'c1',\n",
       " 'atc214': 'c1',\n",
       " 'sjl222': 'c1',\n",
       " 'jy3026': 'c1',\n",
       " 'wx2226': 'c1',\n",
       " 'tg2718': 'c1',\n",
       " 'mz2776': 'c3',\n",
       " 'xt2230': 'c3',\n",
       " 'zs2440': 'c3',\n",
       " 'zl2856': 'c5',\n",
       " 'qt2131': 'c6'}"
      ]
     },
     "execution_count": 43,
     "metadata": {},
     "output_type": "execute_result"
    }
   ],
   "source": [
    "{u: c for c in courseViewUni.keys() for u in courseViewUni[c]}"
   ]
  },
  {
   "cell_type": "code",
   "execution_count": null,
   "metadata": {},
   "outputs": [],
   "source": []
  },
  {
   "cell_type": "code",
   "execution_count": 44,
   "metadata": {},
   "outputs": [
    {
     "data": {
      "text/plain": [
       "{'rg3266': ['c1'],\n",
       " 'atc214': ['c1'],\n",
       " 'sjl222': ['c1'],\n",
       " 'jy3026': ['c1'],\n",
       " 'wx2226': ['c1'],\n",
       " 'tg2718': ['c1'],\n",
       " 'mz2776': ['c3'],\n",
       " 'xt2230': ['c3'],\n",
       " 'zs2440': ['c3'],\n",
       " 'zl2856': ['c5'],\n",
       " 'qt2131': ['c6']}"
      ]
     },
     "execution_count": 44,
     "metadata": {},
     "output_type": "execute_result"
    }
   ],
   "source": [
    "def courseToStudentView(courseView):\n",
    "    courseViewUni = {c: [s[1] for s in courseView[c]] for c in courseView.keys()}\n",
    "    studenView = {u: [] for l in courseViewUni.values() for u in l}\n",
    "    for c in courseViewUni.keys():\n",
    "        for u in courseViewUni[c]:\n",
    "            studenView[u].append(c)\n",
    "    return studenView\n",
    "\n",
    "assignStudentView = courseToStudentView(assignCourseView)\n",
    "assignStudentView"
   ]
  },
  {
   "cell_type": "code",
   "execution_count": 45,
   "metadata": {
    "scrolled": true
   },
   "outputs": [
    {
     "data": {
      "text/plain": [
       "{'qt2131': ['c8', 'c5', 'c4', 'c3', 'c2', 'c1'],\n",
       " 'zs2440': ['c2', 'c1', 'c4', 'c6', 'c7', 'c8'],\n",
       " 'xt2230': ['c2', 'c8', 'c4', 'c1', 'c6', 'c7'],\n",
       " 'sjl222': ['c3', 'c6', 'c5', 'c7', 'c8', 'c2'],\n",
       " 'zl2856': ['c1', 'c6', 'c7', 'c2', 'c8', 'c4'],\n",
       " 'mz2776': ['c6', 'c2', 'c1', 'c7', 'c4', 'c8'],\n",
       " 'tg2718': ['c5', 'c3', 'c7', 'c6', 'c2', 'c8'],\n",
       " 'rg3266': ['c3', 'c2', 'c8', 'c5', 'c6', 'c7'],\n",
       " 'jy3026': ['c3', 'c2', 'c5', 'c6', 'c7', 'c8'],\n",
       " 'atc214': ['c2', 'c5', 'c3', 'c8', 'c6', 'c7'],\n",
       " 'wx2226': ['c2', 'c7', 'c8', 'c6', 'c3', 'c5']}"
      ]
     },
     "execution_count": 45,
     "metadata": {},
     "output_type": "execute_result"
    }
   ],
   "source": [
    "# time conflit course pair\n",
    "coursePair = [['c1', 'c4'], ['c2', 'c8'], ['c3', 'c5'], ['c6', 'c7']]\n",
    "\n",
    "for u in assignStudentView.keys():\n",
    "    assignedSC = assignStudentView[u][0]\n",
    "    for pair in coursePair:\n",
    "        if assignedSC in pair:\n",
    "            updatedPref[u] = [i for i in updatedPref[u] if i not in pair]\n",
    "\n",
    "updatedPref"
   ]
  },
  {
   "cell_type": "code",
   "execution_count": 51,
   "metadata": {},
   "outputs": [],
   "source": [
    "def courseToStudentView(courseView):\n",
    "    courseViewUni = {c: [s[1] for s in courseView[c]] for c in courseView.keys()}\n",
    "    studenView = {u: [] for l in courseViewUni.values() for u in l}\n",
    "    for c in courseViewUni.keys():\n",
    "        for u in courseViewUni[c]:\n",
    "            studenView[u].append(c)\n",
    "    return studenView\n",
    "\n",
    "def resolveTimeConflict(df, assignCourseView):\n",
    "    # update preference list\n",
    "    updatedPref = get_pref(df)\n",
    "    \n",
    "    # time conflit course pair\n",
    "    coursePair = [['c1', 'c4'], ['c2', 'c8'], ['c3', 'c5'], ['c6', 'c7']]\n",
    "    assignStudentView = courseToStudentView(assignCourseView)\n",
    "    for u in assignStudentView.keys():\n",
    "        assignedSC = assignStudentView[u][0]\n",
    "        for pair in coursePair:\n",
    "            if assignedSC in pair:\n",
    "                updatedPref[u] = [i for i in updatedPref[u] if i not in pair]\n",
    "                \n",
    "    return updatedPref"
   ]
  },
  {
   "cell_type": "code",
   "execution_count": 52,
   "metadata": {
    "scrolled": true
   },
   "outputs": [
    {
     "name": "stdout",
     "output_type": "stream",
     "text": [
      "{'qt2131': 'c6', 'zs2440': 'c1', 'xt2230': 'c3', 'sjl222': 'c1', 'zl2856': 'c1', 'mz2776': 'c3', 'tg2718': 'c1', 'rg3266': 'c1', 'jy3026': 'c1', 'atc214': 'c1', 'wx2226': 'c1'}\n",
      "0 {'c1': [(100.08849250205192, 'rg3266'), (49.005522117123604, 'atc214'), (45.45606998421704, 'sjl222'), (35.280934509687384, 'jy3026'), (30.863103425875593, 'wx2226'), (20.54671027934328, 'tg2718')], 'c3': [(95.03438852111522, 'mz2776'), (0.43194501864211576, 'xt2230')], 'c5': [], 'c6': [(6.155994520336202, 'qt2131')]}\n",
      "['zl2856', 'zs2440']\n",
      "{'zs2440': 'c3', 'zl2856': 'c5'}\n",
      "1 {'c1': [(100.08849250205192, 'rg3266'), (49.005522117123604, 'atc214'), (45.45606998421704, 'sjl222'), (35.280934509687384, 'jy3026'), (30.863103425875593, 'wx2226'), (20.54671027934328, 'tg2718')], 'c3': [(95.03438852111522, 'mz2776'), (0.43194501864211576, 'xt2230'), (0.020584494295802447, 'zs2440')], 'c5': [(15.30461376917337, 'zl2856')], 'c6': [(6.155994520336202, 'qt2131')]}\n",
      "[]\n"
     ]
    }
   ],
   "source": [
    "(assignCourseView, cap) = assignSC(df_group1)\n",
    "updatedPref = resolveTimeConflict(df_group1, assignCourseView)"
   ]
  },
  {
   "cell_type": "code",
   "execution_count": 53,
   "metadata": {},
   "outputs": [
    {
     "data": {
      "text/plain": [
       "{'c1': [(100.08849250205192, 'rg3266'),\n",
       "  (49.005522117123604, 'atc214'),\n",
       "  (45.45606998421704, 'sjl222'),\n",
       "  (35.280934509687384, 'jy3026'),\n",
       "  (30.863103425875593, 'wx2226'),\n",
       "  (20.54671027934328, 'tg2718')],\n",
       " 'c3': [(95.03438852111522, 'mz2776'),\n",
       "  (0.43194501864211576, 'xt2230'),\n",
       "  (0.020584494295802447, 'zs2440')],\n",
       " 'c5': [(15.30461376917337, 'zl2856')],\n",
       " 'c6': [(6.155994520336202, 'qt2131')]}"
      ]
     },
     "execution_count": 53,
     "metadata": {},
     "output_type": "execute_result"
    }
   ],
   "source": [
    "assignCourseView"
   ]
  },
  {
   "cell_type": "code",
   "execution_count": 54,
   "metadata": {},
   "outputs": [
    {
     "data": {
      "text/plain": [
       "{'c1': 0, 'c2': 3, 'c3': 3, 'c4': 3, 'c5': 5, 'c6': 4, 'c7': 3, 'c8': 3}"
      ]
     },
     "execution_count": 54,
     "metadata": {},
     "output_type": "execute_result"
    }
   ],
   "source": [
    "cap"
   ]
  },
  {
   "cell_type": "code",
   "execution_count": 55,
   "metadata": {},
   "outputs": [
    {
     "data": {
      "text/plain": [
       "{'qt2131': ['c8', 'c5', 'c4', 'c3', 'c2', 'c1'],\n",
       " 'zs2440': ['c2', 'c1', 'c4', 'c6', 'c7', 'c8'],\n",
       " 'xt2230': ['c2', 'c8', 'c4', 'c1', 'c6', 'c7'],\n",
       " 'sjl222': ['c3', 'c6', 'c5', 'c7', 'c8', 'c2'],\n",
       " 'zl2856': ['c1', 'c6', 'c7', 'c2', 'c8', 'c4'],\n",
       " 'mz2776': ['c6', 'c2', 'c1', 'c7', 'c4', 'c8'],\n",
       " 'tg2718': ['c5', 'c3', 'c7', 'c6', 'c2', 'c8'],\n",
       " 'rg3266': ['c3', 'c2', 'c8', 'c5', 'c6', 'c7'],\n",
       " 'jy3026': ['c3', 'c2', 'c5', 'c6', 'c7', 'c8'],\n",
       " 'atc214': ['c2', 'c5', 'c3', 'c8', 'c6', 'c7'],\n",
       " 'wx2226': ['c2', 'c7', 'c8', 'c6', 'c3', 'c5']}"
      ]
     },
     "execution_count": 55,
     "metadata": {},
     "output_type": "execute_result"
    }
   ],
   "source": [
    "updatedPref"
   ]
  },
  {
   "cell_type": "code",
   "execution_count": 56,
   "metadata": {},
   "outputs": [
    {
     "data": {
      "text/plain": [
       "{'qt2131': ['c8', 'c5'],\n",
       " 'zs2440': ['c2', 'c1'],\n",
       " 'xt2230': ['c2', 'c8'],\n",
       " 'sjl222': ['c3', 'c6'],\n",
       " 'zl2856': ['c1', 'c6'],\n",
       " 'mz2776': ['c6', 'c2'],\n",
       " 'tg2718': ['c5', 'c3'],\n",
       " 'rg3266': ['c3', 'c2'],\n",
       " 'jy3026': ['c3', 'c2'],\n",
       " 'atc214': ['c2', 'c5'],\n",
       " 'wx2226': ['c2', 'c7']}"
      ]
     },
     "execution_count": 56,
     "metadata": {},
     "output_type": "execute_result"
    }
   ],
   "source": [
    "pref = updatedPref\n",
    "rejected = pref.keys()\n",
    "r = 0\n",
    "# first propose to 2 courses\n",
    "propose = {u: x[0:2] for (u,x) in pref.items() if u in rejected}\n",
    "propose"
   ]
  },
  {
   "cell_type": "code",
   "execution_count": 57,
   "metadata": {},
   "outputs": [
    {
     "data": {
      "text/plain": [
       "{'c1': [(15, 'zl2856'), (0, 'zs2440')],\n",
       " 'c2': [(100, 'zs2440'),\n",
       "  (65, 'xt2230'),\n",
       "  (49, 'atc214'),\n",
       "  (30, 'wx2226'),\n",
       "  (6, 'jy3026'),\n",
       "  (1, 'mz2776'),\n",
       "  (0, 'rg3266')],\n",
       " 'c3': [(45, 'sjl222'), (30, 'jy3026'), (10, 'tg2718'), (0, 'rg3266')],\n",
       " 'c4': [],\n",
       " 'c5': [(10, 'tg2718'), (5, 'qt2131'), (1, 'atc214')],\n",
       " 'c6': [(15, 'zl2856'), (10, 'sjl222'), (1, 'mz2776')],\n",
       " 'c7': [(20, 'wx2226')],\n",
       " 'c8': [(72, 'qt2131'), (35, 'xt2230')]}"
      ]
     },
     "execution_count": 57,
     "metadata": {},
     "output_type": "execute_result"
    }
   ],
   "source": [
    "# index bids\n",
    "bid1 = {c: [(df_group1.loc[u,c], u) for u in propose.keys() if propose[u][0] == c] \n",
    "       for c in course}\n",
    "bid2 = {c: [(df_group1.loc[u,c], u) for u in propose.keys() if propose[u][1] == c]\n",
    "       for c in course}\n",
    "bid = {c: sorted(l + bid2[c], reverse=True) for (c,l) in bid1.items()}\n",
    "bid"
   ]
  },
  {
   "cell_type": "code",
   "execution_count": 58,
   "metadata": {},
   "outputs": [
    {
     "data": {
      "text/plain": [
       "{'c1': [],\n",
       " 'c2': [(100, 'zs2440'), (65, 'xt2230'), (49, 'atc214')],\n",
       " 'c3': [(45, 'sjl222'), (30, 'jy3026'), (10, 'tg2718')],\n",
       " 'c4': [],\n",
       " 'c5': [(10, 'tg2718'), (5, 'qt2131'), (1, 'atc214')],\n",
       " 'c6': [(15, 'zl2856'), (10, 'sjl222'), (1, 'mz2776')],\n",
       " 'c7': [(20, 'wx2226')],\n",
       " 'c8': [(72, 'qt2131'), (35, 'xt2230')]}"
      ]
     },
     "execution_count": 58,
     "metadata": {},
     "output_type": "execute_result"
    }
   ],
   "source": [
    "# keep top k students\n",
    "bid_k = {c: s[:cap[c]] for (c, s) in bid.items()}\n",
    "bid_k"
   ]
  },
  {
   "cell_type": "code",
   "execution_count": 59,
   "metadata": {},
   "outputs": [
    {
     "data": {
      "text/plain": [
       "['zl2856', 'zs2440', 'wx2226', 'jy3026', 'mz2776', 'rg3266', 'rg3266']"
      ]
     },
     "execution_count": 59,
     "metadata": {},
     "output_type": "execute_result"
    }
   ],
   "source": [
    "# find the list of unmatched student unis\n",
    "rejected = [i[1] for l in [s[cap[c]:] for (c, s) in bid.items()] for i in l]\n",
    "rejected"
   ]
  },
  {
   "cell_type": "code",
   "execution_count": 60,
   "metadata": {},
   "outputs": [
    {
     "data": {
      "text/plain": [
       "{'qt2131': ['c5', 'c8'],\n",
       " 'zs2440': ['c2'],\n",
       " 'xt2230': ['c2', 'c8'],\n",
       " 'sjl222': ['c3', 'c6'],\n",
       " 'zl2856': ['c6'],\n",
       " 'mz2776': ['c6'],\n",
       " 'tg2718': ['c3', 'c5'],\n",
       " 'rg3266': [],\n",
       " 'jy3026': ['c3'],\n",
       " 'atc214': ['c2', 'c5'],\n",
       " 'wx2226': ['c7']}"
      ]
     },
     "execution_count": 60,
     "metadata": {},
     "output_type": "execute_result"
    }
   ],
   "source": [
    "p = courseToStudentView(bid_k)\n",
    "hold = {u: [] for u in pref.keys()}\n",
    "hold.update(p)\n",
    "hold"
   ]
  },
  {
   "cell_type": "code",
   "execution_count": 61,
   "metadata": {},
   "outputs": [
    {
     "data": {
      "text/plain": [
       "{'qt2131': ['c5', 'c8'],\n",
       " 'zs2440': ['c2'],\n",
       " 'xt2230': ['c2', 'c8'],\n",
       " 'sjl222': ['c3', 'c6'],\n",
       " 'zl2856': ['c6'],\n",
       " 'mz2776': ['c6'],\n",
       " 'tg2718': ['c3', 'c5'],\n",
       " 'rg3266': [],\n",
       " 'jy3026': ['c3'],\n",
       " 'atc214': ['c2', 'c5'],\n",
       " 'wx2226': ['c7']}"
      ]
     },
     "execution_count": 61,
     "metadata": {},
     "output_type": "execute_result"
    }
   ],
   "source": [
    "propose = {u: [] for u in pref.keys()}\n",
    "for c in bid_k.keys():\n",
    "    for (_, u) in bid_k[c]:\n",
    "        propose[u].append(c)\n",
    "        \n",
    "propose"
   ]
  },
  {
   "cell_type": "code",
   "execution_count": 87,
   "metadata": {
    "colab": {},
    "colab_type": "code",
    "id": "1rh_i5GvmUQw"
   },
   "outputs": [
    {
     "data": {
      "text/plain": [
       "{'zs2440': ['c1'],\n",
       " 'sjl222': ['c3'],\n",
       " 'zl2856': ['c5'],\n",
       " 'tg2718': ['c1'],\n",
       " 'rg3266': ['c4'],\n",
       " 'jy3026': ['c3'],\n",
       " 'atc214': ['c2'],\n",
       " 'wx2226': ['c1', 'c7']}"
      ]
     },
     "execution_count": 87,
     "metadata": {},
     "output_type": "execute_result"
    }
   ],
   "source": [
    "from collections import Counter\n",
    "nextProposeQuota = Counter(rejected)\n",
    "r = 2\n",
    "# then propose to quota courses\n",
    "newPropose = {u: x[r:r+nextProposeQuota[u]] for (u,x) in pref.items() if u in set(rejected)}\n",
    "newPropose"
   ]
  },
  {
   "cell_type": "code",
   "execution_count": 88,
   "metadata": {},
   "outputs": [
    {
     "data": {
      "text/plain": [
       "{'qt2131': ['c7', 'c8'],\n",
       " 'zs2440': ['c2', 'c1'],\n",
       " 'xt2230': ['c2', 'c8'],\n",
       " 'sjl222': ['c3', 'c3'],\n",
       " 'zl2856': ['c5', 'c5'],\n",
       " 'mz2776': ['c3', 'c6'],\n",
       " 'tg2718': ['c4', 'c1'],\n",
       " 'rg3266': ['c4', 'c4'],\n",
       " 'jy3026': ['c3', 'c3'],\n",
       " 'atc214': ['c2', 'c2'],\n",
       " 'wx2226': ['c1', 'c7']}"
      ]
     },
     "execution_count": 88,
     "metadata": {},
     "output_type": "execute_result"
    }
   ],
   "source": [
    "# update propose\n",
    "for u in newPropose.keys():\n",
    "    hold[u].extend(newPropose[u])\n",
    "\n",
    "hold"
   ]
  },
  {
   "cell_type": "code",
   "execution_count": 74,
   "metadata": {},
   "outputs": [
    {
     "data": {
      "text/plain": [
       "{'qt2131': ['c7', 'c8'],\n",
       " 'zs2440': ['c2', 'c1'],\n",
       " 'xt2230': ['c2', 'c8'],\n",
       " 'sjl222': ['c3', 'c3'],\n",
       " 'zl2856': ['c5', 'c5'],\n",
       " 'mz2776': ['c3', 'c6'],\n",
       " 'tg2718': ['c4', 'c1'],\n",
       " 'rg3266': ['c4', 'c4'],\n",
       " 'jy3026': ['c3', 'c3'],\n",
       " 'atc214': ['c2', 'c2'],\n",
       " 'wx2226': ['c1', 'c7']}"
      ]
     },
     "execution_count": 74,
     "metadata": {},
     "output_type": "execute_result"
    }
   ],
   "source": [
    "# update propose\n",
    "for u in newPropose.keys():\n",
    "    propose[u].extend(newPropose[u])\n",
    "\n",
    "propose"
   ]
  },
  {
   "cell_type": "code",
   "execution_count": 90,
   "metadata": {},
   "outputs": [
    {
     "data": {
      "text/plain": [
       "[2]"
      ]
     },
     "execution_count": 90,
     "metadata": {},
     "output_type": "execute_result"
    }
   ],
   "source": [
    "[0,1,2,3,4][2:3]"
   ]
  },
  {
   "cell_type": "code",
   "execution_count": 345,
   "metadata": {},
   "outputs": [
    {
     "data": {
      "text/plain": [
       "{'c1': [(0, 'zs2440')],\n",
       " 'c2': [(6, 'jy3026'), (1, 'mz2776'), (0, 'rg3266')],\n",
       " 'c3': [],\n",
       " 'c4': [],\n",
       " 'c5': [],\n",
       " 'c6': [(15, 'zl2856')],\n",
       " 'c7': [(20, 'wx2226')],\n",
       " 'c8': [(0, 'rg3266')]}"
      ]
     },
     "execution_count": 345,
     "metadata": {},
     "output_type": "execute_result"
    }
   ],
   "source": [
    "# index bids\n",
    "bid1 = {c: [(df_group1.loc[u,c], u) for u in propose.keys() \n",
    "            if propose[u][0] == c] \n",
    "       for c in course}\n",
    "bid2 = {c: [(df_group1.loc[u,c], u) for u in propose.keys() \n",
    "            # if len(propose[u])==2 \n",
    "            if propose[u][1] == c]\n",
    "       for c in course}\n",
    "bid = {c: sorted(l + bid2[c], reverse=True) for (c,l) in bid1.items()}\n",
    "bid"
   ]
  },
  {
   "cell_type": "code",
   "execution_count": null,
   "metadata": {},
   "outputs": [],
   "source": [
    "# keep top k students\n",
    "bid_k = {c: s[:cap[c]] for (c, s) in bid.items()}\n",
    "\n",
    "# find the list of unmatched student unis\n",
    "rejected = [i[1] for l in [s[cap[c]:] for (c, s) in bid.items()] for i in l]\n",
    "rejected"
   ]
  },
  {
   "cell_type": "code",
   "execution_count": 81,
   "metadata": {
    "colab": {},
    "colab_type": "code",
    "id": "a7TZzPu9rnjr"
   },
   "outputs": [],
   "source": [
    "from collections import Counter\n",
    "\n",
    "# time conflit course pair\n",
    "coursePair = [{'c1', 'c4'}, {'c2', 'c8'}, {'c3', 'c5'}, {'c6', 'c7'}]\n",
    "\n",
    "# general assignment (2 courses default)\n",
    "def assign(df, pref, cap, courseNum=2):\n",
    "    stop = False\n",
    "    r = 0                                                # round, not used in this function\n",
    "    rejected = pref.keys()\n",
    "    nextProposeQuota = {u: courseNum for u in rejected}  # # of courses rejected last turn\n",
    "    propose = {u: [] for u in pref.keys()}               # store courses to be proposed in each turn\n",
    "    proposed = propose                                   # store proposed courses\n",
    "\n",
    "    while not stop:\n",
    "        # first propose to 2 courses, then propose to quota courses\n",
    "        newPropose = {u: [c for c in x if c not in proposed[u]][:nextProposeQuota[u]]\n",
    "                          for (u,x) in pref.items() if u in set(rejected)}\n",
    "        # update propose and proposed\n",
    "        for u in newPropose.keys():\n",
    "            propose[u].extend(newPropose[u])\n",
    "            proposed[u].extend(newPropose[u])\n",
    "\n",
    "        # index bids\n",
    "        bid1 = {c: [((modified_bid(df)).loc[u,c], u) for u in propose.keys() if propose[u][0] == c] \n",
    "               for c in course}\n",
    "        bid2 = {c: [((modified_bid(df)).loc[u,c], u) for u in propose.keys() if propose[u][1] == c]\n",
    "               for c in course}\n",
    "        bid = {c: sorted(l + bid2[c], reverse=True) for (c,l) in bid1.items()}\n",
    "\n",
    "        # keep top k students\n",
    "        bid_k = {c: s[:cap[c]] for (c, s) in bid.items()}\n",
    "\n",
    "        # find the list of unmatched student unis\n",
    "        rejected = [i[1] for l in [s[cap[c]:] for (c, s) in bid.items()] for i in l]\n",
    "\n",
    "        # record current proposal\n",
    "        propose = {u: [] for u in pref.keys()}\n",
    "        propose.update(courseToStudentView(bid_k))\n",
    "        \n",
    "        # if no one get rejected, check time conflict\n",
    "        if all([len(cl)==2 for cl in propose.values()]):\n",
    "            # reject second course (less preferred) due to time conflict\n",
    "            rejected = [u for u in propose.keys() if set(propose[u]) in coursePair]\n",
    "            # update propose\n",
    "            for u in rejected:\n",
    "                propose[u].pop()\n",
    "\n",
    "        if rejected: # not empty\n",
    "            r += 1\n",
    "            nextProposeQuota = Counter(rejected)\n",
    "        else:\n",
    "            stop = True\n",
    "\n",
    "    return bid_k"
   ]
  },
  {
   "cell_type": "code",
   "execution_count": 82,
   "metadata": {},
   "outputs": [
    {
     "name": "stdout",
     "output_type": "stream",
     "text": [
      "OK, rejected: []\n",
      "Checking time conflict, rejected: ['xt2230', 'zl2856', 'mz2776', 'tg2718', 'jy3026']\n",
      "OK, rejected: []\n",
      "Checking time conflict, rejected: []\n"
     ]
    },
    {
     "data": {
      "text/plain": [
       "{'zs2440': ['c2', 'c4'],\n",
       " 'xt2230': ['c2', 'c4'],\n",
       " 'atc214': ['c2', 'c5'],\n",
       " 'sjl222': ['c3', 'c6'],\n",
       " 'jy3026': ['c3', 'c6'],\n",
       " 'tg2718': ['c3', 'c7'],\n",
       " 'mz2776': ['c4', 'c6'],\n",
       " 'qt2131': ['c5', 'c8'],\n",
       " 'rg3266': ['c5', 'c7'],\n",
       " 'zl2856': ['c6', 'c8'],\n",
       " 'wx2226': ['c7', 'c8']}"
      ]
     },
     "execution_count": 82,
     "metadata": {},
     "output_type": "execute_result"
    }
   ],
   "source": [
    "a = assign(df_group1, updatedPref, cap)\n",
    "courseToStudentView(a)"
   ]
  },
  {
   "cell_type": "code",
   "execution_count": null,
   "metadata": {},
   "outputs": [],
   "source": []
  },
  {
   "cell_type": "code",
   "execution_count": null,
   "metadata": {},
   "outputs": [],
   "source": []
  },
  {
   "cell_type": "code",
   "execution_count": 1,
   "metadata": {
    "colab": {},
    "colab_type": "code",
    "id": "Jha2zceJwbzy"
   },
   "outputs": [
    {
     "data": {
      "text/plain": [
       "{'zs2440': ['c2', 'c4', 'c3'],\n",
       " 'xt2230': ['c2', 'c8', 'c3'],\n",
       " 'atc214': ['c2', 'c5', 'c1'],\n",
       " 'sjl222': ['c3', 'c6', 'c1'],\n",
       " 'jy3026': ['c3', 'c5', 'c1'],\n",
       " 'rg3266': ['c3', 'c8', 'c1'],\n",
       " 'tg2718': ['c4', 'c7', 'c5'],\n",
       " 'qt2131': ['c5', 'c8', 'c6'],\n",
       " 'zl2856': ['c6', 'c7', 'c5'],\n",
       " 'mz2776': ['c6', 'c7', 'c3'],\n",
       " 'wx2226': ['c7', 'c8', 'c1']}"
      ]
     },
     "execution_count": 1,
     "metadata": {},
     "output_type": "execute_result"
    }
   ],
   "source": [
    "from assign import Assign\n",
    "\n",
    "filename = \"StudentForm (Combined) (Responses).xlsx\"\n",
    "Assign().test_2(filename)"
   ]
  },
  {
   "cell_type": "code",
   "execution_count": 1,
   "metadata": {},
   "outputs": [
    {
     "data": {
      "text/plain": [
       "{'zs2440': ['c2', 'c4', 'c3'],\n",
       " 'xt2230': ['c2', 'c6', 'c3'],\n",
       " 'atc214': ['c2', 'c5', 'c1'],\n",
       " 'sjl222': ['c3', 'c6', 'c1'],\n",
       " 'jy3026': ['c3', 'c6', 'c1'],\n",
       " 'rg3266': ['c3', 'c8', 'c1'],\n",
       " 'tg2718': ['c4', 'c7', 'c5'],\n",
       " 'mz2776': ['c4', 'c6', 'c3'],\n",
       " 'qt2131': ['c5', 'c8', 'c6'],\n",
       " 'zl2856': ['c6', 'c8', 'c5'],\n",
       " 'wx2226': ['c7', 'c8', 'c1']}"
      ]
     },
     "execution_count": 1,
     "metadata": {},
     "output_type": "execute_result"
    }
   ],
   "source": [
    "from assign import Assign\n",
    "\n",
    "filename = \"StudentForm (Combined) (Responses).xlsx\"\n",
    "Assign().test_2(filename)"
   ]
  },
  {
   "cell_type": "markdown",
   "metadata": {
    "colab_type": "text",
    "id": "nzhI2sxPwcx7"
   },
   "source": [
    "### Test 2 (Preferences + Course bidding)\n",
    "\n",
    "#### Part I. Assign 1 semi-core to each student\n",
    "\n"
   ]
  },
  {
   "cell_type": "code",
   "execution_count": null,
   "metadata": {
    "colab": {},
    "colab_type": "code",
    "id": "TOJgAdgXwjKj"
   },
   "outputs": [],
   "source": []
  },
  {
   "cell_type": "markdown",
   "metadata": {
    "colab_type": "text",
    "id": "-2NogqPYx4O2"
   },
   "source": [
    "#### Part II. Assign 2 courses to each student"
   ]
  },
  {
   "cell_type": "code",
   "execution_count": null,
   "metadata": {
    "colab": {},
    "colab_type": "code",
    "id": "y8MChzUyx40n"
   },
   "outputs": [],
   "source": []
  },
  {
   "cell_type": "code",
   "execution_count": null,
   "metadata": {
    "colab": {},
    "colab_type": "code",
    "id": "5Otb71OsWP1x"
   },
   "outputs": [],
   "source": []
  },
  {
   "cell_type": "markdown",
   "metadata": {
    "colab_type": "text",
    "id": "_FkiXW5fWBcX"
   },
   "source": [
    "### Test 3 (Preferences + Timeslot bidding)\n",
    "\n",
    "#### Part I. Assign 1 semi-core to each student"
   ]
  },
  {
   "cell_type": "code",
   "execution_count": null,
   "metadata": {
    "colab": {},
    "colab_type": "code",
    "id": "yjxob8IGWZpN"
   },
   "outputs": [],
   "source": []
  },
  {
   "cell_type": "code",
   "execution_count": null,
   "metadata": {
    "colab": {},
    "colab_type": "code",
    "id": "SbhfdW2LWaHv"
   },
   "outputs": [],
   "source": []
  },
  {
   "cell_type": "markdown",
   "metadata": {
    "colab_type": "text",
    "id": "w7WOiakoWax1"
   },
   "source": [
    "#### Part II. Assign 2 courses to each student"
   ]
  },
  {
   "cell_type": "code",
   "execution_count": null,
   "metadata": {
    "colab": {},
    "colab_type": "code",
    "id": "Ho86L4ZSWeD7"
   },
   "outputs": [],
   "source": []
  },
  {
   "cell_type": "markdown",
   "metadata": {
    "colab_type": "text",
    "id": "Ygr8ulUmWerY"
   },
   "source": [
    "### Test 4 (Preferences only)\n",
    "\n",
    "#### Part 0. Reverse lottery to determine course preferences"
   ]
  },
  {
   "cell_type": "code",
   "execution_count": null,
   "metadata": {
    "colab": {},
    "colab_type": "code",
    "id": "vWqR4Vz7Wudd"
   },
   "outputs": [],
   "source": []
  },
  {
   "cell_type": "code",
   "execution_count": null,
   "metadata": {
    "colab": {},
    "colab_type": "code",
    "id": "sxu8TiwwWeSQ"
   },
   "outputs": [],
   "source": []
  },
  {
   "cell_type": "markdown",
   "metadata": {
    "colab_type": "text",
    "id": "wZTLJn1BWvFw"
   },
   "source": [
    "#### Part I. Assign 1 semi-core to each student"
   ]
  },
  {
   "cell_type": "code",
   "execution_count": null,
   "metadata": {
    "colab": {},
    "colab_type": "code",
    "id": "5SgMIq22W1jB"
   },
   "outputs": [],
   "source": []
  },
  {
   "cell_type": "code",
   "execution_count": null,
   "metadata": {
    "colab": {},
    "colab_type": "code",
    "id": "SNZvGRfNW19P"
   },
   "outputs": [],
   "source": []
  },
  {
   "cell_type": "markdown",
   "metadata": {
    "colab_type": "text",
    "id": "a46upoW5W2dK"
   },
   "source": [
    "#### Part II. Assign 2 courses to each student"
   ]
  },
  {
   "cell_type": "code",
   "execution_count": null,
   "metadata": {
    "colab": {},
    "colab_type": "code",
    "id": "XI2vXfDaW5zW"
   },
   "outputs": [],
   "source": []
  },
  {
   "cell_type": "code",
   "execution_count": null,
   "metadata": {
    "colab": {},
    "colab_type": "code",
    "id": "QBqcJoGCW6GY"
   },
   "outputs": [],
   "source": []
  }
 ],
 "metadata": {
  "colab": {
   "collapsed_sections": [
    "3J9WA3mgQo2t",
    "OJ58XdTz5chS",
    "1-T32VFdviL_",
    "_A5umSFA1Wk1",
    "GvtGUOKN0tUZ"
   ],
   "name": "CourseAssignment.ipynb",
   "provenance": []
  },
  "kernelspec": {
   "display_name": "Python 3",
   "language": "python",
   "name": "python3"
  },
  "language_info": {
   "codemirror_mode": {
    "name": "ipython",
    "version": 3
   },
   "file_extension": ".py",
   "mimetype": "text/x-python",
   "name": "python",
   "nbconvert_exporter": "python",
   "pygments_lexer": "ipython3",
   "version": "3.7.7"
  }
 },
 "nbformat": 4,
 "nbformat_minor": 1
}
