{
 "cells": [
  {
   "cell_type": "markdown",
   "metadata": {
    "colab_type": "text",
    "id": "3J9WA3mgQo2t"
   },
   "source": [
    "## Notes"
   ]
  },
  {
   "cell_type": "markdown",
   "metadata": {
    "colab_type": "text",
    "id": "OF_kJfBOWJ_h"
   },
   "source": [
    "### Input\n",
    "\n",
    "Response spreadsheet of the combined student form. Each row represents a student's input. Each column stands for a blank of the form:\n",
    "\n",
    "> `A`: Timestamp\n",
    "> `B`: Email Address\n",
    "> `C`: Gender\n",
    ">\n",
    "> `D`: Is the last digit of your UNI even or odd?\n",
    "\n",
    "\n",
    "#### Group 1 (Course bidding + Preference)\n",
    "\n",
    "- `E-L`: Bids for *Business Analytics, Cloud Computing, Machine Learning,\tData Analytics,\tOptimization,\tStochastic,\tSimulation,\tComputational Discrete Optimization*\n",
    "\n",
    "- `M-T`: Rank for the courses (No.1 - No.8)\n",
    "\n",
    "\n",
    "#### Group 2 (Preference + Course bidding + Timeslot bidding)\n",
    "\n",
    "- `U-AB`: Rank for the courses (No.1 - No.8)\n",
    "\n",
    "- `AC-AJ`: Bids for *Business Analytics, Cloud Computing, Machine Learning,\tData Analytics,\tOptimization,\tStochastic,\tSimulation,\tComputational Discrete Optimization*\n",
    "\n",
    "- `AK-AN`: Bids for time slots (9-11 am, 12-2 pm, 3-5 pm, 6-8 pm)\n",
    "\n",
    "\n",
    "### Output\n",
    "\n",
    "`(Student, [3 Courses])` assignment. Each student is assigned to at least one semi-core course."
   ]
  },
  {
   "cell_type": "code",
   "execution_count": null,
   "metadata": {
    "colab": {},
    "colab_type": "code",
    "id": "tKHAe_xj50Kv"
   },
   "outputs": [],
   "source": []
  },
  {
   "cell_type": "code",
   "execution_count": null,
   "metadata": {
    "colab": {},
    "colab_type": "code",
    "id": "2qTpn_YA5zyN"
   },
   "outputs": [],
   "source": []
  },
  {
   "cell_type": "code",
   "execution_count": null,
   "metadata": {
    "colab": {},
    "colab_type": "code",
    "id": "d9wo3gqR5zlR"
   },
   "outputs": [],
   "source": []
  },
  {
   "cell_type": "markdown",
   "metadata": {
    "colab_type": "text",
    "id": "ssQx8bUBQta0"
   },
   "source": [
    "## Methodologies to test"
   ]
  },
  {
   "cell_type": "markdown",
   "metadata": {
    "colab_type": "text",
    "id": "vrEpiRiWdlvs"
   },
   "source": [
    "### Structure of Notebook\n",
    "\n",
    "* Summary\n",
    "* Data Processing\n",
    "* Section 1: Preference Generator from Bids and Lotteries\n",
    "* Section 2: Schedules for Round 2 algorithm\n",
    "* Section 3: Two-round algorithm "
   ]
  },
  {
   "cell_type": "markdown",
   "metadata": {
    "colab_type": "text",
    "id": "6dICLAMjX1fH"
   },
   "source": [
    "\n",
    "**Experimental Groups**\n",
    "* a) Students give a strict ordering of the classes;\n",
    "* b) Students  bid on classes, so that the total sum of the bidding sums to <= 100;\n",
    "* c) Students bid on classes from one time slots, so that the total sum of the bidding sums to <= 100;\n",
    "\n",
    "\n",
    "**Tests**\n",
    "1. Ignore a, use b to infer students preferences, with class preferences given by higher bidder; [still ask a for comparing with b,c]\n",
    "2. Use a and b;\n",
    "3. Use a and c;\n",
    "4. Ignore b, c, class preferences are given by unique lottery.\n",
    "\n"
   ]
  },
  {
   "cell_type": "markdown",
   "metadata": {
    "colab_type": "text",
    "id": "OriVpRbO5E_F"
   },
   "source": [
    "# Summary"
   ]
  },
  {
   "cell_type": "code",
   "execution_count": 1,
   "metadata": {
    "colab": {},
    "colab_type": "code",
    "executionInfo": {
     "elapsed": 764,
     "status": "ok",
     "timestamp": 1597985251696,
     "user": {
      "displayName": "Joanne Tho",
      "photoUrl": "https://lh3.googleusercontent.com/a-/AOh14Gi6BXt-TGxdn3YsvO7Q_36euxQ6p2AjuRghvfAE=s64",
      "userId": "02383400307021747479"
     },
     "user_tz": 240
    },
    "id": "o6talsyCNa7l"
   },
   "outputs": [],
   "source": [
    "import pandas as pd\n",
    "import numpy as np"
   ]
  },
  {
   "cell_type": "code",
   "execution_count": 2,
   "metadata": {
    "colab": {},
    "colab_type": "code",
    "executionInfo": {
     "elapsed": 22564,
     "status": "ok",
     "timestamp": 1597985274202,
     "user": {
      "displayName": "Joanne Tho",
      "photoUrl": "https://lh3.googleusercontent.com/a-/AOh14Gi6BXt-TGxdn3YsvO7Q_36euxQ6p2AjuRghvfAE=s64",
      "userId": "02383400307021747479"
     },
     "user_tz": 240
    },
    "id": "2PA3rr3W6bpU"
   },
   "outputs": [],
   "source": [
    "# authenticate\n",
    "from pydrive.auth import GoogleAuth\n",
    "from pydrive.drive import GoogleDrive\n",
    "from google.colab import auth\n",
    "from oauth2client.client import GoogleCredentials\n",
    "import gspread\n",
    "\n",
    "auth.authenticate_user()\n",
    "gauth = GoogleAuth()\n",
    "gauth.credentials = GoogleCredentials.get_application_default()\n",
    "drive = GoogleDrive(gauth)\n",
    "\n",
    "# your_module = drive.CreateFile({'id':'1KCokg0NCRyjucZN-qTEIE2-7pHg-XIRS'})\n",
    "your_module = drive.CreateFile({'id':'1PlSWCGFR8itlXd9xKv3rdIsVQbbRfMf1'})\n",
    "your_module.GetContentFile('assign.py')\n",
    "\n",
    "# import respond spreadsheet\n",
    "gc = gspread.authorize(GoogleCredentials.get_application_default())\n",
    "wb = gc.open_by_url('https://docs.google.com/spreadsheets/d/1LKi4I4VMGEK2_XBi8zYewFSvqx75nb8HFX9Oo08a8qE/edit#gid=1255728861')\n",
    "data = wb.sheet1.get_all_values()"
   ]
  },
  {
   "cell_type": "markdown",
   "metadata": {
    "colab_type": "text",
    "id": "mwDGXI0JEQvm"
   },
   "source": [
    "**Experiment 1: With original parameters**\n",
    "* varied capacities\n",
    "* assume higher ranked course is always preferred"
   ]
  },
  {
   "cell_type": "code",
   "execution_count": 1,
   "metadata": {},
   "outputs": [],
   "source": [
    "import pandas as pd\n",
    "\n",
    "filename = \"../StudentForm (Combined) (Responses).xlsx\"\n",
    "data = pd.read_excel(filename, header=None)"
   ]
  },
  {
   "cell_type": "code",
   "execution_count": 2,
   "metadata": {
    "colab": {
     "base_uri": "https://localhost:8080/",
     "height": 390
    },
    "colab_type": "code",
    "executionInfo": {
     "elapsed": 4647,
     "status": "ok",
     "timestamp": 1597986162580,
     "user": {
      "displayName": "Joanne Tho",
      "photoUrl": "https://lh3.googleusercontent.com/a-/AOh14Gi6BXt-TGxdn3YsvO7Q_36euxQ6p2AjuRghvfAE=s64",
      "userId": "02383400307021747479"
     },
     "user_tz": 240
    },
    "id": "XUB5YgoGEjTV",
    "outputId": "47369690-b6dd-4da9-f990-f07d00c3c182"
   },
   "outputs": [
    {
     "name": "stdout",
     "output_type": "stream",
     "text": [
      "Assigning according to test 1 with group 1 ...\n",
      "\tPart I (Semi-core): Number of GS rounds: 1\n",
      "\tPart II (General) : Number of GS rounds: 4\n",
      "Assigning according to test 2 with group 1 ...\n",
      "\tPart I (Semi-core): Number of GS rounds: 2\n",
      "\tPart II (General) : Number of GS rounds: 5\n",
      "Assigning according to test 4 with group 1 ...\n",
      "\tPart I (Semi-core): Number of GS rounds: 2\n",
      "\tPart II (General) : Number of GS rounds: 4\n",
      "Assigning according to test 1 with group 2 ...\n",
      "\tPart I (Semi-core): Number of GS rounds: 2\n",
      "\tPart II (General) : Number of GS rounds: 5\n",
      "Assigning according to test 2 with group 2 ...\n",
      "\tPart I (Semi-core): Number of GS rounds: 2\n",
      "\tPart II (General) : Number of GS rounds: 4\n",
      "Assigning according to test 3 with group 2 ...\n",
      "\tPart I (Semi-core): Number of GS rounds: 2\n",
      "\tPart II (General) : Number of GS rounds: 5\n",
      "Assigning according to test 4 with group 2 ...\n",
      "\tPart I (Semi-core): Number of GS rounds: 2\n",
      "\tPart II (General) : Number of GS rounds: 6\n"
     ]
    }
   ],
   "source": [
    "from assign import Assign\n",
    "\n",
    "# Initialize with data\n",
    "asgn = Assign(data)\n",
    "\n",
    "# Perform different test on either group\n",
    "test1on1 = asgn.test(test=1, group=1)\n",
    "test2on1 = asgn.test(test=2, group=1)\n",
    "test4on1 = asgn.test(test=4, group=1)\n",
    "\n",
    "test1on2 = asgn.test(test=1, group=2)\n",
    "test2on2 = asgn.test(test=2, group=2)\n",
    "test3on2 = asgn.test(test=3, group=2)\n",
    "test4on2 = asgn.test(test=4, group=2)"
   ]
  },
  {
   "cell_type": "code",
   "execution_count": 13,
   "metadata": {
    "colab": {
     "base_uri": "https://localhost:8080/",
     "height": 266
    },
    "colab_type": "code",
    "executionInfo": {
     "elapsed": 1723,
     "status": "ok",
     "timestamp": 1597985279433,
     "user": {
      "displayName": "Joanne Tho",
      "photoUrl": "https://lh3.googleusercontent.com/a-/AOh14Gi6BXt-TGxdn3YsvO7Q_36euxQ6p2AjuRghvfAE=s64",
      "userId": "02383400307021747479"
     },
     "user_tz": 240
    },
    "id": "ppRFpVe_9YDE",
    "outputId": "02e22511-4a15-43b2-db84-e05740314182"
   },
   "outputs": [],
   "source": [
    "# E.g., check out test 2 assignment result\n",
    "# last course is the semi-core requirement\n",
    "result = test1on2.result"
   ]
  },
  {
   "cell_type": "code",
   "execution_count": 14,
   "metadata": {},
   "outputs": [
    {
     "name": "stdout",
     "output_type": "stream",
     "text": [
      "Check complete!\n"
     ]
    }
   ],
   "source": [
    "# test 4 on group 1\n",
    "Assign(data).checkStability(result, test=1, group=2)"
   ]
  },
  {
   "cell_type": "code",
   "execution_count": 14,
   "metadata": {},
   "outputs": [
    {
     "data": {
      "text/plain": [
       "'c2'"
      ]
     },
     "execution_count": 14,
     "metadata": {},
     "output_type": "execute_result"
    }
   ],
   "source": [
    "coursePair = [{'c1', 'c4'}, {'c2', 'c8'}, {'c3', 'c5'}, {'c6', 'c7'}]\n",
    "\n",
    "def coursePairOf(c):\n",
    "    for s in coursePair:\n",
    "        if c in s:\n",
    "            c2 = list(s)\n",
    "            c2.remove(c)\n",
    "            return c2[0]\n",
    "        \n",
    "coursePairOf('c8')"
   ]
  },
  {
   "cell_type": "code",
   "execution_count": 22,
   "metadata": {},
   "outputs": [
    {
     "data": {
      "text/plain": [
       "{'c1': ['mds225',\n",
       "  'qz2391',\n",
       "  'vml213',\n",
       "  'js5553',\n",
       "  'ma3973',\n",
       "  'yd2547',\n",
       "  'pa2561',\n",
       "  'sc4619',\n",
       "  'sa3763',\n",
       "  'yf2507',\n",
       "  'sj2993',\n",
       "  'sc4617',\n",
       "  'wg2347',\n",
       "  'sc4811'],\n",
       " 'c2': ['tnw211', 'mds225', 'sc4597', 'yp2555', 'qz2391', 'vml213'],\n",
       " 'c3': ['sc4597',\n",
       "  'yp2555',\n",
       "  'vml213',\n",
       "  'js5553',\n",
       "  'da2899',\n",
       "  'xm2235',\n",
       "  'sg3775',\n",
       "  'lh2991',\n",
       "  'rs4011',\n",
       "  'wr2325',\n",
       "  'yw3379',\n",
       "  'cf2799'],\n",
       " 'c4': ['da2899', 'zp2215', 'xm2235', 'sg3775', 'lh2991', 'rs4011'],\n",
       " 'c5': ['tnw211',\n",
       "  'zp2215',\n",
       "  'ma3973',\n",
       "  'yd2547',\n",
       "  'pa2561',\n",
       "  'sc4619',\n",
       "  'sa3763',\n",
       "  'yf2507',\n",
       "  'sj2993',\n",
       "  'sc4617'],\n",
       " 'c6': ['tnw211',\n",
       "  'mds225',\n",
       "  'sc4597',\n",
       "  'yp2555',\n",
       "  'qz2391',\n",
       "  'js5553',\n",
       "  'zp2215',\n",
       "  'xm2235',\n",
       "  'sg3775',\n",
       "  'rs4011',\n",
       "  'ma3973',\n",
       "  'yd2547',\n",
       "  'pa2561',\n",
       "  'sa3763',\n",
       "  'yf2507',\n",
       "  'wr2325',\n",
       "  'wg2347',\n",
       "  'sc4811',\n",
       "  'yw3379'],\n",
       " 'c7': ['da2899', 'lh2991', 'sc4619', 'sj2993', 'sc4617', 'cf2799'],\n",
       " 'c8': ['wr2325', 'wg2347', 'sc4811', 'yw3379', 'cf2799']}"
      ]
     },
     "execution_count": 22,
     "metadata": {},
     "output_type": "execute_result"
    }
   ],
   "source": [
    "# resultCourse = Assign(data).courseToStudentView(result)\n",
    "# resultCourse\n",
    "course = ['c1','c2','c3','c4','c5','c6','c7','c8']\n",
    "\n",
    "resultByCourse = {c: [] for c in course}\n",
    "for a in result.keys():\n",
    "    for c in result[a]:\n",
    "        resultByCourse[c].append(a)\n",
    "        \n",
    "resultByCourse"
   ]
  },
  {
   "cell_type": "code",
   "execution_count": 24,
   "metadata": {},
   "outputs": [
    {
     "data": {
      "text/plain": [
       "{'wr2325': ['c3', 'c8', 'c5', 'c4', 'c6', 'c7', 'c2', 'c1'],\n",
       " 'sj2993': ['c1', 'c4', 'c3', 'c2', 'c5', 'c7', 'c8', 'c6'],\n",
       " 'sa3763': ['c1', 'c6', 'c5', 'c7', 'c4', 'c3', 'c2', 'c8'],\n",
       " 'yf2507': ['c4', 'c1', 'c3', 'c5', 'c6', 'c7', 'c8', 'c2'],\n",
       " 'js5553': ['c1', 'c3', 'c2', 'c4', 'c5', 'c6', 'c7', 'c8'],\n",
       " 'sc4597': ['c3', 'c1', 'c2', 'c5', 'c6', 'c8', 'c7', 'c4'],\n",
       " 'pa2561': ['c1', 'c4', 'c5', 'c6', 'c7', 'c2', 'c3', 'c8'],\n",
       " 'cf2799': ['c3', 'c4', 'c5', 'c1', 'c2', 'c7', 'c6', 'c8'],\n",
       " 'sc4617': ['c1', 'c5', 'c7', 'c2', 'c3', 'c6', 'c8', 'c4'],\n",
       " 'ma3973': ['c1', 'c3', 'c5', 'c2', 'c4', 'c6', 'c7', 'c8'],\n",
       " 'qz2391': ['c4', 'c1', 'c2', 'c3', 'c6', 'c5', 'c7', 'c8'],\n",
       " 'tnw211': ['c2', 'c1', 'c6', 'c5', 'c7', 'c3', 'c4', 'c8'],\n",
       " 'xm2235': ['c4', 'c3', 'c6', 'c1', 'c7', 'c5', 'c2', 'c8'],\n",
       " 'da2899': ['c4', 'c2', 'c3', 'c1', 'c7', 'c8', 'c5', 'c6'],\n",
       " 'wg2347': ['c4', 'c1', 'c6', 'c8', 'c5', 'c2', 'c3', 'c7'],\n",
       " 'yp2555': ['c1', 'c4', 'c3', 'c2', 'c5', 'c6', 'c7', 'c8'],\n",
       " 'yw3379': ['c3', 'c2', 'c1', 'c4', 'c5', 'c6', 'c8', 'c7'],\n",
       " 'zp2215': ['c4', 'c5', 'c2', 'c1', 'c3', 'c6', 'c7', 'c8'],\n",
       " 'lh2991': ['c3', 'c4', 'c1', 'c2', 'c5', 'c7', 'c6', 'c8'],\n",
       " 'sc4811': ['c4', 'c1', 'c2', 'c6', 'c7', 'c8', 'c3', 'c5'],\n",
       " 'yd2547': ['c1', 'c6', 'c5', 'c7', 'c4', 'c3', 'c8', 'c2'],\n",
       " 'mds225': ['c1', 'c2', 'c4', 'c3', 'c6', 'c5', 'c7', 'c8'],\n",
       " 'sc4619': ['c1', 'c4', 'c3', 'c5', 'c2', 'c7', 'c6', 'c8'],\n",
       " 'sg3775': ['c3', 'c4', 'c5', 'c6', 'c7', 'c8', 'c2', 'c1'],\n",
       " 'rs4011': ['c1', 'c4', 'c3', 'c2', 'c6', 'c7', 'c8', 'c5'],\n",
       " 'vml213': ['c1', 'c3', 'c2', 'c5', 'c4', 'c7', 'c6', 'c8']}"
      ]
     },
     "execution_count": 24,
     "metadata": {},
     "output_type": "execute_result"
    }
   ],
   "source": [
    "(df_group1, df_group2) = Assign(data).preprocess()\n",
    "pref = Assign(data).get_pref(df_group2)\n",
    "pref"
   ]
  },
  {
   "cell_type": "code",
   "execution_count": 25,
   "metadata": {
    "scrolled": true
   },
   "outputs": [
    {
     "data": {
      "text/html": [
       "<div>\n",
       "<style scoped>\n",
       "    .dataframe tbody tr th:only-of-type {\n",
       "        vertical-align: middle;\n",
       "    }\n",
       "\n",
       "    .dataframe tbody tr th {\n",
       "        vertical-align: top;\n",
       "    }\n",
       "\n",
       "    .dataframe thead th {\n",
       "        text-align: right;\n",
       "    }\n",
       "</style>\n",
       "<table border=\"1\" class=\"dataframe\">\n",
       "  <thead>\n",
       "    <tr style=\"text-align: right;\">\n",
       "      <th></th>\n",
       "      <th>c1</th>\n",
       "      <th>c2</th>\n",
       "      <th>c3</th>\n",
       "      <th>c4</th>\n",
       "      <th>c5</th>\n",
       "      <th>c6</th>\n",
       "      <th>c7</th>\n",
       "      <th>c8</th>\n",
       "    </tr>\n",
       "    <tr>\n",
       "      <th>UNI</th>\n",
       "      <th></th>\n",
       "      <th></th>\n",
       "      <th></th>\n",
       "      <th></th>\n",
       "      <th></th>\n",
       "      <th></th>\n",
       "      <th></th>\n",
       "      <th></th>\n",
       "    </tr>\n",
       "  </thead>\n",
       "  <tbody>\n",
       "    <tr>\n",
       "      <th>wr2325</th>\n",
       "      <td>5.374540</td>\n",
       "      <td>5.950714</td>\n",
       "      <td>25.731994</td>\n",
       "      <td>10.598658</td>\n",
       "      <td>10.156019</td>\n",
       "      <td>5.155995</td>\n",
       "      <td>5.058084</td>\n",
       "      <td>35.866176</td>\n",
       "    </tr>\n",
       "    <tr>\n",
       "      <th>sj2993</th>\n",
       "      <td>30.601115</td>\n",
       "      <td>15.708073</td>\n",
       "      <td>20.020584</td>\n",
       "      <td>25.969910</td>\n",
       "      <td>3.832443</td>\n",
       "      <td>1.212339</td>\n",
       "      <td>3.181825</td>\n",
       "      <td>3.183405</td>\n",
       "    </tr>\n",
       "    <tr>\n",
       "      <th>sa3763</th>\n",
       "      <td>40.304242</td>\n",
       "      <td>5.524756</td>\n",
       "      <td>10.431945</td>\n",
       "      <td>20.291229</td>\n",
       "      <td>5.611853</td>\n",
       "      <td>5.139494</td>\n",
       "      <td>10.292145</td>\n",
       "      <td>5.366362</td>\n",
       "    </tr>\n",
       "    <tr>\n",
       "      <th>yf2507</th>\n",
       "      <td>30.456070</td>\n",
       "      <td>5.785176</td>\n",
       "      <td>5.199674</td>\n",
       "      <td>50.514234</td>\n",
       "      <td>5.592415</td>\n",
       "      <td>5.046450</td>\n",
       "      <td>0.607545</td>\n",
       "      <td>0.170524</td>\n",
       "    </tr>\n",
       "    <tr>\n",
       "      <th>js5553</th>\n",
       "      <td>40.065052</td>\n",
       "      <td>15.948886</td>\n",
       "      <td>25.965632</td>\n",
       "      <td>10.808397</td>\n",
       "      <td>5.304614</td>\n",
       "      <td>5.097672</td>\n",
       "      <td>0.684233</td>\n",
       "      <td>0.440152</td>\n",
       "    </tr>\n",
       "    <tr>\n",
       "      <th>sc4597</th>\n",
       "      <td>25.122038</td>\n",
       "      <td>25.495177</td>\n",
       "      <td>40.034389</td>\n",
       "      <td>0.909320</td>\n",
       "      <td>5.258780</td>\n",
       "      <td>5.662522</td>\n",
       "      <td>0.311711</td>\n",
       "      <td>0.520068</td>\n",
       "    </tr>\n",
       "    <tr>\n",
       "      <th>pa2561</th>\n",
       "      <td>80.546710</td>\n",
       "      <td>0.184854</td>\n",
       "      <td>0.969585</td>\n",
       "      <td>10.775133</td>\n",
       "      <td>10.939499</td>\n",
       "      <td>0.894827</td>\n",
       "      <td>0.597900</td>\n",
       "      <td>0.921874</td>\n",
       "    </tr>\n",
       "    <tr>\n",
       "      <th>cf2799</th>\n",
       "      <td>40.088493</td>\n",
       "      <td>0.195983</td>\n",
       "      <td>35.045227</td>\n",
       "      <td>15.325330</td>\n",
       "      <td>10.388677</td>\n",
       "      <td>0.271349</td>\n",
       "      <td>0.828738</td>\n",
       "      <td>0.356753</td>\n",
       "    </tr>\n",
       "    <tr>\n",
       "      <th>sc4617</th>\n",
       "      <td>93.280935</td>\n",
       "      <td>1.542696</td>\n",
       "      <td>1.140924</td>\n",
       "      <td>1.802197</td>\n",
       "      <td>1.074551</td>\n",
       "      <td>1.986887</td>\n",
       "      <td>1.772245</td>\n",
       "      <td>1.198716</td>\n",
       "    </tr>\n",
       "    <tr>\n",
       "      <th>ma3973</th>\n",
       "      <td>40.005522</td>\n",
       "      <td>10.815461</td>\n",
       "      <td>10.706857</td>\n",
       "      <td>0.729007</td>\n",
       "      <td>30.771270</td>\n",
       "      <td>10.074045</td>\n",
       "      <td>0.358466</td>\n",
       "      <td>0.115869</td>\n",
       "    </tr>\n",
       "    <tr>\n",
       "      <th>qz2391</th>\n",
       "      <td>25.863103</td>\n",
       "      <td>20.623298</td>\n",
       "      <td>15.330898</td>\n",
       "      <td>30.063558</td>\n",
       "      <td>5.310982</td>\n",
       "      <td>5.325183</td>\n",
       "      <td>0.729606</td>\n",
       "      <td>0.637557</td>\n",
       "    </tr>\n",
       "    <tr>\n",
       "      <th>tnw211</th>\n",
       "      <td>20.887213</td>\n",
       "      <td>66.472215</td>\n",
       "      <td>10.119594</td>\n",
       "      <td>1.713245</td>\n",
       "      <td>1.760785</td>\n",
       "      <td>1.561277</td>\n",
       "      <td>1.770967</td>\n",
       "      <td>0.493796</td>\n",
       "    </tr>\n",
       "    <tr>\n",
       "      <th>xm2235</th>\n",
       "      <td>10.522733</td>\n",
       "      <td>0.427541</td>\n",
       "      <td>40.025419</td>\n",
       "      <td>30.107891</td>\n",
       "      <td>5.031429</td>\n",
       "      <td>10.636410</td>\n",
       "      <td>10.314356</td>\n",
       "      <td>0.508571</td>\n",
       "    </tr>\n",
       "    <tr>\n",
       "      <th>da2899</th>\n",
       "      <td>0.907566</td>\n",
       "      <td>0.249292</td>\n",
       "      <td>0.410383</td>\n",
       "      <td>100.755551</td>\n",
       "      <td>0.228798</td>\n",
       "      <td>0.076980</td>\n",
       "      <td>0.289751</td>\n",
       "      <td>0.161221</td>\n",
       "    </tr>\n",
       "    <tr>\n",
       "      <th>wg2347</th>\n",
       "      <td>42.929698</td>\n",
       "      <td>1.808120</td>\n",
       "      <td>1.633404</td>\n",
       "      <td>42.871461</td>\n",
       "      <td>1.803672</td>\n",
       "      <td>1.186570</td>\n",
       "      <td>1.892559</td>\n",
       "      <td>1.539342</td>\n",
       "    </tr>\n",
       "    <tr>\n",
       "      <th>yp2555</th>\n",
       "      <td>20.807440</td>\n",
       "      <td>20.896091</td>\n",
       "      <td>20.318003</td>\n",
       "      <td>20.110052</td>\n",
       "      <td>2.227935</td>\n",
       "      <td>2.427108</td>\n",
       "      <td>3.818015</td>\n",
       "      <td>3.860731</td>\n",
       "    </tr>\n",
       "    <tr>\n",
       "      <th>yw3379</th>\n",
       "      <td>0.006952</td>\n",
       "      <td>5.510747</td>\n",
       "      <td>90.417411</td>\n",
       "      <td>5.222108</td>\n",
       "      <td>0.119865</td>\n",
       "      <td>0.337615</td>\n",
       "      <td>0.942910</td>\n",
       "      <td>0.323203</td>\n",
       "    </tr>\n",
       "    <tr>\n",
       "      <th>zp2215</th>\n",
       "      <td>10.518791</td>\n",
       "      <td>10.703019</td>\n",
       "      <td>10.363630</td>\n",
       "      <td>30.971782</td>\n",
       "      <td>20.962447</td>\n",
       "      <td>5.251782</td>\n",
       "      <td>5.497249</td>\n",
       "      <td>0.300878</td>\n",
       "    </tr>\n",
       "    <tr>\n",
       "      <th>lh2991</th>\n",
       "      <td>20.284840</td>\n",
       "      <td>20.036887</td>\n",
       "      <td>20.609564</td>\n",
       "      <td>20.502679</td>\n",
       "      <td>5.051479</td>\n",
       "      <td>5.278646</td>\n",
       "      <td>5.908266</td>\n",
       "      <td>5.239562</td>\n",
       "    </tr>\n",
       "    <tr>\n",
       "      <th>sc4811</th>\n",
       "      <td>100.144895</td>\n",
       "      <td>0.489453</td>\n",
       "      <td>0.985650</td>\n",
       "      <td>0.242055</td>\n",
       "      <td>0.672136</td>\n",
       "      <td>0.761620</td>\n",
       "      <td>0.237638</td>\n",
       "      <td>0.728216</td>\n",
       "    </tr>\n",
       "    <tr>\n",
       "      <th>yd2547</th>\n",
       "      <td>30.367783</td>\n",
       "      <td>0.632306</td>\n",
       "      <td>0.633530</td>\n",
       "      <td>5.535775</td>\n",
       "      <td>20.090290</td>\n",
       "      <td>25.835302</td>\n",
       "      <td>20.320780</td>\n",
       "      <td>0.186519</td>\n",
       "    </tr>\n",
       "    <tr>\n",
       "      <th>mds225</th>\n",
       "      <td>35.040775</td>\n",
       "      <td>35.590893</td>\n",
       "      <td>5.677564</td>\n",
       "      <td>10.016588</td>\n",
       "      <td>5.512093</td>\n",
       "      <td>5.226496</td>\n",
       "      <td>0.645173</td>\n",
       "      <td>0.174366</td>\n",
       "    </tr>\n",
       "    <tr>\n",
       "      <th>sc4619</th>\n",
       "      <td>30.690938</td>\n",
       "      <td>5.386735</td>\n",
       "      <td>25.936730</td>\n",
       "      <td>30.137521</td>\n",
       "      <td>10.341066</td>\n",
       "      <td>0.113474</td>\n",
       "      <td>0.924694</td>\n",
       "      <td>0.877339</td>\n",
       "    </tr>\n",
       "    <tr>\n",
       "      <th>sg3775</th>\n",
       "      <td>0.257942</td>\n",
       "      <td>0.659984</td>\n",
       "      <td>40.817222</td>\n",
       "      <td>25.555201</td>\n",
       "      <td>15.529651</td>\n",
       "      <td>5.241852</td>\n",
       "      <td>5.093103</td>\n",
       "      <td>10.897216</td>\n",
       "    </tr>\n",
       "    <tr>\n",
       "      <th>rs4011</th>\n",
       "      <td>20.900418</td>\n",
       "      <td>10.633101</td>\n",
       "      <td>10.339030</td>\n",
       "      <td>20.349210</td>\n",
       "      <td>10.725956</td>\n",
       "      <td>10.897110</td>\n",
       "      <td>10.887086</td>\n",
       "      <td>10.779876</td>\n",
       "    </tr>\n",
       "    <tr>\n",
       "      <th>vml213</th>\n",
       "      <td>40.642032</td>\n",
       "      <td>20.084140</td>\n",
       "      <td>30.161629</td>\n",
       "      <td>0.898554</td>\n",
       "      <td>10.606429</td>\n",
       "      <td>0.009197</td>\n",
       "      <td>0.101472</td>\n",
       "      <td>0.663502</td>\n",
       "    </tr>\n",
       "  </tbody>\n",
       "</table>\n",
       "</div>"
      ],
      "text/plain": [
       "                c1         c2         c3          c4         c5         c6  \\\n",
       "UNI                                                                          \n",
       "wr2325    5.374540   5.950714  25.731994   10.598658  10.156019   5.155995   \n",
       "sj2993   30.601115  15.708073  20.020584   25.969910   3.832443   1.212339   \n",
       "sa3763   40.304242   5.524756  10.431945   20.291229   5.611853   5.139494   \n",
       "yf2507   30.456070   5.785176   5.199674   50.514234   5.592415   5.046450   \n",
       "js5553   40.065052  15.948886  25.965632   10.808397   5.304614   5.097672   \n",
       "sc4597   25.122038  25.495177  40.034389    0.909320   5.258780   5.662522   \n",
       "pa2561   80.546710   0.184854   0.969585   10.775133  10.939499   0.894827   \n",
       "cf2799   40.088493   0.195983  35.045227   15.325330  10.388677   0.271349   \n",
       "sc4617   93.280935   1.542696   1.140924    1.802197   1.074551   1.986887   \n",
       "ma3973   40.005522  10.815461  10.706857    0.729007  30.771270  10.074045   \n",
       "qz2391   25.863103  20.623298  15.330898   30.063558   5.310982   5.325183   \n",
       "tnw211   20.887213  66.472215  10.119594    1.713245   1.760785   1.561277   \n",
       "xm2235   10.522733   0.427541  40.025419   30.107891   5.031429  10.636410   \n",
       "da2899    0.907566   0.249292   0.410383  100.755551   0.228798   0.076980   \n",
       "wg2347   42.929698   1.808120   1.633404   42.871461   1.803672   1.186570   \n",
       "yp2555   20.807440  20.896091  20.318003   20.110052   2.227935   2.427108   \n",
       "yw3379    0.006952   5.510747  90.417411    5.222108   0.119865   0.337615   \n",
       "zp2215   10.518791  10.703019  10.363630   30.971782  20.962447   5.251782   \n",
       "lh2991   20.284840  20.036887  20.609564   20.502679   5.051479   5.278646   \n",
       "sc4811  100.144895   0.489453   0.985650    0.242055   0.672136   0.761620   \n",
       "yd2547   30.367783   0.632306   0.633530    5.535775  20.090290  25.835302   \n",
       "mds225   35.040775  35.590893   5.677564   10.016588   5.512093   5.226496   \n",
       "sc4619   30.690938   5.386735  25.936730   30.137521  10.341066   0.113474   \n",
       "sg3775    0.257942   0.659984  40.817222   25.555201  15.529651   5.241852   \n",
       "rs4011   20.900418  10.633101  10.339030   20.349210  10.725956  10.897110   \n",
       "vml213   40.642032  20.084140  30.161629    0.898554  10.606429   0.009197   \n",
       "\n",
       "               c7         c8  \n",
       "UNI                           \n",
       "wr2325   5.058084  35.866176  \n",
       "sj2993   3.181825   3.183405  \n",
       "sa3763  10.292145   5.366362  \n",
       "yf2507   0.607545   0.170524  \n",
       "js5553   0.684233   0.440152  \n",
       "sc4597   0.311711   0.520068  \n",
       "pa2561   0.597900   0.921874  \n",
       "cf2799   0.828738   0.356753  \n",
       "sc4617   1.772245   1.198716  \n",
       "ma3973   0.358466   0.115869  \n",
       "qz2391   0.729606   0.637557  \n",
       "tnw211   1.770967   0.493796  \n",
       "xm2235  10.314356   0.508571  \n",
       "da2899   0.289751   0.161221  \n",
       "wg2347   1.892559   1.539342  \n",
       "yp2555   3.818015   3.860731  \n",
       "yw3379   0.942910   0.323203  \n",
       "zp2215   5.497249   0.300878  \n",
       "lh2991   5.908266   5.239562  \n",
       "sc4811   0.237638   0.728216  \n",
       "yd2547  20.320780   0.186519  \n",
       "mds225   0.645173   0.174366  \n",
       "sc4619   0.924694   0.877339  \n",
       "sg3775   5.093103  10.897216  \n",
       "rs4011  10.887086  10.779876  \n",
       "vml213   0.101472   0.663502  "
      ]
     },
     "execution_count": 25,
     "metadata": {},
     "output_type": "execute_result"
    }
   ],
   "source": [
    "bid = Assign(data).modified_bid(df_group2)\n",
    "bid"
   ]
  },
  {
   "cell_type": "code",
   "execution_count": 33,
   "metadata": {},
   "outputs": [
    {
     "data": {
      "text/plain": [
       "{'c1': ['sc4811',\n",
       "  'sc4617',\n",
       "  'pa2561',\n",
       "  'wg2347',\n",
       "  'vml213',\n",
       "  'sa3763',\n",
       "  'cf2799',\n",
       "  'js5553',\n",
       "  'ma3973',\n",
       "  'mds225',\n",
       "  'sc4619',\n",
       "  'sj2993',\n",
       "  'yf2507',\n",
       "  'yd2547',\n",
       "  'qz2391',\n",
       "  'sc4597',\n",
       "  'rs4011',\n",
       "  'tnw211',\n",
       "  'yp2555',\n",
       "  'lh2991',\n",
       "  'xm2235',\n",
       "  'zp2215',\n",
       "  'wr2325',\n",
       "  'da2899',\n",
       "  'sg3775',\n",
       "  'yw3379'],\n",
       " 'c2': ['tnw211',\n",
       "  'mds225',\n",
       "  'sc4597',\n",
       "  'yp2555',\n",
       "  'qz2391',\n",
       "  'vml213',\n",
       "  'lh2991',\n",
       "  'js5553',\n",
       "  'sj2993',\n",
       "  'ma3973',\n",
       "  'zp2215',\n",
       "  'rs4011',\n",
       "  'wr2325',\n",
       "  'yf2507',\n",
       "  'sa3763',\n",
       "  'yw3379',\n",
       "  'sc4619',\n",
       "  'wg2347',\n",
       "  'sc4617',\n",
       "  'sg3775',\n",
       "  'yd2547',\n",
       "  'sc4811',\n",
       "  'xm2235',\n",
       "  'da2899',\n",
       "  'cf2799',\n",
       "  'pa2561'],\n",
       " 'c3': ['yw3379',\n",
       "  'sg3775',\n",
       "  'sc4597',\n",
       "  'xm2235',\n",
       "  'cf2799',\n",
       "  'vml213',\n",
       "  'js5553',\n",
       "  'sc4619',\n",
       "  'wr2325',\n",
       "  'lh2991',\n",
       "  'yp2555',\n",
       "  'sj2993',\n",
       "  'qz2391',\n",
       "  'ma3973',\n",
       "  'sa3763',\n",
       "  'zp2215',\n",
       "  'rs4011',\n",
       "  'tnw211',\n",
       "  'mds225',\n",
       "  'yf2507',\n",
       "  'wg2347',\n",
       "  'sc4617',\n",
       "  'sc4811',\n",
       "  'pa2561',\n",
       "  'yd2547',\n",
       "  'da2899'],\n",
       " 'c4': ['da2899',\n",
       "  'yf2507',\n",
       "  'wg2347',\n",
       "  'zp2215',\n",
       "  'sc4619',\n",
       "  'xm2235',\n",
       "  'qz2391',\n",
       "  'sj2993',\n",
       "  'sg3775',\n",
       "  'lh2991',\n",
       "  'rs4011',\n",
       "  'sa3763',\n",
       "  'yp2555',\n",
       "  'cf2799',\n",
       "  'js5553',\n",
       "  'pa2561',\n",
       "  'wr2325',\n",
       "  'mds225',\n",
       "  'yd2547',\n",
       "  'yw3379',\n",
       "  'sc4617',\n",
       "  'tnw211',\n",
       "  'sc4597',\n",
       "  'vml213',\n",
       "  'ma3973',\n",
       "  'sc4811'],\n",
       " 'c5': ['ma3973',\n",
       "  'zp2215',\n",
       "  'yd2547',\n",
       "  'sg3775',\n",
       "  'pa2561',\n",
       "  'rs4011',\n",
       "  'vml213',\n",
       "  'cf2799',\n",
       "  'sc4619',\n",
       "  'wr2325',\n",
       "  'sa3763',\n",
       "  'yf2507',\n",
       "  'mds225',\n",
       "  'qz2391',\n",
       "  'js5553',\n",
       "  'sc4597',\n",
       "  'lh2991',\n",
       "  'xm2235',\n",
       "  'sj2993',\n",
       "  'yp2555',\n",
       "  'wg2347',\n",
       "  'tnw211',\n",
       "  'sc4617',\n",
       "  'sc4811',\n",
       "  'da2899',\n",
       "  'yw3379'],\n",
       " 'c6': ['yd2547',\n",
       "  'rs4011',\n",
       "  'xm2235',\n",
       "  'ma3973',\n",
       "  'sc4597',\n",
       "  'qz2391',\n",
       "  'lh2991',\n",
       "  'zp2215',\n",
       "  'sg3775',\n",
       "  'mds225',\n",
       "  'wr2325',\n",
       "  'sa3763',\n",
       "  'js5553',\n",
       "  'yf2507',\n",
       "  'yp2555',\n",
       "  'sc4617',\n",
       "  'tnw211',\n",
       "  'sj2993',\n",
       "  'wg2347',\n",
       "  'pa2561',\n",
       "  'sc4811',\n",
       "  'yw3379',\n",
       "  'cf2799',\n",
       "  'sc4619',\n",
       "  'da2899',\n",
       "  'vml213'],\n",
       " 'c7': ['yd2547',\n",
       "  'rs4011',\n",
       "  'xm2235',\n",
       "  'sa3763',\n",
       "  'lh2991',\n",
       "  'zp2215',\n",
       "  'sg3775',\n",
       "  'wr2325',\n",
       "  'yp2555',\n",
       "  'sj2993',\n",
       "  'wg2347',\n",
       "  'sc4617',\n",
       "  'tnw211',\n",
       "  'yw3379',\n",
       "  'sc4619',\n",
       "  'cf2799',\n",
       "  'qz2391',\n",
       "  'js5553',\n",
       "  'mds225',\n",
       "  'yf2507',\n",
       "  'pa2561',\n",
       "  'ma3973',\n",
       "  'sc4597',\n",
       "  'da2899',\n",
       "  'sc4811',\n",
       "  'vml213'],\n",
       " 'c8': ['wr2325',\n",
       "  'sg3775',\n",
       "  'rs4011',\n",
       "  'sa3763',\n",
       "  'lh2991',\n",
       "  'yp2555',\n",
       "  'sj2993',\n",
       "  'wg2347',\n",
       "  'sc4617',\n",
       "  'pa2561',\n",
       "  'sc4619',\n",
       "  'sc4811',\n",
       "  'vml213',\n",
       "  'qz2391',\n",
       "  'sc4597',\n",
       "  'xm2235',\n",
       "  'tnw211',\n",
       "  'js5553',\n",
       "  'cf2799',\n",
       "  'yw3379',\n",
       "  'zp2215',\n",
       "  'yd2547',\n",
       "  'mds225',\n",
       "  'yf2507',\n",
       "  'da2899',\n",
       "  'ma3973']}"
      ]
     },
     "execution_count": 33,
     "metadata": {},
     "output_type": "execute_result"
    }
   ],
   "source": [
    "coursePref = {c: bid.sort_values(by=[c], ascending=False)[c].index.values.tolist()\n",
    "                      for c in course}\n",
    "coursePref"
   ]
  },
  {
   "cell_type": "code",
   "execution_count": 34,
   "metadata": {},
   "outputs": [
    {
     "data": {
      "text/plain": [
       "{'c1': 14, 'c2': 5, 'c3': 25, 'c4': 10, 'c5': 22, 'c6': 21, 'c7': 23, 'c8': 19}"
      ]
     },
     "execution_count": 34,
     "metadata": {},
     "output_type": "execute_result"
    }
   ],
   "source": [
    "lastStudentRank = {c: max([coursePref[c].index(a) \n",
    "                                   for a in resultByCourse[c]])\n",
    "                           for c in course}\n",
    "lastStudentRank"
   ]
  },
  {
   "cell_type": "code",
   "execution_count": 35,
   "metadata": {},
   "outputs": [
    {
     "name": "stdout",
     "output_type": "stream",
     "text": [
      "['yw3379', 'sg3775', 'sc4597', 'xm2235', 'cf2799', 'vml213', 'js5553', 'sc4619', 'wr2325', 'lh2991', 'yp2555', 'sj2993', 'qz2391', 'ma3973', 'sa3763', 'zp2215', 'rs4011', 'tnw211', 'mds225', 'yf2507', 'wg2347', 'sc4617', 'sc4811', 'pa2561', 'yd2547', 'da2899']\n",
      "26\n",
      "sc4597\n",
      "yp2555\n",
      "da2899\n",
      "xm2235\n",
      "sg3775\n",
      "lh2991\n",
      "rs4011\n",
      "wr2325\n",
      "yw3379\n",
      "cf2799\n",
      "16\n"
     ]
    },
    {
     "data": {
      "text/plain": [
       "['vml213',\n",
       " 'js5553',\n",
       " 'sc4619',\n",
       " 'sj2993',\n",
       " 'qz2391',\n",
       " 'ma3973',\n",
       " 'sa3763',\n",
       " 'zp2215',\n",
       " 'tnw211',\n",
       " 'mds225',\n",
       " 'yf2507',\n",
       " 'wg2347',\n",
       " 'sc4617',\n",
       " 'sc4811',\n",
       " 'pa2561',\n",
       " 'yd2547']"
      ]
     },
     "execution_count": 35,
     "metadata": {},
     "output_type": "execute_result"
    }
   ],
   "source": [
    "c3 = coursePref['c3']\n",
    "print(c3)\n",
    "print(len(c3))\n",
    "for a in result.keys():\n",
    "    if result[a][2] == 'c3':\n",
    "        print(a)\n",
    "        c3.remove(a)\n",
    "        \n",
    "print(len(c3))\n",
    "c3"
   ]
  },
  {
   "cell_type": "code",
   "execution_count": 5,
   "metadata": {},
   "outputs": [
    {
     "data": {
      "text/plain": [
       "[-1]"
      ]
     },
     "execution_count": 5,
     "metadata": {},
     "output_type": "execute_result"
    }
   ],
   "source": [
    "[]+[-1]"
   ]
  },
  {
   "cell_type": "code",
   "execution_count": null,
   "metadata": {},
   "outputs": [],
   "source": []
  },
  {
   "cell_type": "code",
   "execution_count": 5,
   "metadata": {
    "colab": {
     "base_uri": "https://localhost:8080/",
     "height": 35
    },
    "colab_type": "code",
    "executionInfo": {
     "elapsed": 897,
     "status": "ok",
     "timestamp": 1597985282196,
     "user": {
      "displayName": "Joanne Tho",
      "photoUrl": "https://lh3.googleusercontent.com/a-/AOh14Gi6BXt-TGxdn3YsvO7Q_36euxQ6p2AjuRghvfAE=s64",
      "userId": "02383400307021747479"
     },
     "user_tz": 240
    },
    "id": "5jQYIvbDMmD6",
    "outputId": "5e5dddd9-fbe8-48ac-a700-f3db9d86aace"
   },
   "outputs": [
    {
     "data": {
      "text/plain": [
       "{'c1': 6, 'c2': 4, 'c3': 8, 'c4': 4, 'c5': 14, 'c6': 14, 'c7': 14, 'c8': 14}"
      ]
     },
     "execution_count": 5,
     "metadata": {
      "tags": []
     },
     "output_type": "execute_result"
    }
   ],
   "source": [
    "# Check starting capacity\n",
    "test2on1.start_cap"
   ]
  },
  {
   "cell_type": "code",
   "execution_count": 6,
   "metadata": {
    "colab": {
     "base_uri": "https://localhost:8080/",
     "height": 35
    },
    "colab_type": "code",
    "executionInfo": {
     "elapsed": 498,
     "status": "ok",
     "timestamp": 1597985282481,
     "user": {
      "displayName": "Joanne Tho",
      "photoUrl": "https://lh3.googleusercontent.com/a-/AOh14Gi6BXt-TGxdn3YsvO7Q_36euxQ6p2AjuRghvfAE=s64",
      "userId": "02383400307021747479"
     },
     "user_tz": 240
    },
    "id": "_YMs-2f5Ml2E",
    "outputId": "079abb12-ccdb-46f4-a310-56539047ab96"
   },
   "outputs": [
    {
     "data": {
      "text/plain": [
       "{'c1': 0, 'c2': 0, 'c3': 0, 'c4': 0, 'c5': 9, 'c6': 6, 'c7': 12, 'c8': 9}"
      ]
     },
     "execution_count": 6,
     "metadata": {
      "tags": []
     },
     "output_type": "execute_result"
    }
   ],
   "source": [
    "# Check ending capacity\n",
    "test2on1.end_cap"
   ]
  },
  {
   "cell_type": "code",
   "execution_count": 28,
   "metadata": {
    "colab": {
     "base_uri": "https://localhost:8080/",
     "height": 35
    },
    "colab_type": "code",
    "executionInfo": {
     "elapsed": 867,
     "status": "ok",
     "timestamp": 1597986191212,
     "user": {
      "displayName": "Joanne Tho",
      "photoUrl": "https://lh3.googleusercontent.com/a-/AOh14Gi6BXt-TGxdn3YsvO7Q_36euxQ6p2AjuRghvfAE=s64",
      "userId": "02383400307021747479"
     },
     "user_tz": 240
    },
    "id": "NzXjwqNsZfc3",
    "outputId": "670835ce-e9a6-4771-dc53-31c5cd597aa8"
   },
   "outputs": [
    {
     "data": {
      "text/plain": [
       "1.7381"
      ]
     },
     "execution_count": 28,
     "metadata": {
      "tags": []
     },
     "output_type": "execute_result"
    }
   ],
   "source": [
    "# Check test average rank\n",
    "test2on1.testAvgRank"
   ]
  },
  {
   "cell_type": "markdown",
   "metadata": {
    "colab_type": "text",
    "id": "5ZFrn1R8Xey6"
   },
   "source": [
    "#### Try different starting capacities\n",
    "\n"
   ]
  },
  {
   "cell_type": "code",
   "execution_count": 32,
   "metadata": {
    "colab": {
     "base_uri": "https://localhost:8080/",
     "height": 390
    },
    "colab_type": "code",
    "executionInfo": {
     "elapsed": 4623,
     "status": "ok",
     "timestamp": 1597986558727,
     "user": {
      "displayName": "Joanne Tho",
      "photoUrl": "https://lh3.googleusercontent.com/a-/AOh14Gi6BXt-TGxdn3YsvO7Q_36euxQ6p2AjuRghvfAE=s64",
      "userId": "02383400307021747479"
     },
     "user_tz": 240
    },
    "id": "8u6HAw0iXffd",
    "outputId": "b503dfe3-c25e-4a64-abd3-e2c98dd41c53"
   },
   "outputs": [
    {
     "name": "stdout",
     "output_type": "stream",
     "text": [
      "Assigning according to test 1 with group 1 ...\n",
      "\tPart I (Semi-core): Number of GS rounds: 1\n",
      "\tPart II (General) : Number of GS rounds: 2\n",
      "Assigning according to test 2 with group 1 ...\n",
      "\tPart I (Semi-core): Number of GS rounds: 2\n",
      "\tPart II (General) : Number of GS rounds: 3\n",
      "Assigning according to test 4 with group 1 ...\n",
      "\tPart I (Semi-core): Number of GS rounds: 2\n",
      "\tPart II (General) : Number of GS rounds: 3\n",
      "Assigning according to test 1 with group 2 ...\n",
      "\tPart I (Semi-core): Number of GS rounds: 2\n",
      "\tPart II (General) : Number of GS rounds: 3\n",
      "Assigning according to test 2 with group 2 ...\n",
      "\tPart I (Semi-core): Number of GS rounds: 2\n",
      "\tPart II (General) : Number of GS rounds: 5\n",
      "Assigning according to test 3 with group 2 ...\n",
      "\tPart I (Semi-core): Number of GS rounds: 2\n",
      "\tPart II (General) : Number of GS rounds: 7\n",
      "Assigning according to test 4 with group 2 ...\n",
      "\tPart I (Semi-core): Number of GS rounds: 2\n",
      "\tPart II (General) : Number of GS rounds: 5\n"
     ]
    }
   ],
   "source": [
    "# Initialize with data, cap_same=True\n",
    "asgn_ = Assign(data, cap_same=True, cap_buffer=0)\n",
    "\n",
    "# Perform different test on either group\n",
    "test1on1_ = asgn_.test(test=1, group=1)\n",
    "test2on1_ = asgn_.test(test=2, group=1)\n",
    "test4on1_ = asgn_.test(test=4, group=1)\n",
    "\n",
    "test1on2_ = asgn_.test(test=1, group=2)\n",
    "test2on2_ = asgn_.test(test=2, group=2)\n",
    "test3on2_ = asgn_.test(test=3, group=2)\n",
    "test4on2_ = asgn_.test(test=4, group=2)"
   ]
  },
  {
   "cell_type": "code",
   "execution_count": 30,
   "metadata": {
    "colab": {
     "base_uri": "https://localhost:8080/",
     "height": 70
    },
    "colab_type": "code",
    "executionInfo": {
     "elapsed": 523,
     "status": "ok",
     "timestamp": 1597986258586,
     "user": {
      "displayName": "Joanne Tho",
      "photoUrl": "https://lh3.googleusercontent.com/a-/AOh14Gi6BXt-TGxdn3YsvO7Q_36euxQ6p2AjuRghvfAE=s64",
      "userId": "02383400307021747479"
     },
     "user_tz": 240
    },
    "id": "JnT5DvzdXpAN",
    "outputId": "504fcc40-3379-4d8e-85fd-f769a863a7f3"
   },
   "outputs": [
    {
     "name": "stdout",
     "output_type": "stream",
     "text": [
      "start_cap: {'c1': 8, 'c2': 8, 'c3': 8, 'c4': 8, 'c5': 8, 'c6': 8, 'c7': 8, 'c8': 8}\n",
      "end_cap: {'c1': 0, 'c2': 0, 'c3': 0, 'c4': 6, 'c5': 3, 'c6': 1, 'c7': 6, 'c8': 6}\n",
      "testAvgRank: 1.5001\n"
     ]
    }
   ],
   "source": [
    "print(\"start_cap:\",test2on1_.start_cap)\n",
    "print(\"end_cap:\",test2on1_.end_cap)\n",
    "print(\"testAvgRank:\", test2on1_.testAvgRank)"
   ]
  },
  {
   "cell_type": "markdown",
   "metadata": {
    "colab_type": "text",
    "id": "R_niDwBCYnH7"
   },
   "source": [
    "**Observations from trying different starting capacities**\n",
    "\n",
    "* In general:\n",
    "  * Less GS rounds needed in Part II of the algorithm for `cap_same=True` than `cap_same=False` for 5 out of the 7 tests\n",
    "\n",
    "* Using test 2 on group 1:\n",
    "  * when `cap_same=False`, the capacities for `c2` and `c4` are much lower, hence `c4` gets filled up. when `cap_same=True` however, `c4` does not get filled up\n",
    "  * test average rank is lower for `cap_same=True` (1.5001) than for `cap_same=False` (1.7381), even when `cap_buffer=0`\n",
    "    * *I don't think `cap_buffer>0` makes a difference, though we can check in detail*\n",
    " "
   ]
  },
  {
   "cell_type": "markdown",
   "metadata": {
    "colab_type": "text",
    "id": "vXU4iw05H138"
   },
   "source": [
    "### Rank review"
   ]
  },
  {
   "cell_type": "markdown",
   "metadata": {
    "colab_type": "text",
    "id": "8ApQyc1BNtIV"
   },
   "source": [
    "It maybe not appropriate to assume unit difference between courses in the preference list."
   ]
  },
  {
   "cell_type": "code",
   "execution_count": 7,
   "metadata": {
    "colab": {
     "base_uri": "https://localhost:8080/",
     "height": 230
    },
    "colab_type": "code",
    "executionInfo": {
     "elapsed": 13414,
     "status": "ok",
     "timestamp": 1597985298374,
     "user": {
      "displayName": "Joanne Tho",
      "photoUrl": "https://lh3.googleusercontent.com/a-/AOh14Gi6BXt-TGxdn3YsvO7Q_36euxQ6p2AjuRghvfAE=s64",
      "userId": "02383400307021747479"
     },
     "user_tz": 240
    },
    "id": "ss6kptyQFTYz",
    "outputId": "b163fe37-9dd1-4e7d-9c90-222313f1c355"
   },
   "outputs": [
    {
     "name": "stdout",
     "output_type": "stream",
     "text": [
      "For df_group1, average ranks:\n",
      "  - Test 1: 2.4286\n",
      "  - Test 2: 1.7381\n",
      "  - Test 4: 1.9524\n",
      "  - Test 4 (averaged seeds): 1.9614\n",
      "\n",
      "For df_group2, average ranks:\n",
      "  - Test 1: 2.7693\n",
      "  - Test 2: 2.1026\n",
      "  - Test 3: 2.2308\n",
      "  - Test 4: 2.3077\n",
      "  - Test 4 (averaged seeds): 2.3365\n"
     ]
    }
   ],
   "source": [
    "# Compute average ranking of the assigned courses for each student in the test\n",
    "\n",
    "print('For df_group1, average ranks:')\n",
    "print('  - Test 1:', test1on1.testAvgRank)\n",
    "print('  - Test 2:', test2on1.testAvgRank)\n",
    "print('  - Test 4:', test4on1.testAvgRank)\n",
    "# average over 8 different seeds for test 4\n",
    "test4avgRank = 0\n",
    "for s in range(42,50):\n",
    "    asgn4 = Assign(data, seed=s)\n",
    "    test4 = asgn4.test(test=4, group=1,verbose=False)\n",
    "    test4avgRank += test4.testAvgRank/8\n",
    "print('  - Test 4 (averaged seeds):', round(test4avgRank,4))\n",
    "\n",
    "\n",
    "print()\n",
    "print('For df_group2, average ranks:')\n",
    "print('  - Test 1:', test1on2.testAvgRank)\n",
    "print('  - Test 2:', test2on2.testAvgRank)\n",
    "print('  - Test 3:', test3on2.testAvgRank)\n",
    "print('  - Test 4:', test4on2.testAvgRank)\n",
    "# average over 8 different seeds for test 4\n",
    "test4avgRank = 0\n",
    "for s in range(42,50):\n",
    "    asgn4 = Assign(data, seed=s)\n",
    "    test4 = asgn4.test(test=4, group=2, verbose=False)\n",
    "    test4avgRank += test4.testAvgRank/8\n",
    "print('  - Test 4 (averaged seeds):', round(test4avgRank,4))"
   ]
  },
  {
   "cell_type": "markdown",
   "metadata": {
    "colab_type": "text",
    "id": "BhL71ognO3dB"
   },
   "source": [
    "### Analysis by Group across tests\n",
    "\n",
    "Comparing:\n",
    "* Group 1: Test 1 (main) vs Test 2 (alternative)\n",
    "* Group 1: Test 1 (main) vs Test 4 (baseline)\n",
    "* Group 2: Test 1 (alternative) vs Test 2 (main)\n",
    "* Group 2: Test 2 (main) vs Test 3 (main)\n",
    "* Group 2: Test 2 (main) vs Test 4 (baseline)\n",
    "* Group 2: Test 3 (main) vs Test 4 (baseline)\n",
    " \n",
    " *Tests can be combined; just to highlight what the comparisons are*"
   ]
  },
  {
   "cell_type": "markdown",
   "metadata": {
    "colab_type": "text",
    "id": "cB8ZWl3mO8wW"
   },
   "source": [
    "**Group 1**: Comparing Test 1 (bids only) to Test 2 (bids + preferences)"
   ]
  },
  {
   "cell_type": "code",
   "execution_count": 8,
   "metadata": {
    "colab": {
     "base_uri": "https://localhost:8080/",
     "height": 76
    },
    "colab_type": "code",
    "executionInfo": {
     "elapsed": 6719,
     "status": "ok",
     "timestamp": 1597985298381,
     "user": {
      "displayName": "Joanne Tho",
      "photoUrl": "https://lh3.googleusercontent.com/a-/AOh14Gi6BXt-TGxdn3YsvO7Q_36euxQ6p2AjuRghvfAE=s64",
      "userId": "02383400307021747479"
     },
     "user_tz": 240
    },
    "id": "g1iVOtTOPnDT",
    "outputId": "3e0c7eaf-2d08-46df-8c0f-ebcebacd7df1"
   },
   "outputs": [
    {
     "data": {
      "text/html": [
       "<div>\n",
       "<style scoped>\n",
       "    .dataframe tbody tr th:only-of-type {\n",
       "        vertical-align: middle;\n",
       "    }\n",
       "\n",
       "    .dataframe tbody tr th {\n",
       "        vertical-align: top;\n",
       "    }\n",
       "\n",
       "    .dataframe thead th {\n",
       "        text-align: right;\n",
       "    }\n",
       "</style>\n",
       "<table border=\"1\" class=\"dataframe\">\n",
       "  <thead>\n",
       "    <tr style=\"text-align: right;\">\n",
       "      <th></th>\n",
       "      <th>test1on1</th>\n",
       "      <th>test2on1</th>\n",
       "      <th>improvement_1to2</th>\n",
       "    </tr>\n",
       "  </thead>\n",
       "  <tbody>\n",
       "    <tr>\n",
       "      <th>0</th>\n",
       "      <td>2.4286</td>\n",
       "      <td>1.7381</td>\n",
       "      <td>0.6905</td>\n",
       "    </tr>\n",
       "  </tbody>\n",
       "</table>\n",
       "</div>"
      ],
      "text/plain": [
       "   test1on1  test2on1  improvement_1to2\n",
       "0    2.4286    1.7381            0.6905"
      ]
     },
     "execution_count": 8,
     "metadata": {
      "tags": []
     },
     "output_type": "execute_result"
    }
   ],
   "source": [
    "# Looking at overall average test ranks\n",
    "pd.DataFrame((test1on1.testAvgRank, test2on1.testAvgRank, test1on1.testAvgRank - test2on1.testAvgRank),\n",
    "              index=['test1on1','test2on1','improvement_1to2']).transpose()"
   ]
  },
  {
   "cell_type": "code",
   "execution_count": 16,
   "metadata": {
    "colab": {
     "base_uri": "https://localhost:8080/",
     "height": 476
    },
    "colab_type": "code",
    "executionInfo": {
     "elapsed": 545,
     "status": "ok",
     "timestamp": 1597985538384,
     "user": {
      "displayName": "Joanne Tho",
      "photoUrl": "https://lh3.googleusercontent.com/a-/AOh14Gi6BXt-TGxdn3YsvO7Q_36euxQ6p2AjuRghvfAE=s64",
      "userId": "02383400307021747479"
     },
     "user_tz": 240
    },
    "id": "r_fF6FLrO7mi",
    "outputId": "f8bd7fdd-a654-4e2c-c696-5d827915784b"
   },
   "outputs": [
    {
     "name": "stdout",
     "output_type": "stream",
     "text": [
      "9 out of 14 students have improved average rank (64.286%)\n"
     ]
    },
    {
     "data": {
      "text/html": [
       "<div>\n",
       "<style scoped>\n",
       "    .dataframe tbody tr th:only-of-type {\n",
       "        vertical-align: middle;\n",
       "    }\n",
       "\n",
       "    .dataframe tbody tr th {\n",
       "        vertical-align: top;\n",
       "    }\n",
       "\n",
       "    .dataframe thead th {\n",
       "        text-align: right;\n",
       "    }\n",
       "</style>\n",
       "<table border=\"1\" class=\"dataframe\">\n",
       "  <thead>\n",
       "    <tr style=\"text-align: right;\">\n",
       "      <th></th>\n",
       "      <th>test1on1</th>\n",
       "      <th>test2on1</th>\n",
       "      <th>improvement_1to2</th>\n",
       "    </tr>\n",
       "  </thead>\n",
       "  <tbody>\n",
       "    <tr>\n",
       "      <th>zs2440</th>\n",
       "      <td>3.000</td>\n",
       "      <td>1.667</td>\n",
       "      <td>1.333</td>\n",
       "    </tr>\n",
       "    <tr>\n",
       "      <th>xt2230</th>\n",
       "      <td>3.667</td>\n",
       "      <td>1.667</td>\n",
       "      <td>2.000</td>\n",
       "    </tr>\n",
       "    <tr>\n",
       "      <th>atc214</th>\n",
       "      <td>1.333</td>\n",
       "      <td>1.333</td>\n",
       "      <td>0.000</td>\n",
       "    </tr>\n",
       "    <tr>\n",
       "      <th>ih2350</th>\n",
       "      <td>1.000</td>\n",
       "      <td>1.000</td>\n",
       "      <td>0.000</td>\n",
       "    </tr>\n",
       "    <tr>\n",
       "      <th>rrb215</th>\n",
       "      <td>2.333</td>\n",
       "      <td>1.667</td>\n",
       "      <td>0.666</td>\n",
       "    </tr>\n",
       "    <tr>\n",
       "      <th>jy3026</th>\n",
       "      <td>2.667</td>\n",
       "      <td>2.000</td>\n",
       "      <td>0.667</td>\n",
       "    </tr>\n",
       "    <tr>\n",
       "      <th>zl2856</th>\n",
       "      <td>3.667</td>\n",
       "      <td>3.333</td>\n",
       "      <td>0.334</td>\n",
       "    </tr>\n",
       "    <tr>\n",
       "      <th>tg2718</th>\n",
       "      <td>2.667</td>\n",
       "      <td>2.000</td>\n",
       "      <td>0.667</td>\n",
       "    </tr>\n",
       "    <tr>\n",
       "      <th>la2836</th>\n",
       "      <td>1.000</td>\n",
       "      <td>1.000</td>\n",
       "      <td>0.000</td>\n",
       "    </tr>\n",
       "    <tr>\n",
       "      <th>qt2131</th>\n",
       "      <td>1.667</td>\n",
       "      <td>1.667</td>\n",
       "      <td>0.000</td>\n",
       "    </tr>\n",
       "    <tr>\n",
       "      <th>sjl222</th>\n",
       "      <td>3.000</td>\n",
       "      <td>1.000</td>\n",
       "      <td>2.000</td>\n",
       "    </tr>\n",
       "    <tr>\n",
       "      <th>mz2776</th>\n",
       "      <td>2.333</td>\n",
       "      <td>2.000</td>\n",
       "      <td>0.333</td>\n",
       "    </tr>\n",
       "    <tr>\n",
       "      <th>wx2226</th>\n",
       "      <td>2.000</td>\n",
       "      <td>2.000</td>\n",
       "      <td>0.000</td>\n",
       "    </tr>\n",
       "    <tr>\n",
       "      <th>rg3266</th>\n",
       "      <td>3.667</td>\n",
       "      <td>2.000</td>\n",
       "      <td>1.667</td>\n",
       "    </tr>\n",
       "  </tbody>\n",
       "</table>\n",
       "</div>"
      ],
      "text/plain": [
       "        test1on1  test2on1  improvement_1to2\n",
       "zs2440     3.000     1.667             1.333\n",
       "xt2230     3.667     1.667             2.000\n",
       "atc214     1.333     1.333             0.000\n",
       "ih2350     1.000     1.000             0.000\n",
       "rrb215     2.333     1.667             0.666\n",
       "jy3026     2.667     2.000             0.667\n",
       "zl2856     3.667     3.333             0.334\n",
       "tg2718     2.667     2.000             0.667\n",
       "la2836     1.000     1.000             0.000\n",
       "qt2131     1.667     1.667             0.000\n",
       "sjl222     3.000     1.000             2.000\n",
       "mz2776     2.333     2.000             0.333\n",
       "wx2226     2.000     2.000             0.000\n",
       "rg3266     3.667     2.000             1.667"
      ]
     },
     "execution_count": 16,
     "metadata": {
      "tags": []
     },
     "output_type": "execute_result"
    }
   ],
   "source": [
    "# Looking at individual students\n",
    "studentAvgRank = pd.DataFrame((test1on1.studentAvgRank, test2on1.studentAvgRank),index=['test1on1','test2on1']).transpose()\n",
    "studentAvgRank['improvement_1to2'] = studentAvgRank.test1on1 - studentAvgRank.test2on1\n",
    "improved = len(studentAvgRank[studentAvgRank.improvement_1to2 > 0])\n",
    "print(f\"{improved} out of {len(studentAvgRank)} students have improved average rank ({round((improved/len(studentAvgRank))*100,3)}%)\")\n",
    "studentAvgRank"
   ]
  },
  {
   "cell_type": "markdown",
   "metadata": {
    "colab_type": "text",
    "id": "OIvCOjPs5K56"
   },
   "source": [
    "# Codes in Detail"
   ]
  },
  {
   "cell_type": "markdown",
   "metadata": {
    "colab_type": "text",
    "id": "6ynsvn1F6d7T"
   },
   "source": [
    "## Pre Processing\n",
    "Goal: To separate the raw data file into 2 csv files, one for each experimental group a) and the other for experimental groups b) and c)."
   ]
  },
  {
   "cell_type": "markdown",
   "metadata": {
    "colab_type": "text",
    "id": "9NIcoHiKeqoG"
   },
   "source": [
    "**Course Names** \n",
    "\n",
    "Let the following courses be denoted by: <br>\n",
    "`c1`: Business Analytics <br>\n",
    "`c2`: Cloud Computing <br>\n",
    "`c3`: Machine Learning <br>\n",
    "`c4`: Data Analytics <br>\n",
    "`c5`: Optimization <br>\n",
    "`c6`: Stochastic <br>\n",
    "`c7`: Simulation <br>\n",
    "`c8`: Computational Discrete Optimization \n",
    "\n",
    "where `c1`,`c3`,`c5`,`c6` are semi-core\n",
    "\n",
    "**Time Slots**\n",
    "\n",
    "Let the following time slots be denoted by: <br>\n",
    "`t1`: 9-11am (`c6`,`c7`)<br>\n",
    "`t2`: 12-2pm (`c1`,`c4`)<br>\n",
    "`t3`: 3-5pm (`c2`,`c8`)<br>\n",
    "`t4`: 6-8pm (`c3`,`c5`)\n",
    "\n",
    "**Course Capacities**\n",
    "\n",
    "Let the course capacities be denoted as:\n",
    "k (a dict)"
   ]
  },
  {
   "cell_type": "markdown",
   "metadata": {
    "colab_type": "text",
    "id": "OJ58XdTz5chS"
   },
   "source": [
    "### Separate Groups"
   ]
  },
  {
   "cell_type": "code",
   "execution_count": null,
   "metadata": {
    "colab": {},
    "colab_type": "code",
    "id": "sqlXtHmlhGs5"
   },
   "outputs": [],
   "source": [
    "# authentication\n",
    "from google.colab import auth\n",
    "auth.authenticate_user()\n",
    "\n",
    "import gspread\n",
    "from oauth2client.client import GoogleCredentials\n",
    "\n",
    "gc = gspread.authorize(GoogleCredentials.get_application_default())"
   ]
  },
  {
   "cell_type": "code",
   "execution_count": null,
   "metadata": {
    "colab": {},
    "colab_type": "code",
    "id": "zalJ3CmIgIro"
   },
   "outputs": [],
   "source": [
    "import numpy as np\n",
    "import pandas as pd\n",
    "import matplotlib.pyplot as plt"
   ]
  },
  {
   "cell_type": "code",
   "execution_count": null,
   "metadata": {
    "colab": {},
    "colab_type": "code",
    "id": "oGp-RDBQghEu"
   },
   "outputs": [],
   "source": [
    "# import StudentForm (Combined) data from Google Sheets\n",
    "wb = gc.open_by_url('https://docs.google.com/spreadsheets/d/1LKi4I4VMGEK2_XBi8zYewFSvqx75nb8HFX9Oo08a8qE/edit#gid=1255728861')\n",
    "data = wb.sheet1.get_all_values()"
   ]
  },
  {
   "cell_type": "code",
   "execution_count": null,
   "metadata": {
    "colab": {
     "base_uri": "https://localhost:8080/",
     "height": 34
    },
    "colab_type": "code",
    "executionInfo": {
     "elapsed": 598,
     "status": "ok",
     "timestamp": 1597160742096,
     "user": {
      "displayName": "Joanne Tho",
      "photoUrl": "https://lh3.googleusercontent.com/a-/AOh14Gi6BXt-TGxdn3YsvO7Q_36euxQ6p2AjuRghvfAE=s64",
      "userId": "02383400307021747479"
     },
     "user_tz": 240
    },
    "id": "d9u9Ety2jMD4",
    "outputId": "32ef92a1-3648-4c08-8816-7726cf640db8"
   },
   "outputs": [
    {
     "data": {
      "text/plain": [
       "(41, 40)"
      ]
     },
     "execution_count": 4,
     "metadata": {
      "tags": []
     },
     "output_type": "execute_result"
    }
   ],
   "source": [
    "df = pd.DataFrame(data)\n",
    "df.shape"
   ]
  },
  {
   "cell_type": "code",
   "execution_count": null,
   "metadata": {
    "colab": {},
    "colab_type": "code",
    "id": "wCuanFLUozmC"
   },
   "outputs": [],
   "source": [
    "df= df.replace(to_replace = {'Business Analytics':'c1', \n",
    "                         'Cloud Computing' : 'c2',\n",
    "                         'Machine Learning' : 'c3',\n",
    "                         'Data Analytics': 'c4',\n",
    "                         'Optimization': 'c5',\n",
    "                         'Stochastic': 'c6',\n",
    "                         'Simulation': 'c7',\n",
    "                         'Computational Discrete Optimization': 'c8'\n",
    "                         },\n",
    "           value = None)"
   ]
  },
  {
   "cell_type": "code",
   "execution_count": null,
   "metadata": {
    "colab": {
     "base_uri": "https://localhost:8080/",
     "height": 568
    },
    "colab_type": "code",
    "executionInfo": {
     "elapsed": 526,
     "status": "ok",
     "timestamp": 1597160765830,
     "user": {
      "displayName": "Joanne Tho",
      "photoUrl": "https://lh3.googleusercontent.com/a-/AOh14Gi6BXt-TGxdn3YsvO7Q_36euxQ6p2AjuRghvfAE=s64",
      "userId": "02383400307021747479"
     },
     "user_tz": 240
    },
    "id": "Tl_yeqMown92",
    "outputId": "8cd8706d-6089-43fc-9d96-458846175c4a"
   },
   "outputs": [
    {
     "data": {
      "text/html": [
       "<div>\n",
       "<style scoped>\n",
       "    .dataframe tbody tr th:only-of-type {\n",
       "        vertical-align: middle;\n",
       "    }\n",
       "\n",
       "    .dataframe tbody tr th {\n",
       "        vertical-align: top;\n",
       "    }\n",
       "\n",
       "    .dataframe thead th {\n",
       "        text-align: right;\n",
       "    }\n",
       "</style>\n",
       "<table border=\"1\" class=\"dataframe\">\n",
       "  <thead>\n",
       "    <tr style=\"text-align: right;\">\n",
       "      <th></th>\n",
       "      <th>0</th>\n",
       "      <th>1</th>\n",
       "      <th>2</th>\n",
       "      <th>3</th>\n",
       "      <th>4</th>\n",
       "      <th>5</th>\n",
       "      <th>6</th>\n",
       "      <th>7</th>\n",
       "      <th>8</th>\n",
       "      <th>9</th>\n",
       "      <th>10</th>\n",
       "      <th>11</th>\n",
       "      <th>12</th>\n",
       "      <th>13</th>\n",
       "      <th>14</th>\n",
       "      <th>15</th>\n",
       "      <th>16</th>\n",
       "      <th>17</th>\n",
       "      <th>18</th>\n",
       "      <th>19</th>\n",
       "      <th>20</th>\n",
       "      <th>21</th>\n",
       "      <th>22</th>\n",
       "      <th>23</th>\n",
       "      <th>24</th>\n",
       "      <th>25</th>\n",
       "      <th>26</th>\n",
       "      <th>27</th>\n",
       "      <th>28</th>\n",
       "      <th>29</th>\n",
       "      <th>30</th>\n",
       "      <th>31</th>\n",
       "      <th>32</th>\n",
       "      <th>33</th>\n",
       "      <th>34</th>\n",
       "      <th>35</th>\n",
       "      <th>36</th>\n",
       "      <th>37</th>\n",
       "      <th>38</th>\n",
       "      <th>39</th>\n",
       "    </tr>\n",
       "  </thead>\n",
       "  <tbody>\n",
       "    <tr>\n",
       "      <th>0</th>\n",
       "      <td>Timestamp</td>\n",
       "      <td>Email Address</td>\n",
       "      <td>Gender</td>\n",
       "      <td>Is the last digit of your UNI even or odd?</td>\n",
       "      <td>Business Analytics - place your bid between 0 ...</td>\n",
       "      <td>Cloud Computing - place your bid between 0 and...</td>\n",
       "      <td>Machine Learning - place your bid between 0 an...</td>\n",
       "      <td>Data Analytics - place your bid between 0 and ...</td>\n",
       "      <td>Optimization - place your bid between 0 and 10...</td>\n",
       "      <td>Stochastic - place your bid between 0 and 100 ...</td>\n",
       "      <td>Simulation - place your bid between 0 and 100 ...</td>\n",
       "      <td>Computational Discrete Optimization - place yo...</td>\n",
       "      <td>Rank the courses - please indicate strict orde...</td>\n",
       "      <td>Rank the courses - please indicate strict orde...</td>\n",
       "      <td>Rank the courses - please indicate strict orde...</td>\n",
       "      <td>Rank the courses - please indicate strict orde...</td>\n",
       "      <td>Rank the courses - please indicate strict orde...</td>\n",
       "      <td>Rank the courses - please indicate strict orde...</td>\n",
       "      <td>Rank the courses - please indicate strict orde...</td>\n",
       "      <td>Rank the courses - please indicate strict orde...</td>\n",
       "      <td>Rank the courses - please indicate strict orde...</td>\n",
       "      <td>Rank the courses - please indicate strict orde...</td>\n",
       "      <td>Rank the courses - please indicate strict orde...</td>\n",
       "      <td>Rank the courses - please indicate strict orde...</td>\n",
       "      <td>Rank the courses - please indicate strict orde...</td>\n",
       "      <td>Rank the courses - please indicate strict orde...</td>\n",
       "      <td>Rank the courses - please indicate strict orde...</td>\n",
       "      <td>Rank the courses - please indicate strict orde...</td>\n",
       "      <td>Business Analytics - place your bid between 0 ...</td>\n",
       "      <td>Cloud Computing - place your bid between 0 and...</td>\n",
       "      <td>Machine Learning - place your bid between 0 an...</td>\n",
       "      <td>Data Analytics - place your bid between 0 and ...</td>\n",
       "      <td>Optimization - place your bid between 0 and 10...</td>\n",
       "      <td>Stochastic - place your bid between 0 and 100 ...</td>\n",
       "      <td>Simulation - place your bid between 0 and 100 ...</td>\n",
       "      <td>Computational Discrete Optimization - place yo...</td>\n",
       "      <td>9-11 am - place your bid between 0 and 100 (re...</td>\n",
       "      <td>12-2 pm - place your bid between 0 and 100 (re...</td>\n",
       "      <td>3-5 pm - place your bid between 0 and 100 (rem...</td>\n",
       "      <td>6-8 pm - place your bid between 0 and 100 (rem...</td>\n",
       "    </tr>\n",
       "    <tr>\n",
       "      <th>1</th>\n",
       "      <td>7/30/2020 15:21:12</td>\n",
       "      <td>qt2131@columbia.edu</td>\n",
       "      <td>Female</td>\n",
       "      <td>Even (0, 2, 4, 6, 8)</td>\n",
       "      <td>1</td>\n",
       "      <td>2</td>\n",
       "      <td>3</td>\n",
       "      <td>4</td>\n",
       "      <td>5</td>\n",
       "      <td>6</td>\n",
       "      <td>7</td>\n",
       "      <td>72</td>\n",
       "      <td>c8</td>\n",
       "      <td>c7</td>\n",
       "      <td>c6</td>\n",
       "      <td>c5</td>\n",
       "      <td>c4</td>\n",
       "      <td>c3</td>\n",
       "      <td>c2</td>\n",
       "      <td>c1</td>\n",
       "      <td></td>\n",
       "      <td></td>\n",
       "      <td></td>\n",
       "      <td></td>\n",
       "      <td></td>\n",
       "      <td></td>\n",
       "      <td></td>\n",
       "      <td></td>\n",
       "      <td></td>\n",
       "      <td></td>\n",
       "      <td></td>\n",
       "      <td></td>\n",
       "      <td></td>\n",
       "      <td></td>\n",
       "      <td></td>\n",
       "      <td></td>\n",
       "      <td></td>\n",
       "      <td></td>\n",
       "      <td></td>\n",
       "      <td></td>\n",
       "    </tr>\n",
       "    <tr>\n",
       "      <th>2</th>\n",
       "      <td>7/30/2020 15:45:22</td>\n",
       "      <td>wr2325@columbia.edu</td>\n",
       "      <td>Male</td>\n",
       "      <td>Odd (1, 3, 5, 7, 9)</td>\n",
       "      <td></td>\n",
       "      <td></td>\n",
       "      <td></td>\n",
       "      <td></td>\n",
       "      <td></td>\n",
       "      <td></td>\n",
       "      <td></td>\n",
       "      <td></td>\n",
       "      <td></td>\n",
       "      <td></td>\n",
       "      <td></td>\n",
       "      <td></td>\n",
       "      <td></td>\n",
       "      <td></td>\n",
       "      <td></td>\n",
       "      <td></td>\n",
       "      <td>c3</td>\n",
       "      <td>c8</td>\n",
       "      <td>c5</td>\n",
       "      <td>c4</td>\n",
       "      <td>c6</td>\n",
       "      <td>c7</td>\n",
       "      <td>c2</td>\n",
       "      <td>c1</td>\n",
       "      <td>5</td>\n",
       "      <td>5</td>\n",
       "      <td>25</td>\n",
       "      <td>10</td>\n",
       "      <td>10</td>\n",
       "      <td>5</td>\n",
       "      <td>5</td>\n",
       "      <td>35</td>\n",
       "      <td>10</td>\n",
       "      <td>20</td>\n",
       "      <td>40</td>\n",
       "      <td>30</td>\n",
       "    </tr>\n",
       "    <tr>\n",
       "      <th>3</th>\n",
       "      <td>7/31/2020 17:06:49</td>\n",
       "      <td>zs2440@columbia.edu</td>\n",
       "      <td>Female</td>\n",
       "      <td>Even (0, 2, 4, 6, 8)</td>\n",
       "      <td>0</td>\n",
       "      <td>100</td>\n",
       "      <td>0</td>\n",
       "      <td>0</td>\n",
       "      <td>0</td>\n",
       "      <td>0</td>\n",
       "      <td>0</td>\n",
       "      <td>0</td>\n",
       "      <td>c2</td>\n",
       "      <td>c1</td>\n",
       "      <td>c3</td>\n",
       "      <td>c4</td>\n",
       "      <td>c5</td>\n",
       "      <td>c6</td>\n",
       "      <td>c7</td>\n",
       "      <td>c8</td>\n",
       "      <td></td>\n",
       "      <td></td>\n",
       "      <td></td>\n",
       "      <td></td>\n",
       "      <td></td>\n",
       "      <td></td>\n",
       "      <td></td>\n",
       "      <td></td>\n",
       "      <td></td>\n",
       "      <td></td>\n",
       "      <td></td>\n",
       "      <td></td>\n",
       "      <td></td>\n",
       "      <td></td>\n",
       "      <td></td>\n",
       "      <td></td>\n",
       "      <td></td>\n",
       "      <td></td>\n",
       "      <td></td>\n",
       "      <td></td>\n",
       "    </tr>\n",
       "    <tr>\n",
       "      <th>4</th>\n",
       "      <td>7/31/2020 17:07:11</td>\n",
       "      <td>sj2993@columbia.edu</td>\n",
       "      <td>Male</td>\n",
       "      <td>Odd (1, 3, 5, 7, 9)</td>\n",
       "      <td></td>\n",
       "      <td></td>\n",
       "      <td></td>\n",
       "      <td></td>\n",
       "      <td></td>\n",
       "      <td></td>\n",
       "      <td></td>\n",
       "      <td></td>\n",
       "      <td></td>\n",
       "      <td></td>\n",
       "      <td></td>\n",
       "      <td></td>\n",
       "      <td></td>\n",
       "      <td></td>\n",
       "      <td></td>\n",
       "      <td></td>\n",
       "      <td>c1</td>\n",
       "      <td>c4</td>\n",
       "      <td>c3</td>\n",
       "      <td>c2</td>\n",
       "      <td>c5</td>\n",
       "      <td>c7</td>\n",
       "      <td>c8</td>\n",
       "      <td>c6</td>\n",
       "      <td>30</td>\n",
       "      <td>15</td>\n",
       "      <td>20</td>\n",
       "      <td>25</td>\n",
       "      <td>3</td>\n",
       "      <td>1</td>\n",
       "      <td>3</td>\n",
       "      <td>3</td>\n",
       "      <td>40</td>\n",
       "      <td>30</td>\n",
       "      <td>20</td>\n",
       "      <td>10</td>\n",
       "    </tr>\n",
       "  </tbody>\n",
       "</table>\n",
       "</div>"
      ],
      "text/plain": [
       "                    0                    1       2  \\\n",
       "0           Timestamp        Email Address  Gender   \n",
       "1  7/30/2020 15:21:12  qt2131@columbia.edu  Female   \n",
       "2  7/30/2020 15:45:22  wr2325@columbia.edu    Male   \n",
       "3  7/31/2020 17:06:49  zs2440@columbia.edu  Female   \n",
       "4  7/31/2020 17:07:11  sj2993@columbia.edu    Male   \n",
       "\n",
       "                                            3  \\\n",
       "0  Is the last digit of your UNI even or odd?   \n",
       "1                        Even (0, 2, 4, 6, 8)   \n",
       "2                         Odd (1, 3, 5, 7, 9)   \n",
       "3                        Even (0, 2, 4, 6, 8)   \n",
       "4                         Odd (1, 3, 5, 7, 9)   \n",
       "\n",
       "                                                   4  \\\n",
       "0  Business Analytics - place your bid between 0 ...   \n",
       "1                                                  1   \n",
       "2                                                      \n",
       "3                                                  0   \n",
       "4                                                      \n",
       "\n",
       "                                                   5  \\\n",
       "0  Cloud Computing - place your bid between 0 and...   \n",
       "1                                                  2   \n",
       "2                                                      \n",
       "3                                                100   \n",
       "4                                                      \n",
       "\n",
       "                                                   6  \\\n",
       "0  Machine Learning - place your bid between 0 an...   \n",
       "1                                                  3   \n",
       "2                                                      \n",
       "3                                                  0   \n",
       "4                                                      \n",
       "\n",
       "                                                   7  \\\n",
       "0  Data Analytics - place your bid between 0 and ...   \n",
       "1                                                  4   \n",
       "2                                                      \n",
       "3                                                  0   \n",
       "4                                                      \n",
       "\n",
       "                                                   8  \\\n",
       "0  Optimization - place your bid between 0 and 10...   \n",
       "1                                                  5   \n",
       "2                                                      \n",
       "3                                                  0   \n",
       "4                                                      \n",
       "\n",
       "                                                   9  \\\n",
       "0  Stochastic - place your bid between 0 and 100 ...   \n",
       "1                                                  6   \n",
       "2                                                      \n",
       "3                                                  0   \n",
       "4                                                      \n",
       "\n",
       "                                                  10  \\\n",
       "0  Simulation - place your bid between 0 and 100 ...   \n",
       "1                                                  7   \n",
       "2                                                      \n",
       "3                                                  0   \n",
       "4                                                      \n",
       "\n",
       "                                                  11  \\\n",
       "0  Computational Discrete Optimization - place yo...   \n",
       "1                                                 72   \n",
       "2                                                      \n",
       "3                                                  0   \n",
       "4                                                      \n",
       "\n",
       "                                                  12  \\\n",
       "0  Rank the courses - please indicate strict orde...   \n",
       "1                                                 c8   \n",
       "2                                                      \n",
       "3                                                 c2   \n",
       "4                                                      \n",
       "\n",
       "                                                  13  \\\n",
       "0  Rank the courses - please indicate strict orde...   \n",
       "1                                                 c7   \n",
       "2                                                      \n",
       "3                                                 c1   \n",
       "4                                                      \n",
       "\n",
       "                                                  14  \\\n",
       "0  Rank the courses - please indicate strict orde...   \n",
       "1                                                 c6   \n",
       "2                                                      \n",
       "3                                                 c3   \n",
       "4                                                      \n",
       "\n",
       "                                                  15  \\\n",
       "0  Rank the courses - please indicate strict orde...   \n",
       "1                                                 c5   \n",
       "2                                                      \n",
       "3                                                 c4   \n",
       "4                                                      \n",
       "\n",
       "                                                  16  \\\n",
       "0  Rank the courses - please indicate strict orde...   \n",
       "1                                                 c4   \n",
       "2                                                      \n",
       "3                                                 c5   \n",
       "4                                                      \n",
       "\n",
       "                                                  17  \\\n",
       "0  Rank the courses - please indicate strict orde...   \n",
       "1                                                 c3   \n",
       "2                                                      \n",
       "3                                                 c6   \n",
       "4                                                      \n",
       "\n",
       "                                                  18  \\\n",
       "0  Rank the courses - please indicate strict orde...   \n",
       "1                                                 c2   \n",
       "2                                                      \n",
       "3                                                 c7   \n",
       "4                                                      \n",
       "\n",
       "                                                  19  \\\n",
       "0  Rank the courses - please indicate strict orde...   \n",
       "1                                                 c1   \n",
       "2                                                      \n",
       "3                                                 c8   \n",
       "4                                                      \n",
       "\n",
       "                                                  20  \\\n",
       "0  Rank the courses - please indicate strict orde...   \n",
       "1                                                      \n",
       "2                                                 c3   \n",
       "3                                                      \n",
       "4                                                 c1   \n",
       "\n",
       "                                                  21  \\\n",
       "0  Rank the courses - please indicate strict orde...   \n",
       "1                                                      \n",
       "2                                                 c8   \n",
       "3                                                      \n",
       "4                                                 c4   \n",
       "\n",
       "                                                  22  \\\n",
       "0  Rank the courses - please indicate strict orde...   \n",
       "1                                                      \n",
       "2                                                 c5   \n",
       "3                                                      \n",
       "4                                                 c3   \n",
       "\n",
       "                                                  23  \\\n",
       "0  Rank the courses - please indicate strict orde...   \n",
       "1                                                      \n",
       "2                                                 c4   \n",
       "3                                                      \n",
       "4                                                 c2   \n",
       "\n",
       "                                                  24  \\\n",
       "0  Rank the courses - please indicate strict orde...   \n",
       "1                                                      \n",
       "2                                                 c6   \n",
       "3                                                      \n",
       "4                                                 c5   \n",
       "\n",
       "                                                  25  \\\n",
       "0  Rank the courses - please indicate strict orde...   \n",
       "1                                                      \n",
       "2                                                 c7   \n",
       "3                                                      \n",
       "4                                                 c7   \n",
       "\n",
       "                                                  26  \\\n",
       "0  Rank the courses - please indicate strict orde...   \n",
       "1                                                      \n",
       "2                                                 c2   \n",
       "3                                                      \n",
       "4                                                 c8   \n",
       "\n",
       "                                                  27  \\\n",
       "0  Rank the courses - please indicate strict orde...   \n",
       "1                                                      \n",
       "2                                                 c1   \n",
       "3                                                      \n",
       "4                                                 c6   \n",
       "\n",
       "                                                  28  \\\n",
       "0  Business Analytics - place your bid between 0 ...   \n",
       "1                                                      \n",
       "2                                                  5   \n",
       "3                                                      \n",
       "4                                                 30   \n",
       "\n",
       "                                                  29  \\\n",
       "0  Cloud Computing - place your bid between 0 and...   \n",
       "1                                                      \n",
       "2                                                  5   \n",
       "3                                                      \n",
       "4                                                 15   \n",
       "\n",
       "                                                  30  \\\n",
       "0  Machine Learning - place your bid between 0 an...   \n",
       "1                                                      \n",
       "2                                                 25   \n",
       "3                                                      \n",
       "4                                                 20   \n",
       "\n",
       "                                                  31  \\\n",
       "0  Data Analytics - place your bid between 0 and ...   \n",
       "1                                                      \n",
       "2                                                 10   \n",
       "3                                                      \n",
       "4                                                 25   \n",
       "\n",
       "                                                  32  \\\n",
       "0  Optimization - place your bid between 0 and 10...   \n",
       "1                                                      \n",
       "2                                                 10   \n",
       "3                                                      \n",
       "4                                                  3   \n",
       "\n",
       "                                                  33  \\\n",
       "0  Stochastic - place your bid between 0 and 100 ...   \n",
       "1                                                      \n",
       "2                                                  5   \n",
       "3                                                      \n",
       "4                                                  1   \n",
       "\n",
       "                                                  34  \\\n",
       "0  Simulation - place your bid between 0 and 100 ...   \n",
       "1                                                      \n",
       "2                                                  5   \n",
       "3                                                      \n",
       "4                                                  3   \n",
       "\n",
       "                                                  35  \\\n",
       "0  Computational Discrete Optimization - place yo...   \n",
       "1                                                      \n",
       "2                                                 35   \n",
       "3                                                      \n",
       "4                                                  3   \n",
       "\n",
       "                                                  36  \\\n",
       "0  9-11 am - place your bid between 0 and 100 (re...   \n",
       "1                                                      \n",
       "2                                                 10   \n",
       "3                                                      \n",
       "4                                                 40   \n",
       "\n",
       "                                                  37  \\\n",
       "0  12-2 pm - place your bid between 0 and 100 (re...   \n",
       "1                                                      \n",
       "2                                                 20   \n",
       "3                                                      \n",
       "4                                                 30   \n",
       "\n",
       "                                                  38  \\\n",
       "0  3-5 pm - place your bid between 0 and 100 (rem...   \n",
       "1                                                      \n",
       "2                                                 40   \n",
       "3                                                      \n",
       "4                                                 20   \n",
       "\n",
       "                                                  39  \n",
       "0  6-8 pm - place your bid between 0 and 100 (rem...  \n",
       "1                                                     \n",
       "2                                                 30  \n",
       "3                                                     \n",
       "4                                                 10  "
      ]
     },
     "execution_count": 6,
     "metadata": {
      "tags": []
     },
     "output_type": "execute_result"
    }
   ],
   "source": [
    "pd.set_option('display.max_columns', None)\n",
    "df.head()\n",
    "# df.iloc[:,3]"
   ]
  },
  {
   "cell_type": "code",
   "execution_count": null,
   "metadata": {
    "colab": {},
    "colab_type": "code",
    "id": "9_ocmmsejiy7"
   },
   "outputs": [],
   "source": [
    "# extract group 1 and group 2 data from combined df\n",
    "df_group1 = df[df[3]==\"Even (0, 2, 4, 6, 8)\"].drop(columns=range(20,40)).replace(to_replace={'Even (0, 2, 4, 6, 8)':'Group1'})\n",
    "df_group2 = df[df[3]==\"Odd (1, 3, 5, 7, 9)\"].drop(columns=range(4,20)).replace(to_replace={'Odd (1, 3, 5, 7, 9)':'Group2'})\n",
    "\n",
    "# set colnames\n",
    "df_group1_colnames = ['Timestamp','Student','Gender','Group',\n",
    "                      'c1','c2','c3','c4','c5','c6','c7','c8', # bids on courses\n",
    "                      'R1','R2','R3','R4','R5','R6','R7','R8'  # ranks\n",
    "                      ]\n",
    "df_group2_colnames = ['Timestamp','Student','Gender','Group',\n",
    "                      'R1','R2','R3','R4','R5','R6','R7','R8', # ranks\n",
    "                      'c1','c2','c3','c4','c5','c6','c7','c8', # bids on courses\n",
    "                      't1','t2','t3','t4'                      # bids on time slots\n",
    "                      ]\n",
    "\n",
    "df_group1.columns = df_group1_colnames\n",
    "df_group2.columns = df_group2_colnames"
   ]
  },
  {
   "cell_type": "code",
   "execution_count": null,
   "metadata": {
    "colab": {},
    "colab_type": "code",
    "id": "T7cDHcHDROpQ"
   },
   "outputs": [],
   "source": [
    "# change datatype of bids from str to int\n",
    "df_group1 = df_group1.apply(pd.to_numeric, downcast='integer', errors='ignore')\n",
    "df_group2 = df_group2.apply(pd.to_numeric, downcast='integer', errors='ignore')\n",
    "\n",
    "# index each student using their UNI\n",
    "df_group1.index = df_group1.Student.str[:6]\n",
    "df_group1.index.name = 'UNI'\n",
    "df_group2.index = df_group2.Student.str[:6]\n",
    "df_group2.index.name = 'UNI'\n",
    "\n",
    "# check bid criteria is met\n",
    "df_group1['CourseBidCriteria'] = (df_group1.loc[:,'c1':'c8'].sum(axis=1) == 100)\n",
    "df_group2['CourseBidCriteria'] = (df_group2.loc[:,'c1':'c8'].sum(axis=1) == 100)\n",
    "df_group2['TimeBidCriteria'] = (df_group2.loc[:,'t1':'t4'].sum(axis=1) == 100)"
   ]
  },
  {
   "cell_type": "code",
   "execution_count": null,
   "metadata": {
    "colab": {
     "base_uri": "https://localhost:8080/",
     "height": 329
    },
    "colab_type": "code",
    "executionInfo": {
     "elapsed": 610,
     "status": "ok",
     "timestamp": 1597160778417,
     "user": {
      "displayName": "Joanne Tho",
      "photoUrl": "https://lh3.googleusercontent.com/a-/AOh14Gi6BXt-TGxdn3YsvO7Q_36euxQ6p2AjuRghvfAE=s64",
      "userId": "02383400307021747479"
     },
     "user_tz": 240
    },
    "id": "G_flnhExnB_e",
    "outputId": "4b732f37-4a14-4798-b7d9-964a0837a914"
   },
   "outputs": [
    {
     "data": {
      "text/html": [
       "<div>\n",
       "<style scoped>\n",
       "    .dataframe tbody tr th:only-of-type {\n",
       "        vertical-align: middle;\n",
       "    }\n",
       "\n",
       "    .dataframe tbody tr th {\n",
       "        vertical-align: top;\n",
       "    }\n",
       "\n",
       "    .dataframe thead th {\n",
       "        text-align: right;\n",
       "    }\n",
       "</style>\n",
       "<table border=\"1\" class=\"dataframe\">\n",
       "  <thead>\n",
       "    <tr style=\"text-align: right;\">\n",
       "      <th></th>\n",
       "      <th>Timestamp</th>\n",
       "      <th>Student</th>\n",
       "      <th>Gender</th>\n",
       "      <th>Group</th>\n",
       "      <th>c1</th>\n",
       "      <th>c2</th>\n",
       "      <th>c3</th>\n",
       "      <th>c4</th>\n",
       "      <th>c5</th>\n",
       "      <th>c6</th>\n",
       "      <th>c7</th>\n",
       "      <th>c8</th>\n",
       "      <th>R1</th>\n",
       "      <th>R2</th>\n",
       "      <th>R3</th>\n",
       "      <th>R4</th>\n",
       "      <th>R5</th>\n",
       "      <th>R6</th>\n",
       "      <th>R7</th>\n",
       "      <th>R8</th>\n",
       "      <th>CourseBidCriteria</th>\n",
       "    </tr>\n",
       "    <tr>\n",
       "      <th>UNI</th>\n",
       "      <th></th>\n",
       "      <th></th>\n",
       "      <th></th>\n",
       "      <th></th>\n",
       "      <th></th>\n",
       "      <th></th>\n",
       "      <th></th>\n",
       "      <th></th>\n",
       "      <th></th>\n",
       "      <th></th>\n",
       "      <th></th>\n",
       "      <th></th>\n",
       "      <th></th>\n",
       "      <th></th>\n",
       "      <th></th>\n",
       "      <th></th>\n",
       "      <th></th>\n",
       "      <th></th>\n",
       "      <th></th>\n",
       "      <th></th>\n",
       "      <th></th>\n",
       "    </tr>\n",
       "  </thead>\n",
       "  <tbody>\n",
       "    <tr>\n",
       "      <th>qt2131</th>\n",
       "      <td>7/30/2020 15:21:12</td>\n",
       "      <td>qt2131@columbia.edu</td>\n",
       "      <td>Female</td>\n",
       "      <td>Group1</td>\n",
       "      <td>1</td>\n",
       "      <td>2</td>\n",
       "      <td>3</td>\n",
       "      <td>4</td>\n",
       "      <td>5</td>\n",
       "      <td>6</td>\n",
       "      <td>7</td>\n",
       "      <td>72</td>\n",
       "      <td>c8</td>\n",
       "      <td>c7</td>\n",
       "      <td>c6</td>\n",
       "      <td>c5</td>\n",
       "      <td>c4</td>\n",
       "      <td>c3</td>\n",
       "      <td>c2</td>\n",
       "      <td>c1</td>\n",
       "      <td>True</td>\n",
       "    </tr>\n",
       "    <tr>\n",
       "      <th>zs2440</th>\n",
       "      <td>7/31/2020 17:06:49</td>\n",
       "      <td>zs2440@columbia.edu</td>\n",
       "      <td>Female</td>\n",
       "      <td>Group1</td>\n",
       "      <td>0</td>\n",
       "      <td>100</td>\n",
       "      <td>0</td>\n",
       "      <td>0</td>\n",
       "      <td>0</td>\n",
       "      <td>0</td>\n",
       "      <td>0</td>\n",
       "      <td>0</td>\n",
       "      <td>c2</td>\n",
       "      <td>c1</td>\n",
       "      <td>c3</td>\n",
       "      <td>c4</td>\n",
       "      <td>c5</td>\n",
       "      <td>c6</td>\n",
       "      <td>c7</td>\n",
       "      <td>c8</td>\n",
       "      <td>True</td>\n",
       "    </tr>\n",
       "    <tr>\n",
       "      <th>xt2230</th>\n",
       "      <td>7/31/2020 18:23:25</td>\n",
       "      <td>xt2230@columbia.edu</td>\n",
       "      <td>Female</td>\n",
       "      <td>Group1</td>\n",
       "      <td>0</td>\n",
       "      <td>65</td>\n",
       "      <td>0</td>\n",
       "      <td>0</td>\n",
       "      <td>0</td>\n",
       "      <td>0</td>\n",
       "      <td>0</td>\n",
       "      <td>35</td>\n",
       "      <td>c2</td>\n",
       "      <td>c8</td>\n",
       "      <td>c4</td>\n",
       "      <td>c3</td>\n",
       "      <td>c1</td>\n",
       "      <td>c5</td>\n",
       "      <td>c6</td>\n",
       "      <td>c7</td>\n",
       "      <td>True</td>\n",
       "    </tr>\n",
       "    <tr>\n",
       "      <th>sjl222</th>\n",
       "      <td>7/31/2020 19:33:42</td>\n",
       "      <td>sjl2220@columbia.edu</td>\n",
       "      <td>Male</td>\n",
       "      <td>Group1</td>\n",
       "      <td>45</td>\n",
       "      <td>0</td>\n",
       "      <td>45</td>\n",
       "      <td>0</td>\n",
       "      <td>0</td>\n",
       "      <td>10</td>\n",
       "      <td>0</td>\n",
       "      <td>0</td>\n",
       "      <td>c1</td>\n",
       "      <td>c3</td>\n",
       "      <td>c6</td>\n",
       "      <td>c5</td>\n",
       "      <td>c7</td>\n",
       "      <td>c4</td>\n",
       "      <td>c8</td>\n",
       "      <td>c2</td>\n",
       "      <td>True</td>\n",
       "    </tr>\n",
       "    <tr>\n",
       "      <th>zl2856</th>\n",
       "      <td>7/31/2020 20:06:01</td>\n",
       "      <td>zl2856@columbia.edu</td>\n",
       "      <td>Female</td>\n",
       "      <td>Group1</td>\n",
       "      <td>15</td>\n",
       "      <td>10</td>\n",
       "      <td>15</td>\n",
       "      <td>10</td>\n",
       "      <td>15</td>\n",
       "      <td>15</td>\n",
       "      <td>10</td>\n",
       "      <td>10</td>\n",
       "      <td>c1</td>\n",
       "      <td>c5</td>\n",
       "      <td>c3</td>\n",
       "      <td>c6</td>\n",
       "      <td>c7</td>\n",
       "      <td>c2</td>\n",
       "      <td>c8</td>\n",
       "      <td>c4</td>\n",
       "      <td>True</td>\n",
       "    </tr>\n",
       "  </tbody>\n",
       "</table>\n",
       "</div>"
      ],
      "text/plain": [
       "                 Timestamp               Student  Gender   Group  c1   c2  c3  \\\n",
       "UNI                                                                             \n",
       "qt2131  7/30/2020 15:21:12   qt2131@columbia.edu  Female  Group1   1    2   3   \n",
       "zs2440  7/31/2020 17:06:49   zs2440@columbia.edu  Female  Group1   0  100   0   \n",
       "xt2230  7/31/2020 18:23:25   xt2230@columbia.edu  Female  Group1   0   65   0   \n",
       "sjl222  7/31/2020 19:33:42  sjl2220@columbia.edu    Male  Group1  45    0  45   \n",
       "zl2856  7/31/2020 20:06:01   zl2856@columbia.edu  Female  Group1  15   10  15   \n",
       "\n",
       "        c4  c5  c6  c7  c8  R1  R2  R3  R4  R5  R6  R7  R8  CourseBidCriteria  \n",
       "UNI                                                                            \n",
       "qt2131   4   5   6   7  72  c8  c7  c6  c5  c4  c3  c2  c1               True  \n",
       "zs2440   0   0   0   0   0  c2  c1  c3  c4  c5  c6  c7  c8               True  \n",
       "xt2230   0   0   0   0  35  c2  c8  c4  c3  c1  c5  c6  c7               True  \n",
       "sjl222   0   0  10   0   0  c1  c3  c6  c5  c7  c4  c8  c2               True  \n",
       "zl2856  10  15  15  10  10  c1  c5  c3  c6  c7  c2  c8  c4               True  "
      ]
     },
     "execution_count": 9,
     "metadata": {
      "tags": []
     },
     "output_type": "execute_result"
    }
   ],
   "source": [
    "df_group1.head()"
   ]
  },
  {
   "cell_type": "code",
   "execution_count": null,
   "metadata": {
    "colab": {
     "base_uri": "https://localhost:8080/",
     "height": 329
    },
    "colab_type": "code",
    "executionInfo": {
     "elapsed": 866,
     "status": "ok",
     "timestamp": 1597160781283,
     "user": {
      "displayName": "Joanne Tho",
      "photoUrl": "https://lh3.googleusercontent.com/a-/AOh14Gi6BXt-TGxdn3YsvO7Q_36euxQ6p2AjuRghvfAE=s64",
      "userId": "02383400307021747479"
     },
     "user_tz": 240
    },
    "id": "2knihjGSnhql",
    "outputId": "b9e87e1c-9099-40fe-9a27-76e5988da015"
   },
   "outputs": [
    {
     "data": {
      "text/html": [
       "<div>\n",
       "<style scoped>\n",
       "    .dataframe tbody tr th:only-of-type {\n",
       "        vertical-align: middle;\n",
       "    }\n",
       "\n",
       "    .dataframe tbody tr th {\n",
       "        vertical-align: top;\n",
       "    }\n",
       "\n",
       "    .dataframe thead th {\n",
       "        text-align: right;\n",
       "    }\n",
       "</style>\n",
       "<table border=\"1\" class=\"dataframe\">\n",
       "  <thead>\n",
       "    <tr style=\"text-align: right;\">\n",
       "      <th></th>\n",
       "      <th>Timestamp</th>\n",
       "      <th>Student</th>\n",
       "      <th>Gender</th>\n",
       "      <th>Group</th>\n",
       "      <th>R1</th>\n",
       "      <th>R2</th>\n",
       "      <th>R3</th>\n",
       "      <th>R4</th>\n",
       "      <th>R5</th>\n",
       "      <th>R6</th>\n",
       "      <th>R7</th>\n",
       "      <th>R8</th>\n",
       "      <th>c1</th>\n",
       "      <th>c2</th>\n",
       "      <th>c3</th>\n",
       "      <th>c4</th>\n",
       "      <th>c5</th>\n",
       "      <th>c6</th>\n",
       "      <th>c7</th>\n",
       "      <th>c8</th>\n",
       "      <th>t1</th>\n",
       "      <th>t2</th>\n",
       "      <th>t3</th>\n",
       "      <th>t4</th>\n",
       "      <th>CourseBidCriteria</th>\n",
       "      <th>TimeBidCriteria</th>\n",
       "    </tr>\n",
       "    <tr>\n",
       "      <th>UNI</th>\n",
       "      <th></th>\n",
       "      <th></th>\n",
       "      <th></th>\n",
       "      <th></th>\n",
       "      <th></th>\n",
       "      <th></th>\n",
       "      <th></th>\n",
       "      <th></th>\n",
       "      <th></th>\n",
       "      <th></th>\n",
       "      <th></th>\n",
       "      <th></th>\n",
       "      <th></th>\n",
       "      <th></th>\n",
       "      <th></th>\n",
       "      <th></th>\n",
       "      <th></th>\n",
       "      <th></th>\n",
       "      <th></th>\n",
       "      <th></th>\n",
       "      <th></th>\n",
       "      <th></th>\n",
       "      <th></th>\n",
       "      <th></th>\n",
       "      <th></th>\n",
       "      <th></th>\n",
       "    </tr>\n",
       "  </thead>\n",
       "  <tbody>\n",
       "    <tr>\n",
       "      <th>wr2325</th>\n",
       "      <td>7/30/2020 15:45:22</td>\n",
       "      <td>wr2325@columbia.edu</td>\n",
       "      <td>Male</td>\n",
       "      <td>Group2</td>\n",
       "      <td>c3</td>\n",
       "      <td>c8</td>\n",
       "      <td>c5</td>\n",
       "      <td>c4</td>\n",
       "      <td>c6</td>\n",
       "      <td>c7</td>\n",
       "      <td>c2</td>\n",
       "      <td>c1</td>\n",
       "      <td>5</td>\n",
       "      <td>5</td>\n",
       "      <td>25</td>\n",
       "      <td>10</td>\n",
       "      <td>10</td>\n",
       "      <td>5</td>\n",
       "      <td>5</td>\n",
       "      <td>35</td>\n",
       "      <td>10</td>\n",
       "      <td>20</td>\n",
       "      <td>40</td>\n",
       "      <td>30</td>\n",
       "      <td>True</td>\n",
       "      <td>True</td>\n",
       "    </tr>\n",
       "    <tr>\n",
       "      <th>sj2993</th>\n",
       "      <td>7/31/2020 17:07:11</td>\n",
       "      <td>sj2993@columbia.edu</td>\n",
       "      <td>Male</td>\n",
       "      <td>Group2</td>\n",
       "      <td>c1</td>\n",
       "      <td>c4</td>\n",
       "      <td>c3</td>\n",
       "      <td>c2</td>\n",
       "      <td>c5</td>\n",
       "      <td>c7</td>\n",
       "      <td>c8</td>\n",
       "      <td>c6</td>\n",
       "      <td>30</td>\n",
       "      <td>15</td>\n",
       "      <td>20</td>\n",
       "      <td>25</td>\n",
       "      <td>3</td>\n",
       "      <td>1</td>\n",
       "      <td>3</td>\n",
       "      <td>3</td>\n",
       "      <td>40</td>\n",
       "      <td>30</td>\n",
       "      <td>20</td>\n",
       "      <td>10</td>\n",
       "      <td>True</td>\n",
       "      <td>True</td>\n",
       "    </tr>\n",
       "    <tr>\n",
       "      <th>sa3763</th>\n",
       "      <td>7/31/2020 17:14:37</td>\n",
       "      <td>sa3763@columbia.edu</td>\n",
       "      <td>Female</td>\n",
       "      <td>Group2</td>\n",
       "      <td>c1</td>\n",
       "      <td>c6</td>\n",
       "      <td>c5</td>\n",
       "      <td>c7</td>\n",
       "      <td>c4</td>\n",
       "      <td>c3</td>\n",
       "      <td>c2</td>\n",
       "      <td>c8</td>\n",
       "      <td>40</td>\n",
       "      <td>5</td>\n",
       "      <td>10</td>\n",
       "      <td>20</td>\n",
       "      <td>5</td>\n",
       "      <td>5</td>\n",
       "      <td>10</td>\n",
       "      <td>5</td>\n",
       "      <td>30</td>\n",
       "      <td>40</td>\n",
       "      <td>20</td>\n",
       "      <td>10</td>\n",
       "      <td>True</td>\n",
       "      <td>True</td>\n",
       "    </tr>\n",
       "    <tr>\n",
       "      <th>yf2507</th>\n",
       "      <td>7/31/2020 17:17:24</td>\n",
       "      <td>yf2507@columbia.edu</td>\n",
       "      <td>Female</td>\n",
       "      <td>Group2</td>\n",
       "      <td>c4</td>\n",
       "      <td>c1</td>\n",
       "      <td>c3</td>\n",
       "      <td>c5</td>\n",
       "      <td>c6</td>\n",
       "      <td>c7</td>\n",
       "      <td>c8</td>\n",
       "      <td>c2</td>\n",
       "      <td>30</td>\n",
       "      <td>5</td>\n",
       "      <td>5</td>\n",
       "      <td>50</td>\n",
       "      <td>5</td>\n",
       "      <td>5</td>\n",
       "      <td>0</td>\n",
       "      <td>0</td>\n",
       "      <td>25</td>\n",
       "      <td>25</td>\n",
       "      <td>25</td>\n",
       "      <td>25</td>\n",
       "      <td>True</td>\n",
       "      <td>True</td>\n",
       "    </tr>\n",
       "    <tr>\n",
       "      <th>js5553</th>\n",
       "      <td>7/31/2020 17:22:47</td>\n",
       "      <td>js5553@columbia.edu</td>\n",
       "      <td>Male</td>\n",
       "      <td>Group2</td>\n",
       "      <td>c1</td>\n",
       "      <td>c3</td>\n",
       "      <td>c2</td>\n",
       "      <td>c4</td>\n",
       "      <td>c5</td>\n",
       "      <td>c6</td>\n",
       "      <td>c7</td>\n",
       "      <td>c8</td>\n",
       "      <td>40</td>\n",
       "      <td>15</td>\n",
       "      <td>25</td>\n",
       "      <td>10</td>\n",
       "      <td>5</td>\n",
       "      <td>5</td>\n",
       "      <td>0</td>\n",
       "      <td>0</td>\n",
       "      <td>0</td>\n",
       "      <td>50</td>\n",
       "      <td>20</td>\n",
       "      <td>30</td>\n",
       "      <td>True</td>\n",
       "      <td>True</td>\n",
       "    </tr>\n",
       "  </tbody>\n",
       "</table>\n",
       "</div>"
      ],
      "text/plain": [
       "                 Timestamp              Student  Gender   Group  R1  R2  R3  \\\n",
       "UNI                                                                           \n",
       "wr2325  7/30/2020 15:45:22  wr2325@columbia.edu    Male  Group2  c3  c8  c5   \n",
       "sj2993  7/31/2020 17:07:11  sj2993@columbia.edu    Male  Group2  c1  c4  c3   \n",
       "sa3763  7/31/2020 17:14:37  sa3763@columbia.edu  Female  Group2  c1  c6  c5   \n",
       "yf2507  7/31/2020 17:17:24  yf2507@columbia.edu  Female  Group2  c4  c1  c3   \n",
       "js5553  7/31/2020 17:22:47  js5553@columbia.edu    Male  Group2  c1  c3  c2   \n",
       "\n",
       "        R4  R5  R6  R7  R8  c1  c2  c3  c4  c5  c6  c7  c8  t1  t2  t3  t4  \\\n",
       "UNI                                                                          \n",
       "wr2325  c4  c6  c7  c2  c1   5   5  25  10  10   5   5  35  10  20  40  30   \n",
       "sj2993  c2  c5  c7  c8  c6  30  15  20  25   3   1   3   3  40  30  20  10   \n",
       "sa3763  c7  c4  c3  c2  c8  40   5  10  20   5   5  10   5  30  40  20  10   \n",
       "yf2507  c5  c6  c7  c8  c2  30   5   5  50   5   5   0   0  25  25  25  25   \n",
       "js5553  c4  c5  c6  c7  c8  40  15  25  10   5   5   0   0   0  50  20  30   \n",
       "\n",
       "        CourseBidCriteria  TimeBidCriteria  \n",
       "UNI                                         \n",
       "wr2325               True             True  \n",
       "sj2993               True             True  \n",
       "sa3763               True             True  \n",
       "yf2507               True             True  \n",
       "js5553               True             True  "
      ]
     },
     "execution_count": 10,
     "metadata": {
      "tags": []
     },
     "output_type": "execute_result"
    }
   ],
   "source": [
    "df_group2.head()"
   ]
  },
  {
   "cell_type": "markdown",
   "metadata": {
    "colab_type": "text",
    "id": "1-T32VFdviL_"
   },
   "source": [
    "### Response Summary"
   ]
  },
  {
   "cell_type": "code",
   "execution_count": null,
   "metadata": {
    "colab": {},
    "colab_type": "code",
    "id": "C2IG6E-5vmfU"
   },
   "outputs": [],
   "source": [
    "def countBidder(df, course):\n",
    "  c = df.groupby(course).count()[[\"Group\"]]\n",
    "  return int(c[1:].sum())\n",
    "\n",
    "def report(df):\n",
    "  print(f\"# of participants: {len(df)}\")\n",
    "  gender = df.groupby(\"Gender\").count()[\"Group\"]\n",
    "  print(f\"Female: {gender[0]}, Male: {gender[1]}\")\n",
    "  print(f\"\\n# of (non-zero) bidders for each course:\")\n",
    "  for c in ['c1', 'c2', 'c3', 'c4', 'c5', 'c6', 'c7', 'c8']:\n",
    "    print(f\"\\t{c}: {countBidder(df, c)}\")"
   ]
  },
  {
   "cell_type": "code",
   "execution_count": null,
   "metadata": {
    "colab": {
     "base_uri": "https://localhost:8080/",
     "height": 218
    },
    "colab_type": "code",
    "executionInfo": {
     "elapsed": 750,
     "status": "ok",
     "timestamp": 1597160783919,
     "user": {
      "displayName": "Joanne Tho",
      "photoUrl": "https://lh3.googleusercontent.com/a-/AOh14Gi6BXt-TGxdn3YsvO7Q_36euxQ6p2AjuRghvfAE=s64",
      "userId": "02383400307021747479"
     },
     "user_tz": 240
    },
    "id": "0lWOwoW9vnN7",
    "outputId": "ba706711-4b9d-48de-f263-12ef0d510104"
   },
   "outputs": [
    {
     "name": "stdout",
     "output_type": "stream",
     "text": [
      "# of participants: 14\n",
      "Female: 6, Male: 8\n",
      "\n",
      "# of (non-zero) bidders for each course:\n",
      "\tc1: 10\n",
      "\tc2: 9\n",
      "\tc3: 8\n",
      "\tc4: 6\n",
      "\tc5: 6\n",
      "\tc6: 9\n",
      "\tc7: 6\n",
      "\tc8: 8\n"
     ]
    }
   ],
   "source": [
    "report(df_group1)"
   ]
  },
  {
   "cell_type": "code",
   "execution_count": null,
   "metadata": {
    "colab": {
     "base_uri": "https://localhost:8080/",
     "height": 218
    },
    "colab_type": "code",
    "executionInfo": {
     "elapsed": 570,
     "status": "ok",
     "timestamp": 1597160785455,
     "user": {
      "displayName": "Joanne Tho",
      "photoUrl": "https://lh3.googleusercontent.com/a-/AOh14Gi6BXt-TGxdn3YsvO7Q_36euxQ6p2AjuRghvfAE=s64",
      "userId": "02383400307021747479"
     },
     "user_tz": 240
    },
    "id": "wymGKjmnvn8Q",
    "outputId": "90009758-36f7-4377-b643-52236ac3721a"
   },
   "outputs": [
    {
     "name": "stdout",
     "output_type": "stream",
     "text": [
      "# of participants: 26\n",
      "Female: 11, Male: 15\n",
      "\n",
      "# of (non-zero) bidders for each course:\n",
      "\tc1: 23\n",
      "\tc2: 19\n",
      "\tc3: 22\n",
      "\tc4: 22\n",
      "\tc5: 23\n",
      "\tc6: 19\n",
      "\tc7: 13\n",
      "\tc8: 9\n"
     ]
    }
   ],
   "source": [
    "report(df_group2)"
   ]
  },
  {
   "cell_type": "markdown",
   "metadata": {
    "colab_type": "text",
    "id": "gONqlRKw1WnI"
   },
   "source": [
    "### Generate Course Capacities"
   ]
  },
  {
   "cell_type": "code",
   "execution_count": null,
   "metadata": {
    "colab": {},
    "colab_type": "code",
    "id": "jgCW8o0nvodD"
   },
   "outputs": [],
   "source": [
    "sc = ['c1','c3','c5','c6']\n",
    "course = ['c1','c2','c3','c4','c5','c6','c7','c8']\n",
    "hd = ['c1','c2','c3','c4']\n",
    "ld = ['c5','c6','c7','c8']\n",
    "\n",
    "# Equal number of seats for all 8 courses\n",
    "def capacity(df, same=False, buffer=3):\n",
    "    cap = {c: 0 for c in course}\n",
    "    \n",
    "    if not same:\n",
    "        # 4 semi-core courses take at least len(df) people\n",
    "        capOfSC = round(len(df)/4)\n",
    "        lastSC = len(df) - 3*capOfSC\n",
    "        for c in sc:\n",
    "            cap[c] += capOfSC\n",
    "        cap[sc[0]] = lastSC\n",
    "        \n",
    "        remainTotalSeats = 3*len(df) - 3*capOfSC - lastSC\n",
    "        capOfAll = round(remainTotalSeats/8)\n",
    "        for c in course:\n",
    "            cap[c] += capOfAll\n",
    "\n",
    "        ldCap = {c: len(df) for c in ld}\n",
    "        cap.update(ldCap)\n",
    "\n",
    "    if same:\n",
    "        # as per Yuri's recc, give all classes same capacity\n",
    "        # allCap = minimum capacity per class + some buffer\n",
    "        allCap = round(3*len(df)/8) + buffer\n",
    "        cap = {c: allCap for c in course} \n",
    "\n",
    "    return cap"
   ]
  },
  {
   "cell_type": "code",
   "execution_count": null,
   "metadata": {
    "colab": {
     "base_uri": "https://localhost:8080/",
     "height": 34
    },
    "colab_type": "code",
    "executionInfo": {
     "elapsed": 591,
     "status": "ok",
     "timestamp": 1597164008163,
     "user": {
      "displayName": "Joanne Tho",
      "photoUrl": "https://lh3.googleusercontent.com/a-/AOh14Gi6BXt-TGxdn3YsvO7Q_36euxQ6p2AjuRghvfAE=s64",
      "userId": "02383400307021747479"
     },
     "user_tz": 240
    },
    "id": "272jhKf0vo07",
    "outputId": "e99e5a5c-90b9-416b-8b7e-77ba7a57bd7e"
   },
   "outputs": [
    {
     "data": {
      "text/plain": [
       "{'c1': 8, 'c2': 8, 'c3': 8, 'c4': 8, 'c5': 8, 'c6': 8, 'c7': 8, 'c8': 8}"
      ]
     },
     "execution_count": 18,
     "metadata": {
      "tags": []
     },
     "output_type": "execute_result"
    }
   ],
   "source": [
    "capacity(df_group1)"
   ]
  },
  {
   "cell_type": "code",
   "execution_count": null,
   "metadata": {
    "colab": {
     "base_uri": "https://localhost:8080/",
     "height": 34
    },
    "colab_type": "code",
    "executionInfo": {
     "elapsed": 647,
     "status": "ok",
     "timestamp": 1597164028104,
     "user": {
      "displayName": "Joanne Tho",
      "photoUrl": "https://lh3.googleusercontent.com/a-/AOh14Gi6BXt-TGxdn3YsvO7Q_36euxQ6p2AjuRghvfAE=s64",
      "userId": "02383400307021747479"
     },
     "user_tz": 240
    },
    "id": "6RiXm4-LvpK0",
    "outputId": "762d3caf-9d5b-4b17-be83-a316c7d037e6"
   },
   "outputs": [
    {
     "data": {
      "text/plain": [
       "{'c1': 6, 'c2': 4, 'c3': 8, 'c4': 4, 'c5': 14, 'c6': 14, 'c7': 14, 'c8': 14}"
      ]
     },
     "execution_count": 20,
     "metadata": {
      "tags": []
     },
     "output_type": "execute_result"
    }
   ],
   "source": [
    "capacity(df_group1, same=False)"
   ]
  },
  {
   "cell_type": "code",
   "execution_count": null,
   "metadata": {
    "colab": {
     "base_uri": "https://localhost:8080/",
     "height": 151
    },
    "colab_type": "code",
    "executionInfo": {
     "elapsed": 445,
     "status": "ok",
     "timestamp": 1597164099204,
     "user": {
      "displayName": "Joanne Tho",
      "photoUrl": "https://lh3.googleusercontent.com/a-/AOh14Gi6BXt-TGxdn3YsvO7Q_36euxQ6p2AjuRghvfAE=s64",
      "userId": "02383400307021747479"
     },
     "user_tz": 240
    },
    "id": "2bvYDMGivpfG",
    "outputId": "cc7f321c-5a91-41ae-f6a9-b4405de6c46a"
   },
   "outputs": [
    {
     "data": {
      "text/plain": [
       "{'c1': 13,\n",
       " 'c2': 13,\n",
       " 'c3': 13,\n",
       " 'c4': 13,\n",
       " 'c5': 13,\n",
       " 'c6': 13,\n",
       " 'c7': 13,\n",
       " 'c8': 13}"
      ]
     },
     "execution_count": 22,
     "metadata": {
      "tags": []
     },
     "output_type": "execute_result"
    }
   ],
   "source": [
    "capacity(df_group2)"
   ]
  },
  {
   "cell_type": "markdown",
   "metadata": {
    "colab_type": "text",
    "id": "rgEHSzZteUKo"
   },
   "source": [
    "## Section 1: Preference Generator from Bids and Lotteries\n"
   ]
  },
  {
   "cell_type": "markdown",
   "metadata": {
    "colab_type": "text",
    "id": "_A5umSFA1Wk1"
   },
   "source": [
    "### Student-side preferences\n",
    "\n",
    "```python\n",
    "def get_pref(df, sc=False):     # actual preferences\n",
    "def get_bid_pref(df, sc=False): # implied preferences from bids\n",
    "```\n",
    "Functions return output of the following structure:\n",
    "```\n",
    "{'student1': [c2, c3, ...],\n",
    " 'student2': [c1, c4, ...],\n",
    "  ...\n",
    "}\n",
    "```"
   ]
  },
  {
   "cell_type": "markdown",
   "metadata": {
    "colab_type": "text",
    "id": "3cQuDb031fWj"
   },
   "source": [
    "TODO: Function to get dictionary of student preferences from data frame\n"
   ]
  },
  {
   "cell_type": "code",
   "execution_count": null,
   "metadata": {
    "colab": {},
    "colab_type": "code",
    "id": "snoEk2GjzlyC"
   },
   "outputs": [],
   "source": [
    "def get_pref(df, sc=False):\n",
    "  '''\n",
    "  Returns a dictionary of students' preferences, with student UNI as the key\n",
    "  sc=False gives all courses, sc=True gives only semi-core courses\n",
    "  '''\n",
    "  pref_dict = {}\n",
    "  if sc:\n",
    "    for UNI, row in df.loc[:,'R1':'R8'].iterrows():\n",
    "      sc_list = []\n",
    "      for c in row.values:\n",
    "        if c in ['c1','c3','c5','c6']: # if course is semi-core\n",
    "          sc_list.append(c)\n",
    "      pref_dict[UNI] = sc_list\n",
    "    \n",
    "  else:  \n",
    "    for UNI, row in df.loc[:,'R1':'R8'].iterrows():\n",
    "      pref_dict[UNI] = list(row.values)\n",
    "  \n",
    "  return pref_dict"
   ]
  },
  {
   "cell_type": "code",
   "execution_count": null,
   "metadata": {
    "colab": {},
    "colab_type": "code",
    "id": "gniy4iD_7pDb"
   },
   "outputs": [],
   "source": [
    "# get_pref(df_group2)\n",
    "# get_pref(df_group2, sc=True)"
   ]
  },
  {
   "cell_type": "markdown",
   "metadata": {
    "colab_type": "text",
    "id": "mN-3OaUtzpvR"
   },
   "source": [
    "TODO: Function to generate implied preferences from bids (Test 1)."
   ]
  },
  {
   "cell_type": "code",
   "execution_count": null,
   "metadata": {
    "colab": {},
    "colab_type": "code",
    "id": "pO2n1ir2uZgO"
   },
   "outputs": [],
   "source": [
    "def get_bid_pref(df, sc=False):\n",
    "  '''\n",
    "  Returns a dictionary of students' preferences, derived from course bids.\n",
    "  Student UNI as key.\n",
    "  sc=False gives all courses, sc=True gives only semi-core courses\n",
    "  '''\n",
    "  pref_dict = {}\n",
    "  if sc:\n",
    "    for UNI, row in df.loc[:,'c1':'c8'].iterrows():\n",
    "      sc_list = []\n",
    "      for c in row.sort_values(ascending=False).index.values:\n",
    "        if c in ['c1','c3','c5','c6']: # if course is semi-core\n",
    "          sc_list.append(c)\n",
    "      pref_dict[UNI] = sc_list\n",
    "\n",
    "  else:\n",
    "    for UNI, row in df.loc[:,'c1':'c8'].iterrows():\n",
    "      pref_dict[UNI] = list(row.sort_values(ascending=False).index.values)\n",
    "  \n",
    "  return pref_dict"
   ]
  },
  {
   "cell_type": "code",
   "execution_count": null,
   "metadata": {
    "colab": {},
    "colab_type": "code",
    "id": "PDi-98AF3z_u"
   },
   "outputs": [],
   "source": [
    "# get_bid_pref(df_group1)\n",
    "# get_bid_pref(df_group1, sc=True)"
   ]
  },
  {
   "cell_type": "markdown",
   "metadata": {
    "colab_type": "text",
    "id": "GvtGUOKN0tUZ"
   },
   "source": [
    "### Course-side Preferences\n",
    "\n",
    "```python\n",
    "def get_course_pref(df, sc = False, rank = True, seed = 42)\n",
    "# when rank = True (default), returns dictionary of courses' rankings \n",
    "# when rank = False, returns dictionary of courses' bids\n",
    "\n",
    "def get_time_pref(df, sc = False, rank = True, seed = 42)\n",
    "# converts time bids into course bids, and runs get_course_pref()\n",
    "```\n",
    "Function returns a dictionary of the following structure:\n",
    "```\n",
    "{'c1': ['student1', 'student3', ...],\n",
    " 'c2': ['student2', 'student3', ...],\n",
    "  ...\n",
    "}\n",
    "```\n"
   ]
  },
  {
   "cell_type": "markdown",
   "metadata": {
    "colab_type": "text",
    "id": "AOZ8O9mom3CI"
   },
   "source": [
    "TODO: Function to get students' bids for courses/ timeslots (Tests 1-3)"
   ]
  },
  {
   "cell_type": "code",
   "execution_count": null,
   "metadata": {
    "colab": {},
    "colab_type": "code",
    "id": "qPG79-N32Add"
   },
   "outputs": [],
   "source": [
    "def modified_bid(df, seed = 42):\n",
    "  '''\n",
    "  Adds a random real number x drawn from uniform distribution for each student-course pair\n",
    "  Modifies each positive bid b>0 as b'=b+x\n",
    "  Returns a modified bid df\n",
    "  '''\n",
    "  np.random.seed(seed)\n",
    "  df_ = df.loc[:,'c1':'c8']\n",
    "  X = np.random.uniform(size=df_.shape)\n",
    "  mod_bids = df_ + X\n",
    "  # mod_bids[mod_bids < 1] = 0   # commented out since we want to rank 0 bids\n",
    "  return mod_bids"
   ]
  },
  {
   "cell_type": "code",
   "execution_count": null,
   "metadata": {
    "colab": {},
    "colab_type": "code",
    "id": "cmtmop_sAP5C"
   },
   "outputs": [],
   "source": [
    "def get_course_pref(df, sc = False, rank = True, seed = 42):\n",
    "  '''\n",
    "  Returns course ranks when rank = True, or (original) course bids when rank = False.\n",
    "\n",
    "  sc = True returns only semi-core courses\n",
    "  rank = True (default) returns courses' strict ranking on students, based on bids.\n",
    "          Ties are broken by adds a random number from uniform distribution to actual bid value\n",
    "  \n",
    "  Uses modified_bid():\n",
    "    seed = 42 is default value; only relevant when rank = True\n",
    "  '''  \n",
    "  # for course bids\n",
    "  if not rank:\n",
    "    if sc:\n",
    "      course_dict = df.loc[:,['c1','c3','c5','c6']].to_dict()\n",
    "    if not sc:\n",
    "      course_dict = df.loc[:,'c1':'c8'].to_dict()\n",
    "\n",
    "  # for strict course ranks\n",
    "  if rank:\n",
    "    new_df = modified_bid(df, seed = seed)  # get modified bid matrix\n",
    "    course_dict = {}\n",
    "    if not sc:       \n",
    "      for c in new_df:\n",
    "        course_dict[c] = list(new_df[c].sort_values(ascending=False).index.values)\n",
    "    if sc:\n",
    "      for c in ['c1','c3','c5','c6']:\n",
    "        course_dict[c] = list(new_df[c].sort_values(ascending=False).index.values)\n",
    "  \n",
    "  return course_dict"
   ]
  },
  {
   "cell_type": "code",
   "execution_count": null,
   "metadata": {
    "colab": {},
    "colab_type": "code",
    "id": "FD7hDEnfuC_O"
   },
   "outputs": [],
   "source": [
    "# get_course_pref(df_group1)"
   ]
  },
  {
   "cell_type": "code",
   "execution_count": null,
   "metadata": {
    "colab": {},
    "colab_type": "code",
    "id": "iT_WvobC08m_"
   },
   "outputs": [],
   "source": [
    "def get_time_pref(df, sc = False, rank = True, seed = 42):\n",
    "  '''\n",
    "  Converts time bids to course bids.\n",
    "  Returns course ranks when rank = True, or (original) course bids when rank = False.\n",
    "\n",
    "  Only for df_group2. Returns students' bids timeslots, represented as bids on the individual courses.\n",
    "  \n",
    "  Uses get_course_pref():\n",
    "      sc = True returns only semi-core courses\n",
    "      rank = True (default) returns courses' strict ranking on students, based on bids.\n",
    "          Ties are broken by adds a random number from uniform distribution to actual bid value\n",
    "      seed = 42 is default value; only relevant when break = True  \n",
    "  '''\n",
    "  # check that the dataframe passed into function contains time bids\n",
    "  try:\n",
    "    df.loc[:,'t1':'t4']\n",
    "  except:\n",
    "    raise ValueError(\"No timeslot keys in df. This function only works for df_group2.\")\n",
    "\n",
    "  # convert time bids to course bids\n",
    "  new_df = pd.DataFrame()\n",
    "  new_df['c1'] = df.t2; new_df['c2'] = df.t3; new_df['c3'] = df.t4; new_df['c4'] = df.t2\n",
    "  new_df['c5'] = df.t4; new_df['c6'] = df.t1; new_df['c7'] = df.t1; new_df['c8'] = df.t3\n",
    "\n",
    "  # get_course_pref()\n",
    "  out_dict = get_course_pref(new_df, sc=sc, rank=rank, seed=seed)\n",
    "\n",
    "  return out_dict"
   ]
  },
  {
   "cell_type": "code",
   "execution_count": null,
   "metadata": {
    "colab": {},
    "colab_type": "code",
    "id": "MjPFurIHuvD8"
   },
   "outputs": [],
   "source": [
    "# get_time_pref(df_group2)"
   ]
  },
  {
   "cell_type": "markdown",
   "metadata": {
    "colab_type": "text",
    "id": "h1tXcBGA09on"
   },
   "source": [
    "TODO: Function to get course preferences using unique lottery (Test 4)"
   ]
  },
  {
   "cell_type": "code",
   "execution_count": null,
   "metadata": {
    "colab": {},
    "colab_type": "code",
    "id": "9mj3hk8N1LdQ"
   },
   "outputs": [],
   "source": [
    "# np.random.uniform()"
   ]
  },
  {
   "cell_type": "code",
   "execution_count": null,
   "metadata": {
    "colab": {
     "base_uri": "https://localhost:8080/",
     "height": 51
    },
    "colab_type": "code",
    "executionInfo": {
     "elapsed": 178,
     "status": "ok",
     "timestamp": 1596582339342,
     "user": {
      "displayName": "Weihang Ren",
      "photoUrl": "",
      "userId": "18183422973531312162"
     },
     "user_tz": 240
    },
    "id": "WjAYI6zp57gX",
    "outputId": "f28136b1-e59e-4e40-e059-209428a78bf0"
   },
   "outputs": [
    {
     "data": {
      "text/plain": [
       "array(['mz2776', 'qt2131', 'atc214', 'wx2226', 'xt2230', 'zs2440',\n",
       "       'jy3026', 'zl2856', 'rg3266', 'sjl222', 'tg2718'], dtype=object)"
      ]
     },
     "execution_count": 23,
     "metadata": {
      "tags": []
     },
     "output_type": "execute_result"
    }
   ],
   "source": [
    "# Refer to edited lottery function in Test 4\n",
    "\n",
    "# def lottery(ds, reverse=False):\n",
    "#     np.random.seed(42)\n",
    "#     ds = ds.reset_index()\n",
    "#     if reverse:\n",
    "#       return np.flip(np.random.permutation(ds['UNI']))\n",
    "#     return np.random.permutation(ds['UNI'])\n",
    "\n",
    "# lottery(df_group1)\n"
   ]
  },
  {
   "cell_type": "code",
   "execution_count": null,
   "metadata": {
    "colab": {
     "base_uri": "https://localhost:8080/",
     "height": 51
    },
    "colab_type": "code",
    "executionInfo": {
     "elapsed": 211,
     "status": "ok",
     "timestamp": 1596582356665,
     "user": {
      "displayName": "Weihang Ren",
      "photoUrl": "",
      "userId": "18183422973531312162"
     },
     "user_tz": 240
    },
    "id": "G2mmEyRHtKjF",
    "outputId": "9162c4a2-8d25-4bcb-cd6c-a8637d89b1db"
   },
   "outputs": [
    {
     "data": {
      "text/plain": [
       "array(['tg2718', 'sjl222', 'rg3266', 'zl2856', 'jy3026', 'zs2440',\n",
       "       'xt2230', 'wx2226', 'atc214', 'qt2131', 'mz2776'], dtype=object)"
      ]
     },
     "execution_count": 24,
     "metadata": {
      "tags": []
     },
     "output_type": "execute_result"
    }
   ],
   "source": [
    "# lottery(df_group1, reverse=True)"
   ]
  },
  {
   "cell_type": "markdown",
   "metadata": {
    "colab_type": "text",
    "id": "vYkGko95QUh5"
   },
   "source": [
    "## Section 2: Schedules for the Second Round\n",
    "\n",
    "**no longer necessary since this is done within the assign() function**\n",
    "\n",
    "TODO: For each student, given their preference list (excluding assigned semi-core course) `pref_r2`, and assigned semi-core course `sc_assigned`, generate list of schedules which satisfy the following constraints:\n",
    "* All 3 courses do not overlap in course timing\n",
    "* Includes exactly 2 courses (excluding assigned semi-core course)\n",
    "\n"
   ]
  },
  {
   "cell_type": "code",
   "execution_count": null,
   "metadata": {
    "colab": {},
    "colab_type": "code",
    "id": "8Q3ILid8QaK3"
   },
   "outputs": [],
   "source": []
  },
  {
   "cell_type": "code",
   "execution_count": null,
   "metadata": {
    "colab": {},
    "colab_type": "code",
    "id": "3Ref6aOXQa4n"
   },
   "outputs": [],
   "source": []
  },
  {
   "cell_type": "markdown",
   "metadata": {
    "colab_type": "text",
    "id": "jZ-z6PZGX1o8"
   },
   "source": [
    "## Section 3: Two-round Algorithm \n",
    "\n",
    "TODO: Generate course capacities based on the total count of participants.\n",
    "\n",
    "TODO: Student-proposing algorithms are similar (sc or non-sc). Consider to build a common method for student-proposing.\n",
    "\n",
    "Summary:\n",
    "* `test_1()`: course bids only\n",
    "  * main testing: `df_group1`\n",
    "  * comparison testing: `df_group2`\n",
    "\n",
    "* `test_2()`: course bids + preferences\n",
    "  * main testing: `df_group2`\n",
    "  * comparison testing: `df_group1`\n",
    "\n",
    "* `test_3()`: time bids + preferences\n",
    "  * main testing: `df_group2`\n",
    "\n",
    "* `test_4()`: unique lottery + preferences\n",
    "  * main testing: `df_group1` and `df_group2`\n"
   ]
  },
  {
   "cell_type": "markdown",
   "metadata": {
    "colab_type": "text",
    "id": "rB4sGZjxrzWE"
   },
   "source": [
    "### Test 1 & 2 (Course bidding)\n",
    "\n",
    "* Test 1: using implied preferences obtained from bids (`get_bid_pref()`)\n",
    "  \n",
    "* Test 2: using actual preferences (`get_pref()`)\n",
    "\n",
    "For `df_group1`, the main test of interest is Test 1. We carry out Test 2 for comparison.\n",
    "\n",
    "For `df_group2`, the main test of interest is Test 2. We carry out Tests 1 and 4 for comparison."
   ]
  },
  {
   "cell_type": "markdown",
   "metadata": {
    "colab_type": "text",
    "id": "LV5Nb1_H5DiS"
   },
   "source": [
    "**Part I. Code to assign 1 semi-core to each student**\n",
    "\n",
    "- Select each students' biddings of the first sc course on their preference lists as `b_sc_1`;\n",
    "- For each semi-core course:\n",
    "  - Order students by bidding `b_sc_1` from high to low\n",
    "  - Assign top *k* students to this course (*k* = course capacity)\n",
    "- If there are students who have not been assigned:\n",
    "  - Excluding students who already have a sc course, select each students' biddings of the second sc course on their preference lists as `b_sc_2`;\n",
    "  - ...\n",
    "- Repeat above until all students have 1 sc course.\n",
    "\n",
    "\n",
    "**Note:** Students assigned during this part will not be rejected later."
   ]
  },
  {
   "cell_type": "code",
   "execution_count": null,
   "metadata": {
    "colab": {},
    "colab_type": "code",
    "id": "toKI6Pp2iMg5"
   },
   "outputs": [],
   "source": [
    "sc = ['c1','c3','c5','c6']\n",
    "course = ['c1','c2','c3','c4','c5','c6','c7','c8']"
   ]
  },
  {
   "cell_type": "code",
   "execution_count": null,
   "metadata": {
    "colab": {},
    "colab_type": "code",
    "id": "c9AaoYZ_rkIB"
   },
   "outputs": [],
   "source": [
    "def newCap(c, k, bid_sc_k):\n",
    "    a = 0\n",
    "    if bid_sc_k.get(c):\n",
    "        a = len(bid_sc_k.get(c))\n",
    "    return k - a"
   ]
  },
  {
   "cell_type": "code",
   "execution_count": null,
   "metadata": {
    "colab": {},
    "colab_type": "code",
    "id": "HOxHlDtOsNhy"
   },
   "outputs": [],
   "source": [
    "# assign 1 semi-core\n",
    "def assignSC(df, usePref=True, test4=False, seed=42):\n",
    "    stop = False\n",
    "    r = 0                                    # starts with 0 (first round)\n",
    "    cap = capacity(df)                       # init capacity\n",
    "    if usePref:\n",
    "        pref_sc = get_pref(df, sc=True)      # get pref list of sc\n",
    "    else:\n",
    "        pref_sc = get_bid_pref(df, sc=True)  # get implied pref list of sc from bids\n",
    "    pref_sc_z = {}                           # pref to be updated each round\n",
    "    rejected = pref_sc.keys()\n",
    "\n",
    "    while not stop:\n",
    "        # get first(round#) sc course on each one's pref list\n",
    "        pref_sc_r = {u: x[r] for (u,x) in pref_sc.items() if u in rejected}\n",
    "        # modify pref list\n",
    "        pref_sc_z.update(pref_sc_r)          # here because later updating bid list would be the same\n",
    "\n",
    "        # rank students for each sc by bidding\n",
    "        if not test4:\n",
    "            bid_sc = {c: sorted([((modified_bid(df, seed=seed)).loc[u,c], u) \n",
    "                          for u in pref_sc_z.keys() \n",
    "                          if pref_sc_z[u] == c], reverse=True) \n",
    "                      for c in sc}\n",
    "        elif test4:\n",
    "            bid_sc = {c: sorted([((lottery(df, seed=seed)).loc[u,c], u) \n",
    "                      for u in pref_sc_z.keys() \n",
    "                      if pref_sc_z[u] == c], reverse=True) \n",
    "                  for c in sc}\n",
    "          \n",
    "        # keep top k students\n",
    "        bid_sc_k = {c: s[:cap[c]] for (c, s) in bid_sc.items()}\n",
    "\n",
    "        # find the list of unmatched student unis\n",
    "        rejected = [i[1] for l in [s[cap[c]:] for (c, s) in bid_sc.items()] for i in l]\n",
    "\n",
    "        if rejected: # not empty\n",
    "            r += 1\n",
    "        else:\n",
    "            stop = True\n",
    "\n",
    "    # update capacity\n",
    "    cap = {c: newCap(c, k, bid_sc_k) for (c, k) in cap.items()}\n",
    "    # print(\"Part I: Number of GS rounds:\",r+1)\n",
    "    return bid_sc_k, cap"
   ]
  },
  {
   "cell_type": "code",
   "execution_count": null,
   "metadata": {
    "colab": {},
    "colab_type": "code",
    "id": "0sQgCljWsNWf"
   },
   "outputs": [],
   "source": [
    "# assignSC(df_group1, usePref=False)"
   ]
  },
  {
   "cell_type": "markdown",
   "metadata": {
    "colab_type": "text",
    "id": "CMurFdjFsEg9"
   },
   "source": [
    "**Part II. Code to assign 2 courses to each student**\n",
    "\n",
    "- Remove assigned course, time-conflict course from each student's preference list;\n",
    "\n",
    "- Students propose to the top 2 courses on their modified preference list;\n",
    "  -  Each course rejects if outnumbered capacity and holds others in case of rejecting in rounds after;\n",
    "\n",
    "- Repeat until no one get rejected.\n",
    "\n",
    "**Note:** The output of above algorithm is semi-core stable and always exists."
   ]
  },
  {
   "cell_type": "code",
   "execution_count": null,
   "metadata": {
    "colab": {},
    "colab_type": "code",
    "id": "a7TZzPu9rnjr"
   },
   "outputs": [],
   "source": [
    "from collections import Counter\n",
    "\n",
    "def courseToStudentView(courseView):\n",
    "    \"\"\"\n",
    "    Convert {course: [(bid, uni)]} to {uni: [courses]}\n",
    "    \"\"\"\n",
    "    courseViewUni = {c: [s[1] for s in courseView[c]] for c in courseView.keys()}\n",
    "    studenView = {u: [] for l in courseViewUni.values() for u in l}\n",
    "    for c in courseViewUni.keys():\n",
    "        for u in courseViewUni[c]:\n",
    "            studenView[u].append(c)\n",
    "    return studenView\n",
    "\n",
    "# time conflict course pair\n",
    "coursePair = [{'c1', 'c4'}, {'c2', 'c8'}, {'c3', 'c5'}, {'c6', 'c7'}]\n",
    "\n",
    "def resolveTimeConflict(df, courseView, usePref=True):\n",
    "    # update preference list\n",
    "    if usePref:\n",
    "        updatedPref = get_pref(df)\n",
    "    else:\n",
    "        updatedPref = get_bid_pref(df)\n",
    "    studentView = courseToStudentView(courseView)\n",
    "    for u in studentView.keys():\n",
    "        assignedSC = studentView[u][0]\n",
    "        for pair in coursePair:\n",
    "            if assignedSC in pair:\n",
    "                updatedPref[u] = [i for i in updatedPref[u] if i not in pair]\n",
    "\n",
    "    return updatedPref\n",
    "\n",
    "\n",
    "# general assignment (2 courses default)\n",
    "def assign(df, pref, cap, courseNum=2, test4=False, seed=42):\n",
    "    stop = False\n",
    "    r = 0                                                # round, not used in this function\n",
    "    rejected = pref.keys()\n",
    "    nextProposeQuota = {u: courseNum for u in rejected}  # # of courses rejected last turn\n",
    "    propose = {u: [] for u in pref.keys()}               # store courses to be proposed in each turn\n",
    "    proposed = propose                                   # store proposed courses\n",
    "\n",
    "    while not stop:\n",
    "        # first propose to 2 courses, then propose to quota courses\n",
    "        newPropose = {u: [c for c in x if c not in proposed[u]][:nextProposeQuota[u]]\n",
    "                          for (u,x) in pref.items() if u in set(rejected)}\n",
    "        # update propose and proposed\n",
    "        for u in newPropose.keys():\n",
    "            propose[u].extend(newPropose[u]) \n",
    "            proposed[u].extend(newPropose[u])\n",
    "        # print(propose)  # uncomment this to see glitch\n",
    "\n",
    "        # index bids\n",
    "        if not test4:\n",
    "            bid1 = {c: [((modified_bid(df, seed=seed)).loc[u,c], u) for u in propose.keys() if propose[u][0] == c] \n",
    "                    for c in course}\n",
    "            bid2 = {c: [((modified_bid(df, seed=seed)).loc[u,c], u) for u in propose.keys() if propose[u][1] == c]\n",
    "                    for c in course}\n",
    "        elif test4:\n",
    "            bid1 = {c: [((lottery(df, seed=seed)).loc[u,c], u) for u in propose.keys() if propose[u][0] == c] \n",
    "                    for c in course}\n",
    "            bid2 = {c: [((lottery(df, seed=seed)).loc[u,c], u) for u in propose.keys() if propose[u][1] == c]\n",
    "                    for c in course}\n",
    "        bid = {c: sorted(l + bid2[c], reverse=True) for (c,l) in bid1.items()}\n",
    "\n",
    "        # keep top k students\n",
    "        bid_k = {c: s[:cap[c]] for (c, s) in bid.items()}\n",
    "\n",
    "        # find the list of unmatched student unis\n",
    "        rejected = [i[1] for l in [s[cap[c]:] for (c, s) in bid.items()] for i in l]\n",
    "\n",
    "        # record current (successful) proposal\n",
    "        propose = {u: [] for u in pref.keys()}\n",
    "        propose.update(courseToStudentView(bid_k))\n",
    "\n",
    "        # if no one get rejected, check time conflict\n",
    "        if all([len(cl)==2 for cl in propose.values()]):\n",
    "            # reject second course (less preferred) due to time conflict\n",
    "            rejected = [u for u in propose.keys() if set(propose[u]) in coursePair]\n",
    "            # update propose\n",
    "            for u in rejected:\n",
    "                propose[u].pop()\n",
    "\n",
    "        if rejected: # not empty\n",
    "            r += 1\n",
    "            nextProposeQuota = Counter(rejected)\n",
    "        else:\n",
    "            stop = True\n",
    "    # print(\"Part II: Number of GS rounds:\",r+1)\n",
    "    return bid_k\n",
    "\n",
    "def test_1(group=1, returnAvgRank=False, seed=42):\n",
    "    # (df_group1, df_group2) = self.preprocess(filename)\n",
    "    if group == 1:\n",
    "        df = df_group1\n",
    "    elif group == 2:\n",
    "        df = df_group2\n",
    "    else:\n",
    "        print(\"Group index out of range!\")\n",
    "        \n",
    "    (courseViewSC, cap) = assignSC(df, usePref=False, seed=seed)\n",
    "    updatedPref = resolveTimeConflict(df, courseViewSC, usePref=False)\n",
    "    courseView = assign(df, updatedPref, cap, seed=seed)\n",
    "    \n",
    "    # convert to {uni: course-list}\n",
    "    studentViewSC = courseToStudentView(courseViewSC)\n",
    "    studentView = courseToStudentView(courseView)\n",
    "    \n",
    "    # combine sc with other courses\n",
    "    for u in studentView.keys():\n",
    "        studentView[u].extend(studentViewSC[u])\n",
    "\n",
    "    # compute average rank\n",
    "    trueRank = {u: {c: i for i, c in enumerate(prefs)} \n",
    "                    for u, prefs in get_pref(df).items()}\n",
    "    studentAvgRank = {u: round(sum([trueRank.get(u).get(c) for c in m])/3,3) \n",
    "                                                   for u, m in studentView.items()}\n",
    "    testAvgRank = round(sum([r for (u,r) in studentAvgRank.items()])/len(trueRank),4)\n",
    "\n",
    "    # if returnAvgRank=True, return avg ranks instead of matching\n",
    "    if returnAvgRank:\n",
    "      return testAvgRank, studentAvgRank\n",
    "\n",
    "    print('Test Average Rank:', testAvgRank)\n",
    "    print()\n",
    "        \n",
    "    # The last (third) course is the semi-core requirement\n",
    "    return studentView\n",
    "\n",
    "def test_2(group=1, returnAvgRank=False, seed=42):\n",
    "    # (df_group1, df_group2) = self.preprocess(filename)\n",
    "    if group == 1:\n",
    "        df = df_group1\n",
    "    elif group == 2:\n",
    "        df = df_group2\n",
    "    else:\n",
    "        print(\"Group index out of range!\")\n",
    "        \n",
    "    (courseViewSC, cap) = assignSC(df, seed=seed)\n",
    "    updatedPref = resolveTimeConflict(df, courseViewSC)\n",
    "    courseView = assign(df, updatedPref, cap, seed=seed)\n",
    "    \n",
    "    # convert to {uni: course-list}\n",
    "    studentViewSC = courseToStudentView(courseViewSC)\n",
    "    studentView = courseToStudentView(courseView)\n",
    "    \n",
    "    # combine sc with other courses\n",
    "    for u in studentView.keys():\n",
    "        studentView[u].extend(studentViewSC[u])\n",
    "\n",
    "    # compute average rank\n",
    "    trueRank = {u: {c: i for i, c in enumerate(prefs)} \n",
    "                    for u, prefs in get_pref(df).items()}\n",
    "    studentAvgRank = {u: round(sum([trueRank.get(u).get(c) for c in m])/3,3) \n",
    "                                                   for u, m in studentView.items()}\n",
    "    testAvgRank = round(sum([r for (u,r) in studentAvgRank.items()])/len(trueRank),4)\n",
    "    \n",
    "    # if returnAvgRank=True, return avg ranks instead of matching\n",
    "    if returnAvgRank:\n",
    "      return testAvgRank, studentAvgRank\n",
    "\n",
    "    print('Test Average Rank:', testAvgRank)\n",
    "    print()\n",
    "        \n",
    "    # The last (third) course is the semi-core requirement\n",
    "    return studentView\n"
   ]
  },
  {
   "cell_type": "markdown",
   "metadata": {
    "colab_type": "text",
    "id": "vPcLmUOM1xJa"
   },
   "source": [
    "**Part III. Carry out the matching using `test_1()` and `test_2()`**\n",
    "\n",
    "`df_group1`: \n",
    "* Main testing: using `test_1()`\n",
    "* Comparison testing: using `test_2()`\n",
    "\n",
    "`df_group2`:\n",
    "* Main testing: using `test_2()`\n",
    "* Comparison testing: using `test_1()`"
   ]
  },
  {
   "cell_type": "code",
   "execution_count": null,
   "metadata": {
    "colab": {
     "base_uri": "https://localhost:8080/",
     "height": 286
    },
    "colab_type": "code",
    "executionInfo": {
     "elapsed": 1027,
     "status": "ok",
     "timestamp": 1597165371933,
     "user": {
      "displayName": "Joanne Tho",
      "photoUrl": "https://lh3.googleusercontent.com/a-/AOh14Gi6BXt-TGxdn3YsvO7Q_36euxQ6p2AjuRghvfAE=s64",
      "userId": "02383400307021747479"
     },
     "user_tz": 240
    },
    "id": "1rh_i5GvmUQw",
    "outputId": "82260552-511a-4ee6-b73b-dae88a1f23f9"
   },
   "outputs": [
    {
     "name": "stdout",
     "output_type": "stream",
     "text": [
      "Test Average Rank: 1.9762\n",
      "\n"
     ]
    },
    {
     "data": {
      "text/plain": [
       "{'atc214': ['c2', 'c5', 'c1'],\n",
       " 'ih2350': ['c2', 'c6', 'c3'],\n",
       " 'jy3026': ['c2', 'c3', 'c1'],\n",
       " 'la2836': ['c5', 'c8', 'c6'],\n",
       " 'mz2776': ['c6', 'c8', 'c3'],\n",
       " 'qt2131': ['c5', 'c8', 'c6'],\n",
       " 'rg3266': ['c7', 'c8', 'c1'],\n",
       " 'rrb215': ['c3', 'c8', 'c1'],\n",
       " 'sjl222': ['c1', 'c6', 'c3'],\n",
       " 'tg2718': ['c3', 'c7', 'c1'],\n",
       " 'wx2226': ['c2', 'c7', 'c1'],\n",
       " 'xt2230': ['c2', 'c5', 'c6'],\n",
       " 'zl2856': ['c1', 'c3', 'c6'],\n",
       " 'zs2440': ['c2', 'c5', 'c6']}"
      ]
     },
     "execution_count": 59,
     "metadata": {
      "tags": []
     },
     "output_type": "execute_result"
    }
   ],
   "source": [
    "# Main test for df_group1\n",
    "test_1(1)"
   ]
  },
  {
   "cell_type": "code",
   "execution_count": null,
   "metadata": {
    "colab": {
     "base_uri": "https://localhost:8080/",
     "height": 286
    },
    "colab_type": "code",
    "executionInfo": {
     "elapsed": 1488,
     "status": "ok",
     "timestamp": 1597165374206,
     "user": {
      "displayName": "Joanne Tho",
      "photoUrl": "https://lh3.googleusercontent.com/a-/AOh14Gi6BXt-TGxdn3YsvO7Q_36euxQ6p2AjuRghvfAE=s64",
      "userId": "02383400307021747479"
     },
     "user_tz": 240
    },
    "id": "Jha2zceJwbzy",
    "outputId": "e660d90f-8edd-4416-c37a-d018741085d4"
   },
   "outputs": [
    {
     "name": "stdout",
     "output_type": "stream",
     "text": [
      "Test Average Rank: 1.5001\n",
      "\n"
     ]
    },
    {
     "data": {
      "text/plain": [
       "{'atc214': ['c2', 'c5', 'c1'],\n",
       " 'ih2350': ['c2', 'c6', 'c3'],\n",
       " 'jy3026': ['c2', 'c3', 'c1'],\n",
       " 'la2836': ['c6', 'c8', 'c5'],\n",
       " 'mz2776': ['c2', 'c6', 'c3'],\n",
       " 'qt2131': ['c5', 'c8', 'c6'],\n",
       " 'rg3266': ['c2', 'c5', 'c1'],\n",
       " 'rrb215': ['c3', 'c6', 'c1'],\n",
       " 'sjl222': ['c3', 'c6', 'c1'],\n",
       " 'tg2718': ['c5', 'c7', 'c1'],\n",
       " 'wx2226': ['c2', 'c7', 'c1'],\n",
       " 'xt2230': ['c2', 'c4', 'c3'],\n",
       " 'zl2856': ['c3', 'c6', 'c1'],\n",
       " 'zs2440': ['c2', 'c4', 'c3']}"
      ]
     },
     "execution_count": 60,
     "metadata": {
      "tags": []
     },
     "output_type": "execute_result"
    }
   ],
   "source": [
    "# Comparison test for df_group1\n",
    "test_2(1)"
   ]
  },
  {
   "cell_type": "code",
   "execution_count": null,
   "metadata": {
    "colab": {
     "base_uri": "https://localhost:8080/",
     "height": 487
    },
    "colab_type": "code",
    "executionInfo": {
     "elapsed": 1407,
     "status": "ok",
     "timestamp": 1597164166461,
     "user": {
      "displayName": "Joanne Tho",
      "photoUrl": "https://lh3.googleusercontent.com/a-/AOh14Gi6BXt-TGxdn3YsvO7Q_36euxQ6p2AjuRghvfAE=s64",
      "userId": "02383400307021747479"
     },
     "user_tz": 240
    },
    "id": "Gr1SsAns4bVJ",
    "outputId": "5318e0a8-0d3a-485e-9619-b8110c43ad48"
   },
   "outputs": [
    {
     "name": "stdout",
     "output_type": "stream",
     "text": [
      "Test Average Rank: 1.6667\n",
      "\n"
     ]
    },
    {
     "data": {
      "text/plain": [
       "{'cf2799': ['c4', 'c7', 'c3'],\n",
       " 'da2899': ['c4', 'c7', 'c3'],\n",
       " 'js5553': ['c2', 'c3', 'c1'],\n",
       " 'lh2991': ['c2', 'c4', 'c3'],\n",
       " 'ma3973': ['c2', 'c5', 'c1'],\n",
       " 'mds225': ['c2', 'c6', 'c1'],\n",
       " 'pa2561': ['c5', 'c6', 'c1'],\n",
       " 'qz2391': ['c2', 'c4', 'c3'],\n",
       " 'rs4011': ['c2', 'c4', 'c3'],\n",
       " 'sa3763': ['c5', 'c6', 'c1'],\n",
       " 'sc4597': ['c2', 'c6', 'c3'],\n",
       " 'sc4617': ['c5', 'c7', 'c1'],\n",
       " 'sc4619': ['c5', 'c7', 'c1'],\n",
       " 'sc4811': ['c6', 'c8', 'c1'],\n",
       " 'sg3775': ['c4', 'c6', 'c3'],\n",
       " 'sj2993': ['c2', 'c5', 'c1'],\n",
       " 'tnw211': ['c2', 'c5', 'c6'],\n",
       " 'vml213': ['c2', 'c3', 'c1'],\n",
       " 'wg2347': ['c6', 'c8', 'c1'],\n",
       " 'wr2325': ['c4', 'c8', 'c3'],\n",
       " 'xm2235': ['c4', 'c6', 'c3'],\n",
       " 'yd2547': ['c5', 'c6', 'c1'],\n",
       " 'yf2507': ['c5', 'c6', 'c1'],\n",
       " 'yp2555': ['c2', 'c4', 'c3'],\n",
       " 'yw3379': ['c2', 'c4', 'c3'],\n",
       " 'zp2215': ['c2', 'c4', 'c5']}"
      ]
     },
     "execution_count": 34,
     "metadata": {
      "tags": []
     },
     "output_type": "execute_result"
    }
   ],
   "source": [
    "# Main test for df_group2\n",
    "test_2(2)"
   ]
  },
  {
   "cell_type": "code",
   "execution_count": null,
   "metadata": {
    "colab": {
     "base_uri": "https://localhost:8080/",
     "height": 487
    },
    "colab_type": "code",
    "executionInfo": {
     "elapsed": 1001,
     "status": "ok",
     "timestamp": 1597165502160,
     "user": {
      "displayName": "Joanne Tho",
      "photoUrl": "https://lh3.googleusercontent.com/a-/AOh14Gi6BXt-TGxdn3YsvO7Q_36euxQ6p2AjuRghvfAE=s64",
      "userId": "02383400307021747479"
     },
     "user_tz": 240
    },
    "id": "jpsn8YdK67ii",
    "outputId": "4b3665b3-571e-4d35-fbe7-63f0f04c6b5a"
   },
   "outputs": [
    {
     "name": "stdout",
     "output_type": "stream",
     "text": [
      "Test Average Rank: 2.3077\n",
      "\n"
     ]
    },
    {
     "data": {
      "text/plain": [
       "{'cf2799': ['c3', 'c8', 'c1'],\n",
       " 'da2899': ['c4', 'c8', 'c6'],\n",
       " 'js5553': ['c2', 'c3', 'c1'],\n",
       " 'lh2991': ['c2', 'c4', 'c3'],\n",
       " 'ma3973': ['c5', 'c6', 'c1'],\n",
       " 'mds225': ['c2', 'c6', 'c1'],\n",
       " 'pa2561': ['c5', 'c8', 'c1'],\n",
       " 'qz2391': ['c2', 'c4', 'c3'],\n",
       " 'rs4011': ['c4', 'c8', 'c6'],\n",
       " 'sa3763': ['c7', 'c8', 'c1'],\n",
       " 'sc4597': ['c2', 'c6', 'c3'],\n",
       " 'sc4617': ['c7', 'c8', 'c1'],\n",
       " 'sc4619': ['c2', 'c3', 'c1'],\n",
       " 'sc4811': ['c7', 'c8', 'c1'],\n",
       " 'sg3775': ['c4', 'c8', 'c3'],\n",
       " 'sj2993': ['c2', 'c7', 'c1'],\n",
       " 'tnw211': ['c2', 'c7', 'c3'],\n",
       " 'vml213': ['c2', 'c3', 'c1'],\n",
       " 'wg2347': ['c7', 'c8', 'c1'],\n",
       " 'wr2325': ['c4', 'c8', 'c3'],\n",
       " 'xm2235': ['c4', 'c7', 'c3'],\n",
       " 'yd2547': ['c4', 'c5', 'c6'],\n",
       " 'yf2507': ['c5', 'c6', 'c1'],\n",
       " 'yp2555': ['c2', 'c4', 'c3'],\n",
       " 'yw3379': ['c2', 'c4', 'c3'],\n",
       " 'zp2215': ['c2', 'c4', 'c5']}"
      ]
     },
     "execution_count": 67,
     "metadata": {
      "tags": []
     },
     "output_type": "execute_result"
    }
   ],
   "source": [
    "# Comparison test for df_group2\n",
    "test_1(2)"
   ]
  },
  {
   "cell_type": "markdown",
   "metadata": {
    "colab_type": "text",
    "id": "_FkiXW5fWBcX"
   },
   "source": [
    "### Test 3 (Preferences + Timeslot bidding)\n"
   ]
  },
  {
   "cell_type": "code",
   "execution_count": null,
   "metadata": {
    "colab": {},
    "colab_type": "code",
    "id": "yjxob8IGWZpN"
   },
   "outputs": [],
   "source": [
    "def timeToCourse(df):\n",
    "  \"\"\"Converts time bids to course bids.\"\"\"\n",
    "\n",
    "  # check that the dataframe passed into function contains time bids\n",
    "  try:\n",
    "    df.loc[:,'t1':'t4']\n",
    "  except:\n",
    "    print(\"No timeslot keys found. This function only works for df_group2.\")\n",
    "\n",
    "  new_df = df.loc[:,'R1':'R8']\n",
    "  new_df['c1'] = df.t2; new_df['c2'] = df.t3; new_df['c3'] = df.t4; new_df['c4'] = df.t2\n",
    "  new_df['c5'] = df.t4; new_df['c6'] = df.t1; new_df['c7'] = df.t1; new_df['c8'] = df.t3\n",
    "\n",
    "\n",
    "  return new_df"
   ]
  },
  {
   "cell_type": "code",
   "execution_count": null,
   "metadata": {
    "colab": {},
    "colab_type": "code",
    "id": "SbhfdW2LWaHv"
   },
   "outputs": [],
   "source": [
    "# timeToCourse(df_group2)"
   ]
  },
  {
   "cell_type": "code",
   "execution_count": null,
   "metadata": {
    "colab": {},
    "colab_type": "code",
    "id": "Ho86L4ZSWeD7"
   },
   "outputs": [],
   "source": [
    "def test_3(group=2, returnAvgRank=False, seed=42):\n",
    "    # (df_group1, df_group2) = self.preprocess(filename)\n",
    "    if group == 1:\n",
    "        print(\"Test 3 only applies to df_group2.\")\n",
    "    elif group == 2:\n",
    "        df = timeToCourse(df_group2)\n",
    "    else:\n",
    "        print(\"Group index out of range!\")\n",
    "        \n",
    "    (courseViewSC, cap) = assignSC(df, seed=seed)\n",
    "    updatedPref = resolveTimeConflict(df, courseViewSC)\n",
    "    courseView = assign(df, updatedPref, cap, seed=seed)\n",
    "    \n",
    "    # convert to {uni: course-list}\n",
    "    studentViewSC = courseToStudentView(courseViewSC)\n",
    "    studentView = courseToStudentView(courseView)\n",
    "    \n",
    "    # combine sc with other courses\n",
    "    for u in studentView.keys():\n",
    "        studentView[u].extend(studentViewSC[u])\n",
    "\n",
    "    # compute average rank\n",
    "    trueRank = {u: {c: i for i, c in enumerate(prefs)} \n",
    "                    for u, prefs in get_pref(df).items()}\n",
    "    studentAvgRank = {u: round(sum([trueRank.get(u).get(c) for c in m])/3,3) \n",
    "                                                   for u, m in studentView.items()}\n",
    "    testAvgRank = round(sum([r for (u,r) in studentAvgRank.items()])/len(trueRank),4)\n",
    "\n",
    "    # if returnAvgRank=True, return avg ranks instead of matching\n",
    "    if returnAvgRank:\n",
    "      return testAvgRank, studentAvgRank\n",
    "    \n",
    "    print('Test Average Rank:', testAvgRank)\n",
    "    print()\n",
    "    \n",
    "    # The last (third) course is the semi-core requirement\n",
    "    return studentView"
   ]
  },
  {
   "cell_type": "markdown",
   "metadata": {
    "colab_type": "text",
    "id": "ouMfcIhf8SIP"
   },
   "source": [
    "**Carry out the matching using `test_3()`**\n",
    "\n",
    "For `df_group2` only\n"
   ]
  },
  {
   "cell_type": "code",
   "execution_count": null,
   "metadata": {
    "colab": {
     "base_uri": "https://localhost:8080/",
     "height": 487
    },
    "colab_type": "code",
    "executionInfo": {
     "elapsed": 1663,
     "status": "ok",
     "timestamp": 1597165435282,
     "user": {
      "displayName": "Joanne Tho",
      "photoUrl": "https://lh3.googleusercontent.com/a-/AOh14Gi6BXt-TGxdn3YsvO7Q_36euxQ6p2AjuRghvfAE=s64",
      "userId": "02383400307021747479"
     },
     "user_tz": 240
    },
    "id": "IwiUkiMF8Y9i",
    "outputId": "9803f9ae-2aaa-4094-89f0-0f77f75c77e0"
   },
   "outputs": [
    {
     "name": "stdout",
     "output_type": "stream",
     "text": [
      "Test Average Rank: 1.7563\n",
      "\n"
     ]
    },
    {
     "data": {
      "text/plain": [
       "{'cf2799': ['c2', 'c4', 'c3'],\n",
       " 'da2899': ['c4', 'c7', 'c3'],\n",
       " 'js5553': ['c2', 'c3', 'c1'],\n",
       " 'lh2991': ['c2', 'c4', 'c3'],\n",
       " 'ma3973': ['c2', 'c3', 'c1'],\n",
       " 'mds225': ['c4', 'c6', 'c3'],\n",
       " 'pa2561': ['c5', 'c6', 'c1'],\n",
       " 'qz2391': ['c2', 'c6', 'c1'],\n",
       " 'rs4011': ['c2', 'c4', 'c3'],\n",
       " 'sa3763': ['c5', 'c6', 'c1'],\n",
       " 'sc4597': ['c2', 'c6', 'c3'],\n",
       " 'sc4617': ['c5', 'c7', 'c1'],\n",
       " 'sc4619': ['c2', 'c5', 'c1'],\n",
       " 'sc4811': ['c6', 'c8', 'c1'],\n",
       " 'sg3775': ['c4', 'c6', 'c3'],\n",
       " 'sj2993': ['c2', 'c5', 'c1'],\n",
       " 'tnw211': ['c2', 'c5', 'c6'],\n",
       " 'vml213': ['c2', 'c5', 'c1'],\n",
       " 'wg2347': ['c6', 'c8', 'c1'],\n",
       " 'wr2325': ['c4', 'c8', 'c3'],\n",
       " 'xm2235': ['c4', 'c6', 'c3'],\n",
       " 'yd2547': ['c5', 'c6', 'c1'],\n",
       " 'yf2507': ['c4', 'c6', 'c3'],\n",
       " 'yp2555': ['c2', 'c5', 'c1'],\n",
       " 'yw3379': ['c2', 'c4', 'c3'],\n",
       " 'zp2215': ['c4', 'c6', 'c5']}"
      ]
     },
     "execution_count": 64,
     "metadata": {
      "tags": []
     },
     "output_type": "execute_result"
    }
   ],
   "source": [
    "test_3(2)"
   ]
  },
  {
   "cell_type": "markdown",
   "metadata": {
    "colab_type": "text",
    "id": "Ygr8ulUmWerY"
   },
   "source": [
    "### Test 4 (Preferences only)\n",
    "\n",
    "We ignore the bids and only use student preferences to conduct the assignment.\n",
    "\n",
    "For course preferences, we use a unique lottery to represent 'first-come-first-serve'."
   ]
  },
  {
   "cell_type": "code",
   "execution_count": null,
   "metadata": {
    "colab": {},
    "colab_type": "code",
    "id": "vWqR4Vz7Wudd"
   },
   "outputs": [],
   "source": [
    "def lottery(ds, seed=42, reverse=False):\n",
    "    '''Uses a unique lottery to create a fake bid df for matching'''\n",
    "    np.random.seed(seed)\n",
    "    ds = ds.reset_index()\n",
    "    if reverse:\n",
    "      list_ = np.flip(np.random.permutation(ds['UNI']))\n",
    "    else:\n",
    "      list_ = np.random.permutation(ds['UNI'])\n",
    "    lotteryBids = pd.DataFrame([([u]+[100-r]*8) for r,u in enumerate(list_)]).set_index(0)\n",
    "    lotteryBids.columns = course\n",
    "    return lotteryBids\n",
    "    "
   ]
  },
  {
   "cell_type": "code",
   "execution_count": null,
   "metadata": {
    "colab": {
     "base_uri": "https://localhost:8080/",
     "height": 491
    },
    "colab_type": "code",
    "executionInfo": {
     "elapsed": 1018,
     "status": "ok",
     "timestamp": 1597164193535,
     "user": {
      "displayName": "Joanne Tho",
      "photoUrl": "https://lh3.googleusercontent.com/a-/AOh14Gi6BXt-TGxdn3YsvO7Q_36euxQ6p2AjuRghvfAE=s64",
      "userId": "02383400307021747479"
     },
     "user_tz": 240
    },
    "id": "ykAJYKlp-8_o",
    "outputId": "ef29f1ee-c373-40e8-8373-82d2f361f534"
   },
   "outputs": [
    {
     "data": {
      "text/html": [
       "<div>\n",
       "<style scoped>\n",
       "    .dataframe tbody tr th:only-of-type {\n",
       "        vertical-align: middle;\n",
       "    }\n",
       "\n",
       "    .dataframe tbody tr th {\n",
       "        vertical-align: top;\n",
       "    }\n",
       "\n",
       "    .dataframe thead th {\n",
       "        text-align: right;\n",
       "    }\n",
       "</style>\n",
       "<table border=\"1\" class=\"dataframe\">\n",
       "  <thead>\n",
       "    <tr style=\"text-align: right;\">\n",
       "      <th></th>\n",
       "      <th>c1</th>\n",
       "      <th>c2</th>\n",
       "      <th>c3</th>\n",
       "      <th>c4</th>\n",
       "      <th>c5</th>\n",
       "      <th>c6</th>\n",
       "      <th>c7</th>\n",
       "      <th>c8</th>\n",
       "    </tr>\n",
       "    <tr>\n",
       "      <th>0</th>\n",
       "      <th></th>\n",
       "      <th></th>\n",
       "      <th></th>\n",
       "      <th></th>\n",
       "      <th></th>\n",
       "      <th></th>\n",
       "      <th></th>\n",
       "      <th></th>\n",
       "    </tr>\n",
       "  </thead>\n",
       "  <tbody>\n",
       "    <tr>\n",
       "      <th>atc214</th>\n",
       "      <td>100</td>\n",
       "      <td>100</td>\n",
       "      <td>100</td>\n",
       "      <td>100</td>\n",
       "      <td>100</td>\n",
       "      <td>100</td>\n",
       "      <td>100</td>\n",
       "      <td>100</td>\n",
       "    </tr>\n",
       "    <tr>\n",
       "      <th>la2836</th>\n",
       "      <td>99</td>\n",
       "      <td>99</td>\n",
       "      <td>99</td>\n",
       "      <td>99</td>\n",
       "      <td>99</td>\n",
       "      <td>99</td>\n",
       "      <td>99</td>\n",
       "      <td>99</td>\n",
       "    </tr>\n",
       "    <tr>\n",
       "      <th>qt2131</th>\n",
       "      <td>98</td>\n",
       "      <td>98</td>\n",
       "      <td>98</td>\n",
       "      <td>98</td>\n",
       "      <td>98</td>\n",
       "      <td>98</td>\n",
       "      <td>98</td>\n",
       "      <td>98</td>\n",
       "    </tr>\n",
       "    <tr>\n",
       "      <th>ih2350</th>\n",
       "      <td>97</td>\n",
       "      <td>97</td>\n",
       "      <td>97</td>\n",
       "      <td>97</td>\n",
       "      <td>97</td>\n",
       "      <td>97</td>\n",
       "      <td>97</td>\n",
       "      <td>97</td>\n",
       "    </tr>\n",
       "    <tr>\n",
       "      <th>mz2776</th>\n",
       "      <td>96</td>\n",
       "      <td>96</td>\n",
       "      <td>96</td>\n",
       "      <td>96</td>\n",
       "      <td>96</td>\n",
       "      <td>96</td>\n",
       "      <td>96</td>\n",
       "      <td>96</td>\n",
       "    </tr>\n",
       "    <tr>\n",
       "      <th>jy3026</th>\n",
       "      <td>95</td>\n",
       "      <td>95</td>\n",
       "      <td>95</td>\n",
       "      <td>95</td>\n",
       "      <td>95</td>\n",
       "      <td>95</td>\n",
       "      <td>95</td>\n",
       "      <td>95</td>\n",
       "    </tr>\n",
       "    <tr>\n",
       "      <th>xt2230</th>\n",
       "      <td>94</td>\n",
       "      <td>94</td>\n",
       "      <td>94</td>\n",
       "      <td>94</td>\n",
       "      <td>94</td>\n",
       "      <td>94</td>\n",
       "      <td>94</td>\n",
       "      <td>94</td>\n",
       "    </tr>\n",
       "    <tr>\n",
       "      <th>zs2440</th>\n",
       "      <td>93</td>\n",
       "      <td>93</td>\n",
       "      <td>93</td>\n",
       "      <td>93</td>\n",
       "      <td>93</td>\n",
       "      <td>93</td>\n",
       "      <td>93</td>\n",
       "      <td>93</td>\n",
       "    </tr>\n",
       "    <tr>\n",
       "      <th>rrb215</th>\n",
       "      <td>92</td>\n",
       "      <td>92</td>\n",
       "      <td>92</td>\n",
       "      <td>92</td>\n",
       "      <td>92</td>\n",
       "      <td>92</td>\n",
       "      <td>92</td>\n",
       "      <td>92</td>\n",
       "    </tr>\n",
       "    <tr>\n",
       "      <th>zl2856</th>\n",
       "      <td>91</td>\n",
       "      <td>91</td>\n",
       "      <td>91</td>\n",
       "      <td>91</td>\n",
       "      <td>91</td>\n",
       "      <td>91</td>\n",
       "      <td>91</td>\n",
       "      <td>91</td>\n",
       "    </tr>\n",
       "    <tr>\n",
       "      <th>rg3266</th>\n",
       "      <td>90</td>\n",
       "      <td>90</td>\n",
       "      <td>90</td>\n",
       "      <td>90</td>\n",
       "      <td>90</td>\n",
       "      <td>90</td>\n",
       "      <td>90</td>\n",
       "      <td>90</td>\n",
       "    </tr>\n",
       "    <tr>\n",
       "      <th>wx2226</th>\n",
       "      <td>89</td>\n",
       "      <td>89</td>\n",
       "      <td>89</td>\n",
       "      <td>89</td>\n",
       "      <td>89</td>\n",
       "      <td>89</td>\n",
       "      <td>89</td>\n",
       "      <td>89</td>\n",
       "    </tr>\n",
       "    <tr>\n",
       "      <th>sjl222</th>\n",
       "      <td>88</td>\n",
       "      <td>88</td>\n",
       "      <td>88</td>\n",
       "      <td>88</td>\n",
       "      <td>88</td>\n",
       "      <td>88</td>\n",
       "      <td>88</td>\n",
       "      <td>88</td>\n",
       "    </tr>\n",
       "    <tr>\n",
       "      <th>tg2718</th>\n",
       "      <td>87</td>\n",
       "      <td>87</td>\n",
       "      <td>87</td>\n",
       "      <td>87</td>\n",
       "      <td>87</td>\n",
       "      <td>87</td>\n",
       "      <td>87</td>\n",
       "      <td>87</td>\n",
       "    </tr>\n",
       "  </tbody>\n",
       "</table>\n",
       "</div>"
      ],
      "text/plain": [
       "         c1   c2   c3   c4   c5   c6   c7   c8\n",
       "0                                             \n",
       "atc214  100  100  100  100  100  100  100  100\n",
       "la2836   99   99   99   99   99   99   99   99\n",
       "qt2131   98   98   98   98   98   98   98   98\n",
       "ih2350   97   97   97   97   97   97   97   97\n",
       "mz2776   96   96   96   96   96   96   96   96\n",
       "jy3026   95   95   95   95   95   95   95   95\n",
       "xt2230   94   94   94   94   94   94   94   94\n",
       "zs2440   93   93   93   93   93   93   93   93\n",
       "rrb215   92   92   92   92   92   92   92   92\n",
       "zl2856   91   91   91   91   91   91   91   91\n",
       "rg3266   90   90   90   90   90   90   90   90\n",
       "wx2226   89   89   89   89   89   89   89   89\n",
       "sjl222   88   88   88   88   88   88   88   88\n",
       "tg2718   87   87   87   87   87   87   87   87"
      ]
     },
     "execution_count": 40,
     "metadata": {
      "tags": []
     },
     "output_type": "execute_result"
    }
   ],
   "source": [
    "lottery(df_group1)"
   ]
  },
  {
   "cell_type": "markdown",
   "metadata": {
    "colab_type": "text",
    "id": "wZTLJn1BWvFw"
   },
   "source": [
    "**Part I. Assign 1 semi-core to each student**"
   ]
  },
  {
   "cell_type": "code",
   "execution_count": null,
   "metadata": {
    "colab": {
     "base_uri": "https://localhost:8080/",
     "height": 554
    },
    "colab_type": "code",
    "executionInfo": {
     "elapsed": 1214,
     "status": "ok",
     "timestamp": 1597164613252,
     "user": {
      "displayName": "Joanne Tho",
      "photoUrl": "https://lh3.googleusercontent.com/a-/AOh14Gi6BXt-TGxdn3YsvO7Q_36euxQ6p2AjuRghvfAE=s64",
      "userId": "02383400307021747479"
     },
     "user_tz": 240
    },
    "id": "SNZvGRfNW19P",
    "outputId": "4b8a995d-f82f-49ab-fcda-85fb6587a0da"
   },
   "outputs": [
    {
     "data": {
      "text/plain": [
       "({'c1': [(100, 'sc4617'),\n",
       "   (97, 'rs4011'),\n",
       "   (96, 'tnw211'),\n",
       "   (95, 'ma3973'),\n",
       "   (93, 'sj2993'),\n",
       "   (90, 'sa3763'),\n",
       "   (88, 'yp2555'),\n",
       "   (87, 'yf2507'),\n",
       "   (86, 'js5553'),\n",
       "   (85, 'mds225'),\n",
       "   (83, 'sc4619'),\n",
       "   (81, 'vml213'),\n",
       "   (80, 'yd2547')],\n",
       "  'c3': [(99, 'yw3379'),\n",
       "   (98, 'wr2325'),\n",
       "   (94, 'da2899'),\n",
       "   (92, 'sg3775'),\n",
       "   (91, 'sc4597'),\n",
       "   (89, 'xm2235'),\n",
       "   (82, 'lh2991'),\n",
       "   (79, 'cf2799'),\n",
       "   (78, 'qz2391')],\n",
       "  'c5': [(84, 'zp2215'), (75, 'pa2561')],\n",
       "  'c6': [(77, 'wg2347'), (76, 'sc4811')]},\n",
       " {'c1': 0,\n",
       "  'c2': 13,\n",
       "  'c3': 4,\n",
       "  'c4': 13,\n",
       "  'c5': 11,\n",
       "  'c6': 11,\n",
       "  'c7': 13,\n",
       "  'c8': 13})"
      ]
     },
     "execution_count": 47,
     "metadata": {
      "tags": []
     },
     "output_type": "execute_result"
    }
   ],
   "source": [
    "# checking that assignSC() works for test 4\n",
    "assignSC(df_group2, test4=True)"
   ]
  },
  {
   "cell_type": "markdown",
   "metadata": {
    "colab_type": "text",
    "id": "a46upoW5W2dK"
   },
   "source": [
    "**Part II. Assign 2 courses to each student**"
   ]
  },
  {
   "cell_type": "code",
   "execution_count": null,
   "metadata": {
    "colab": {},
    "colab_type": "code",
    "id": "XI2vXfDaW5zW"
   },
   "outputs": [],
   "source": [
    "def test_4(group=1, returnAvgRank=False, seed=42):\n",
    "    # (df_group1, df_group2) = self.preprocess(filename)\n",
    "    if group == 1:\n",
    "        df = df_group1\n",
    "    elif group == 2:\n",
    "        df = df_group2\n",
    "    else:\n",
    "        print(\"Group index out of range!\")\n",
    "        \n",
    "    (courseViewSC, cap) = assignSC(df, test4=True, seed=seed)\n",
    "    updatedPref = resolveTimeConflict(df, courseViewSC)\n",
    "    courseView = assign(df, updatedPref, cap, test4=True)\n",
    "    \n",
    "    # convert to {uni: course-list}\n",
    "    studentViewSC = courseToStudentView(courseViewSC)\n",
    "    studentView = courseToStudentView(courseView)\n",
    "    \n",
    "    # combine sc with other courses\n",
    "    for u in studentView.keys():\n",
    "        studentView[u].extend(studentViewSC[u])\n",
    "\n",
    "    # compute average rank\n",
    "    trueRank = {u: {c: i for i, c in enumerate(prefs)} \n",
    "                    for u, prefs in get_pref(df).items()}\n",
    "    studentAvgRank = {u: round(sum([trueRank.get(u).get(c) for c in m])/3,3) \n",
    "                                                   for u, m in studentView.items()}\n",
    "    testAvgRank = round(sum([r for (u,r) in studentAvgRank.items()])/len(trueRank),4)\n",
    "\n",
    "    # if returnAvgRank=True, return avg ranks instead of matching\n",
    "    if returnAvgRank:\n",
    "      return testAvgRank, studentAvgRank\n",
    "\n",
    "    print('Test Average Rank:', testAvgRank)\n",
    "    print()\n",
    "        \n",
    "    # The last (third) course is the semi-core requirement\n",
    "    return studentView"
   ]
  },
  {
   "cell_type": "markdown",
   "metadata": {
    "colab_type": "text",
    "id": "XZ_Sf96fN4Wd"
   },
   "source": [
    "**Part III. Carry out test 4**\n",
    "\n",
    "For both `df_group1` and `df_group2`"
   ]
  },
  {
   "cell_type": "code",
   "execution_count": null,
   "metadata": {
    "colab": {
     "base_uri": "https://localhost:8080/",
     "height": 286
    },
    "colab_type": "code",
    "executionInfo": {
     "elapsed": 1146,
     "status": "ok",
     "timestamp": 1597165581208,
     "user": {
      "displayName": "Joanne Tho",
      "photoUrl": "https://lh3.googleusercontent.com/a-/AOh14Gi6BXt-TGxdn3YsvO7Q_36euxQ6p2AjuRghvfAE=s64",
      "userId": "02383400307021747479"
     },
     "user_tz": 240
    },
    "id": "QBqcJoGCW6GY",
    "outputId": "36b55b3d-bd9a-47aa-a667-de4eb10d61c0"
   },
   "outputs": [
    {
     "name": "stdout",
     "output_type": "stream",
     "text": [
      "Test Average Rank: 1.4049\n",
      "\n"
     ]
    },
    {
     "data": {
      "text/plain": [
       "{'atc214': ['c2', 'c5', 'c1'],\n",
       " 'ih2350': ['c2', 'c6', 'c3'],\n",
       " 'jy3026': ['c2', 'c3', 'c1'],\n",
       " 'la2836': ['c6', 'c8', 'c5'],\n",
       " 'mz2776': ['c2', 'c6', 'c3'],\n",
       " 'qt2131': ['c5', 'c8', 'c6'],\n",
       " 'rg3266': ['c2', 'c3', 'c1'],\n",
       " 'rrb215': ['c3', 'c6', 'c1'],\n",
       " 'sjl222': ['c5', 'c6', 'c1'],\n",
       " 'tg2718': ['c4', 'c7', 'c5'],\n",
       " 'wx2226': ['c2', 'c7', 'c1'],\n",
       " 'xt2230': ['c2', 'c4', 'c3'],\n",
       " 'zl2856': ['c3', 'c6', 'c1'],\n",
       " 'zs2440': ['c2', 'c3', 'c1']}"
      ]
     },
     "execution_count": 69,
     "metadata": {
      "tags": []
     },
     "output_type": "execute_result"
    }
   ],
   "source": [
    "# Test 4 with df_group1\n",
    "test_4(1)"
   ]
  },
  {
   "cell_type": "code",
   "execution_count": null,
   "metadata": {
    "colab": {
     "base_uri": "https://localhost:8080/",
     "height": 487
    },
    "colab_type": "code",
    "executionInfo": {
     "elapsed": 1805,
     "status": "ok",
     "timestamp": 1597164910333,
     "user": {
      "displayName": "Joanne Tho",
      "photoUrl": "https://lh3.googleusercontent.com/a-/AOh14Gi6BXt-TGxdn3YsvO7Q_36euxQ6p2AjuRghvfAE=s64",
      "userId": "02383400307021747479"
     },
     "user_tz": 240
    },
    "id": "mLaSxWfTNX7H",
    "outputId": "06826b0b-c7a2-4a29-d8ca-b60b6f7d4861"
   },
   "outputs": [
    {
     "name": "stdout",
     "output_type": "stream",
     "text": [
      "Test Average Rank: 1.641\n",
      "\n"
     ]
    },
    {
     "data": {
      "text/plain": [
       "{'cf2799': ['c4', 'c7', 'c3'],\n",
       " 'da2899': ['c2', 'c4', 'c3'],\n",
       " 'js5553': ['c2', 'c5', 'c1'],\n",
       " 'lh2991': ['c2', 'c4', 'c3'],\n",
       " 'ma3973': ['c2', 'c3', 'c1'],\n",
       " 'mds225': ['c2', 'c6', 'c1'],\n",
       " 'pa2561': ['c4', 'c6', 'c5'],\n",
       " 'qz2391': ['c4', 'c6', 'c3'],\n",
       " 'rs4011': ['c2', 'c3', 'c1'],\n",
       " 'sa3763': ['c5', 'c6', 'c1'],\n",
       " 'sc4597': ['c2', 'c6', 'c3'],\n",
       " 'sc4617': ['c5', 'c7', 'c1'],\n",
       " 'sc4619': ['c2', 'c5', 'c1'],\n",
       " 'sc4811': ['c4', 'c8', 'c6'],\n",
       " 'sg3775': ['c4', 'c6', 'c3'],\n",
       " 'sj2993': ['c2', 'c3', 'c1'],\n",
       " 'tnw211': ['c2', 'c6', 'c1'],\n",
       " 'vml213': ['c5', 'c7', 'c1'],\n",
       " 'wg2347': ['c4', 'c8', 'c6'],\n",
       " 'wr2325': ['c4', 'c8', 'c3'],\n",
       " 'xm2235': ['c4', 'c6', 'c3'],\n",
       " 'yd2547': ['c5', 'c6', 'c1'],\n",
       " 'yf2507': ['c5', 'c6', 'c1'],\n",
       " 'yp2555': ['c2', 'c3', 'c1'],\n",
       " 'yw3379': ['c2', 'c4', 'c3'],\n",
       " 'zp2215': ['c2', 'c4', 'c5']}"
      ]
     },
     "execution_count": 50,
     "metadata": {
      "tags": []
     },
     "output_type": "execute_result"
    }
   ],
   "source": [
    "# Test 4 with df_group2\n",
    "test_4(2)"
   ]
  },
  {
   "cell_type": "markdown",
   "metadata": {
    "colab_type": "text",
    "id": "SfnEYA29PZr2"
   },
   "source": [
    "## Section 4: Average Rank Points Comparison\n",
    "\n",
    "TODO: Calculate the average rank points for each test+group, and compare across tests for each group.\n",
    "\n",
    "*for Test 4, it may be a good idea to run the test with different seeds and find the average ranks over all the tests*"
   ]
  },
  {
   "cell_type": "code",
   "execution_count": null,
   "metadata": {
    "colab": {
     "base_uri": "https://localhost:8080/",
     "height": 218
    },
    "colab_type": "code",
    "executionInfo": {
     "elapsed": 15377,
     "status": "ok",
     "timestamp": 1597166484365,
     "user": {
      "displayName": "Joanne Tho",
      "photoUrl": "https://lh3.googleusercontent.com/a-/AOh14Gi6BXt-TGxdn3YsvO7Q_36euxQ6p2AjuRghvfAE=s64",
      "userId": "02383400307021747479"
     },
     "user_tz": 240
    },
    "id": "H3sbqGeshL5x",
    "outputId": "61f95d26-6eaa-49a8-a27e-e9bda8e59cc8"
   },
   "outputs": [
    {
     "name": "stdout",
     "output_type": "stream",
     "text": [
      "For df_group1, average ranks:\n",
      "  - Test 1: 2.4286\n",
      "  - Test 2: 1.7381\n",
      "  - Test 4: 1.9524\n",
      "  - Test 4 (averaged seeds): 1.872\n",
      "\n",
      "For df_group2, average ranks:\n",
      "  - Test 1: 2.7693\n",
      "  - Test 2: 2.1026\n",
      "  - Test 3: 2.2308\n",
      "  - Test 4: 2.3077\n",
      "  - Test 4 (averaged seeds): 2.3493\n"
     ]
    }
   ],
   "source": [
    "print('For df_group1, average ranks:')\n",
    "print('  - Test 1:', test_1(1, returnAvgRank=True)[0])\n",
    "print('  - Test 2:', test_2(1, returnAvgRank=True)[0])\n",
    "print('  - Test 4:', test_4(1, returnAvgRank=True)[0])\n",
    "# average over 8 different seeds for test 4\n",
    "test4avgRank = 0\n",
    "for s in range(42,50):\n",
    "  test4avgRank += test_4(1, returnAvgRank=True, seed=s)[0]/8\n",
    "print('  - Test 4 (averaged seeds):', round(test4avgRank,4))\n",
    "print()\n",
    "print('For df_group2, average ranks:')\n",
    "print('  - Test 1:', test_1(2, returnAvgRank=True)[0])\n",
    "print('  - Test 2:', test_2(2, returnAvgRank=True)[0])\n",
    "print('  - Test 3:', test_3(2, returnAvgRank=True)[0])\n",
    "print('  - Test 4:', test_4(2, returnAvgRank=True)[0])\n",
    "# average over 8 different seeds for test 4\n",
    "test4avgRank = 0\n",
    "for s in range(42,50):\n",
    "  test4avgRank += test_4(2, returnAvgRank=True, seed=s)[0]/8\n",
    "print('  - Test 4 (averaged seeds):', round(test4avgRank,4))\n"
   ]
  },
  {
   "cell_type": "markdown",
   "metadata": {
    "colab_type": "text",
    "id": "XKxo-6C8i-8r"
   },
   "source": [
    "Firstly, it looks like taking into account students' true preferences does indeed give better outcomes than extrapolating students' preferences from their bids. This phenomenon can be observed for both `df_group1` and `df_group2`.\n",
    "\n",
    "Preliminarily, it seems like first-come-first-serve + true preferences (test 4) performs even better than bidding alone (test 1). \n",
    "\n"
   ]
  }
 ],
 "metadata": {
  "colab": {
   "collapsed_sections": [],
   "name": "CourseAssignment.ipynb",
   "provenance": []
  },
  "kernelspec": {
   "display_name": "Python 3",
   "language": "python",
   "name": "python3"
  },
  "language_info": {
   "codemirror_mode": {
    "name": "ipython",
    "version": 3
   },
   "file_extension": ".py",
   "mimetype": "text/x-python",
   "name": "python",
   "nbconvert_exporter": "python",
   "pygments_lexer": "ipython3",
   "version": "3.7.7"
  }
 },
 "nbformat": 4,
 "nbformat_minor": 1
}
