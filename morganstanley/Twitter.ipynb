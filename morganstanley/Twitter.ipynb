{
 "cells": [
  {
   "cell_type": "markdown",
   "metadata": {},
   "source": [
    "```bash\n",
    "twitterscraper \"morganstanley\" -bd 2018-01-01 -ed 2020-03-26 -o ms_tweets.json -l 10000\n",
    "\n",
    "python -m json.tool ms_tweets.json > pretty_ms_tweets.json \n",
    "```"
   ]
  },
  {
   "cell_type": "code",
   "execution_count": 21,
   "metadata": {},
   "outputs": [],
   "source": [
    "import warnings\n",
    "warnings.filterwarnings(\"ignore\")\n",
    "from twitterscraper import query_tweets\n",
    "import pandas as pd\n",
    "import datetime as dt\n",
    "import calendar\n",
    "\n",
    "keyword = \"wealth management\"\n",
    "beginDate = dt.date(2018,1,1)\n",
    "endDate = dt.date(2020,4,1) # default is `dt.today()`\n",
    "lang = 'english'\n",
    "limit = 10000\n",
    "\n",
    "def AddMonth(startDate, addMonth=2):\n",
    "    month = startDate.month - 1 + addMonth\n",
    "    year = startDate.year + month // 12\n",
    "    month = month % 12 + 1\n",
    "    day = min(startDate.day, calendar.monthrange(year,month)[1])\n",
    "    return dt.date(year, month, day)\n"
   ]
  },
  {
   "cell_type": "code",
   "execution_count": 22,
   "metadata": {},
   "outputs": [
    {
     "name": "stdout",
     "output_type": "stream",
     "text": [
      "2018-03-01 2018-05-01\n",
      "2018-05-01\n",
      "2018-05-01 2018-07-01\n",
      "2018-07-01\n",
      "2018-07-01 2018-09-01\n",
      "2018-09-01\n",
      "2018-09-01 2018-11-01\n",
      "2018-11-01\n",
      "2018-11-01 2019-01-01\n",
      "2019-01-01\n",
      "2019-01-01 2019-03-01\n",
      "2019-03-01\n",
      "2019-03-01 2019-05-01\n",
      "2019-05-01\n",
      "2019-05-01 2019-07-01\n",
      "2019-07-01\n",
      "2019-07-01 2019-09-01\n",
      "2019-09-01\n",
      "2019-09-01 2019-11-01\n",
      "2019-11-01\n",
      "2019-11-01 2020-01-01\n",
      "2020-01-01\n",
      "2020-01-01 2020-03-01\n",
      "2020-03-01\n"
     ]
    }
   ],
   "source": [
    "# tweets = twitterscraper.query_tweets(keyword, limit, begindate=beginDate, enddate=AddMonth(beginDate), lang=lang)\n",
    "# df = pd.DataFrame(t.__dict__ for t in tweets)\n",
    "beginDate = AddMonth(beginDate)\n",
    "\n",
    "while AddMonth(beginDate) < endDate:\n",
    "    print(beginDate, AddMonth(beginDate))\n",
    "#     tweets = twitterscraper.query_tweets(keyword, limit, begindate=beginDate, enddate=AddMonth(beginDate), lang=lang)\n",
    "#     df_temp = pd.DataFrame(t.__dict__ for t in tweets)\n",
    "#     df.append(df_temp, ignore_index=True)\n",
    "    beginDate = AddMonth(beginDate)\n",
    "    print(beginDate)\n",
    "\n",
    "# tweets = twitterscraper.query_tweets(keyword, limit, begindate=beginDate, enddate=endDate, lang=lang)\n",
    "# df_temp = pd.DataFrame(t.__dict__ for t in tweets)\n",
    "# df.append(df_temp, ignore_index=True)\n"
   ]
  },
  {
   "cell_type": "code",
   "execution_count": null,
   "metadata": {},
   "outputs": [],
   "source": [
    "tweets = twitterscraper.query_tweets(keyword, limit, begindate=beginDate, enddate=endDate, lang=lang)\n",
    "\n",
    "df = pd.DataFrame(t.__dict__ for t in tweets)"
   ]
  },
  {
   "cell_type": "code",
   "execution_count": 2,
   "metadata": {},
   "outputs": [
    {
     "data": {
      "text/html": [
       "<div>\n",
       "<style scoped>\n",
       "    .dataframe tbody tr th:only-of-type {\n",
       "        vertical-align: middle;\n",
       "    }\n",
       "\n",
       "    .dataframe tbody tr th {\n",
       "        vertical-align: top;\n",
       "    }\n",
       "\n",
       "    .dataframe thead th {\n",
       "        text-align: right;\n",
       "    }\n",
       "</style>\n",
       "<table border=\"1\" class=\"dataframe\">\n",
       "  <thead>\n",
       "    <tr style=\"text-align: right;\">\n",
       "      <th></th>\n",
       "      <th>screen_name</th>\n",
       "      <th>username</th>\n",
       "      <th>user_id</th>\n",
       "      <th>tweet_id</th>\n",
       "      <th>tweet_url</th>\n",
       "      <th>timestamp</th>\n",
       "      <th>timestamp_epochs</th>\n",
       "      <th>text</th>\n",
       "      <th>text_html</th>\n",
       "      <th>links</th>\n",
       "      <th>...</th>\n",
       "      <th>has_media</th>\n",
       "      <th>img_urls</th>\n",
       "      <th>video_url</th>\n",
       "      <th>likes</th>\n",
       "      <th>retweets</th>\n",
       "      <th>replies</th>\n",
       "      <th>is_replied</th>\n",
       "      <th>is_reply_to</th>\n",
       "      <th>parent_tweet_id</th>\n",
       "      <th>reply_to_users</th>\n",
       "    </tr>\n",
       "  </thead>\n",
       "  <tbody>\n",
       "    <tr>\n",
       "      <th>0</th>\n",
       "      <td>georgehcraig</td>\n",
       "      <td>George Craig</td>\n",
       "      <td>989291876</td>\n",
       "      <td>1267241628797857792</td>\n",
       "      <td>/georgehcraig/status/1267241628797857792</td>\n",
       "      <td>2020-05-31 23:48:43</td>\n",
       "      <td>1590968923</td>\n",
       "      <td>I would like to share with @MorganStanley http...</td>\n",
       "      <td>&lt;p class=\"TweetTextSize js-tweet-text tweet-te...</td>\n",
       "      <td>[https://twitter.com/georgehcraig/status/12548...</td>\n",
       "      <td>...</td>\n",
       "      <td>False</td>\n",
       "      <td>[]</td>\n",
       "      <td></td>\n",
       "      <td>0</td>\n",
       "      <td>0</td>\n",
       "      <td>1</td>\n",
       "      <td>True</td>\n",
       "      <td>False</td>\n",
       "      <td></td>\n",
       "      <td>[]</td>\n",
       "    </tr>\n",
       "    <tr>\n",
       "      <th>1</th>\n",
       "      <td>micamacpaddywac</td>\n",
       "      <td>Punchus Pillattes</td>\n",
       "      <td>2291358188</td>\n",
       "      <td>1267239485177319424</td>\n",
       "      <td>/micamacpaddywac/status/1267239485177319424</td>\n",
       "      <td>2020-05-31 23:40:12</td>\n",
       "      <td>1590968412</td>\n",
       "      <td>The pandemic has exposed what patients have kn...</td>\n",
       "      <td>&lt;p class=\"TweetTextSize js-tweet-text tweet-te...</td>\n",
       "      <td>[]</td>\n",
       "      <td>...</td>\n",
       "      <td>False</td>\n",
       "      <td>[]</td>\n",
       "      <td></td>\n",
       "      <td>0</td>\n",
       "      <td>0</td>\n",
       "      <td>0</td>\n",
       "      <td>False</td>\n",
       "      <td>True</td>\n",
       "      <td>1261392463249506305</td>\n",
       "      <td>[{'screen_name': 'MorganStanley', 'user_id': '...</td>\n",
       "    </tr>\n",
       "    <tr>\n",
       "      <th>2</th>\n",
       "      <td>JoeLugo3</td>\n",
       "      <td>Joe Lugo</td>\n",
       "      <td>573878960</td>\n",
       "      <td>1267236632148824073</td>\n",
       "      <td>/JoeLugo3/status/1267236632148824073</td>\n",
       "      <td>2020-05-31 23:28:51</td>\n",
       "      <td>1590967731</td>\n",
       "      <td>God in times past revealed that He was going t...</td>\n",
       "      <td>&lt;p class=\"TweetTextSize js-tweet-text tweet-te...</td>\n",
       "      <td>[]</td>\n",
       "      <td>...</td>\n",
       "      <td>False</td>\n",
       "      <td>[]</td>\n",
       "      <td></td>\n",
       "      <td>0</td>\n",
       "      <td>0</td>\n",
       "      <td>0</td>\n",
       "      <td>False</td>\n",
       "      <td>True</td>\n",
       "      <td>1263165220685578244</td>\n",
       "      <td>[{'screen_name': 'MorganStanley', 'user_id': '...</td>\n",
       "    </tr>\n",
       "    <tr>\n",
       "      <th>3</th>\n",
       "      <td>RealEstateEarth</td>\n",
       "      <td>Real Estate Market</td>\n",
       "      <td>562493885</td>\n",
       "      <td>1267234906670759937</td>\n",
       "      <td>/RealEstateEarth/status/1267234906670759937</td>\n",
       "      <td>2020-05-31 23:22:00</td>\n",
       "      <td>1590967320</td>\n",
       "      <td>@MorganStanley explicó que si la agenda de la...</td>\n",
       "      <td>&lt;p class=\"TweetTextSize js-tweet-text tweet-te...</td>\n",
       "      <td>[http://ow.ly/vmEH50zV3ZP]</td>\n",
       "      <td>...</td>\n",
       "      <td>False</td>\n",
       "      <td>[]</td>\n",
       "      <td></td>\n",
       "      <td>1</td>\n",
       "      <td>0</td>\n",
       "      <td>0</td>\n",
       "      <td>False</td>\n",
       "      <td>False</td>\n",
       "      <td></td>\n",
       "      <td>[]</td>\n",
       "    </tr>\n",
       "    <tr>\n",
       "      <th>4</th>\n",
       "      <td>IIeTERNETY</td>\n",
       "      <td>shahrooz  guilani</td>\n",
       "      <td>581402862</td>\n",
       "      <td>1267234406525263875</td>\n",
       "      <td>/IIeTERNETY/status/1267234406525263875</td>\n",
       "      <td>2020-05-31 23:20:01</td>\n",
       "      <td>1590967201</td>\n",
       "      <td>5 areas likely to be the focus of change in U....</td>\n",
       "      <td>&lt;p class=\"TweetTextSize js-tweet-text tweet-te...</td>\n",
       "      <td>[]</td>\n",
       "      <td>...</td>\n",
       "      <td>False</td>\n",
       "      <td>[]</td>\n",
       "      <td></td>\n",
       "      <td>0</td>\n",
       "      <td>0</td>\n",
       "      <td>0</td>\n",
       "      <td>False</td>\n",
       "      <td>True</td>\n",
       "      <td>1261392463249506305</td>\n",
       "      <td>[{'screen_name': 'MorganStanley', 'user_id': '...</td>\n",
       "    </tr>\n",
       "  </tbody>\n",
       "</table>\n",
       "<p>5 rows × 21 columns</p>\n",
       "</div>"
      ],
      "text/plain": [
       "       screen_name            username     user_id             tweet_id  \\\n",
       "0     georgehcraig        George Craig   989291876  1267241628797857792   \n",
       "1  micamacpaddywac   Punchus Pillattes  2291358188  1267239485177319424   \n",
       "2         JoeLugo3            Joe Lugo   573878960  1267236632148824073   \n",
       "3  RealEstateEarth  Real Estate Market   562493885  1267234906670759937   \n",
       "4       IIeTERNETY   shahrooz  guilani   581402862  1267234406525263875   \n",
       "\n",
       "                                     tweet_url           timestamp  \\\n",
       "0     /georgehcraig/status/1267241628797857792 2020-05-31 23:48:43   \n",
       "1  /micamacpaddywac/status/1267239485177319424 2020-05-31 23:40:12   \n",
       "2         /JoeLugo3/status/1267236632148824073 2020-05-31 23:28:51   \n",
       "3  /RealEstateEarth/status/1267234906670759937 2020-05-31 23:22:00   \n",
       "4       /IIeTERNETY/status/1267234406525263875 2020-05-31 23:20:01   \n",
       "\n",
       "   timestamp_epochs                                               text  \\\n",
       "0        1590968923  I would like to share with @MorganStanley http...   \n",
       "1        1590968412  The pandemic has exposed what patients have kn...   \n",
       "2        1590967731  God in times past revealed that He was going t...   \n",
       "3        1590967320   @MorganStanley explicó que si la agenda de la...   \n",
       "4        1590967201  5 areas likely to be the focus of change in U....   \n",
       "\n",
       "                                           text_html  \\\n",
       "0  <p class=\"TweetTextSize js-tweet-text tweet-te...   \n",
       "1  <p class=\"TweetTextSize js-tweet-text tweet-te...   \n",
       "2  <p class=\"TweetTextSize js-tweet-text tweet-te...   \n",
       "3  <p class=\"TweetTextSize js-tweet-text tweet-te...   \n",
       "4  <p class=\"TweetTextSize js-tweet-text tweet-te...   \n",
       "\n",
       "                                               links  ... has_media  img_urls  \\\n",
       "0  [https://twitter.com/georgehcraig/status/12548...  ...     False        []   \n",
       "1                                                 []  ...     False        []   \n",
       "2                                                 []  ...     False        []   \n",
       "3                         [http://ow.ly/vmEH50zV3ZP]  ...     False        []   \n",
       "4                                                 []  ...     False        []   \n",
       "\n",
       "  video_url likes  retweets  replies  is_replied  is_reply_to  \\\n",
       "0               0         0        1        True        False   \n",
       "1               0         0        0       False         True   \n",
       "2               0         0        0       False         True   \n",
       "3               1         0        0       False        False   \n",
       "4               0         0        0       False         True   \n",
       "\n",
       "       parent_tweet_id                                     reply_to_users  \n",
       "0                                                                      []  \n",
       "1  1261392463249506305  [{'screen_name': 'MorganStanley', 'user_id': '...  \n",
       "2  1263165220685578244  [{'screen_name': 'MorganStanley', 'user_id': '...  \n",
       "3                                                                      []  \n",
       "4  1261392463249506305  [{'screen_name': 'MorganStanley', 'user_id': '...  \n",
       "\n",
       "[5 rows x 21 columns]"
      ]
     },
     "execution_count": 2,
     "metadata": {},
     "output_type": "execute_result"
    }
   ],
   "source": [
    "df.head()"
   ]
  },
  {
   "cell_type": "code",
   "execution_count": 3,
   "metadata": {},
   "outputs": [],
   "source": [
    "import msprep\n",
    "# clean_text()\n",
    "# tokenize_text()\n",
    "# replace_token_with_index()\n",
    "# pad_sequence()\n",
    "# one_for_all()\n",
    "\n",
    "\n",
    "tweets_text = df['text']"
   ]
  },
  {
   "cell_type": "code",
   "execution_count": 4,
   "metadata": {},
   "outputs": [
    {
     "data": {
      "text/plain": [
       "0      I would like to share with @MorganStanley http...\n",
       "1      The pandemic has exposed what patients have kn...\n",
       "2      God in times past revealed that He was going t...\n",
       "3       @MorganStanley explicó que si la agenda de la...\n",
       "4      5 areas likely to be the focus of change in U....\n",
       "                             ...                        \n",
       "376    don't you know? the gub'mint gonna give us eve...\n",
       "377    Walking the walk! Check out how our Women of C...\n",
       "378    p4parity: \"It’s important for companies to und...\n",
       "379    @MorganStanley @POTUShttps://twitter.com/Group...\n",
       "380    @MorganStanley these images tell a scary story...\n",
       "Name: text, Length: 381, dtype: object"
      ]
     },
     "execution_count": 4,
     "metadata": {},
     "output_type": "execute_result"
    }
   ],
   "source": [
    "tweets_text"
   ]
  },
  {
   "cell_type": "code",
   "execution_count": 5,
   "metadata": {},
   "outputs": [
    {
     "data": {
      "text/plain": [
       "0                           I would like to share with …\n",
       "1      The pandemic has exposed what patients have kn...\n",
       "2      God in times past revealed that He was going t...\n",
       "3      explicó que si la agenda de la actual administ...\n",
       "4      5 areas likely to be the focus of change in U....\n",
       "                             ...                        \n",
       "376    don't you know? the gub'mint gonna give us eve...\n",
       "377    Walking the walk! Check out how our Women of C...\n",
       "378    p4parity: \"It’s important for companies to und...\n",
       "379    //twitter.com/GroupDemocratic/status/125594929...\n",
       "380    these images tell a scary story of our times. ...\n",
       "Name: text, Length: 381, dtype: object"
      ]
     },
     "execution_count": 5,
     "metadata": {},
     "output_type": "execute_result"
    }
   ],
   "source": [
    "tweets_text.apply(msprep.clean_text)"
   ]
  },
  {
   "cell_type": "code",
   "execution_count": 6,
   "metadata": {},
   "outputs": [
    {
     "data": {
      "text/plain": [
       "\"The pandemic has exposed what patients have known for decades. Titles as doctors doesn't mean they are qualified to be gods. Purge the medical system of incompetent physicians who are not up to date on modern research. Opioid pushers in Psychiatry should have Neurology oversight.\""
      ]
     },
     "execution_count": 6,
     "metadata": {},
     "output_type": "execute_result"
    }
   ],
   "source": [
    "msprep.clean_text(tweets_text[1])"
   ]
  },
  {
   "cell_type": "code",
   "execution_count": 7,
   "metadata": {},
   "outputs": [
    {
     "data": {
      "text/plain": [
       "\"The pandemic has exposed what patients have known for decades. Titles as doctors doesn't mean they are qualified to be gods. Purge the medical system of incompetent physicians who are not up to date on modern research. Opioid pushers in Psychiatry should have Neurology oversight.\""
      ]
     },
     "execution_count": 7,
     "metadata": {},
     "output_type": "execute_result"
    }
   ],
   "source": [
    "tweets_text[1]"
   ]
  },
  {
   "cell_type": "code",
   "execution_count": 8,
   "metadata": {},
   "outputs": [
    {
     "data": {
      "text/plain": [
       "0      [I, would, like, share, @MorganStanley, https:...\n",
       "1      [The, pandemic, exposed, patients, known, deca...\n",
       "2      [God, times, past, revealed, He, going, use, u...\n",
       "3      [@MorganStanley, explicó, que, si, la, agenda,...\n",
       "4      [5, areas, likely, focus, change, U, ., S, ., ...\n",
       "                             ...                        \n",
       "376    [know, ?, gub'mint, gonna, give, us, everythin...\n",
       "377    [Walking, walk, !, Check, Women, Color, Initia...\n",
       "378    [p4parity, :, \", It, ’, important, companies, ...\n",
       "379    [@MorganStanley, @POTUShttps, :/, /, twitter.c...\n",
       "380    [@MorganStanley, images, tell, scary, story, t...\n",
       "Name: text, Length: 381, dtype: object"
      ]
     },
     "execution_count": 8,
     "metadata": {},
     "output_type": "execute_result"
    }
   ],
   "source": [
    "tweets_text.apply(msprep.tokenize_text)"
   ]
  },
  {
   "cell_type": "code",
   "execution_count": 9,
   "metadata": {},
   "outputs": [],
   "source": [
    "padded_indices = tweets_text.apply(msprep.one_for_all)"
   ]
  },
  {
   "cell_type": "code",
   "execution_count": 10,
   "metadata": {},
   "outputs": [
    {
     "data": {
      "text/plain": [
       "[10, 196, 63, 1482, 34, 0, 0, 0, 0, 0, 0, 0, 0, 0, 0, 0, 0, 0, 0, 0]"
      ]
     },
     "execution_count": 10,
     "metadata": {},
     "output_type": "execute_result"
    }
   ],
   "source": [
    "padded_indices[0]"
   ]
  },
  {
   "cell_type": "code",
   "execution_count": null,
   "metadata": {},
   "outputs": [],
   "source": []
  },
  {
   "cell_type": "code",
   "execution_count": null,
   "metadata": {},
   "outputs": [],
   "source": []
  }
 ],
 "metadata": {
  "kernelspec": {
   "display_name": "Python 3",
   "language": "python",
   "name": "python3"
  },
  "language_info": {
   "codemirror_mode": {
    "name": "ipython",
    "version": 3
   },
   "file_extension": ".py",
   "mimetype": "text/x-python",
   "name": "python",
   "nbconvert_exporter": "python",
   "pygments_lexer": "ipython3",
   "version": "3.7.7"
  }
 },
 "nbformat": 4,
 "nbformat_minor": 4
}
